{
  "cells": [
    {
      "cell_type": "markdown",
      "metadata": {
        "id": "view-in-github",
        "colab_type": "text"
      },
      "source": [
        "<a href=\"https://colab.research.google.com/github/brandontanzhirong/Learning-based-Multi-view-3D-Model-Reconstruction/blob/master/notebook/Backend_Util.ipynb\" target=\"_parent\"><img src=\"https://colab.research.google.com/assets/colab-badge.svg\" alt=\"Open In Colab\"/></a>"
      ]
    },
    {
      "cell_type": "code",
      "execution_count": null,
      "metadata": {
        "colab": {
          "base_uri": "https://localhost:8080/"
        },
        "id": "fcT5KE_3-fz_",
        "outputId": "587ecf7b-f6a8-4831-9e72-c5212d48eb82"
      },
      "outputs": [
        {
          "name": "stdout",
          "output_type": "stream",
          "text": [
            "Mounted at /content/drive\n"
          ]
        }
      ],
      "source": [
        "from google.colab import drive\n",
        "drive._mount('/content/drive')"
      ]
    },
    {
      "cell_type": "code",
      "execution_count": null,
      "metadata": {
        "id": "Px6Kg6PyQmwE"
      },
      "outputs": [],
      "source": [
        "import os\n",
        "from pydrive.auth import GoogleAuth\n",
        "from pydrive.drive import GoogleDrive\n",
        "from google.colab import auth\n",
        "from oauth2client.client import GoogleCredentials\n",
        "\n",
        "# 1. Authenticate and create the PyDrive client.\n",
        "auth.authenticate_user()\n",
        "gauth = GoogleAuth()\n",
        "gauth.credentials = GoogleCredentials.get_application_default()\n",
        "drive = GoogleDrive(gauth)"
      ]
    },
    {
      "cell_type": "markdown",
      "metadata": {
        "id": "UTNlswIw-wYo"
      },
      "source": [
        "# Endpoint URL"
      ]
    },
    {
      "cell_type": "code",
      "execution_count": null,
      "metadata": {
        "colab": {
          "base_uri": "https://localhost:8080/",
          "height": 1000
        },
        "id": "YyDcJeZz-rRR",
        "outputId": "be7bbe46-1a89-42ca-dafc-e4557ce5bbf8"
      },
      "outputs": [
        {
          "name": "stdout",
          "output_type": "stream",
          "text": [
            "Collecting colabcode\n",
            "  Downloading colabcode-0.3.0-py3-none-any.whl (5.0 kB)\n",
            "Collecting pyngrok>=5.0.0\n",
            "  Downloading pyngrok-5.1.0.tar.gz (745 kB)\n",
            "\u001b[K     |████████████████████████████████| 745 kB 3.9 MB/s \n",
            "\u001b[?25hCollecting jupyterlab==3.0.7\n",
            "  Downloading jupyterlab-3.0.7-py3-none-any.whl (8.3 MB)\n",
            "\u001b[K     |████████████████████████████████| 8.3 MB 42.7 MB/s \n",
            "\u001b[?25hCollecting uvicorn==0.13.1\n",
            "  Downloading uvicorn-0.13.1-py3-none-any.whl (45 kB)\n",
            "\u001b[K     |████████████████████████████████| 45 kB 2.8 MB/s \n",
            "\u001b[?25hCollecting nest-asyncio==1.4.3\n",
            "  Downloading nest_asyncio-1.4.3-py3-none-any.whl (5.3 kB)\n",
            "Requirement already satisfied: jupyter-core in /usr/local/lib/python3.7/dist-packages (from jupyterlab==3.0.7->colabcode) (4.9.1)\n",
            "Requirement already satisfied: ipython in /usr/local/lib/python3.7/dist-packages (from jupyterlab==3.0.7->colabcode) (5.5.0)\n",
            "Collecting nbclassic~=0.2\n",
            "  Downloading nbclassic-0.3.4-py3-none-any.whl (25 kB)\n",
            "Collecting jupyter-server~=1.2\n",
            "  Downloading jupyter_server-1.13.1-py3-none-any.whl (396 kB)\n",
            "\u001b[K     |████████████████████████████████| 396 kB 56.6 MB/s \n",
            "\u001b[?25hCollecting tornado>=6.1.0\n",
            "  Downloading tornado-6.1-cp37-cp37m-manylinux2010_x86_64.whl (428 kB)\n",
            "\u001b[K     |████████████████████████████████| 428 kB 55.5 MB/s \n",
            "\u001b[?25hRequirement already satisfied: jinja2>=2.10 in /usr/local/lib/python3.7/dist-packages (from jupyterlab==3.0.7->colabcode) (2.11.3)\n",
            "Requirement already satisfied: packaging in /usr/local/lib/python3.7/dist-packages (from jupyterlab==3.0.7->colabcode) (21.3)\n",
            "Collecting jupyterlab-server~=2.0\n",
            "  Downloading jupyterlab_server-2.10.2-py3-none-any.whl (60 kB)\n",
            "\u001b[K     |████████████████████████████████| 60 kB 7.1 MB/s \n",
            "\u001b[?25hRequirement already satisfied: click==7.* in /usr/local/lib/python3.7/dist-packages (from uvicorn==0.13.1->colabcode) (7.1.2)\n",
            "Requirement already satisfied: typing-extensions in /usr/local/lib/python3.7/dist-packages (from uvicorn==0.13.1->colabcode) (3.10.0.2)\n",
            "Collecting h11>=0.8\n",
            "  Downloading h11-0.12.0-py3-none-any.whl (54 kB)\n",
            "\u001b[K     |████████████████████████████████| 54 kB 2.4 MB/s \n",
            "\u001b[?25hRequirement already satisfied: MarkupSafe>=0.23 in /usr/local/lib/python3.7/dist-packages (from jinja2>=2.10->jupyterlab==3.0.7->colabcode) (2.0.1)\n",
            "Requirement already satisfied: nbconvert in /usr/local/lib/python3.7/dist-packages (from jupyter-server~=1.2->jupyterlab==3.0.7->colabcode) (5.6.1)\n",
            "Requirement already satisfied: terminado>=0.8.3 in /usr/local/lib/python3.7/dist-packages (from jupyter-server~=1.2->jupyterlab==3.0.7->colabcode) (0.12.1)\n",
            "Requirement already satisfied: traitlets>=4.2.1 in /usr/local/lib/python3.7/dist-packages (from jupyter-server~=1.2->jupyterlab==3.0.7->colabcode) (5.1.1)\n",
            "Requirement already satisfied: nbformat in /usr/local/lib/python3.7/dist-packages (from jupyter-server~=1.2->jupyterlab==3.0.7->colabcode) (5.1.3)\n",
            "Requirement already satisfied: pyzmq>=17 in /usr/local/lib/python3.7/dist-packages (from jupyter-server~=1.2->jupyterlab==3.0.7->colabcode) (22.3.0)\n",
            "Requirement already satisfied: Send2Trash in /usr/local/lib/python3.7/dist-packages (from jupyter-server~=1.2->jupyterlab==3.0.7->colabcode) (1.8.0)\n",
            "Requirement already satisfied: ipython-genutils in /usr/local/lib/python3.7/dist-packages (from jupyter-server~=1.2->jupyterlab==3.0.7->colabcode) (0.2.0)\n",
            "Requirement already satisfied: prometheus-client in /usr/local/lib/python3.7/dist-packages (from jupyter-server~=1.2->jupyterlab==3.0.7->colabcode) (0.12.0)\n",
            "Collecting anyio<4,>=3.1.0\n",
            "  Downloading anyio-3.4.0-py3-none-any.whl (78 kB)\n",
            "\u001b[K     |████████████████████████████████| 78 kB 5.4 MB/s \n",
            "\u001b[?25hCollecting jupyter-client>=6.1.1\n",
            "  Downloading jupyter_client-7.1.0-py3-none-any.whl (129 kB)\n",
            "\u001b[K     |████████████████████████████████| 129 kB 30.6 MB/s \n",
            "\u001b[?25hCollecting websocket-client\n",
            "  Downloading websocket_client-1.2.3-py3-none-any.whl (53 kB)\n",
            "\u001b[K     |████████████████████████████████| 53 kB 1.8 MB/s \n",
            "\u001b[?25hRequirement already satisfied: argon2-cffi in /usr/local/lib/python3.7/dist-packages (from jupyter-server~=1.2->jupyterlab==3.0.7->colabcode) (21.1.0)\n",
            "Requirement already satisfied: idna>=2.8 in /usr/local/lib/python3.7/dist-packages (from anyio<4,>=3.1.0->jupyter-server~=1.2->jupyterlab==3.0.7->colabcode) (2.10)\n",
            "Collecting sniffio>=1.1\n",
            "  Downloading sniffio-1.2.0-py3-none-any.whl (10 kB)\n",
            "Requirement already satisfied: python-dateutil>=2.1 in /usr/local/lib/python3.7/dist-packages (from jupyter-client>=6.1.1->jupyter-server~=1.2->jupyterlab==3.0.7->colabcode) (2.8.2)\n",
            "Collecting jupyter-client>=6.1.1\n",
            "  Downloading jupyter_client-7.0.6-py3-none-any.whl (125 kB)\n",
            "\u001b[K     |████████████████████████████████| 125 kB 51.0 MB/s \n",
            "\u001b[?25h  Downloading jupyter_client-7.0.5-py3-none-any.whl (124 kB)\n",
            "\u001b[K     |████████████████████████████████| 124 kB 51.5 MB/s \n",
            "\u001b[?25h  Downloading jupyter_client-7.0.4-py3-none-any.whl (124 kB)\n",
            "\u001b[K     |████████████████████████████████| 124 kB 48.0 MB/s \n",
            "\u001b[?25h  Downloading jupyter_client-7.0.3-py3-none-any.whl (122 kB)\n",
            "\u001b[K     |████████████████████████████████| 122 kB 47.3 MB/s \n",
            "\u001b[?25h  Downloading jupyter_client-7.0.2-py3-none-any.whl (122 kB)\n",
            "\u001b[K     |████████████████████████████████| 122 kB 56.6 MB/s \n",
            "\u001b[?25h  Downloading jupyter_client-7.0.1-py3-none-any.whl (122 kB)\n",
            "\u001b[K     |████████████████████████████████| 122 kB 56.7 MB/s \n",
            "\u001b[?25h  Downloading jupyter_client-7.0.0-py3-none-any.whl (122 kB)\n",
            "\u001b[K     |████████████████████████████████| 122 kB 56.5 MB/s \n",
            "\u001b[?25h  Downloading jupyter_client-6.1.12-py3-none-any.whl (112 kB)\n",
            "\u001b[K     |████████████████████████████████| 112 kB 55.7 MB/s \n",
            "\u001b[?25hRequirement already satisfied: entrypoints>=0.2.2 in /usr/local/lib/python3.7/dist-packages (from jupyterlab-server~=2.0->jupyterlab==3.0.7->colabcode) (0.3)\n",
            "Collecting json5\n",
            "  Downloading json5-0.9.6-py2.py3-none-any.whl (18 kB)\n",
            "Requirement already satisfied: babel in /usr/local/lib/python3.7/dist-packages (from jupyterlab-server~=2.0->jupyterlab==3.0.7->colabcode) (2.9.1)\n",
            "Collecting jsonschema>=3.0.1\n",
            "  Downloading jsonschema-4.3.3-py3-none-any.whl (71 kB)\n",
            "\u001b[K     |████████████████████████████████| 71 kB 213 kB/s \n",
            "\u001b[?25hRequirement already satisfied: requests in /usr/local/lib/python3.7/dist-packages (from jupyterlab-server~=2.0->jupyterlab==3.0.7->colabcode) (2.23.0)\n",
            "Requirement already satisfied: importlib-resources>=1.4.0 in /usr/local/lib/python3.7/dist-packages (from jsonschema>=3.0.1->jupyterlab-server~=2.0->jupyterlab==3.0.7->colabcode) (5.4.0)\n",
            "Requirement already satisfied: pyrsistent!=0.17.0,!=0.17.1,!=0.17.2,>=0.14.0 in /usr/local/lib/python3.7/dist-packages (from jsonschema>=3.0.1->jupyterlab-server~=2.0->jupyterlab==3.0.7->colabcode) (0.18.0)\n",
            "Requirement already satisfied: importlib-metadata in /usr/local/lib/python3.7/dist-packages (from jsonschema>=3.0.1->jupyterlab-server~=2.0->jupyterlab==3.0.7->colabcode) (4.8.2)\n",
            "Requirement already satisfied: attrs>=17.4.0 in /usr/local/lib/python3.7/dist-packages (from jsonschema>=3.0.1->jupyterlab-server~=2.0->jupyterlab==3.0.7->colabcode) (21.2.0)\n",
            "Requirement already satisfied: zipp>=3.1.0 in /usr/local/lib/python3.7/dist-packages (from importlib-resources>=1.4.0->jsonschema>=3.0.1->jupyterlab-server~=2.0->jupyterlab==3.0.7->colabcode) (3.6.0)\n",
            "Requirement already satisfied: notebook<7 in /usr/local/lib/python3.7/dist-packages (from nbclassic~=0.2->jupyterlab==3.0.7->colabcode) (5.3.1)\n",
            "Requirement already satisfied: ipykernel in /usr/local/lib/python3.7/dist-packages (from notebook<7->nbclassic~=0.2->jupyterlab==3.0.7->colabcode) (4.10.1)\n",
            "Requirement already satisfied: PyYAML in /usr/local/lib/python3.7/dist-packages (from pyngrok>=5.0.0->colabcode) (3.13)\n",
            "Requirement already satisfied: six>=1.5 in /usr/local/lib/python3.7/dist-packages (from python-dateutil>=2.1->jupyter-client>=6.1.1->jupyter-server~=1.2->jupyterlab==3.0.7->colabcode) (1.15.0)\n",
            "Requirement already satisfied: ptyprocess in /usr/local/lib/python3.7/dist-packages (from terminado>=0.8.3->jupyter-server~=1.2->jupyterlab==3.0.7->colabcode) (0.7.0)\n",
            "Requirement already satisfied: cffi>=1.0.0 in /usr/local/lib/python3.7/dist-packages (from argon2-cffi->jupyter-server~=1.2->jupyterlab==3.0.7->colabcode) (1.15.0)\n",
            "Requirement already satisfied: pycparser in /usr/local/lib/python3.7/dist-packages (from cffi>=1.0.0->argon2-cffi->jupyter-server~=1.2->jupyterlab==3.0.7->colabcode) (2.21)\n",
            "Requirement already satisfied: pytz>=2015.7 in /usr/local/lib/python3.7/dist-packages (from babel->jupyterlab-server~=2.0->jupyterlab==3.0.7->colabcode) (2018.9)\n",
            "Requirement already satisfied: prompt-toolkit<2.0.0,>=1.0.4 in /usr/local/lib/python3.7/dist-packages (from ipython->jupyterlab==3.0.7->colabcode) (1.0.18)\n",
            "Requirement already satisfied: decorator in /usr/local/lib/python3.7/dist-packages (from ipython->jupyterlab==3.0.7->colabcode) (4.4.2)\n",
            "Requirement already satisfied: pexpect in /usr/local/lib/python3.7/dist-packages (from ipython->jupyterlab==3.0.7->colabcode) (4.8.0)\n",
            "Requirement already satisfied: setuptools>=18.5 in /usr/local/lib/python3.7/dist-packages (from ipython->jupyterlab==3.0.7->colabcode) (57.4.0)\n",
            "Requirement already satisfied: pickleshare in /usr/local/lib/python3.7/dist-packages (from ipython->jupyterlab==3.0.7->colabcode) (0.7.5)\n",
            "Requirement already satisfied: pygments in /usr/local/lib/python3.7/dist-packages (from ipython->jupyterlab==3.0.7->colabcode) (2.6.1)\n",
            "Requirement already satisfied: simplegeneric>0.8 in /usr/local/lib/python3.7/dist-packages (from ipython->jupyterlab==3.0.7->colabcode) (0.8.1)\n",
            "Requirement already satisfied: wcwidth in /usr/local/lib/python3.7/dist-packages (from prompt-toolkit<2.0.0,>=1.0.4->ipython->jupyterlab==3.0.7->colabcode) (0.2.5)\n",
            "Requirement already satisfied: bleach in /usr/local/lib/python3.7/dist-packages (from nbconvert->jupyter-server~=1.2->jupyterlab==3.0.7->colabcode) (4.1.0)\n",
            "Requirement already satisfied: mistune<2,>=0.8.1 in /usr/local/lib/python3.7/dist-packages (from nbconvert->jupyter-server~=1.2->jupyterlab==3.0.7->colabcode) (0.8.4)\n",
            "Requirement already satisfied: defusedxml in /usr/local/lib/python3.7/dist-packages (from nbconvert->jupyter-server~=1.2->jupyterlab==3.0.7->colabcode) (0.7.1)\n",
            "Requirement already satisfied: pandocfilters>=1.4.1 in /usr/local/lib/python3.7/dist-packages (from nbconvert->jupyter-server~=1.2->jupyterlab==3.0.7->colabcode) (1.5.0)\n",
            "Requirement already satisfied: testpath in /usr/local/lib/python3.7/dist-packages (from nbconvert->jupyter-server~=1.2->jupyterlab==3.0.7->colabcode) (0.5.0)\n",
            "Requirement already satisfied: webencodings in /usr/local/lib/python3.7/dist-packages (from bleach->nbconvert->jupyter-server~=1.2->jupyterlab==3.0.7->colabcode) (0.5.1)\n",
            "Requirement already satisfied: pyparsing!=3.0.5,>=2.0.2 in /usr/local/lib/python3.7/dist-packages (from packaging->jupyterlab==3.0.7->colabcode) (3.0.6)\n",
            "Requirement already satisfied: chardet<4,>=3.0.2 in /usr/local/lib/python3.7/dist-packages (from requests->jupyterlab-server~=2.0->jupyterlab==3.0.7->colabcode) (3.0.4)\n",
            "Requirement already satisfied: certifi>=2017.4.17 in /usr/local/lib/python3.7/dist-packages (from requests->jupyterlab-server~=2.0->jupyterlab==3.0.7->colabcode) (2021.10.8)\n",
            "Requirement already satisfied: urllib3!=1.25.0,!=1.25.1,<1.26,>=1.21.1 in /usr/local/lib/python3.7/dist-packages (from requests->jupyterlab-server~=2.0->jupyterlab==3.0.7->colabcode) (1.24.3)\n",
            "Building wheels for collected packages: pyngrok\n",
            "  Building wheel for pyngrok (setup.py) ... \u001b[?25l\u001b[?25hdone\n",
            "  Created wheel for pyngrok: filename=pyngrok-5.1.0-py3-none-any.whl size=19006 sha256=3ef78080ade1aefa857c95282e853d5015c9abfa2431246353a4a03fb1d892e3\n",
            "  Stored in directory: /root/.cache/pip/wheels/bf/e6/af/ccf6598ecefecd44104069371795cb9b3afbcd16987f6ccfb3\n",
            "Successfully built pyngrok\n",
            "Installing collected packages: tornado, jsonschema, sniffio, jupyter-client, websocket-client, anyio, jupyter-server, json5, nbclassic, jupyterlab-server, h11, uvicorn, pyngrok, nest-asyncio, jupyterlab, colabcode\n",
            "  Attempting uninstall: tornado\n",
            "    Found existing installation: tornado 5.1.1\n",
            "    Uninstalling tornado-5.1.1:\n",
            "      Successfully uninstalled tornado-5.1.1\n",
            "  Attempting uninstall: jsonschema\n",
            "    Found existing installation: jsonschema 2.6.0\n",
            "    Uninstalling jsonschema-2.6.0:\n",
            "      Successfully uninstalled jsonschema-2.6.0\n",
            "  Attempting uninstall: jupyter-client\n",
            "    Found existing installation: jupyter-client 5.3.5\n",
            "    Uninstalling jupyter-client-5.3.5:\n",
            "      Successfully uninstalled jupyter-client-5.3.5\n",
            "  Attempting uninstall: nest-asyncio\n",
            "    Found existing installation: nest-asyncio 1.5.4\n",
            "    Uninstalling nest-asyncio-1.5.4:\n",
            "      Successfully uninstalled nest-asyncio-1.5.4\n",
            "\u001b[31mERROR: pip's dependency resolver does not currently take into account all the packages that are installed. This behaviour is the source of the following dependency conflicts.\n",
            "google-colab 1.0.0 requires tornado~=5.1.0; python_version >= \"3.0\", but you have tornado 6.1 which is incompatible.\u001b[0m\n",
            "Successfully installed anyio-3.4.0 colabcode-0.3.0 h11-0.12.0 json5-0.9.6 jsonschema-4.3.3 jupyter-client-6.1.12 jupyter-server-1.13.1 jupyterlab-3.0.7 jupyterlab-server-2.10.2 nbclassic-0.3.4 nest-asyncio-1.4.3 pyngrok-5.1.0 sniffio-1.2.0 tornado-6.1 uvicorn-0.13.1 websocket-client-1.2.3\n"
          ]
        },
        {
          "data": {
            "application/vnd.colab-display-data+json": {
              "pip_warning": {
                "packages": [
                  "jupyter_client",
                  "tornado"
                ]
              }
            }
          },
          "metadata": {},
          "output_type": "display_data"
        },
        {
          "name": "stdout",
          "output_type": "stream",
          "text": [
            "Collecting fastapi\n",
            "  Downloading fastapi-0.70.1-py3-none-any.whl (51 kB)\n",
            "\u001b[K     |████████████████████████████████| 51 kB 531 kB/s \n",
            "\u001b[?25hCollecting pydantic!=1.7,!=1.7.1,!=1.7.2,!=1.7.3,!=1.8,!=1.8.1,<2.0.0,>=1.6.2\n",
            "  Downloading pydantic-1.9.0-cp37-cp37m-manylinux_2_17_x86_64.manylinux2014_x86_64.whl (10.9 MB)\n",
            "\u001b[K     |████████████████████████████████| 10.9 MB 6.7 MB/s \n",
            "\u001b[?25hCollecting starlette==0.16.0\n",
            "  Downloading starlette-0.16.0-py3-none-any.whl (61 kB)\n",
            "\u001b[K     |████████████████████████████████| 61 kB 232 kB/s \n",
            "\u001b[?25hRequirement already satisfied: typing-extensions in /usr/local/lib/python3.7/dist-packages (from starlette==0.16.0->fastapi) (3.10.0.2)\n",
            "Requirement already satisfied: anyio<4,>=3.0.0 in /usr/local/lib/python3.7/dist-packages (from starlette==0.16.0->fastapi) (3.4.0)\n",
            "Requirement already satisfied: idna>=2.8 in /usr/local/lib/python3.7/dist-packages (from anyio<4,>=3.0.0->starlette==0.16.0->fastapi) (2.10)\n",
            "Requirement already satisfied: sniffio>=1.1 in /usr/local/lib/python3.7/dist-packages (from anyio<4,>=3.0.0->starlette==0.16.0->fastapi) (1.2.0)\n",
            "Installing collected packages: starlette, pydantic, fastapi\n",
            "Successfully installed fastapi-0.70.1 pydantic-1.9.0 starlette-0.16.0\n",
            "Collecting python-multipart\n",
            "  Downloading python-multipart-0.0.5.tar.gz (32 kB)\n",
            "Requirement already satisfied: six>=1.4.0 in /usr/local/lib/python3.7/dist-packages (from python-multipart) (1.15.0)\n",
            "Building wheels for collected packages: python-multipart\n",
            "  Building wheel for python-multipart (setup.py) ... \u001b[?25l\u001b[?25hdone\n",
            "  Created wheel for python-multipart: filename=python_multipart-0.0.5-py3-none-any.whl size=31678 sha256=9e67c5d8a21a828ddb1eb8114457c455028229484d72c609f0979fbeacdb7f21\n",
            "  Stored in directory: /root/.cache/pip/wheels/2c/41/7c/bfd1c180534ffdcc0972f78c5758f89881602175d48a8bcd2c\n",
            "Successfully built python-multipart\n",
            "Installing collected packages: python-multipart\n",
            "Successfully installed python-multipart-0.0.5\n"
          ]
        }
      ],
      "source": [
        "!pip install colabcode\n",
        "!pip install fastapi\n",
        "# !pip install -U -q PyDrive\n",
        "!pip install python-multipart"
      ]
    },
    {
      "cell_type": "code",
      "execution_count": null,
      "metadata": {
        "colab": {
          "background_save": true,
          "base_uri": "https://localhost:8080/"
        },
        "id": "0OZa8mmq-viZ",
        "outputId": "971de4da-6a06-45c9-a27e-189066f42718"
      },
      "outputs": [
        {
          "name": "stdout",
          "output_type": "stream",
          "text": [
            "Public URL: NgrokTunnel: \"https://add9-35-221-174-180.ngrok.io\" -> \"http://localhost:10000\"\n"
          ]
        },
        {
          "name": "stderr",
          "output_type": "stream",
          "text": [
            "INFO:     Started server process [741]\n",
            "INFO:     Waiting for application startup.\n",
            "INFO:     Application startup complete.\n",
            "INFO:     Uvicorn running on http://127.0.0.1:10000 (Press CTRL+C to quit)\n"
          ]
        },
        {
          "name": "stdout",
          "output_type": "stream",
          "text": [
            "INFO:     2001:e68:541b:e500:c1c5:fa1c:efe5:a2ba:0 - \"GET /static/Ganesha/result_textured/result_textured.mtl HTTP/1.1\" 200 OK\n",
            "INFO:     2001:e68:541b:e500:c1c5:fa1c:efe5:a2ba:0 - \"GET /static/Ganesha/result_textured/result_textured.obj HTTP/1.1\" 200 OK\n",
            "INFO:     2001:e68:541b:e500:c1c5:fa1c:efe5:a2ba:0 - \"GET /static/Ganesha/result_textured/result_textured_material0002_map_Kd.png HTTP/1.1\" 200 OK\n",
            "INFO:     2001:e68:541b:e500:c1c5:fa1c:efe5:a2ba:0 - \"GET /static/Ganesha/result_textured/result_textured_material0001_map_Kd.png HTTP/1.1\" 200 OK\n",
            "INFO:     2001:e68:541b:e500:c1c5:fa1c:efe5:a2ba:0 - \"GET /static/Ganesha/result_textured/result_textured_material0000_map_Kd.png HTTP/1.1\" 200 OK\n",
            "INFO:     2001:e68:541b:e500:c1c5:fa1c:efe5:a2ba:0 - \"GET /get-model-list HTTP/1.1\" 200 OK\n",
            "INFO:     2001:e68:541b:e500:c1c5:fa1c:efe5:a2ba:0 - \"GET /static/Ganesha/result_textured/result_textured_material0003_map_Kd.png HTTP/1.1\" 200 OK\n",
            "INFO:     2001:e68:541b:e500:c1c5:fa1c:efe5:a2ba:0 - \"GET /static/Ganesha/result_textured/result_textured.obj HTTP/1.1\" 200 OK\n",
            "INFO:     2001:e68:541b:e500:c1c5:fa1c:efe5:a2ba:0 - \"GET /get-model-list HTTP/1.1\" 200 OK\n",
            "INFO:     2001:e68:541b:e500:c1c5:fa1c:efe5:a2ba:0 - \"GET /img-folder?model_name=Ganesha HTTP/1.1\" 200 OK\n",
            "INFO:     2001:e68:541b:e500:c1c5:fa1c:efe5:a2ba:0 - \"GET /static/Ganesha/result_textured/result_textured.obj HTTP/1.1\" 200 OK\n",
            "INFO:     2001:e68:541b:e500:c1c5:fa1c:efe5:a2ba:0 - \"GET /get-model-list HTTP/1.1\" 200 OK\n",
            "INFO:     2001:e68:541b:e500:c1c5:fa1c:efe5:a2ba:0 - \"GET /img-folder?model_name=Ganesha HTTP/1.1\" 200 OK\n",
            "INFO:     2001:e68:541b:e500:c1c5:fa1c:efe5:a2ba:0 - \"OPTIONS /new-folder HTTP/1.1\" 200 OK\n",
            "INFO:     2001:e68:541b:e500:c1c5:fa1c:efe5:a2ba:0 - \"GET /static/Person/result_textured/result_textured.mtl HTTP/1.1\" 404 Not Found\n",
            "INFO:     2001:e68:541b:e500:c1c5:fa1c:efe5:a2ba:0 - \"POST /new-folder HTTP/1.1\" 200 OK\n",
            "INFO:     2001:e68:541b:e500:c1c5:fa1c:efe5:a2ba:0 - \"GET /img-folder?model_name=Person HTTP/1.1\" 200 OK\n",
            "INFO:     2001:e68:541b:e500:c1c5:fa1c:efe5:a2ba:0 - \"POST /upload-images HTTP/1.1\" 200 OK\n",
            "INFO:     2001:e68:541b:e500:c1c5:fa1c:efe5:a2ba:0 - \"GET /img-folder?model_name=Person HTTP/1.1\" 200 OK\n",
            "INFO:     2001:e68:541b:e500:c1c5:fa1c:efe5:a2ba:0 - \"GET /static/Ganesha/result_textured/result_textured.obj HTTP/1.1\" 200 OK\n",
            "INFO:     2001:e68:541b:e500:c1c5:fa1c:efe5:a2ba:0 - \"GET /get-model-list HTTP/1.1\" 200 OK\n",
            "INFO:     2001:e68:541b:e500:c1c5:fa1c:efe5:a2ba:0 - \"GET /img-folder?model_name=Ganesha HTTP/1.1\" 200 OK\n",
            "INFO:     2001:e68:541b:e500:c1c5:fa1c:efe5:a2ba:0 - \"GET /static/Person/result_textured/result_textured.mtl HTTP/1.1\" 404 Not Found\n",
            "INFO:     2001:e68:541b:e500:c1c5:fa1c:efe5:a2ba:0 - \"POST /new-folder HTTP/1.1\" 200 OK\n",
            "INFO:     2001:e68:541b:e500:c1c5:fa1c:efe5:a2ba:0 - \"GET /img-folder?model_name=Person HTTP/1.1\" 200 OK\n",
            "INFO:     2001:e68:541b:e500:c1c5:fa1c:efe5:a2ba:0 - \"POST /upload-images HTTP/1.1\" 200 OK\n",
            "INFO:     2001:e68:541b:e500:c1c5:fa1c:efe5:a2ba:0 - \"GET /img-folder?model_name=Person HTTP/1.1\" 200 OK\n",
            "INFO:     2001:e68:541b:e500:c1c5:fa1c:efe5:a2ba:0 - \"GET /get-model-list HTTP/1.1\" 200 OK\n",
            "INFO:     2001:e68:541b:e500:c1c5:fa1c:efe5:a2ba:0 - \"GET /img-folder?model_name=Ganesha HTTP/1.1\" 200 OK\n",
            "INFO:     2001:e68:541b:e500:c1c5:fa1c:efe5:a2ba:0 - \"GET /static/Ganesha/result_textured/result_textured.obj HTTP/1.1\" 200 OK\n",
            "INFO:     2001:e68:541b:e500:c1c5:fa1c:efe5:a2ba:0 - \"GET /static/Person1/result_textured/result_textured.mtl HTTP/1.1\" 404 Not Found\n",
            "INFO:     2001:e68:541b:e500:c1c5:fa1c:efe5:a2ba:0 - \"POST /new-folder HTTP/1.1\" 200 OK\n",
            "INFO:     2001:e68:541b:e500:c1c5:fa1c:efe5:a2ba:0 - \"GET /img-folder?model_name=Person1 HTTP/1.1\" 200 OK\n",
            "INFO:     2001:e68:541b:e500:c1c5:fa1c:efe5:a2ba:0 - \"POST /upload-images HTTP/1.1\" 200 OK\n",
            "INFO:     2001:e68:541b:e500:c1c5:fa1c:efe5:a2ba:0 - \"GET /img-folder?model_name=Person1 HTTP/1.1\" 200 OK\n",
            "INFO:     2001:e68:541b:e500:c1c5:fa1c:efe5:a2ba:0 - \"GET /static/Ganesha/result_textured/result_textured.obj HTTP/1.1\" 200 OK\n",
            "INFO:     2001:e68:541b:e500:c1c5:fa1c:efe5:a2ba:0 - \"GET /get-model-list HTTP/1.1\" 200 OK\n",
            "INFO:     2001:e68:541b:e500:c1c5:fa1c:efe5:a2ba:0 - \"GET /img-folder?model_name=Ganesha HTTP/1.1\" 200 OK\n",
            "INFO:     2001:e68:541b:e500:c1c5:fa1c:efe5:a2ba:0 - \"GET /static/Person2/result_textured/result_textured.mtl HTTP/1.1\" 404 Not Found\n",
            "INFO:     2001:e68:541b:e500:c1c5:fa1c:efe5:a2ba:0 - \"POST /new-folder HTTP/1.1\" 200 OK\n",
            "INFO:     2001:e68:541b:e500:c1c5:fa1c:efe5:a2ba:0 - \"GET /img-folder?model_name=Person2 HTTP/1.1\" 200 OK\n",
            "INFO:     2001:e68:541b:e500:c1c5:fa1c:efe5:a2ba:0 - \"POST /upload-images HTTP/1.1\" 200 OK\n",
            "INFO:     2001:e68:541b:e500:c1c5:fa1c:efe5:a2ba:0 - \"GET /img-folder?model_name=Person2 HTTP/1.1\" 200 OK\n",
            "INFO:     2001:e68:541b:e500:c1c5:fa1c:efe5:a2ba:0 - \"GET /static/Ganesha/result_textured/result_textured.obj HTTP/1.1\" 200 OK\n",
            "INFO:     2001:e68:541b:e500:c1c5:fa1c:efe5:a2ba:0 - \"GET /get-model-list HTTP/1.1\" 200 OK\n",
            "INFO:     2001:e68:541b:e500:c1c5:fa1c:efe5:a2ba:0 - \"GET /img-folder?model_name=Ganesha HTTP/1.1\" 200 OK\n"
          ]
        }
      ],
      "source": [
        "from typing import List\n",
        "from colabcode import ColabCode\n",
        "from fastapi import FastAPI, File, UploadFile, Response, Form\n",
        "import pickle\n",
        "from pydantic import BaseModel\n",
        "import os\n",
        "from fastapi.middleware.cors import CORSMiddleware\n",
        "from PIL import Image\n",
        "import io\n",
        "from fastapi.staticfiles import StaticFiles\n",
        "\n",
        "MUSEUM_COLLECTIONS_FOLDER_ID = \"10O-Ar1Kwqru6KPTWktyLZ7399R_6s4QZ\"\n",
        "\n",
        "class NewFolder(BaseModel):\n",
        "  model_name: str\n",
        "\n",
        "app = FastAPI()\n",
        "origins = [\"*\"]\n",
        "app.add_middleware(\n",
        "    CORSMiddleware,\n",
        "    allow_origins=origins,\n",
        "    allow_credentials=True,\n",
        "    allow_methods=[\"*\"],\n",
        "    allow_headers=[\"*\"],\n",
        ")\n",
        "\n",
        "app.mount(\"/static\", StaticFiles(directory=\"/content/drive/MyDrive/FYP/Sample 3D Model/Museum Collections\"), name=\"static\")\n",
        "\n",
        "@app.post('/new-folder')\n",
        "def create_new_model_folder(new_folder: NewFolder):\n",
        "  new_folder_dict = new_folder.dict()\n",
        "  model_name = new_folder_dict[\"model_name\"]\n",
        "  model_folder = drive.ListFile({'q': f\"'{MUSEUM_COLLECTIONS_FOLDER_ID}' in parents and trashed=false and title='{model_name}'\"}).GetList()\n",
        "  if len(model_folder) > 0:\n",
        "    model_folder_id = model_folder[0][\"id\"]\n",
        "    file_list = drive.ListFile({'q': f\"'{model_folder_id}' in parents and trashed=false\"}).GetList()\n",
        "    for file1 in file_list:\n",
        "      if file1[\"title\"] == \"images\":\n",
        "        img_folder_id = file1[\"id\"]\n",
        "        break\n",
        "    return {'status_code': 400, \"folder_id\": img_folder_id}\n",
        "  model_folder = drive.CreateFile({'title' : model_name, 'mimeType' : 'application/vnd.google-apps.folder', 'parents': [{'id': MUSEUM_COLLECTIONS_FOLDER_ID}]})\n",
        "  model_folder.Upload()\n",
        "  img_folder = drive.CreateFile({'title' : \"images\", 'mimeType' : 'application/vnd.google-apps.folder', 'parents': [{'id': model_folder[\"id\"]}]})\n",
        "  img_folder.Upload()\n",
        "  return {'status_code': 201, \"folder_id\": img_folder[\"id\"]}\n",
        "\n",
        "@app.post('/upload-images')\n",
        "def create_upload_files(img_files: List[UploadFile] = File(...), img_folder_id: str = Form(...)):\n",
        "  os.makedirs(\"temp\", exist_ok = True)\n",
        "  for img_file in img_files:\n",
        "    file_drive = drive.CreateFile({'title':img_file.filename, 'mimeType': img_file.content_type, 'parents': [{'id': img_folder_id}]})\n",
        "    with open(\"temp/\"+img_file.filename, 'wb') as image:\n",
        "      content = img_file.file.read()\n",
        "      image.write(content)\n",
        "      image.close()\n",
        "    file_drive.SetContentFile(\"temp/\"+img_file.filename)\n",
        "    file_drive.Upload()\n",
        "  return {\"status_code\": 201}\n",
        "\n",
        "@app.get('/img-folder')\n",
        "def get_image_file_ids(model_name : str):\n",
        "  model_folder = drive.ListFile({'q': f\"'{MUSEUM_COLLECTIONS_FOLDER_ID}' in parents and trashed=false and title='{model_name}'\"}).GetList()[0]\n",
        "  model_folder_id = model_folder[\"id\"]\n",
        "  file_list = drive.ListFile({'q': f\"'{model_folder_id}' in parents and trashed=false\"}).GetList()\n",
        "  for file1 in file_list:\n",
        "    if file1[\"title\"] == \"images\":\n",
        "      img_folder_id = file1[\"id\"]\n",
        "      break\n",
        "  file_list = drive.ListFile({'q': f\"'{img_folder_id}' in parents and trashed=false\"}).GetList()\n",
        "  img_details = [{\"title\": file1[\"title\"], \"thumbnailLink\": file1[\"thumbnailLink\"]} for file1 in file_list]\n",
        "  return img_details\n",
        "\n",
        "@app.get('/get-model-list')\n",
        "def get_model_list():\n",
        "  model_list = drive.ListFile({'q': f\"'{MUSEUM_COLLECTIONS_FOLDER_ID}' in parents and trashed=false\"}).GetList()\n",
        "  models = [model[\"title\"] for model in model_list]\n",
        "  return models\n",
        "\n",
        "@app.get('/check-model-progress')\n",
        "def check_model_progress():\n",
        "  model_list = drive.ListFile({'q': f\"'{MUSEUM_COLLECTIONS_FOLDER_ID}' in parents and trashed=false\"}).GetList()\n",
        "  models = [model[\"title\"] for model in model_list]\n",
        "  return models\n",
        "\n",
        "\n",
        "server = ColabCode(port=10000, code=False, mount_drive=True)\n",
        "server.run_app(app=app)"
      ]
    },
    {
      "cell_type": "code",
      "execution_count": null,
      "metadata": {
        "id": "1ptILlFDcR6m"
      },
      "outputs": [],
      "source": [
        "  model_folder = drive.CreateFile({'title' : \"test\", 'mimeType' : 'application/vnd.google-apps.folder', 'parents': [{'id': MUSEUM_COLLECTIONS_FOLDER_ID}]})\n",
        "  model_folder.Upload()\n",
        "  img_folder = drive.CreateFile({'title' : \"images\", 'mimeType' : 'application/vnd.google-apps.folder', 'parents': [{'id': model_folder[\"id\"]}]})\n",
        "  img_folder.Upload()\n",
        "  img_folder[\"id\"]"
      ]
    },
    {
      "cell_type": "code",
      "execution_count": null,
      "metadata": {
        "id": "9fBVQsKPU08h"
      },
      "outputs": [],
      "source": [
        "def get_image_file_ids(model_name : str):\n",
        "  MUSEUM_COLLECTIONS_FOLDER_ID = \"10O-Ar1Kwqru6KPTWktyLZ7399R_6s4QZ\"\n",
        "  model_folder = drive.ListFile({'q': f\"'{MUSEUM_COLLECTIONS_FOLDER_ID}' in parents and trashed=false and title='{model_name}'\"}).GetList()[0]\n",
        "  model_folder_id = model_folder[\"id\"]\n",
        "  file_list = drive.ListFile({'q': f\"'{model_folder_id}' in parents and trashed=false\"}).GetList()\n",
        "  for file1 in file_list:\n",
        "    if file1[\"title\"] == \"images\":\n",
        "      img_folder_id = file1[\"id\"]\n",
        "      break\n",
        "  file_list = drive.ListFile({'q': f\"'{img_folder_id}' in parents and trashed=false\"}).GetList()\n",
        "  img_ids = [file1 for file1 in file_list]\n",
        "  return img_ids[0]"
      ]
    },
    {
      "cell_type": "code",
      "execution_count": null,
      "metadata": {
        "id": "dDELiMIAU1rI"
      },
      "outputs": [],
      "source": [
        "file1 = get_image_file_ids(model_name=\"Vase\")"
      ]
    },
    {
      "cell_type": "code",
      "execution_count": null,
      "metadata": {
        "id": "bDzKzdCSxUb8"
      },
      "outputs": [],
      "source": [
        "import pprint\n",
        "pprint.pprint(file1)"
      ]
    }
  ],
  "metadata": {
    "colab": {
      "collapsed_sections": [],
      "name": "Backend_Util.ipynb",
      "provenance": [],
      "include_colab_link": true
    },
    "kernelspec": {
      "display_name": "Python 3",
      "name": "python3"
    },
    "language_info": {
      "name": "python"
    }
  },
  "nbformat": 4,
  "nbformat_minor": 0
}