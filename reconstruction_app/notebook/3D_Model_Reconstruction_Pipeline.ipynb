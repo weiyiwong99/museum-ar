{
  "cells": [
    {
      "cell_type": "markdown",
      "metadata": {
        "id": "view-in-github",
        "colab_type": "text"
      },
      "source": [
        "<a href=\"https://colab.research.google.com/github/brandontanzhirong/Learning-based-Multi-view-3D-Model-Reconstruction/blob/master/notebook/3D_Model_Reconstruction_Pipeline.ipynb\" target=\"_parent\"><img src=\"https://colab.research.google.com/assets/colab-badge.svg\" alt=\"Open In Colab\"/></a>"
      ]
    },
    {
      "cell_type": "code",
      "execution_count": null,
      "metadata": {
        "colab": {
          "base_uri": "https://localhost:8080/"
        },
        "id": "VOkhEM5t1miP",
        "outputId": "a6ad0859-759a-495d-ec2b-0b917f0f4b91"
      },
      "outputs": [
        {
          "name": "stdout",
          "output_type": "stream",
          "text": [
            "Mounted at /content/drive\n"
          ]
        }
      ],
      "source": [
        "from google.colab import drive\n",
        "drive._mount('/content/drive', force_remount=True)"
      ]
    },
    {
      "cell_type": "markdown",
      "metadata": {
        "id": "GiiwZl8vZbhz"
      },
      "source": [
        "# Download"
      ]
    },
    {
      "cell_type": "code",
      "execution_count": null,
      "metadata": {
        "colab": {
          "base_uri": "https://localhost:8080/"
        },
        "id": "7izk0r4sZdpb",
        "outputId": "28d3d6a0-f081-4974-ebf2-872f4d9cc719"
      },
      "outputs": [
        {
          "name": "stdout",
          "output_type": "stream",
          "text": [
            "Cloning into 'FBCNN'...\n",
            "remote: Enumerating objects: 161, done.\u001b[K\n",
            "remote: Counting objects: 100% (161/161), done.\u001b[K\n",
            "remote: Compressing objects: 100% (151/151), done.\u001b[K\n",
            "remote: Total 161 (delta 23), reused 123 (delta 6), pack-reused 0\u001b[K\n",
            "Receiving objects: 100% (161/161), 46.26 MiB | 29.20 MiB/s, done.\n",
            "Resolving deltas: 100% (23/23), done.\n",
            "Reading package lists... Done\n",
            "Building dependency tree       \n",
            "Reading state information... Done\n",
            "build-essential is already the newest version (12.4ubuntu1).\n",
            "libboost-filesystem-dev is already the newest version (1.65.1.0ubuntu1).\n",
            "libboost-filesystem-dev set to manually installed.\n",
            "libboost-program-options-dev is already the newest version (1.65.1.0ubuntu1).\n",
            "libboost-program-options-dev set to manually installed.\n",
            "libboost-system-dev is already the newest version (1.65.1.0ubuntu1).\n",
            "libboost-system-dev set to manually installed.\n",
            "libboost-graph-dev is already the newest version (1.65.1.0ubuntu1).\n",
            "libboost-graph-dev set to manually installed.\n",
            "libboost-regex-dev is already the newest version (1.65.1.0ubuntu1).\n",
            "libboost-regex-dev set to manually installed.\n",
            "libboost-test-dev is already the newest version (1.65.1.0ubuntu1).\n",
            "libboost-test-dev set to manually installed.\n",
            "cmake is already the newest version (3.10.2-1ubuntu2.18.04.2).\n",
            "git is already the newest version (1:2.17.1-1ubuntu0.9).\n",
            "qtbase5-dev is already the newest version (5.9.5+dfsg-0ubuntu2.6).\n",
            "qtbase5-dev set to manually installed.\n",
            "The following additional packages will be installed:\n",
            "  libamd2 libbtf1 libcamd2 libccolamd2 libcgal-qt5-13 libcgal13 libcholmod3\n",
            "  libcolamd2 libcxsparse3 libfreeimage3 libgflags2.2 libglew2.0 libgmp-dev\n",
            "  libgmpxx4ldbl libgoogle-glog0v5 libgraphblas1 libjxr0 libklu1 libldl2\n",
            "  libmetis5 libmpfr-dev libqt5opengl5 libqt5svg5 libraw16 librbio2 libspqr2\n",
            "  libsuitesparseconfig5 libumfpack5\n",
            "Suggested packages:\n",
            "  libmpfi-dev libntl-dev libeigen3-doc libmrpt-dev glew-utils gmp-doc\n",
            "  libgmp10-doc libmpfr-doc\n",
            "The following NEW packages will be installed:\n",
            "  libamd2 libbtf1 libcamd2 libccolamd2 libcgal-dev libcgal-qt5-13\n",
            "  libcgal-qt5-dev libcgal13 libcholmod3 libcolamd2 libcxsparse3 libeigen3-dev\n",
            "  libfreeimage-dev libfreeimage3 libgflags-dev libgflags2.2 libglew-dev\n",
            "  libglew2.0 libgmp-dev libgmpxx4ldbl libgoogle-glog-dev libgoogle-glog0v5\n",
            "  libgraphblas1 libjxr0 libklu1 libldl2 libmetis5 libmpfr-dev libqt5opengl5\n",
            "  libqt5opengl5-dev libqt5svg5 libraw16 librbio2 libspqr2 libsuitesparse-dev\n",
            "  libsuitesparseconfig5 libumfpack5\n",
            "0 upgraded, 37 newly installed, 0 to remove and 37 not upgraded.\n",
            "Need to get 10.5 MB of archives.\n",
            "After this operation, 77.7 MB of additional disk space will be used.\n",
            "Get:1 http://archive.ubuntu.com/ubuntu bionic/main amd64 libqt5svg5 amd64 5.9.5-0ubuntu1 [128 kB]\n",
            "Get:2 http://archive.ubuntu.com/ubuntu bionic/main amd64 libsuitesparseconfig5 amd64 1:5.1.2-2 [9,044 B]\n",
            "Get:3 http://archive.ubuntu.com/ubuntu bionic/main amd64 libamd2 amd64 1:5.1.2-2 [19.5 kB]\n",
            "Get:4 http://archive.ubuntu.com/ubuntu bionic/main amd64 libbtf1 amd64 1:5.1.2-2 [10.6 kB]\n",
            "Get:5 http://archive.ubuntu.com/ubuntu bionic/main amd64 libcamd2 amd64 1:5.1.2-2 [20.9 kB]\n",
            "Get:6 http://archive.ubuntu.com/ubuntu bionic/main amd64 libccolamd2 amd64 1:5.1.2-2 [21.7 kB]\n",
            "Get:7 http://archive.ubuntu.com/ubuntu bionic/universe amd64 libcgal13 amd64 4.11-2build1 [275 kB]\n",
            "Get:8 http://archive.ubuntu.com/ubuntu bionic/main amd64 libgmpxx4ldbl amd64 2:6.1.2+dfsg-2 [8,964 B]\n",
            "Get:9 http://archive.ubuntu.com/ubuntu bionic/main amd64 libgmp-dev amd64 2:6.1.2+dfsg-2 [316 kB]\n",
            "Get:10 http://archive.ubuntu.com/ubuntu bionic/main amd64 libmpfr-dev amd64 4.0.1-1 [249 kB]\n",
            "Get:11 http://archive.ubuntu.com/ubuntu bionic/universe amd64 libcgal-dev amd64 4.11-2build1 [4,410 kB]\n",
            "Get:12 http://archive.ubuntu.com/ubuntu bionic-updates/main amd64 libqt5opengl5 amd64 5.9.5+dfsg-0ubuntu2.6 [132 kB]\n",
            "Get:13 http://archive.ubuntu.com/ubuntu bionic/universe amd64 libcgal-qt5-13 amd64 4.11-2build1 [93.9 kB]\n",
            "Get:14 http://archive.ubuntu.com/ubuntu bionic/universe amd64 libcgal-qt5-dev amd64 4.11-2build1 [122 kB]\n",
            "Get:15 http://archive.ubuntu.com/ubuntu bionic/main amd64 libcolamd2 amd64 1:5.1.2-2 [16.2 kB]\n",
            "Get:16 http://archive.ubuntu.com/ubuntu bionic/main amd64 libmetis5 amd64 5.1.0.dfsg-5 [169 kB]\n",
            "Get:17 http://archive.ubuntu.com/ubuntu bionic/main amd64 libcholmod3 amd64 1:5.1.2-2 [300 kB]\n",
            "Get:18 http://archive.ubuntu.com/ubuntu bionic/main amd64 libcxsparse3 amd64 1:5.1.2-2 [63.9 kB]\n",
            "Get:19 http://archive.ubuntu.com/ubuntu bionic/universe amd64 libgflags2.2 amd64 2.2.1-1 [72.4 kB]\n",
            "Get:20 http://archive.ubuntu.com/ubuntu bionic/universe amd64 libgflags-dev amd64 2.2.1-1 [86.1 kB]\n",
            "Get:21 http://archive.ubuntu.com/ubuntu bionic/universe amd64 libglew2.0 amd64 2.0.0-5 [140 kB]\n",
            "Get:22 http://archive.ubuntu.com/ubuntu bionic/universe amd64 libglew-dev amd64 2.0.0-5 [120 kB]\n",
            "Get:23 http://archive.ubuntu.com/ubuntu bionic/universe amd64 libgoogle-glog0v5 amd64 0.3.5-1 [50.5 kB]\n",
            "Get:24 http://archive.ubuntu.com/ubuntu bionic/universe amd64 libgoogle-glog-dev amd64 0.3.5-1 [73.8 kB]\n",
            "Get:25 http://archive.ubuntu.com/ubuntu bionic/main amd64 libgraphblas1 amd64 1:5.1.2-2 [384 kB]\n",
            "Get:26 http://archive.ubuntu.com/ubuntu bionic/universe amd64 libjxr0 amd64 1.1-6build1 [158 kB]\n",
            "Get:27 http://archive.ubuntu.com/ubuntu bionic/main amd64 libklu1 amd64 1:5.1.2-2 [69.3 kB]\n",
            "Get:28 http://archive.ubuntu.com/ubuntu bionic/main amd64 libldl2 amd64 1:5.1.2-2 [10.3 kB]\n",
            "Get:29 http://archive.ubuntu.com/ubuntu bionic-updates/main amd64 libqt5opengl5-dev amd64 5.9.5+dfsg-0ubuntu2.6 [36.1 kB]\n",
            "Get:30 http://archive.ubuntu.com/ubuntu bionic-updates/main amd64 libraw16 amd64 0.18.8-1ubuntu0.3 [264 kB]\n",
            "Get:31 http://archive.ubuntu.com/ubuntu bionic/main amd64 librbio2 amd64 1:5.1.2-2 [24.0 kB]\n",
            "Get:32 http://archive.ubuntu.com/ubuntu bionic/main amd64 libspqr2 amd64 1:5.1.2-2 [64.2 kB]\n",
            "Get:33 http://archive.ubuntu.com/ubuntu bionic/main amd64 libumfpack5 amd64 1:5.1.2-2 [229 kB]\n",
            "Get:34 http://archive.ubuntu.com/ubuntu bionic/main amd64 libsuitesparse-dev amd64 1:5.1.2-2 [1,235 kB]\n",
            "Get:35 http://archive.ubuntu.com/ubuntu bionic/universe amd64 libeigen3-dev all 3.3.4-4 [810 kB]\n",
            "Get:36 http://archive.ubuntu.com/ubuntu bionic-updates/universe amd64 libfreeimage3 amd64 3.17.0+ds1-5+deb9u1build0.18.04.1 [260 kB]\n",
            "Get:37 http://archive.ubuntu.com/ubuntu bionic-updates/universe amd64 libfreeimage-dev amd64 3.17.0+ds1-5+deb9u1build0.18.04.1 [18.7 kB]\n",
            "Fetched 10.5 MB in 2s (5,927 kB/s)\n",
            "debconf: unable to initialize frontend: Dialog\n",
            "debconf: (No usable dialog-like program is installed, so the dialog based frontend cannot be used. at /usr/share/perl5/Debconf/FrontEnd/Dialog.pm line 76, <> line 37.)\n",
            "debconf: falling back to frontend: Readline\n",
            "debconf: unable to initialize frontend: Readline\n",
            "debconf: (This frontend requires a controlling tty.)\n",
            "debconf: falling back to frontend: Teletype\n",
            "dpkg-preconfigure: unable to re-open stdin: \n",
            "Selecting previously unselected package libqt5svg5:amd64.\n",
            "(Reading database ... 155222 files and directories currently installed.)\n",
            "Preparing to unpack .../00-libqt5svg5_5.9.5-0ubuntu1_amd64.deb ...\n",
            "Unpacking libqt5svg5:amd64 (5.9.5-0ubuntu1) ...\n",
            "Selecting previously unselected package libsuitesparseconfig5:amd64.\n",
            "Preparing to unpack .../01-libsuitesparseconfig5_1%3a5.1.2-2_amd64.deb ...\n",
            "Unpacking libsuitesparseconfig5:amd64 (1:5.1.2-2) ...\n",
            "Selecting previously unselected package libamd2:amd64.\n",
            "Preparing to unpack .../02-libamd2_1%3a5.1.2-2_amd64.deb ...\n",
            "Unpacking libamd2:amd64 (1:5.1.2-2) ...\n",
            "Selecting previously unselected package libbtf1:amd64.\n",
            "Preparing to unpack .../03-libbtf1_1%3a5.1.2-2_amd64.deb ...\n",
            "Unpacking libbtf1:amd64 (1:5.1.2-2) ...\n",
            "Selecting previously unselected package libcamd2:amd64.\n",
            "Preparing to unpack .../04-libcamd2_1%3a5.1.2-2_amd64.deb ...\n",
            "Unpacking libcamd2:amd64 (1:5.1.2-2) ...\n",
            "Selecting previously unselected package libccolamd2:amd64.\n",
            "Preparing to unpack .../05-libccolamd2_1%3a5.1.2-2_amd64.deb ...\n",
            "Unpacking libccolamd2:amd64 (1:5.1.2-2) ...\n",
            "Selecting previously unselected package libcgal13:amd64.\n",
            "Preparing to unpack .../06-libcgal13_4.11-2build1_amd64.deb ...\n",
            "Unpacking libcgal13:amd64 (4.11-2build1) ...\n",
            "Selecting previously unselected package libgmpxx4ldbl:amd64.\n",
            "Preparing to unpack .../07-libgmpxx4ldbl_2%3a6.1.2+dfsg-2_amd64.deb ...\n",
            "Unpacking libgmpxx4ldbl:amd64 (2:6.1.2+dfsg-2) ...\n",
            "Selecting previously unselected package libgmp-dev:amd64.\n",
            "Preparing to unpack .../08-libgmp-dev_2%3a6.1.2+dfsg-2_amd64.deb ...\n",
            "Unpacking libgmp-dev:amd64 (2:6.1.2+dfsg-2) ...\n",
            "Selecting previously unselected package libmpfr-dev:amd64.\n",
            "Preparing to unpack .../09-libmpfr-dev_4.0.1-1_amd64.deb ...\n",
            "Unpacking libmpfr-dev:amd64 (4.0.1-1) ...\n",
            "Selecting previously unselected package libcgal-dev:amd64.\n",
            "Preparing to unpack .../10-libcgal-dev_4.11-2build1_amd64.deb ...\n",
            "Unpacking libcgal-dev:amd64 (4.11-2build1) ...\n",
            "Selecting previously unselected package libqt5opengl5:amd64.\n",
            "Preparing to unpack .../11-libqt5opengl5_5.9.5+dfsg-0ubuntu2.6_amd64.deb ...\n",
            "Unpacking libqt5opengl5:amd64 (5.9.5+dfsg-0ubuntu2.6) ...\n",
            "Selecting previously unselected package libcgal-qt5-13:amd64.\n",
            "Preparing to unpack .../12-libcgal-qt5-13_4.11-2build1_amd64.deb ...\n",
            "Unpacking libcgal-qt5-13:amd64 (4.11-2build1) ...\n",
            "Selecting previously unselected package libcgal-qt5-dev:amd64.\n",
            "Preparing to unpack .../13-libcgal-qt5-dev_4.11-2build1_amd64.deb ...\n",
            "Unpacking libcgal-qt5-dev:amd64 (4.11-2build1) ...\n",
            "Selecting previously unselected package libcolamd2:amd64.\n",
            "Preparing to unpack .../14-libcolamd2_1%3a5.1.2-2_amd64.deb ...\n",
            "Unpacking libcolamd2:amd64 (1:5.1.2-2) ...\n",
            "Selecting previously unselected package libmetis5:amd64.\n",
            "Preparing to unpack .../15-libmetis5_5.1.0.dfsg-5_amd64.deb ...\n",
            "Unpacking libmetis5:amd64 (5.1.0.dfsg-5) ...\n",
            "Selecting previously unselected package libcholmod3:amd64.\n",
            "Preparing to unpack .../16-libcholmod3_1%3a5.1.2-2_amd64.deb ...\n",
            "Unpacking libcholmod3:amd64 (1:5.1.2-2) ...\n",
            "Selecting previously unselected package libcxsparse3:amd64.\n",
            "Preparing to unpack .../17-libcxsparse3_1%3a5.1.2-2_amd64.deb ...\n",
            "Unpacking libcxsparse3:amd64 (1:5.1.2-2) ...\n",
            "Selecting previously unselected package libgflags2.2.\n",
            "Preparing to unpack .../18-libgflags2.2_2.2.1-1_amd64.deb ...\n",
            "Unpacking libgflags2.2 (2.2.1-1) ...\n",
            "Selecting previously unselected package libgflags-dev.\n",
            "Preparing to unpack .../19-libgflags-dev_2.2.1-1_amd64.deb ...\n",
            "Unpacking libgflags-dev (2.2.1-1) ...\n",
            "Selecting previously unselected package libglew2.0:amd64.\n",
            "Preparing to unpack .../20-libglew2.0_2.0.0-5_amd64.deb ...\n",
            "Unpacking libglew2.0:amd64 (2.0.0-5) ...\n",
            "Selecting previously unselected package libglew-dev:amd64.\n",
            "Preparing to unpack .../21-libglew-dev_2.0.0-5_amd64.deb ...\n",
            "Unpacking libglew-dev:amd64 (2.0.0-5) ...\n",
            "Selecting previously unselected package libgoogle-glog0v5.\n",
            "Preparing to unpack .../22-libgoogle-glog0v5_0.3.5-1_amd64.deb ...\n",
            "Unpacking libgoogle-glog0v5 (0.3.5-1) ...\n",
            "Selecting previously unselected package libgoogle-glog-dev.\n",
            "Preparing to unpack .../23-libgoogle-glog-dev_0.3.5-1_amd64.deb ...\n",
            "Unpacking libgoogle-glog-dev (0.3.5-1) ...\n",
            "Selecting previously unselected package libgraphblas1:amd64.\n",
            "Preparing to unpack .../24-libgraphblas1_1%3a5.1.2-2_amd64.deb ...\n",
            "Unpacking libgraphblas1:amd64 (1:5.1.2-2) ...\n",
            "Selecting previously unselected package libjxr0:amd64.\n",
            "Preparing to unpack .../25-libjxr0_1.1-6build1_amd64.deb ...\n",
            "Unpacking libjxr0:amd64 (1.1-6build1) ...\n",
            "Selecting previously unselected package libklu1:amd64.\n",
            "Preparing to unpack .../26-libklu1_1%3a5.1.2-2_amd64.deb ...\n",
            "Unpacking libklu1:amd64 (1:5.1.2-2) ...\n",
            "Selecting previously unselected package libldl2:amd64.\n",
            "Preparing to unpack .../27-libldl2_1%3a5.1.2-2_amd64.deb ...\n",
            "Unpacking libldl2:amd64 (1:5.1.2-2) ...\n",
            "Selecting previously unselected package libqt5opengl5-dev:amd64.\n",
            "Preparing to unpack .../28-libqt5opengl5-dev_5.9.5+dfsg-0ubuntu2.6_amd64.deb ...\n",
            "Unpacking libqt5opengl5-dev:amd64 (5.9.5+dfsg-0ubuntu2.6) ...\n",
            "Selecting previously unselected package libraw16:amd64.\n",
            "Preparing to unpack .../29-libraw16_0.18.8-1ubuntu0.3_amd64.deb ...\n",
            "Unpacking libraw16:amd64 (0.18.8-1ubuntu0.3) ...\n",
            "Selecting previously unselected package librbio2:amd64.\n",
            "Preparing to unpack .../30-librbio2_1%3a5.1.2-2_amd64.deb ...\n",
            "Unpacking librbio2:amd64 (1:5.1.2-2) ...\n",
            "Selecting previously unselected package libspqr2:amd64.\n",
            "Preparing to unpack .../31-libspqr2_1%3a5.1.2-2_amd64.deb ...\n",
            "Unpacking libspqr2:amd64 (1:5.1.2-2) ...\n",
            "Selecting previously unselected package libumfpack5:amd64.\n",
            "Preparing to unpack .../32-libumfpack5_1%3a5.1.2-2_amd64.deb ...\n",
            "Unpacking libumfpack5:amd64 (1:5.1.2-2) ...\n",
            "Selecting previously unselected package libsuitesparse-dev:amd64.\n",
            "Preparing to unpack .../33-libsuitesparse-dev_1%3a5.1.2-2_amd64.deb ...\n",
            "Unpacking libsuitesparse-dev:amd64 (1:5.1.2-2) ...\n",
            "Selecting previously unselected package libeigen3-dev.\n",
            "Preparing to unpack .../34-libeigen3-dev_3.3.4-4_all.deb ...\n",
            "Unpacking libeigen3-dev (3.3.4-4) ...\n",
            "Selecting previously unselected package libfreeimage3:amd64.\n",
            "Preparing to unpack .../35-libfreeimage3_3.17.0+ds1-5+deb9u1build0.18.04.1_amd64.deb ...\n",
            "Unpacking libfreeimage3:amd64 (3.17.0+ds1-5+deb9u1build0.18.04.1) ...\n",
            "Selecting previously unselected package libfreeimage-dev.\n",
            "Preparing to unpack .../36-libfreeimage-dev_3.17.0+ds1-5+deb9u1build0.18.04.1_amd64.deb ...\n",
            "Unpacking libfreeimage-dev (3.17.0+ds1-5+deb9u1build0.18.04.1) ...\n",
            "Setting up libbtf1:amd64 (1:5.1.2-2) ...\n",
            "Setting up libldl2:amd64 (1:5.1.2-2) ...\n",
            "Setting up libcxsparse3:amd64 (1:5.1.2-2) ...\n",
            "Setting up libgflags2.2 (2.2.1-1) ...\n",
            "Setting up libgflags-dev (2.2.1-1) ...\n",
            "Setting up libeigen3-dev (3.3.4-4) ...\n",
            "Setting up libgraphblas1:amd64 (1:5.1.2-2) ...\n",
            "Setting up libqt5opengl5:amd64 (5.9.5+dfsg-0ubuntu2.6) ...\n",
            "Setting up libjxr0:amd64 (1.1-6build1) ...\n",
            "Setting up libgoogle-glog0v5 (0.3.5-1) ...\n",
            "Setting up libqt5svg5:amd64 (5.9.5-0ubuntu1) ...\n",
            "Setting up libsuitesparseconfig5:amd64 (1:5.1.2-2) ...\n",
            "Setting up libmetis5:amd64 (5.1.0.dfsg-5) ...\n",
            "Setting up libcolamd2:amd64 (1:5.1.2-2) ...\n",
            "Setting up libglew2.0:amd64 (2.0.0-5) ...\n",
            "Setting up libccolamd2:amd64 (1:5.1.2-2) ...\n",
            "Setting up libcgal13:amd64 (4.11-2build1) ...\n",
            "Setting up libgmpxx4ldbl:amd64 (2:6.1.2+dfsg-2) ...\n",
            "Setting up libglew-dev:amd64 (2.0.0-5) ...\n",
            "Setting up libraw16:amd64 (0.18.8-1ubuntu0.3) ...\n",
            "Setting up libcgal-qt5-13:amd64 (4.11-2build1) ...\n",
            "Setting up libgmp-dev:amd64 (2:6.1.2+dfsg-2) ...\n",
            "Setting up libfreeimage3:amd64 (3.17.0+ds1-5+deb9u1build0.18.04.1) ...\n",
            "Setting up librbio2:amd64 (1:5.1.2-2) ...\n",
            "Setting up libcamd2:amd64 (1:5.1.2-2) ...\n",
            "Setting up libgoogle-glog-dev (0.3.5-1) ...\n",
            "Setting up libqt5opengl5-dev:amd64 (5.9.5+dfsg-0ubuntu2.6) ...\n",
            "Setting up libamd2:amd64 (1:5.1.2-2) ...\n",
            "Setting up libfreeimage-dev (3.17.0+ds1-5+deb9u1build0.18.04.1) ...\n",
            "Setting up libmpfr-dev:amd64 (4.0.1-1) ...\n",
            "Setting up libklu1:amd64 (1:5.1.2-2) ...\n",
            "Setting up libcgal-dev:amd64 (4.11-2build1) ...\n",
            "Setting up libcholmod3:amd64 (1:5.1.2-2) ...\n",
            "Setting up libspqr2:amd64 (1:5.1.2-2) ...\n",
            "Setting up libcgal-qt5-dev:amd64 (4.11-2build1) ...\n",
            "Setting up libumfpack5:amd64 (1:5.1.2-2) ...\n",
            "Setting up libsuitesparse-dev:amd64 (1:5.1.2-2) ...\n",
            "Processing triggers for libc-bin (2.27-3ubuntu1.3) ...\n",
            "/sbin/ldconfig.real: /usr/local/lib/python3.7/dist-packages/ideep4py/lib/libmkldnn.so.0 is not a symbolic link\n",
            "\n",
            "Processing triggers for man-db (2.8.3-2ubuntu0.1) ...\n",
            "Reading package lists... Done\n",
            "Building dependency tree       \n",
            "Reading state information... Done\n",
            "libsuitesparse-dev is already the newest version (1:5.1.2-2).\n",
            "libatlas-base-dev is already the newest version (3.10.3-5).\n",
            "0 upgraded, 0 newly installed, 0 to remove and 37 not upgraded.\n",
            "Cloning into 'ceres-solver'...\n",
            "remote: Sending approximately 16.01 MiB ...\u001b[K\n",
            "remote: Counting objects: 32, done\u001b[K\n",
            "remote: Total 15707 (delta 9365), reused 15707 (delta 9365)\u001b[K\n",
            "Receiving objects: 100% (15707/15707), 16.01 MiB | 18.91 MiB/s, done.\n",
            "Resolving deltas: 100% (9365/9365), done.\n",
            "/content/ceres-solver\n",
            "Note: checking out '2.0.0-72-g206061a'.\n",
            "\n",
            "You are in 'detached HEAD' state. You can look around, make experimental\n",
            "changes and commit them, and you can discard any commits you make in this\n",
            "state without impacting any branches by performing another checkout.\n",
            "\n",
            "If you want to create a new branch to retain commits you create, you may\n",
            "do so (now or later) by using -b with the checkout command again. Example:\n",
            "\n",
            "  git checkout -b <new-branch-name>\n",
            "\n",
            "HEAD is now at 206061a Use standard c++ types in jet_test.cc\n",
            "/content/ceres-solver/build\n",
            "-- The C compiler identification is GNU 7.5.0\n",
            "-- The CXX compiler identification is GNU 7.5.0\n",
            "-- Check for working C compiler: /usr/bin/cc\n",
            "-- Check for working C compiler: /usr/bin/cc -- works\n",
            "-- Detecting C compiler ABI info\n",
            "-- Detecting C compiler ABI info - done\n",
            "-- Detecting C compile features\n",
            "-- Detecting C compile features - done\n",
            "-- Check for working CXX compiler: /usr/bin/c++\n",
            "-- Check for working CXX compiler: /usr/bin/c++ -- works\n",
            "-- Detecting CXX compiler ABI info\n",
            "-- Detecting CXX compiler ABI info - done\n",
            "-- Detecting CXX compile features\n",
            "-- Detecting CXX compile features - done\n",
            "-- Detected Ceres being used as a git submodule, adding commit hook for Gerrit to: /content/ceres-solver/.git\n",
            "-- Detected Ceres version: 2.0.0 from /content/ceres-solver/include/ceres/version.h\n",
            "-- Detected available Ceres threading models: [CXX_THREADS, OPENMP, NO_THREADS]\n",
            "-- Building with C++14\n",
            "-- Found Eigen version 3.3.4: /usr/lib/cmake/eigen3\n",
            "-- Enabling use of Eigen as a sparse linear algebra library.\n",
            "-- Looking for sgemm_\n",
            "-- Looking for sgemm_ - found\n",
            "-- Looking for pthread.h\n",
            "-- Looking for pthread.h - found\n",
            "-- Looking for pthread_create\n",
            "-- Looking for pthread_create - not found\n",
            "-- Looking for pthread_create in pthreads\n",
            "-- Looking for pthread_create in pthreads - not found\n",
            "-- Looking for pthread_create in pthread\n",
            "-- Looking for pthread_create in pthread - found\n",
            "-- Found Threads: TRUE  \n",
            "-- Found BLAS: /usr/lib/x86_64-linux-gnu/libopenblas.so  \n",
            "-- Found LAPACK library: /usr/lib/x86_64-linux-gnu/libopenblas.so;/usr/lib/x86_64-linux-gnu/libopenblas.so\n",
            "-- Found AMD headers in: /usr/include/suitesparse\n",
            "-- Found AMD library: /usr/lib/x86_64-linux-gnu/libamd.so\n",
            "-- Found CAMD headers in: /usr/include/suitesparse\n",
            "-- Found CAMD library: /usr/lib/x86_64-linux-gnu/libcamd.so\n",
            "-- Found COLAMD headers in: /usr/include/suitesparse\n",
            "-- Found COLAMD library: /usr/lib/x86_64-linux-gnu/libcolamd.so\n",
            "-- Found CCOLAMD headers in: /usr/include/suitesparse\n",
            "-- Found CCOLAMD library: /usr/lib/x86_64-linux-gnu/libccolamd.so\n",
            "-- Found CHOLMOD headers in: /usr/include/suitesparse\n",
            "-- Found CHOLMOD library: /usr/lib/x86_64-linux-gnu/libcholmod.so\n",
            "-- Found SUITESPARSEQR headers in: /usr/include/suitesparse\n",
            "-- Found SUITESPARSEQR library: /usr/lib/x86_64-linux-gnu/libspqr.so\n",
            "-- Found Intel Thread Building Blocks (TBB) library (2017.0 / 9107) include location: /usr/include. Assuming SuiteSparseQR was compiled with TBB.\n",
            "-- Found SUITESPARSE_CONFIG headers in: /usr/include/suitesparse\n",
            "-- Found SUITESPARSE_CONFIG library: /usr/lib/x86_64-linux-gnu/libsuitesparseconfig.so\n",
            "-- Found LIBRT library: /usr/lib/x86_64-linux-gnu/librt.so\n",
            "-- Adding librt: /usr/lib/x86_64-linux-gnu/librt.so to SuiteSparse_config libraries (required on Linux & Unix [not OSX] if SuiteSparse is compiled with timing).\n",
            "-- Did not find METIS library (optional SuiteSparse dependency)\n",
            "-- Found SuiteSparse: TRUE (found version \"5.1.2\") \n",
            "-- Found SuiteSparse 5.1.2, building with SuiteSparse.\n",
            "-- Found CXSparse: /usr/include/suitesparse (found version \"3.1.9\") \n",
            "-- Found CXSparse version: 3.1.9, building with CXSparse.\n",
            "-- Building without Apple's Accelerate sparse support.\n",
            "-- Found Google Flags (gflags) version 2.2.1: /usr/lib/x86_64-linux-gnu/cmake/gflags\n",
            "-- No preference for use of exported glog CMake configuration set, and no hints for include/library directories provided. Defaulting to preferring an installed/exported glog CMake configuration if available.\n",
            "-- Failed to find installed glog CMake configuration, searching for glog build directories exported with CMake.\n",
            "-- Failed to find an installed/exported CMake configuration for glog, will perform search for installed glog components.\n",
            "-- Found Glog: /usr/include  \n",
            "-- Found Google Log (glog). Assuming glog was built with gflags support as gflags was found. This will make gflags a public dependency of Ceres.\n",
            "-- Using Ceres threading model: CXX_THREADS\n",
            "-- Failed to find Google benchmark library, disabling build of benchmarks.\n",
            "-- Building Ceres as a static library.\n",
            "-- No build type specified; defaulting to CMAKE_BUILD_TYPE=Release.\n",
            "-- Performing Test CHECK_CXX_FLAG_Wmissing_declarations\n",
            "-- Performing Test CHECK_CXX_FLAG_Wmissing_declarations - Success\n",
            "-- Performing Test CHECK_CXX_FLAG_Wno_unknown_pragmas\n",
            "-- Performing Test CHECK_CXX_FLAG_Wno_unknown_pragmas - Success\n",
            "-- Performing Test CHECK_CXX_FLAG_Wno_sign_compare\n",
            "-- Performing Test CHECK_CXX_FLAG_Wno_sign_compare - Success\n",
            "-- Performing Test CHECK_CXX_FLAG_Wno_unused_parameter\n",
            "-- Performing Test CHECK_CXX_FLAG_Wno_unused_parameter - Success\n",
            "-- Performing Test CHECK_CXX_FLAG_Wno_missing_field_initializers\n",
            "-- Performing Test CHECK_CXX_FLAG_Wno_missing_field_initializers - Success\n",
            "-- Creating configured Ceres config.h output directory: /content/ceres-solver/build/config/ceres/internal\n",
            "-- Enabling CERES_USE_EIGEN_SPARSE in Ceres config.h\n",
            "-- Enabling CERES_NO_ACCELERATE_SPARSE in Ceres config.h\n",
            "-- Enabling CERES_USE_CXX_THREADS in Ceres config.h\n",
            "-- Performing Test CHECK_CXX_FLAG_Wno_missing_declarations\n",
            "-- Performing Test CHECK_CXX_FLAG_Wno_missing_declarations - Success\n",
            "-- Do not build any example.\n",
            "-- Configuring done\n",
            "-- Generating done\n",
            "-- Build files have been written to: /content/ceres-solver/build\n",
            "\u001b[35m\u001b[1mScanning dependencies of target ceres\u001b[0m\n",
            "[  0%] \u001b[32mBuilding CXX object internal/ceres/CMakeFiles/ceres.dir/parallel_for_cxx.cc.o\u001b[0m\n",
            "[  1%] \u001b[32mBuilding CXX object internal/ceres/CMakeFiles/ceres.dir/thread_pool.cc.o\u001b[0m\n",
            "[  2%] \u001b[32mBuilding CXX object internal/ceres/CMakeFiles/ceres.dir/accelerate_sparse.cc.o\u001b[0m\n",
            "[  2%] \u001b[32mBuilding CXX object internal/ceres/CMakeFiles/ceres.dir/array_utils.cc.o\u001b[0m\n",
            "[  3%] \u001b[32mBuilding CXX object internal/ceres/CMakeFiles/ceres.dir/blas.cc.o\u001b[0m\n",
            "[  4%] \u001b[32mBuilding CXX object internal/ceres/CMakeFiles/ceres.dir/block_evaluate_preparer.cc.o\u001b[0m\n",
            "[  4%] \u001b[32mBuilding CXX object internal/ceres/CMakeFiles/ceres.dir/block_jacobi_preconditioner.cc.o\u001b[0m\n",
            "[  5%] \u001b[32mBuilding CXX object internal/ceres/CMakeFiles/ceres.dir/block_jacobian_writer.cc.o\u001b[0m\n",
            "[  6%] \u001b[32mBuilding CXX object internal/ceres/CMakeFiles/ceres.dir/block_random_access_dense_matrix.cc.o\u001b[0m\n",
            "[  6%] \u001b[32mBuilding CXX object internal/ceres/CMakeFiles/ceres.dir/block_random_access_diagonal_matrix.cc.o\u001b[0m\n",
            "[  7%] \u001b[32mBuilding CXX object internal/ceres/CMakeFiles/ceres.dir/block_random_access_matrix.cc.o\u001b[0m\n",
            "[  8%] \u001b[32mBuilding CXX object internal/ceres/CMakeFiles/ceres.dir/block_random_access_sparse_matrix.cc.o\u001b[0m\n",
            "[  8%] \u001b[32mBuilding CXX object internal/ceres/CMakeFiles/ceres.dir/block_sparse_matrix.cc.o\u001b[0m\n",
            "[  9%] \u001b[32mBuilding CXX object internal/ceres/CMakeFiles/ceres.dir/block_structure.cc.o\u001b[0m\n",
            "[ 10%] \u001b[32mBuilding CXX object internal/ceres/CMakeFiles/ceres.dir/c_api.cc.o\u001b[0m\n",
            "[ 10%] \u001b[32mBuilding CXX object internal/ceres/CMakeFiles/ceres.dir/canonical_views_clustering.cc.o\u001b[0m\n",
            "[ 11%] \u001b[32mBuilding CXX object internal/ceres/CMakeFiles/ceres.dir/cgnr_solver.cc.o\u001b[0m\n",
            "[ 12%] \u001b[32mBuilding CXX object internal/ceres/CMakeFiles/ceres.dir/callbacks.cc.o\u001b[0m\n",
            "[ 12%] \u001b[32mBuilding CXX object internal/ceres/CMakeFiles/ceres.dir/compressed_col_sparse_matrix_utils.cc.o\u001b[0m\n",
            "[ 13%] \u001b[32mBuilding CXX object internal/ceres/CMakeFiles/ceres.dir/compressed_row_jacobian_writer.cc.o\u001b[0m\n",
            "[ 14%] \u001b[32mBuilding CXX object internal/ceres/CMakeFiles/ceres.dir/compressed_row_sparse_matrix.cc.o\u001b[0m\n",
            "[ 14%] \u001b[32mBuilding CXX object internal/ceres/CMakeFiles/ceres.dir/conditioned_cost_function.cc.o\u001b[0m\n",
            "[ 15%] \u001b[32mBuilding CXX object internal/ceres/CMakeFiles/ceres.dir/conjugate_gradients_solver.cc.o\u001b[0m\n",
            "[ 16%] \u001b[32mBuilding CXX object internal/ceres/CMakeFiles/ceres.dir/context.cc.o\u001b[0m\n",
            "[ 16%] \u001b[32mBuilding CXX object internal/ceres/CMakeFiles/ceres.dir/context_impl.cc.o\u001b[0m\n",
            "[ 17%] \u001b[32mBuilding CXX object internal/ceres/CMakeFiles/ceres.dir/coordinate_descent_minimizer.cc.o\u001b[0m\n",
            "[ 18%] \u001b[32mBuilding CXX object internal/ceres/CMakeFiles/ceres.dir/corrector.cc.o\u001b[0m\n",
            "[ 18%] \u001b[32mBuilding CXX object internal/ceres/CMakeFiles/ceres.dir/covariance.cc.o\u001b[0m\n",
            "[ 19%] \u001b[32mBuilding CXX object internal/ceres/CMakeFiles/ceres.dir/covariance_impl.cc.o\u001b[0m\n",
            "[ 20%] \u001b[32mBuilding CXX object internal/ceres/CMakeFiles/ceres.dir/cxsparse.cc.o\u001b[0m\n",
            "[ 20%] \u001b[32mBuilding CXX object internal/ceres/CMakeFiles/ceres.dir/dense_normal_cholesky_solver.cc.o\u001b[0m\n",
            "[ 21%] \u001b[32mBuilding CXX object internal/ceres/CMakeFiles/ceres.dir/dense_qr_solver.cc.o\u001b[0m\n",
            "[ 22%] \u001b[32mBuilding CXX object internal/ceres/CMakeFiles/ceres.dir/dense_sparse_matrix.cc.o\u001b[0m\n",
            "[ 22%] \u001b[32mBuilding CXX object internal/ceres/CMakeFiles/ceres.dir/detect_structure.cc.o\u001b[0m\n",
            "[ 23%] \u001b[32mBuilding CXX object internal/ceres/CMakeFiles/ceres.dir/dogleg_strategy.cc.o\u001b[0m\n",
            "[ 24%] \u001b[32mBuilding CXX object internal/ceres/CMakeFiles/ceres.dir/dynamic_compressed_row_jacobian_writer.cc.o\u001b[0m\n",
            "[ 25%] \u001b[32mBuilding CXX object internal/ceres/CMakeFiles/ceres.dir/dynamic_compressed_row_sparse_matrix.cc.o\u001b[0m\n",
            "[ 25%] \u001b[32mBuilding CXX object internal/ceres/CMakeFiles/ceres.dir/dynamic_sparse_normal_cholesky_solver.cc.o\u001b[0m\n",
            "[ 26%] \u001b[32mBuilding CXX object internal/ceres/CMakeFiles/ceres.dir/evaluator.cc.o\u001b[0m\n",
            "[ 27%] \u001b[32mBuilding CXX object internal/ceres/CMakeFiles/ceres.dir/eigensparse.cc.o\u001b[0m\n",
            "[ 27%] \u001b[32mBuilding CXX object internal/ceres/CMakeFiles/ceres.dir/file.cc.o\u001b[0m\n",
            "[ 28%] \u001b[32mBuilding CXX object internal/ceres/CMakeFiles/ceres.dir/float_suitesparse.cc.o\u001b[0m\n",
            "[ 29%] \u001b[32mBuilding CXX object internal/ceres/CMakeFiles/ceres.dir/float_cxsparse.cc.o\u001b[0m\n",
            "[ 29%] \u001b[32mBuilding CXX object internal/ceres/CMakeFiles/ceres.dir/function_sample.cc.o\u001b[0m\n",
            "[ 30%] \u001b[32mBuilding CXX object internal/ceres/CMakeFiles/ceres.dir/gradient_checker.cc.o\u001b[0m\n",
            "[ 31%] \u001b[32mBuilding CXX object internal/ceres/CMakeFiles/ceres.dir/gradient_checking_cost_function.cc.o\u001b[0m\n",
            "[ 31%] \u001b[32mBuilding CXX object internal/ceres/CMakeFiles/ceres.dir/gradient_problem.cc.o\u001b[0m\n",
            "[ 32%] \u001b[32mBuilding CXX object internal/ceres/CMakeFiles/ceres.dir/gradient_problem_solver.cc.o\u001b[0m\n",
            "[ 33%] \u001b[32mBuilding CXX object internal/ceres/CMakeFiles/ceres.dir/implicit_schur_complement.cc.o\u001b[0m\n",
            "[ 33%] \u001b[32mBuilding CXX object internal/ceres/CMakeFiles/ceres.dir/inner_product_computer.cc.o\u001b[0m\n",
            "[ 34%] \u001b[32mBuilding CXX object internal/ceres/CMakeFiles/ceres.dir/is_close.cc.o\u001b[0m\n",
            "[ 35%] \u001b[32mBuilding CXX object internal/ceres/CMakeFiles/ceres.dir/iterative_refiner.cc.o\u001b[0m\n",
            "[ 35%] \u001b[32mBuilding CXX object internal/ceres/CMakeFiles/ceres.dir/iterative_schur_complement_solver.cc.o\u001b[0m\n",
            "[ 36%] \u001b[32mBuilding CXX object internal/ceres/CMakeFiles/ceres.dir/levenberg_marquardt_strategy.cc.o\u001b[0m\n",
            "[ 37%] \u001b[32mBuilding CXX object internal/ceres/CMakeFiles/ceres.dir/lapack.cc.o\u001b[0m\n",
            "[ 37%] \u001b[32mBuilding CXX object internal/ceres/CMakeFiles/ceres.dir/line_search.cc.o\u001b[0m\n",
            "[ 38%] \u001b[32mBuilding CXX object internal/ceres/CMakeFiles/ceres.dir/line_search_direction.cc.o\u001b[0m\n",
            "[ 39%] \u001b[32mBuilding CXX object internal/ceres/CMakeFiles/ceres.dir/line_search_minimizer.cc.o\u001b[0m\n",
            "[ 39%] \u001b[32mBuilding CXX object internal/ceres/CMakeFiles/ceres.dir/line_search_preprocessor.cc.o\u001b[0m\n",
            "[ 40%] \u001b[32mBuilding CXX object internal/ceres/CMakeFiles/ceres.dir/linear_least_squares_problems.cc.o\u001b[0m\n",
            "[ 41%] \u001b[32mBuilding CXX object internal/ceres/CMakeFiles/ceres.dir/linear_operator.cc.o\u001b[0m\n",
            "[ 41%] \u001b[32mBuilding CXX object internal/ceres/CMakeFiles/ceres.dir/linear_solver.cc.o\u001b[0m\n",
            "[ 42%] \u001b[32mBuilding CXX object internal/ceres/CMakeFiles/ceres.dir/local_parameterization.cc.o\u001b[0m\n",
            "[ 43%] \u001b[32mBuilding CXX object internal/ceres/CMakeFiles/ceres.dir/loss_function.cc.o\u001b[0m\n",
            "[ 43%] \u001b[32mBuilding CXX object internal/ceres/CMakeFiles/ceres.dir/low_rank_inverse_hessian.cc.o\u001b[0m\n",
            "[ 44%] \u001b[32mBuilding CXX object internal/ceres/CMakeFiles/ceres.dir/minimizer.cc.o\u001b[0m\n",
            "[ 45%] \u001b[32mBuilding CXX object internal/ceres/CMakeFiles/ceres.dir/normal_prior.cc.o\u001b[0m\n",
            "[ 45%] \u001b[32mBuilding CXX object internal/ceres/CMakeFiles/ceres.dir/parallel_utils.cc.o\u001b[0m\n",
            "[ 46%] \u001b[32mBuilding CXX object internal/ceres/CMakeFiles/ceres.dir/parameter_block_ordering.cc.o\u001b[0m\n",
            "[ 47%] \u001b[32mBuilding CXX object internal/ceres/CMakeFiles/ceres.dir/partitioned_matrix_view.cc.o\u001b[0m\n",
            "[ 47%] \u001b[32mBuilding CXX object internal/ceres/CMakeFiles/ceres.dir/polynomial.cc.o\u001b[0m\n",
            "[ 48%] \u001b[32mBuilding CXX object internal/ceres/CMakeFiles/ceres.dir/preconditioner.cc.o\u001b[0m\n",
            "[ 49%] \u001b[32mBuilding CXX object internal/ceres/CMakeFiles/ceres.dir/preprocessor.cc.o\u001b[0m\n",
            "[ 50%] \u001b[32mBuilding CXX object internal/ceres/CMakeFiles/ceres.dir/problem.cc.o\u001b[0m\n",
            "[ 50%] \u001b[32mBuilding CXX object internal/ceres/CMakeFiles/ceres.dir/problem_impl.cc.o\u001b[0m\n",
            "[ 51%] \u001b[32mBuilding CXX object internal/ceres/CMakeFiles/ceres.dir/program.cc.o\u001b[0m\n",
            "[ 52%] \u001b[32mBuilding CXX object internal/ceres/CMakeFiles/ceres.dir/reorder_program.cc.o\u001b[0m\n",
            "[ 52%] \u001b[32mBuilding CXX object internal/ceres/CMakeFiles/ceres.dir/residual_block.cc.o\u001b[0m\n",
            "[ 53%] \u001b[32mBuilding CXX object internal/ceres/CMakeFiles/ceres.dir/residual_block_utils.cc.o\u001b[0m\n",
            "[ 54%] \u001b[32mBuilding CXX object internal/ceres/CMakeFiles/ceres.dir/schur_complement_solver.cc.o\u001b[0m\n",
            "[ 54%] \u001b[32mBuilding CXX object internal/ceres/CMakeFiles/ceres.dir/schur_eliminator.cc.o\u001b[0m\n",
            "[ 55%] \u001b[32mBuilding CXX object internal/ceres/CMakeFiles/ceres.dir/schur_jacobi_preconditioner.cc.o\u001b[0m\n",
            "[ 56%] \u001b[32mBuilding CXX object internal/ceres/CMakeFiles/ceres.dir/schur_templates.cc.o\u001b[0m\n",
            "[ 56%] \u001b[32mBuilding CXX object internal/ceres/CMakeFiles/ceres.dir/scratch_evaluate_preparer.cc.o\u001b[0m\n",
            "[ 57%] \u001b[32mBuilding CXX object internal/ceres/CMakeFiles/ceres.dir/single_linkage_clustering.cc.o\u001b[0m\n",
            "[ 58%] \u001b[32mBuilding CXX object internal/ceres/CMakeFiles/ceres.dir/solver.cc.o\u001b[0m\n",
            "[ 58%] \u001b[32mBuilding CXX object internal/ceres/CMakeFiles/ceres.dir/solver_utils.cc.o\u001b[0m\n",
            "[ 59%] \u001b[32mBuilding CXX object internal/ceres/CMakeFiles/ceres.dir/sparse_matrix.cc.o\u001b[0m\n",
            "[ 60%] \u001b[32mBuilding CXX object internal/ceres/CMakeFiles/ceres.dir/sparse_cholesky.cc.o\u001b[0m\n",
            "[ 60%] \u001b[32mBuilding CXX object internal/ceres/CMakeFiles/ceres.dir/sparse_normal_cholesky_solver.cc.o\u001b[0m\n",
            "[ 61%] \u001b[32mBuilding CXX object internal/ceres/CMakeFiles/ceres.dir/subset_preconditioner.cc.o\u001b[0m\n",
            "[ 62%] \u001b[32mBuilding CXX object internal/ceres/CMakeFiles/ceres.dir/stringprintf.cc.o\u001b[0m\n",
            "[ 62%] \u001b[32mBuilding CXX object internal/ceres/CMakeFiles/ceres.dir/suitesparse.cc.o\u001b[0m\n",
            "[ 63%] \u001b[32mBuilding CXX object internal/ceres/CMakeFiles/ceres.dir/thread_token_provider.cc.o\u001b[0m\n",
            "[ 64%] \u001b[32mBuilding CXX object internal/ceres/CMakeFiles/ceres.dir/triplet_sparse_matrix.cc.o\u001b[0m\n",
            "[ 64%] \u001b[32mBuilding CXX object internal/ceres/CMakeFiles/ceres.dir/trust_region_preprocessor.cc.o\u001b[0m\n",
            "[ 65%] \u001b[32mBuilding CXX object internal/ceres/CMakeFiles/ceres.dir/trust_region_minimizer.cc.o\u001b[0m\n",
            "[ 66%] \u001b[32mBuilding CXX object internal/ceres/CMakeFiles/ceres.dir/trust_region_step_evaluator.cc.o\u001b[0m\n",
            "[ 66%] \u001b[32mBuilding CXX object internal/ceres/CMakeFiles/ceres.dir/trust_region_strategy.cc.o\u001b[0m\n",
            "[ 67%] \u001b[32mBuilding CXX object internal/ceres/CMakeFiles/ceres.dir/types.cc.o\u001b[0m\n",
            "[ 68%] \u001b[32mBuilding CXX object internal/ceres/CMakeFiles/ceres.dir/visibility.cc.o\u001b[0m\n",
            "[ 68%] \u001b[32mBuilding CXX object internal/ceres/CMakeFiles/ceres.dir/visibility_based_preconditioner.cc.o\u001b[0m\n",
            "[ 69%] \u001b[32mBuilding CXX object internal/ceres/CMakeFiles/ceres.dir/wall_time.cc.o\u001b[0m\n",
            "[ 70%] \u001b[32mBuilding CXX object internal/ceres/CMakeFiles/ceres.dir/generated/partitioned_matrix_view_2_2_2.cc.o\u001b[0m\n",
            "[ 70%] \u001b[32mBuilding CXX object internal/ceres/CMakeFiles/ceres.dir/generated/partitioned_matrix_view_2_2_3.cc.o\u001b[0m\n",
            "[ 71%] \u001b[32mBuilding CXX object internal/ceres/CMakeFiles/ceres.dir/generated/partitioned_matrix_view_2_2_4.cc.o\u001b[0m\n",
            "[ 72%] \u001b[32mBuilding CXX object internal/ceres/CMakeFiles/ceres.dir/generated/partitioned_matrix_view_2_2_d.cc.o\u001b[0m\n",
            "[ 72%] \u001b[32mBuilding CXX object internal/ceres/CMakeFiles/ceres.dir/generated/partitioned_matrix_view_2_3_3.cc.o\u001b[0m\n",
            "[ 73%] \u001b[32mBuilding CXX object internal/ceres/CMakeFiles/ceres.dir/generated/partitioned_matrix_view_2_3_4.cc.o\u001b[0m\n",
            "[ 74%] \u001b[32mBuilding CXX object internal/ceres/CMakeFiles/ceres.dir/generated/partitioned_matrix_view_2_3_6.cc.o\u001b[0m\n",
            "[ 75%] \u001b[32mBuilding CXX object internal/ceres/CMakeFiles/ceres.dir/generated/partitioned_matrix_view_2_3_9.cc.o\u001b[0m\n",
            "[ 75%] \u001b[32mBuilding CXX object internal/ceres/CMakeFiles/ceres.dir/generated/partitioned_matrix_view_2_3_d.cc.o\u001b[0m\n",
            "[ 76%] \u001b[32mBuilding CXX object internal/ceres/CMakeFiles/ceres.dir/generated/partitioned_matrix_view_2_4_3.cc.o\u001b[0m\n",
            "[ 77%] \u001b[32mBuilding CXX object internal/ceres/CMakeFiles/ceres.dir/generated/partitioned_matrix_view_2_4_4.cc.o\u001b[0m\n",
            "[ 77%] \u001b[32mBuilding CXX object internal/ceres/CMakeFiles/ceres.dir/generated/partitioned_matrix_view_2_4_6.cc.o\u001b[0m\n",
            "[ 78%] \u001b[32mBuilding CXX object internal/ceres/CMakeFiles/ceres.dir/generated/partitioned_matrix_view_2_4_8.cc.o\u001b[0m\n",
            "[ 79%] \u001b[32mBuilding CXX object internal/ceres/CMakeFiles/ceres.dir/generated/partitioned_matrix_view_2_4_9.cc.o\u001b[0m\n",
            "[ 79%] \u001b[32mBuilding CXX object internal/ceres/CMakeFiles/ceres.dir/generated/partitioned_matrix_view_2_4_d.cc.o\u001b[0m\n",
            "[ 80%] \u001b[32mBuilding CXX object internal/ceres/CMakeFiles/ceres.dir/generated/partitioned_matrix_view_2_d_d.cc.o\u001b[0m\n",
            "[ 81%] \u001b[32mBuilding CXX object internal/ceres/CMakeFiles/ceres.dir/generated/partitioned_matrix_view_3_3_3.cc.o\u001b[0m\n",
            "[ 81%] \u001b[32mBuilding CXX object internal/ceres/CMakeFiles/ceres.dir/generated/partitioned_matrix_view_4_4_2.cc.o\u001b[0m\n",
            "[ 82%] \u001b[32mBuilding CXX object internal/ceres/CMakeFiles/ceres.dir/generated/partitioned_matrix_view_4_4_3.cc.o\u001b[0m\n",
            "[ 83%] \u001b[32mBuilding CXX object internal/ceres/CMakeFiles/ceres.dir/generated/partitioned_matrix_view_4_4_4.cc.o\u001b[0m\n",
            "[ 83%] \u001b[32mBuilding CXX object internal/ceres/CMakeFiles/ceres.dir/generated/partitioned_matrix_view_4_4_d.cc.o\u001b[0m\n",
            "[ 84%] \u001b[32mBuilding CXX object internal/ceres/CMakeFiles/ceres.dir/generated/partitioned_matrix_view_d_d_d.cc.o\u001b[0m\n",
            "[ 85%] \u001b[32mBuilding CXX object internal/ceres/CMakeFiles/ceres.dir/generated/schur_eliminator_2_2_2.cc.o\u001b[0m\n",
            "[ 85%] \u001b[32mBuilding CXX object internal/ceres/CMakeFiles/ceres.dir/generated/schur_eliminator_2_2_3.cc.o\u001b[0m\n",
            "[ 86%] \u001b[32mBuilding CXX object internal/ceres/CMakeFiles/ceres.dir/generated/schur_eliminator_2_2_4.cc.o\u001b[0m\n",
            "[ 87%] \u001b[32mBuilding CXX object internal/ceres/CMakeFiles/ceres.dir/generated/schur_eliminator_2_2_d.cc.o\u001b[0m\n",
            "[ 87%] \u001b[32mBuilding CXX object internal/ceres/CMakeFiles/ceres.dir/generated/schur_eliminator_2_3_3.cc.o\u001b[0m\n",
            "[ 88%] \u001b[32mBuilding CXX object internal/ceres/CMakeFiles/ceres.dir/generated/schur_eliminator_2_3_4.cc.o\u001b[0m\n",
            "[ 89%] \u001b[32mBuilding CXX object internal/ceres/CMakeFiles/ceres.dir/generated/schur_eliminator_2_3_6.cc.o\u001b[0m\n",
            "[ 89%] \u001b[32mBuilding CXX object internal/ceres/CMakeFiles/ceres.dir/generated/schur_eliminator_2_3_9.cc.o\u001b[0m\n",
            "[ 90%] \u001b[32mBuilding CXX object internal/ceres/CMakeFiles/ceres.dir/generated/schur_eliminator_2_3_d.cc.o\u001b[0m\n",
            "[ 91%] \u001b[32mBuilding CXX object internal/ceres/CMakeFiles/ceres.dir/generated/schur_eliminator_2_4_3.cc.o\u001b[0m\n",
            "[ 91%] \u001b[32mBuilding CXX object internal/ceres/CMakeFiles/ceres.dir/generated/schur_eliminator_2_4_4.cc.o\u001b[0m\n",
            "[ 92%] \u001b[32mBuilding CXX object internal/ceres/CMakeFiles/ceres.dir/generated/schur_eliminator_2_4_6.cc.o\u001b[0m\n",
            "[ 93%] \u001b[32mBuilding CXX object internal/ceres/CMakeFiles/ceres.dir/generated/schur_eliminator_2_4_8.cc.o\u001b[0m\n",
            "[ 93%] \u001b[32mBuilding CXX object internal/ceres/CMakeFiles/ceres.dir/generated/schur_eliminator_2_4_9.cc.o\u001b[0m\n",
            "[ 94%] \u001b[32mBuilding CXX object internal/ceres/CMakeFiles/ceres.dir/generated/schur_eliminator_2_4_d.cc.o\u001b[0m\n",
            "[ 95%] \u001b[32mBuilding CXX object internal/ceres/CMakeFiles/ceres.dir/generated/schur_eliminator_2_d_d.cc.o\u001b[0m\n",
            "[ 95%] \u001b[32mBuilding CXX object internal/ceres/CMakeFiles/ceres.dir/generated/schur_eliminator_3_3_3.cc.o\u001b[0m\n",
            "[ 96%] \u001b[32mBuilding CXX object internal/ceres/CMakeFiles/ceres.dir/generated/schur_eliminator_4_4_2.cc.o\u001b[0m\n",
            "[ 97%] \u001b[32mBuilding CXX object internal/ceres/CMakeFiles/ceres.dir/generated/schur_eliminator_4_4_3.cc.o\u001b[0m\n",
            "[ 97%] \u001b[32mBuilding CXX object internal/ceres/CMakeFiles/ceres.dir/generated/schur_eliminator_4_4_4.cc.o\u001b[0m\n",
            "[ 98%] \u001b[32mBuilding CXX object internal/ceres/CMakeFiles/ceres.dir/generated/schur_eliminator_4_4_d.cc.o\u001b[0m\n",
            "[ 99%] \u001b[32mBuilding CXX object internal/ceres/CMakeFiles/ceres.dir/generated/schur_eliminator_d_d_d.cc.o\u001b[0m\n",
            "[100%] \u001b[32m\u001b[1mLinking CXX static library ../../lib/libceres.a\u001b[0m\n",
            "[100%] Built target ceres\n",
            "[100%] Built target ceres\n",
            "\u001b[36mInstall the project...\u001b[0m\n",
            "-- Install configuration: \"Release\"\n",
            "-- Installing: /usr/local/include/ceres/autodiff_cost_function.h\n",
            "-- Installing: /usr/local/include/ceres/autodiff_first_order_function.h\n",
            "-- Installing: /usr/local/include/ceres/autodiff_local_parameterization.h\n",
            "-- Installing: /usr/local/include/ceres/c_api.h\n",
            "-- Installing: /usr/local/include/ceres/ceres.h\n",
            "-- Installing: /usr/local/include/ceres/conditioned_cost_function.h\n",
            "-- Installing: /usr/local/include/ceres/context.h\n",
            "-- Installing: /usr/local/include/ceres/cost_function.h\n",
            "-- Installing: /usr/local/include/ceres/cost_function_to_functor.h\n",
            "-- Installing: /usr/local/include/ceres/covariance.h\n",
            "-- Installing: /usr/local/include/ceres/crs_matrix.h\n",
            "-- Installing: /usr/local/include/ceres/cubic_interpolation.h\n",
            "-- Installing: /usr/local/include/ceres/dynamic_autodiff_cost_function.h\n",
            "-- Installing: /usr/local/include/ceres/dynamic_cost_function.h\n",
            "-- Installing: /usr/local/include/ceres/dynamic_cost_function_to_functor.h\n",
            "-- Installing: /usr/local/include/ceres/dynamic_numeric_diff_cost_function.h\n",
            "-- Installing: /usr/local/include/ceres/evaluation_callback.h\n",
            "-- Installing: /usr/local/include/ceres/first_order_function.h\n",
            "-- Installing: /usr/local/include/ceres/gradient_checker.h\n",
            "-- Installing: /usr/local/include/ceres/gradient_problem.h\n",
            "-- Installing: /usr/local/include/ceres/gradient_problem_solver.h\n",
            "-- Installing: /usr/local/include/ceres/iteration_callback.h\n",
            "-- Installing: /usr/local/include/ceres/jet.h\n",
            "-- Installing: /usr/local/include/ceres/local_parameterization.h\n",
            "-- Installing: /usr/local/include/ceres/loss_function.h\n",
            "-- Installing: /usr/local/include/ceres/normal_prior.h\n",
            "-- Installing: /usr/local/include/ceres/numeric_diff_cost_function.h\n",
            "-- Installing: /usr/local/include/ceres/numeric_diff_first_order_function.h\n",
            "-- Installing: /usr/local/include/ceres/numeric_diff_options.h\n",
            "-- Installing: /usr/local/include/ceres/ordered_groups.h\n",
            "-- Installing: /usr/local/include/ceres/problem.h\n",
            "-- Installing: /usr/local/include/ceres/rotation.h\n",
            "-- Installing: /usr/local/include/ceres/sized_cost_function.h\n",
            "-- Installing: /usr/local/include/ceres/solver.h\n",
            "-- Installing: /usr/local/include/ceres/tiny_solver.h\n",
            "-- Installing: /usr/local/include/ceres/tiny_solver_autodiff_function.h\n",
            "-- Installing: /usr/local/include/ceres/tiny_solver_cost_function_adapter.h\n",
            "-- Installing: /usr/local/include/ceres/types.h\n",
            "-- Installing: /usr/local/include/ceres/version.h\n",
            "-- Installing: /usr/local/include/ceres/internal/array_selector.h\n",
            "-- Installing: /usr/local/include/ceres/internal/autodiff.h\n",
            "-- Installing: /usr/local/include/ceres/internal/disable_warnings.h\n",
            "-- Installing: /usr/local/include/ceres/internal/eigen.h\n",
            "-- Installing: /usr/local/include/ceres/internal/fixed_array.h\n",
            "-- Installing: /usr/local/include/ceres/internal/householder_vector.h\n",
            "-- Installing: /usr/local/include/ceres/internal/integer_sequence_algorithm.h\n",
            "-- Installing: /usr/local/include/ceres/internal/line_parameterization.h\n",
            "-- Installing: /usr/local/include/ceres/internal/memory.h\n",
            "-- Installing: /usr/local/include/ceres/internal/numeric_diff.h\n",
            "-- Installing: /usr/local/include/ceres/internal/parameter_dims.h\n",
            "-- Installing: /usr/local/include/ceres/internal/port.h\n",
            "-- Installing: /usr/local/include/ceres/internal/reenable_warnings.h\n",
            "-- Installing: /usr/local/include/ceres/internal/variadic_evaluate.h\n",
            "-- Installing: /usr/local/include/ceres/internal/config.h\n",
            "-- Installing: /usr/local/lib/cmake/Ceres/CeresTargets.cmake\n",
            "-- Installing: /usr/local/lib/cmake/Ceres/CeresTargets-release.cmake\n",
            "-- Installing: /usr/local/lib/cmake/Ceres/CeresConfig.cmake\n",
            "-- Installing: /usr/local/lib/cmake/Ceres/CeresConfigVersion.cmake\n",
            "-- Installing: /usr/local/lib/cmake/Ceres/FindGlog.cmake\n",
            "-- Installing: /usr/local/lib/libceres.a\n",
            "Cloning into 'colmap'...\n",
            "remote: Enumerating objects: 13234, done.\u001b[K\n",
            "remote: Counting objects: 100% (205/205), done.\u001b[K\n",
            "remote: Compressing objects: 100% (148/148), done.\u001b[K\n",
            "remote: Total 13234 (delta 101), reused 106 (delta 57), pack-reused 13029\u001b[K\n",
            "Receiving objects: 100% (13234/13234), 11.63 MiB | 19.21 MiB/s, done.\n",
            "Resolving deltas: 100% (10376/10376), done.\n",
            "/content/ceres-solver/build/colmap\n",
            "Already on 'dev'\n",
            "Your branch is up to date with 'origin/dev'.\n",
            "/content/ceres-solver/build/colmap/build\n",
            "-- The C compiler identification is GNU 7.5.0\n",
            "-- The CXX compiler identification is GNU 7.5.0\n",
            "-- Check for working C compiler: /usr/bin/cc\n",
            "-- Check for working C compiler: /usr/bin/cc -- works\n",
            "-- Detecting C compiler ABI info\n",
            "-- Detecting C compiler ABI info - done\n",
            "-- Detecting C compile features\n",
            "-- Detecting C compile features - done\n",
            "-- Check for working CXX compiler: /usr/bin/c++\n",
            "-- Check for working CXX compiler: /usr/bin/c++ -- works\n",
            "-- Detecting CXX compiler ABI info\n",
            "-- Detecting CXX compiler ABI info - done\n",
            "-- Detecting CXX compile features\n",
            "-- Detecting CXX compile features - done\n",
            "-- Looking for pthread.h\n",
            "-- Looking for pthread.h - found\n",
            "-- Looking for pthread_create\n",
            "-- Looking for pthread_create - not found\n",
            "-- Looking for pthread_create in pthreads\n",
            "-- Looking for pthread_create in pthreads - not found\n",
            "-- Looking for pthread_create in pthread\n",
            "-- Looking for pthread_create in pthread - found\n",
            "-- Found Threads: TRUE  \n",
            "-- Found required Ceres dependency: Eigen version 3.3.4 in /usr/lib/cmake/eigen3\n",
            "-- Found required Ceres dependency: glog\n",
            "-- Found required Ceres dependency: gflags\n",
            "-- Found Ceres version: 2.0.0 installed in: /usr/local with components: [EigenSparse, SparseLinearAlgebraLibrary, LAPACK, SuiteSparse, CXSparse, SchurSpecializations, Multithreading]\n",
            "-- Boost version: 1.65.1\n",
            "-- Found the following Boost libraries:\n",
            "--   program_options\n",
            "--   filesystem\n",
            "--   graph\n",
            "--   system\n",
            "--   unit_test_framework\n",
            "-- Found Eigen3: /usr/include/eigen3 (Required is at least version \"2.91.0\") \n",
            "-- Found Eigen\n",
            "--   Includes : /usr/include/eigen3\n",
            "-- Found FreeImage\n",
            "--   Includes : /usr/include\n",
            "--   Libraries : /usr/lib/x86_64-linux-gnu/libfreeimage.so\n",
            "-- Found Glog\n",
            "--   Includes : /usr/include\n",
            "--   Libraries : /usr/lib/x86_64-linux-gnu/libglog.so\n",
            "-- Found OpenGL: /usr/lib/x86_64-linux-gnu/libOpenGL.so   \n",
            "-- Found Glew\n",
            "--   Includes : /usr/include\n",
            "--   Libraries : /usr/lib/x86_64-linux-gnu/libGLEW.so\n",
            "-- Found Git: /usr/bin/git (found version \"2.17.1\") \n",
            "-- Found Qt\n",
            "--   Module : /usr/lib/x86_64-linux-gnu/cmake/Qt5Core\n",
            "--   Module : /usr/lib/x86_64-linux-gnu/cmake/Qt5OpenGL\n",
            "--   Module : /usr/lib/x86_64-linux-gnu/cmake/Qt5Widgets\n",
            "-- Found CGAL\n",
            "--   Includes : /usr//include\n",
            "--   Libraries : /usr/lib/x86_64-linux-gnu/libCGAL.so.13.0.1\n",
            "-- Build type not specified, using Release\n",
            "-- Enabling SIMD support\n",
            "-- Enabling OpenMP support\n",
            "-- Disabling interprocedural optimization\n",
            "-- Autodetected CUDA architecture(s):  3.7\n",
            "-- Enabling CUDA support (version: 11.1, archs: sm_37)\n",
            "-- Enabling GUI support\n",
            "-- Enabling OpenGL support\n",
            "-- Disabling profiling support\n",
            "-- Enabling CGAL support\n",
            "-- Configuring done\n",
            "-- Generating done\n",
            "-- Build files have been written to: /content/ceres-solver/build/colmap/build\n",
            "\u001b[35m\u001b[1mScanning dependencies of target flann\u001b[0m\n",
            "[  0%] \u001b[32mBuilding CXX object lib/FLANN/CMakeFiles/flann.dir/flann.cpp.o\u001b[0m\n",
            "[  0%] \u001b[32mBuilding C object lib/FLANN/CMakeFiles/flann.dir/ext/lz4.c.o\u001b[0m\n",
            "[  0%] \u001b[32mBuilding C object lib/FLANN/CMakeFiles/flann.dir/ext/lz4hc.c.o\u001b[0m\n",
            "[  0%] \u001b[32m\u001b[1mLinking CXX static library libflann.a\u001b[0m\n",
            "[  0%] Built target flann\n",
            "\u001b[35m\u001b[1mScanning dependencies of target graclus\u001b[0m\n",
            "[  2%] \u001b[32mBuilding C object lib/Graclus/CMakeFiles/graclus.dir/metisLib/balance.c.o\u001b[0m\n",
            "[  2%] \u001b[32mBuilding C object lib/Graclus/CMakeFiles/graclus.dir/metisLib/bucketsort.c.o\u001b[0m\n",
            "[  2%] \u001b[32mBuilding C object lib/Graclus/CMakeFiles/graclus.dir/metisLib/ccgraph.c.o\u001b[0m\n",
            "[  2%] \u001b[32mBuilding C object lib/Graclus/CMakeFiles/graclus.dir/metisLib/coarsen.c.o\u001b[0m\n",
            "[  2%] \u001b[32mBuilding C object lib/Graclus/CMakeFiles/graclus.dir/metisLib/compress.c.o\u001b[0m\n",
            "[  4%] \u001b[32mBuilding C object lib/Graclus/CMakeFiles/graclus.dir/metisLib/debug.c.o\u001b[0m\n",
            "[  4%] \u001b[32mBuilding C object lib/Graclus/CMakeFiles/graclus.dir/metisLib/estmem.c.o\u001b[0m\n",
            "[  4%] \u001b[32mBuilding C object lib/Graclus/CMakeFiles/graclus.dir/metisLib/fm.c.o\u001b[0m\n",
            "[  4%] \u001b[32mBuilding C object lib/Graclus/CMakeFiles/graclus.dir/metisLib/fortran.c.o\u001b[0m\n",
            "[  4%] \u001b[32mBuilding C object lib/Graclus/CMakeFiles/graclus.dir/metisLib/frename.c.o\u001b[0m\n",
            "[  6%] \u001b[32mBuilding C object lib/Graclus/CMakeFiles/graclus.dir/metisLib/graph.c.o\u001b[0m\n",
            "[  6%] \u001b[32mBuilding C object lib/Graclus/CMakeFiles/graclus.dir/metisLib/initpart.c.o\u001b[0m\n",
            "[  6%] \u001b[32mBuilding C object lib/Graclus/CMakeFiles/graclus.dir/metisLib/kmetis.c.o\u001b[0m\n",
            "[  6%] \u001b[32mBuilding C object lib/Graclus/CMakeFiles/graclus.dir/metisLib/kvmetis.c.o\u001b[0m\n",
            "[  6%] \u001b[32mBuilding C object lib/Graclus/CMakeFiles/graclus.dir/metisLib/kwayfm.c.o\u001b[0m\n",
            "[  8%] \u001b[32mBuilding C object lib/Graclus/CMakeFiles/graclus.dir/metisLib/kwayrefine.c.o\u001b[0m\n",
            "[  8%] \u001b[32mBuilding C object lib/Graclus/CMakeFiles/graclus.dir/metisLib/kwayvolfm.c.o\u001b[0m\n",
            "[  8%] \u001b[32mBuilding C object lib/Graclus/CMakeFiles/graclus.dir/metisLib/kwayvolrefine.c.o\u001b[0m\n",
            "[  8%] \u001b[32mBuilding C object lib/Graclus/CMakeFiles/graclus.dir/metisLib/match.c.o\u001b[0m\n",
            "[  8%] \u001b[32mBuilding C object lib/Graclus/CMakeFiles/graclus.dir/metisLib/mbalance.c.o\u001b[0m\n",
            "[ 10%] \u001b[32mBuilding C object lib/Graclus/CMakeFiles/graclus.dir/metisLib/mbalance2.c.o\u001b[0m\n",
            "[ 10%] \u001b[32mBuilding C object lib/Graclus/CMakeFiles/graclus.dir/metisLib/mcoarsen.c.o\u001b[0m\n",
            "[ 10%] \u001b[32mBuilding C object lib/Graclus/CMakeFiles/graclus.dir/metisLib/memory.c.o\u001b[0m\n",
            "[ 10%] \u001b[32mBuilding C object lib/Graclus/CMakeFiles/graclus.dir/metisLib/mesh.c.o\u001b[0m\n",
            "[ 10%] \u001b[32mBuilding C object lib/Graclus/CMakeFiles/graclus.dir/metisLib/meshpart.c.o\u001b[0m\n",
            "[ 12%] \u001b[32mBuilding C object lib/Graclus/CMakeFiles/graclus.dir/metisLib/metis.c.o\u001b[0m\n",
            "[ 12%] \u001b[32mBuilding C object lib/Graclus/CMakeFiles/graclus.dir/metisLib/mfm.c.o\u001b[0m\n",
            "[ 12%] \u001b[32mBuilding C object lib/Graclus/CMakeFiles/graclus.dir/metisLib/mfm2.c.o\u001b[0m\n",
            "[ 12%] \u001b[32mBuilding C object lib/Graclus/CMakeFiles/graclus.dir/metisLib/mincover.c.o\u001b[0m\n",
            "[ 12%] \u001b[32mBuilding C object lib/Graclus/CMakeFiles/graclus.dir/metisLib/minitpart.c.o\u001b[0m\n",
            "[ 12%] \u001b[32mBuilding C object lib/Graclus/CMakeFiles/graclus.dir/metisLib/minitpart2.c.o\u001b[0m\n",
            "[ 14%] \u001b[32mBuilding C object lib/Graclus/CMakeFiles/graclus.dir/metisLib/mkmetis.c.o\u001b[0m\n",
            "[ 14%] \u001b[32mBuilding C object lib/Graclus/CMakeFiles/graclus.dir/metisLib/mkwayfmh.c.o\u001b[0m\n",
            "[ 14%] \u001b[32mBuilding C object lib/Graclus/CMakeFiles/graclus.dir/metisLib/mkwayrefine.c.o\u001b[0m\n",
            "[ 14%] \u001b[32mBuilding C object lib/Graclus/CMakeFiles/graclus.dir/metisLib/mmatch.c.o\u001b[0m\n",
            "[ 14%] \u001b[32mBuilding C object lib/Graclus/CMakeFiles/graclus.dir/metisLib/mmd.c.o\u001b[0m\n",
            "[ 16%] \u001b[32mBuilding C object lib/Graclus/CMakeFiles/graclus.dir/metisLib/mpmetis.c.o\u001b[0m\n",
            "[ 16%] \u001b[32mBuilding C object lib/Graclus/CMakeFiles/graclus.dir/metisLib/mrefine.c.o\u001b[0m\n",
            "[ 16%] \u001b[32mBuilding C object lib/Graclus/CMakeFiles/graclus.dir/metisLib/mrefine2.c.o\u001b[0m\n",
            "[ 16%] \u001b[32mBuilding C object lib/Graclus/CMakeFiles/graclus.dir/metisLib/mutil.c.o\u001b[0m\n",
            "[ 16%] \u001b[32mBuilding C object lib/Graclus/CMakeFiles/graclus.dir/metisLib/myqsort.c.o\u001b[0m\n",
            "[ 18%] \u001b[32mBuilding C object lib/Graclus/CMakeFiles/graclus.dir/metisLib/ometis.c.o\u001b[0m\n",
            "[ 18%] \u001b[32mBuilding C object lib/Graclus/CMakeFiles/graclus.dir/metisLib/parmetis.c.o\u001b[0m\n",
            "[ 18%] \u001b[32mBuilding C object lib/Graclus/CMakeFiles/graclus.dir/metisLib/pmetis.c.o\u001b[0m\n",
            "[ 18%] \u001b[32mBuilding C object lib/Graclus/CMakeFiles/graclus.dir/metisLib/pqueue.c.o\u001b[0m\n",
            "[ 18%] \u001b[32mBuilding C object lib/Graclus/CMakeFiles/graclus.dir/metisLib/refine.c.o\u001b[0m\n",
            "[ 20%] \u001b[32mBuilding C object lib/Graclus/CMakeFiles/graclus.dir/metisLib/separator.c.o\u001b[0m\n",
            "[ 20%] \u001b[32mBuilding C object lib/Graclus/CMakeFiles/graclus.dir/metisLib/sfm.c.o\u001b[0m\n",
            "[ 20%] \u001b[32mBuilding C object lib/Graclus/CMakeFiles/graclus.dir/metisLib/srefine.c.o\u001b[0m\n",
            "[ 20%] \u001b[32mBuilding C object lib/Graclus/CMakeFiles/graclus.dir/metisLib/stat.c.o\u001b[0m\n",
            "[ 20%] \u001b[32mBuilding C object lib/Graclus/CMakeFiles/graclus.dir/metisLib/subdomains.c.o\u001b[0m\n",
            "[ 22%] \u001b[32mBuilding C object lib/Graclus/CMakeFiles/graclus.dir/metisLib/timing.c.o\u001b[0m\n",
            "[ 22%] \u001b[32mBuilding C object lib/Graclus/CMakeFiles/graclus.dir/metisLib/util.c.o\u001b[0m\n",
            "[ 22%] \u001b[32mBuilding C object lib/Graclus/CMakeFiles/graclus.dir/multilevelLib/wkkm.c.o\u001b[0m\n",
            "[ 22%] \u001b[32mBuilding C object lib/Graclus/CMakeFiles/graclus.dir/multilevelLib/mlkkm.c.o\u001b[0m\n",
            "[ 22%] \u001b[32m\u001b[1mLinking C static library libgraclus.a\u001b[0m\n",
            "[ 22%] Built target graclus\n",
            "\u001b[35m\u001b[1mScanning dependencies of target lsd\u001b[0m\n",
            "[ 24%] \u001b[32mBuilding C object lib/LSD/CMakeFiles/lsd.dir/lsd.c.o\u001b[0m\n",
            "[ 24%] \u001b[32m\u001b[1mLinking C static library liblsd.a\u001b[0m\n",
            "[ 24%] Built target lsd\n",
            "[ 24%] \u001b[34m\u001b[1mBuilding NVCC (Device) object lib/PBA/CMakeFiles/pba.dir/pba_generated_ProgramCU.cu.o\u001b[0m\n",
            "\u001b[35m\u001b[1mScanning dependencies of target pba\u001b[0m\n",
            "[ 24%] \u001b[32mBuilding CXX object lib/PBA/CMakeFiles/pba.dir/ConfigBA.cpp.o\u001b[0m\n",
            "[ 24%] \u001b[32mBuilding CXX object lib/PBA/CMakeFiles/pba.dir/CuTexImage.cpp.o\u001b[0m\n",
            "[ 24%] \u001b[32mBuilding CXX object lib/PBA/CMakeFiles/pba.dir/pba.cpp.o\u001b[0m\n",
            "[ 26%] \u001b[32mBuilding CXX object lib/PBA/CMakeFiles/pba.dir/SparseBundleCPU.cpp.o\u001b[0m\n",
            "[ 26%] \u001b[32mBuilding CXX object lib/PBA/CMakeFiles/pba.dir/SparseBundleCU.cpp.o\u001b[0m\n",
            "[ 26%] \u001b[32m\u001b[1mLinking CXX static library libpba.a\u001b[0m\n",
            "[ 26%] Built target pba\n",
            "\u001b[35m\u001b[1mScanning dependencies of target poisson_recon\u001b[0m\n",
            "[ 26%] \u001b[32mBuilding CXX object lib/PoissonRecon/CMakeFiles/poisson_recon.dir/CmdLineParser.cpp.o\u001b[0m\n",
            "[ 26%] \u001b[32mBuilding CXX object lib/PoissonRecon/CMakeFiles/poisson_recon.dir/Factor.cpp.o\u001b[0m\n",
            "[ 28%] \u001b[32mBuilding CXX object lib/PoissonRecon/CMakeFiles/poisson_recon.dir/Geometry.cpp.o\u001b[0m\n",
            "[ 28%] \u001b[32mBuilding CXX object lib/PoissonRecon/CMakeFiles/poisson_recon.dir/MarchingCubes.cpp.o\u001b[0m\n",
            "[ 28%] \u001b[32mBuilding CXX object lib/PoissonRecon/CMakeFiles/poisson_recon.dir/PlyFile.cpp.o\u001b[0m\n",
            "[ 28%] \u001b[32mBuilding CXX object lib/PoissonRecon/CMakeFiles/poisson_recon.dir/PoissonRecon.cpp.o\u001b[0m\n",
            "[ 28%] \u001b[32mBuilding CXX object lib/PoissonRecon/CMakeFiles/poisson_recon.dir/SurfaceTrimmer.cpp.o\u001b[0m\n",
            "[ 30%] \u001b[32m\u001b[1mLinking CXX static library libpoisson_recon.a\u001b[0m\n",
            "[ 30%] Built target poisson_recon\n",
            "[ 30%] \u001b[34m\u001b[1mBuilding NVCC (Device) object lib/SiftGPU/CMakeFiles/sift_gpu.dir/sift_gpu_generated_ProgramCU.cu.o\u001b[0m\n",
            "\u001b[35m\u001b[1mScanning dependencies of target sift_gpu\u001b[0m\n",
            "[ 30%] \u001b[32mBuilding CXX object lib/SiftGPU/CMakeFiles/sift_gpu.dir/FrameBufferObject.cpp.o\u001b[0m\n",
            "[ 30%] \u001b[32mBuilding CXX object lib/SiftGPU/CMakeFiles/sift_gpu.dir/GlobalUtil.cpp.o\u001b[0m\n",
            "[ 30%] \u001b[32mBuilding CXX object lib/SiftGPU/CMakeFiles/sift_gpu.dir/GLTexImage.cpp.o\u001b[0m\n",
            "[ 32%] \u001b[32mBuilding CXX object lib/SiftGPU/CMakeFiles/sift_gpu.dir/ProgramGLSL.cpp.o\u001b[0m\n",
            "[ 32%] \u001b[32mBuilding CXX object lib/SiftGPU/CMakeFiles/sift_gpu.dir/PyramidGL.cpp.o\u001b[0m\n",
            "[ 32%] \u001b[32mBuilding CXX object lib/SiftGPU/CMakeFiles/sift_gpu.dir/ShaderMan.cpp.o\u001b[0m\n",
            "[ 32%] \u001b[32mBuilding CXX object lib/SiftGPU/CMakeFiles/sift_gpu.dir/SiftGPU.cpp.o\u001b[0m\n",
            "[ 32%] \u001b[32mBuilding CXX object lib/SiftGPU/CMakeFiles/sift_gpu.dir/SiftMatch.cpp.o\u001b[0m\n",
            "[ 34%] \u001b[32mBuilding CXX object lib/SiftGPU/CMakeFiles/sift_gpu.dir/SiftPyramid.cpp.o\u001b[0m\n",
            "[ 34%] \u001b[32mBuilding CXX object lib/SiftGPU/CMakeFiles/sift_gpu.dir/CuTexImage.cpp.o\u001b[0m\n",
            "[ 34%] \u001b[32mBuilding CXX object lib/SiftGPU/CMakeFiles/sift_gpu.dir/PyramidCU.cpp.o\u001b[0m\n",
            "[ 34%] \u001b[32mBuilding CXX object lib/SiftGPU/CMakeFiles/sift_gpu.dir/SiftMatchCU.cpp.o\u001b[0m\n",
            "[ 34%] \u001b[32m\u001b[1mLinking CXX static library libsift_gpu.a\u001b[0m\n",
            "[ 34%] Built target sift_gpu\n",
            "\u001b[35m\u001b[1mScanning dependencies of target sqlite3\u001b[0m\n",
            "[ 36%] \u001b[32mBuilding C object lib/SQLite/CMakeFiles/sqlite3.dir/sqlite3.c.o\u001b[0m\n",
            "[ 36%] \u001b[32m\u001b[1mLinking C static library libsqlite3.a\u001b[0m\n",
            "[ 36%] Built target sqlite3\n",
            "\u001b[35m\u001b[1mScanning dependencies of target vlfeat\u001b[0m\n",
            "[ 36%] \u001b[32mBuilding C object lib/VLFeat/CMakeFiles/vlfeat.dir/aib.c.o\u001b[0m\n",
            "[ 36%] \u001b[32mBuilding C object lib/VLFeat/CMakeFiles/vlfeat.dir/array.c.o\u001b[0m\n",
            "[ 36%] \u001b[32mBuilding C object lib/VLFeat/CMakeFiles/vlfeat.dir/covdet.c.o\u001b[0m\n",
            "[ 36%] \u001b[32mBuilding C object lib/VLFeat/CMakeFiles/vlfeat.dir/dsift.c.o\u001b[0m\n",
            "[ 38%] \u001b[32mBuilding C object lib/VLFeat/CMakeFiles/vlfeat.dir/fisher.c.o\u001b[0m\n",
            "[ 38%] \u001b[32mBuilding C object lib/VLFeat/CMakeFiles/vlfeat.dir/generic.c.o\u001b[0m\n",
            "[ 38%] \u001b[32mBuilding C object lib/VLFeat/CMakeFiles/vlfeat.dir/getopt_long.c.o\u001b[0m\n",
            "[ 38%] \u001b[32mBuilding C object lib/VLFeat/CMakeFiles/vlfeat.dir/gmm.c.o\u001b[0m\n",
            "[ 38%] \u001b[32mBuilding C object lib/VLFeat/CMakeFiles/vlfeat.dir/hikmeans.c.o\u001b[0m\n",
            "[ 40%] \u001b[32mBuilding C object lib/VLFeat/CMakeFiles/vlfeat.dir/hog.c.o\u001b[0m\n",
            "[ 40%] \u001b[32mBuilding C object lib/VLFeat/CMakeFiles/vlfeat.dir/homkermap.c.o\u001b[0m\n",
            "[ 40%] \u001b[32mBuilding C object lib/VLFeat/CMakeFiles/vlfeat.dir/host.c.o\u001b[0m\n",
            "[ 40%] \u001b[32mBuilding C object lib/VLFeat/CMakeFiles/vlfeat.dir/ikmeans.c.o\u001b[0m\n",
            "[ 40%] \u001b[32mBuilding C object lib/VLFeat/CMakeFiles/vlfeat.dir/imopv.c.o\u001b[0m\n",
            "[ 42%] \u001b[32mBuilding C object lib/VLFeat/CMakeFiles/vlfeat.dir/kdtree.c.o\u001b[0m\n",
            "[ 42%] \u001b[32mBuilding C object lib/VLFeat/CMakeFiles/vlfeat.dir/kmeans.c.o\u001b[0m\n",
            "[ 42%] \u001b[32mBuilding C object lib/VLFeat/CMakeFiles/vlfeat.dir/lbp.c.o\u001b[0m\n",
            "[ 42%] \u001b[32mBuilding C object lib/VLFeat/CMakeFiles/vlfeat.dir/liop.c.o\u001b[0m\n",
            "[ 42%] \u001b[32mBuilding C object lib/VLFeat/CMakeFiles/vlfeat.dir/mathop.c.o\u001b[0m\n",
            "[ 44%] \u001b[32mBuilding C object lib/VLFeat/CMakeFiles/vlfeat.dir/mser.c.o\u001b[0m\n",
            "[ 44%] \u001b[32mBuilding C object lib/VLFeat/CMakeFiles/vlfeat.dir/pgm.c.o\u001b[0m\n",
            "[ 44%] \u001b[32mBuilding C object lib/VLFeat/CMakeFiles/vlfeat.dir/quickshift.c.o\u001b[0m\n",
            "[ 44%] \u001b[32mBuilding C object lib/VLFeat/CMakeFiles/vlfeat.dir/random.c.o\u001b[0m\n",
            "[ 44%] \u001b[32mBuilding C object lib/VLFeat/CMakeFiles/vlfeat.dir/rodrigues.c.o\u001b[0m\n",
            "[ 46%] \u001b[32mBuilding C object lib/VLFeat/CMakeFiles/vlfeat.dir/scalespace.c.o\u001b[0m\n",
            "[ 46%] \u001b[32mBuilding C object lib/VLFeat/CMakeFiles/vlfeat.dir/sift.c.o\u001b[0m\n",
            "[ 46%] \u001b[32mBuilding C object lib/VLFeat/CMakeFiles/vlfeat.dir/slic.c.o\u001b[0m\n",
            "[ 46%] \u001b[32mBuilding C object lib/VLFeat/CMakeFiles/vlfeat.dir/stringop.c.o\u001b[0m\n",
            "[ 46%] \u001b[32mBuilding C object lib/VLFeat/CMakeFiles/vlfeat.dir/svm.c.o\u001b[0m\n",
            "[ 48%] \u001b[32mBuilding C object lib/VLFeat/CMakeFiles/vlfeat.dir/svmdataset.c.o\u001b[0m\n",
            "[ 48%] \u001b[32mBuilding C object lib/VLFeat/CMakeFiles/vlfeat.dir/vlad.c.o\u001b[0m\n",
            "[ 48%] \u001b[32mBuilding C object lib/VLFeat/CMakeFiles/vlfeat.dir/mathop_avx.c.o\u001b[0m\n",
            "[ 48%] \u001b[32mBuilding C object lib/VLFeat/CMakeFiles/vlfeat.dir/imopv_sse2.c.o\u001b[0m\n",
            "[ 48%] \u001b[32mBuilding C object lib/VLFeat/CMakeFiles/vlfeat.dir/mathop_sse2.c.o\u001b[0m\n",
            "[ 50%] \u001b[32m\u001b[1mLinking C static library libvlfeat.a\u001b[0m\n",
            "[ 50%] Built target vlfeat\n",
            "[ 50%] \u001b[34m\u001b[1mAutomatic RCC for ui/resources.qrc\u001b[0m\n",
            "\u001b[35m\u001b[1mScanning dependencies of target colmap\u001b[0m\n",
            "[ 50%] \u001b[32mBuilding CXX object src/CMakeFiles/colmap.dir/base/camera.cc.o\u001b[0m\n",
            "[ 50%] \u001b[32mBuilding CXX object src/CMakeFiles/colmap.dir/base/camera_database.cc.o\u001b[0m\n",
            "[ 50%] \u001b[32mBuilding CXX object src/CMakeFiles/colmap.dir/base/camera_models.cc.o\u001b[0m\n",
            "[ 50%] \u001b[32mBuilding CXX object src/CMakeFiles/colmap.dir/base/camera_rig.cc.o\u001b[0m\n",
            "[ 52%] \u001b[32mBuilding CXX object src/CMakeFiles/colmap.dir/base/correspondence_graph.cc.o\u001b[0m\n",
            "[ 52%] \u001b[32mBuilding CXX object src/CMakeFiles/colmap.dir/base/database.cc.o\u001b[0m\n",
            "[ 52%] \u001b[32mBuilding CXX object src/CMakeFiles/colmap.dir/base/database_cache.cc.o\u001b[0m\n",
            "[ 52%] \u001b[32mBuilding CXX object src/CMakeFiles/colmap.dir/base/essential_matrix.cc.o\u001b[0m\n",
            "[ 52%] \u001b[32mBuilding CXX object src/CMakeFiles/colmap.dir/base/gps.cc.o\u001b[0m\n",
            "[ 54%] \u001b[32mBuilding CXX object src/CMakeFiles/colmap.dir/base/graph_cut.cc.o\u001b[0m\n",
            "[ 54%] \u001b[32mBuilding CXX object src/CMakeFiles/colmap.dir/base/homography_matrix.cc.o\u001b[0m\n",
            "[ 54%] \u001b[32mBuilding CXX object src/CMakeFiles/colmap.dir/base/image.cc.o\u001b[0m\n",
            "[ 54%] \u001b[32mBuilding CXX object src/CMakeFiles/colmap.dir/base/image_reader.cc.o\u001b[0m\n",
            "[ 54%] \u001b[32mBuilding CXX object src/CMakeFiles/colmap.dir/base/line.cc.o\u001b[0m\n",
            "[ 56%] \u001b[32mBuilding CXX object src/CMakeFiles/colmap.dir/base/point2d.cc.o\u001b[0m\n",
            "[ 56%] \u001b[32mBuilding CXX object src/CMakeFiles/colmap.dir/base/point3d.cc.o\u001b[0m\n",
            "[ 56%] \u001b[32mBuilding CXX object src/CMakeFiles/colmap.dir/base/polynomial.cc.o\u001b[0m\n",
            "[ 56%] \u001b[32mBuilding CXX object src/CMakeFiles/colmap.dir/base/pose.cc.o\u001b[0m\n",
            "[ 56%] \u001b[32mBuilding CXX object src/CMakeFiles/colmap.dir/base/projection.cc.o\u001b[0m\n",
            "[ 58%] \u001b[32mBuilding CXX object src/CMakeFiles/colmap.dir/base/reconstruction.cc.o\u001b[0m\n",
            "[ 58%] \u001b[32mBuilding CXX object src/CMakeFiles/colmap.dir/base/reconstruction_manager.cc.o\u001b[0m\n",
            "[ 58%] \u001b[32mBuilding CXX object src/CMakeFiles/colmap.dir/base/scene_clustering.cc.o\u001b[0m\n",
            "[ 58%] \u001b[32mBuilding CXX object src/CMakeFiles/colmap.dir/base/similarity_transform.cc.o\u001b[0m\n",
            "[ 58%] \u001b[32mBuilding CXX object src/CMakeFiles/colmap.dir/base/track.cc.o\u001b[0m\n",
            "[ 60%] \u001b[32mBuilding CXX object src/CMakeFiles/colmap.dir/base/triangulation.cc.o\u001b[0m\n",
            "[ 60%] \u001b[32mBuilding CXX object src/CMakeFiles/colmap.dir/base/undistortion.cc.o\u001b[0m\n",
            "[ 60%] \u001b[32mBuilding CXX object src/CMakeFiles/colmap.dir/base/visibility_pyramid.cc.o\u001b[0m\n",
            "[ 60%] \u001b[32mBuilding CXX object src/CMakeFiles/colmap.dir/base/warp.cc.o\u001b[0m\n",
            "[ 60%] \u001b[32mBuilding CXX object src/CMakeFiles/colmap.dir/controllers/automatic_reconstruction.cc.o\u001b[0m\n",
            "[ 62%] \u001b[32mBuilding CXX object src/CMakeFiles/colmap.dir/controllers/bundle_adjustment.cc.o\u001b[0m\n",
            "[ 62%] \u001b[32mBuilding CXX object src/CMakeFiles/colmap.dir/controllers/hierarchical_mapper.cc.o\u001b[0m\n",
            "[ 62%] \u001b[32mBuilding CXX object src/CMakeFiles/colmap.dir/controllers/incremental_mapper.cc.o\u001b[0m\n",
            "[ 62%] \u001b[32mBuilding CXX object src/CMakeFiles/colmap.dir/estimators/absolute_pose.cc.o\u001b[0m\n",
            "[ 62%] \u001b[32mBuilding CXX object src/CMakeFiles/colmap.dir/estimators/affine_transform.cc.o\u001b[0m\n",
            "[ 62%] \u001b[32mBuilding CXX object src/CMakeFiles/colmap.dir/estimators/coordinate_frame.cc.o\u001b[0m\n",
            "[ 64%] \u001b[32mBuilding CXX object src/CMakeFiles/colmap.dir/estimators/essential_matrix.cc.o\u001b[0m\n",
            "[ 64%] \u001b[32mBuilding CXX object src/CMakeFiles/colmap.dir/estimators/fundamental_matrix.cc.o\u001b[0m\n",
            "[ 64%] \u001b[32mBuilding CXX object src/CMakeFiles/colmap.dir/estimators/generalized_absolute_pose.cc.o\u001b[0m\n",
            "[ 64%] \u001b[32mBuilding CXX object src/CMakeFiles/colmap.dir/estimators/generalized_absolute_pose_coeffs.cc.o\u001b[0m\n",
            "[ 64%] \u001b[32mBuilding CXX object src/CMakeFiles/colmap.dir/estimators/generalized_relative_pose.cc.o\u001b[0m\n",
            "[ 66%] \u001b[32mBuilding CXX object src/CMakeFiles/colmap.dir/estimators/homography_matrix.cc.o\u001b[0m\n",
            "[ 66%] \u001b[32mBuilding CXX object src/CMakeFiles/colmap.dir/estimators/pose.cc.o\u001b[0m\n",
            "[ 66%] \u001b[32mBuilding CXX object src/CMakeFiles/colmap.dir/estimators/triangulation.cc.o\u001b[0m\n",
            "[ 66%] \u001b[32mBuilding CXX object src/CMakeFiles/colmap.dir/estimators/two_view_geometry.cc.o\u001b[0m\n",
            "[ 66%] \u001b[32mBuilding CXX object src/CMakeFiles/colmap.dir/estimators/utils.cc.o\u001b[0m\n",
            "[ 68%] \u001b[32mBuilding CXX object src/CMakeFiles/colmap.dir/feature/extraction.cc.o\u001b[0m\n",
            "[ 68%] \u001b[32mBuilding CXX object src/CMakeFiles/colmap.dir/feature/matching.cc.o\u001b[0m\n",
            "[ 68%] \u001b[32mBuilding CXX object src/CMakeFiles/colmap.dir/feature/sift.cc.o\u001b[0m\n",
            "In file included from \u001b[01m\u001b[K/usr/include/x86_64-linux-gnu/qt5/QtGui/QOpenGLContext:1:0\u001b[m\u001b[K,\n",
            "                 from \u001b[01m\u001b[K/content/ceres-solver/build/colmap/src/util/opengl_utils.h:39\u001b[m\u001b[K,\n",
            "                 from \u001b[01m\u001b[K/content/ceres-solver/build/colmap/src/feature/sift.cc:48\u001b[m\u001b[K:\n",
            "\u001b[01m\u001b[K/usr/include/x86_64-linux-gnu/qt5/QtGui/qopenglcontext.h:55:2:\u001b[m\u001b[K \u001b[01;35m\u001b[Kwarning: \u001b[m\u001b[K#warning qopenglfunctions.h is not compatible with GLEW, GLEW defines will be undefined [\u001b[01;35m\u001b[K-Wcpp\u001b[m\u001b[K]\n",
            " #\u001b[01;35m\u001b[Kwarning\u001b[m\u001b[K qopenglfunctions.h is not compatible with GLEW, GLEW defines will be undefined\n",
            "  \u001b[01;35m\u001b[K^~~~~~~\u001b[m\u001b[K\n",
            "\u001b[01m\u001b[K/usr/include/x86_64-linux-gnu/qt5/QtGui/qopenglcontext.h:56:2:\u001b[m\u001b[K \u001b[01;35m\u001b[Kwarning: \u001b[m\u001b[K#warning To use GLEW with Qt, do not include <qopengl.h> or <QOpenGLFunctions> after glew.h [\u001b[01;35m\u001b[K-Wcpp\u001b[m\u001b[K]\n",
            " #\u001b[01;35m\u001b[Kwarning\u001b[m\u001b[K To use GLEW with Qt, do not include <qopengl.h> or <QOpenGLFunctions> after glew.h\n",
            "  \u001b[01;35m\u001b[K^~~~~~~\u001b[m\u001b[K\n",
            "[ 68%] \u001b[32mBuilding CXX object src/CMakeFiles/colmap.dir/feature/types.cc.o\u001b[0m\n",
            "[ 68%] \u001b[32mBuilding CXX object src/CMakeFiles/colmap.dir/feature/utils.cc.o\u001b[0m\n",
            "[ 70%] \u001b[32mBuilding CXX object src/CMakeFiles/colmap.dir/mvs/consistency_graph.cc.o\u001b[0m\n",
            "[ 70%] \u001b[32mBuilding CXX object src/CMakeFiles/colmap.dir/mvs/depth_map.cc.o\u001b[0m\n",
            "[ 70%] \u001b[32mBuilding CXX object src/CMakeFiles/colmap.dir/mvs/fusion.cc.o\u001b[0m\n",
            "[ 70%] \u001b[32mBuilding CXX object src/CMakeFiles/colmap.dir/mvs/image.cc.o\u001b[0m\n",
            "[ 70%] \u001b[32mBuilding CXX object src/CMakeFiles/colmap.dir/mvs/meshing.cc.o\u001b[0m\n",
            "[ 72%] \u001b[32mBuilding CXX object src/CMakeFiles/colmap.dir/mvs/model.cc.o\u001b[0m\n",
            "[ 72%] \u001b[32mBuilding CXX object src/CMakeFiles/colmap.dir/mvs/normal_map.cc.o\u001b[0m\n",
            "[ 72%] \u001b[32mBuilding CXX object src/CMakeFiles/colmap.dir/mvs/workspace.cc.o\u001b[0m\n",
            "[ 72%] \u001b[32mBuilding CXX object src/CMakeFiles/colmap.dir/optim/bundle_adjustment.cc.o\u001b[0m\n",
            "[ 72%] \u001b[32mBuilding CXX object src/CMakeFiles/colmap.dir/optim/combination_sampler.cc.o\u001b[0m\n",
            "[ 74%] \u001b[32mBuilding CXX object src/CMakeFiles/colmap.dir/optim/least_absolute_deviations.cc.o\u001b[0m\n",
            "[ 74%] \u001b[32mBuilding CXX object src/CMakeFiles/colmap.dir/optim/progressive_sampler.cc.o\u001b[0m\n",
            "[ 74%] \u001b[32mBuilding CXX object src/CMakeFiles/colmap.dir/optim/random_sampler.cc.o\u001b[0m\n",
            "[ 74%] \u001b[32mBuilding CXX object src/CMakeFiles/colmap.dir/optim/sprt.cc.o\u001b[0m\n",
            "[ 74%] \u001b[32mBuilding CXX object src/CMakeFiles/colmap.dir/optim/support_measurement.cc.o\u001b[0m\n",
            "[ 74%] \u001b[32mBuilding CXX object src/CMakeFiles/colmap.dir/retrieval/geometry.cc.o\u001b[0m\n",
            "[ 76%] \u001b[32mBuilding CXX object src/CMakeFiles/colmap.dir/retrieval/vote_and_verify.cc.o\u001b[0m\n",
            "[ 76%] \u001b[32mBuilding CXX object src/CMakeFiles/colmap.dir/sfm/incremental_mapper.cc.o\u001b[0m\n",
            "[ 76%] \u001b[32mBuilding CXX object src/CMakeFiles/colmap.dir/sfm/incremental_triangulator.cc.o\u001b[0m\n",
            "[ 76%] \u001b[32mBuilding CXX object src/CMakeFiles/colmap.dir/util/bitmap.cc.o\u001b[0m\n",
            "[ 76%] \u001b[32mBuilding CXX object src/CMakeFiles/colmap.dir/util/camera_specs.cc.o\u001b[0m\n",
            "[ 78%] \u001b[32mBuilding CXX object src/CMakeFiles/colmap.dir/util/logging.cc.o\u001b[0m\n",
            "[ 78%] \u001b[32mBuilding CXX object src/CMakeFiles/colmap.dir/util/math.cc.o\u001b[0m\n",
            "[ 78%] \u001b[32mBuilding CXX object src/CMakeFiles/colmap.dir/util/misc.cc.o\u001b[0m\n",
            "[ 78%] \u001b[32mBuilding CXX object src/CMakeFiles/colmap.dir/util/opengl_utils.cc.o\u001b[0m\n",
            "[ 78%] \u001b[32mBuilding CXX object src/CMakeFiles/colmap.dir/util/option_manager.cc.o\u001b[0m\n",
            "[ 80%] \u001b[32mBuilding CXX object src/CMakeFiles/colmap.dir/util/ply.cc.o\u001b[0m\n",
            "[ 80%] \u001b[32mBuilding CXX object src/CMakeFiles/colmap.dir/util/random.cc.o\u001b[0m\n",
            "[ 80%] \u001b[32mBuilding CXX object src/CMakeFiles/colmap.dir/util/string.cc.o\u001b[0m\n",
            "[ 80%] \u001b[32mBuilding CXX object src/CMakeFiles/colmap.dir/util/threading.cc.o\u001b[0m\n",
            "[ 80%] \u001b[32mBuilding CXX object src/CMakeFiles/colmap.dir/util/timer.cc.o\u001b[0m\n",
            "[ 82%] \u001b[32mBuilding CXX object src/CMakeFiles/colmap.dir/util/version.cc.o\u001b[0m\n",
            "[ 82%] \u001b[32mBuilding CXX object src/CMakeFiles/colmap.dir/ui/automatic_reconstruction_widget.cc.o\u001b[0m\n",
            "[ 82%] \u001b[32mBuilding CXX object src/CMakeFiles/colmap.dir/ui/bundle_adjustment_widget.cc.o\u001b[0m\n",
            "[ 82%] \u001b[32mBuilding CXX object src/CMakeFiles/colmap.dir/ui/colormaps.cc.o\u001b[0m\n",
            "[ 82%] \u001b[32mBuilding CXX object src/CMakeFiles/colmap.dir/ui/database_management_widget.cc.o\u001b[0m\n",
            "[ 84%] \u001b[32mBuilding CXX object src/CMakeFiles/colmap.dir/ui/dense_reconstruction_widget.cc.o\u001b[0m\n",
            "[ 84%] \u001b[32mBuilding CXX object src/CMakeFiles/colmap.dir/ui/feature_extraction_widget.cc.o\u001b[0m\n",
            "[ 84%] \u001b[32mBuilding CXX object src/CMakeFiles/colmap.dir/ui/feature_matching_widget.cc.o\u001b[0m\n",
            "[ 84%] \u001b[32mBuilding CXX object src/CMakeFiles/colmap.dir/ui/image_viewer_widget.cc.o\u001b[0m\n",
            "[ 84%] \u001b[32mBuilding CXX object src/CMakeFiles/colmap.dir/ui/license_widget.cc.o\u001b[0m\n",
            "[ 86%] \u001b[32mBuilding CXX object src/CMakeFiles/colmap.dir/ui/line_painter.cc.o\u001b[0m\n",
            "[ 86%] \u001b[32mBuilding CXX object src/CMakeFiles/colmap.dir/ui/log_widget.cc.o\u001b[0m\n",
            "[ 86%] \u001b[32mBuilding CXX object src/CMakeFiles/colmap.dir/ui/main_window.cc.o\u001b[0m\n",
            "[ 86%] \u001b[32mBuilding CXX object src/CMakeFiles/colmap.dir/ui/match_matrix_widget.cc.o\u001b[0m\n",
            "[ 86%] \u001b[32mBuilding CXX object src/CMakeFiles/colmap.dir/ui/model_viewer_widget.cc.o\u001b[0m\n",
            "[ 86%] \u001b[32mBuilding CXX object src/CMakeFiles/colmap.dir/ui/movie_grabber_widget.cc.o\u001b[0m\n",
            "[ 88%] \u001b[32mBuilding CXX object src/CMakeFiles/colmap.dir/ui/options_widget.cc.o\u001b[0m\n",
            "[ 88%] \u001b[32mBuilding CXX object src/CMakeFiles/colmap.dir/ui/point_painter.cc.o\u001b[0m\n",
            "[ 88%] \u001b[32mBuilding CXX object src/CMakeFiles/colmap.dir/ui/point_viewer_widget.cc.o\u001b[0m\n",
            "[ 88%] \u001b[32mBuilding CXX object src/CMakeFiles/colmap.dir/ui/project_widget.cc.o\u001b[0m\n",
            "[ 88%] \u001b[32mBuilding CXX object src/CMakeFiles/colmap.dir/ui/qt_utils.cc.o\u001b[0m\n",
            "[ 90%] \u001b[32mBuilding CXX object src/CMakeFiles/colmap.dir/ui/reconstruction_manager_widget.cc.o\u001b[0m\n",
            "[ 90%] \u001b[32mBuilding CXX object src/CMakeFiles/colmap.dir/ui/reconstruction_options_widget.cc.o\u001b[0m\n",
            "[ 90%] \u001b[32mBuilding CXX object src/CMakeFiles/colmap.dir/ui/reconstruction_stats_widget.cc.o\u001b[0m\n",
            "[ 90%] \u001b[32mBuilding CXX object src/CMakeFiles/colmap.dir/ui/render_options.cc.o\u001b[0m\n",
            "[ 90%] \u001b[32mBuilding CXX object src/CMakeFiles/colmap.dir/ui/render_options_widget.cc.o\u001b[0m\n",
            "[ 92%] \u001b[32mBuilding CXX object src/CMakeFiles/colmap.dir/ui/thread_control_widget.cc.o\u001b[0m\n",
            "[ 92%] \u001b[32mBuilding CXX object src/CMakeFiles/colmap.dir/ui/triangle_painter.cc.o\u001b[0m\n",
            "[ 92%] \u001b[32mBuilding CXX object src/CMakeFiles/colmap.dir/ui/undistortion_widget.cc.o\u001b[0m\n",
            "[ 92%] \u001b[32mBuilding CXX object src/CMakeFiles/colmap.dir/colmap_autogen/UYX5XTB5RZ/qrc_resources.cpp.o\u001b[0m\n",
            "[ 92%] \u001b[32m\u001b[1mLinking CXX static library libcolmap.a\u001b[0m\n",
            "[ 92%] Built target colmap\n",
            "[ 92%] \u001b[34m\u001b[1mBuilding NVCC (Device) object src/CMakeFiles/colmap_cuda.dir/mvs/colmap_cuda_generated_patch_match_cuda.cu.o\u001b[0m\n",
            "/content/ceres-solver/build/colmap/src/mvs/patch_match_cuda.cu: In member function ‘void colmap::mvs::PatchMatchCuda::InitRefImage()’:\n",
            "/content/ceres-solver/build/colmap/src/mvs/patch_match_cuda.cu:1437:85: warning: ‘cudaError_t cudaBindTextureToArray(const texture<T, dim, readMode>&, cudaArray_const_t) [with T = unsigned char; int dim = 2; cudaTextureReadMode readMode = (cudaTextureReadMode)1; cudaError_t = cudaError; cudaArray_const_t = const cudaArray*]’ is deprecated [-Wdeprecated-declarations]\n",
            "   CUDA_SAFE_CALL(\n",
            "                                                                                     ^\n",
            "/usr/local/cuda/include/cuda_runtime.h:1537:53: note: declared here\n",
            " static __CUDA_DEPRECATED __inline__ __host__ cudaError_t cudaBindTextureToArray(\n",
            "                                                     ^~~~~~~~~~~~~~~~~~~~~~\n",
            "/content/ceres-solver/build/colmap/src/mvs/patch_match_cuda.cu: In member function ‘void colmap::mvs::PatchMatchCuda::InitSourceImages()’:\n",
            "/content/ceres-solver/build/colmap/src/mvs/patch_match_cuda.cu:1484:87: warning: ‘cudaError_t cudaBindTextureToArray(const texture<T, dim, readMode>&, cudaArray_const_t) [with T = unsigned char; int dim = 242; cudaTextureReadMode readMode = (cudaTextureReadMode)1; cudaError_t = cudaError; cudaArray_const_t = const cudaArray*]’ is deprecated [-Wdeprecated-declarations]\n",
            "     CUDA_SAFE_CALL(cudaBindTextureToArray(src_images_texture,\n",
            "                                                                                       ^\n",
            "/usr/local/cuda/include/cuda_runtime.h:1537:53: note: declared here\n",
            " static __CUDA_DEPRECATED __inline__ __host__ cudaError_t cudaBindTextureToArray(\n",
            "                                                     ^~~~~~~~~~~~~~~~~~~~~~\n",
            "/content/ceres-solver/build/colmap/src/mvs/patch_match_cuda.cu:1518:95: warning: ‘cudaError_t cudaBindTextureToArray(const texture<T, dim, readMode>&, cudaArray_const_t) [with T = float; int dim = 242; cudaTextureReadMode readMode = (cudaTextureReadMode)0; cudaError_t = cudaError; cudaArray_const_t = const cudaArray*]’ is deprecated [-Wdeprecated-declarations]\n",
            "     CUDA_SAFE_CALL(cudaBindTextureToArray(src_depth_maps_texture,\n",
            "                                                                                               ^\n",
            "/usr/local/cuda/include/cuda_runtime.h:1537:53: note: declared here\n",
            " static __CUDA_DEPRECATED __inline__ __host__ cudaError_t cudaBindTextureToArray(\n",
            "                                                     ^~~~~~~~~~~~~~~~~~~~~~\n",
            "/content/ceres-solver/build/colmap/src/mvs/patch_match_cuda.cu: In member function ‘void colmap::mvs::PatchMatchCuda::InitTransforms()’:\n",
            "/content/ceres-solver/build/colmap/src/mvs/patch_match_cuda.cu:1629:82: warning: ‘cudaError_t cudaBindTextureToArray(const texture<T, dim, readMode>&, cudaArray_const_t) [with T = float; int dim = 2; cudaTextureReadMode readMode = (cudaTextureReadMode)0; cudaError_t = cudaError; cudaArray_const_t = const cudaArray*]’ is deprecated [-Wdeprecated-declarations]\n",
            "   CUDA_SAFE_CALL(\n",
            "                                                                                  ^\n",
            "/usr/local/cuda/include/cuda_runtime.h:1537:53: note: declared here\n",
            " static __CUDA_DEPRECATED __inline__ __host__ cudaError_t cudaBindTextureToArray(\n",
            "                                                     ^~~~~~~~~~~~~~~~~~~~~~\n",
            "/content/ceres-solver/build/colmap/src/mvs/patch_match_cuda.cu: In member function ‘void colmap::mvs::PatchMatchCuda::Rotate()’:\n",
            "/content/ceres-solver/build/colmap/src/mvs/patch_match_cuda.cu:1735:49: warning: ‘cudaError_t cudaUnbindTexture(const texture<T, dim, readMode>&) [with T = unsigned char; int dim = 2; cudaTextureReadMode readMode = (cudaTextureReadMode)1; cudaError_t = cudaError]’ is deprecated [-Wdeprecated-declarations]\n",
            "   CUDA_SAFE_CALL(cudaUnbindTexture(ref_image_texture));\n",
            "                                                 ^\n",
            "/usr/local/cuda/include/cuda_runtime.h:1661:53: note: declared here\n",
            " static __CUDA_DEPRECATED __inline__ __host__ cudaError_t cudaUnbindTexture(\n",
            "                                                     ^~~~~~~~~~~~~~~~~\n",
            "/content/ceres-solver/build/colmap/src/mvs/patch_match_cuda.cu:1736:85: warning: ‘cudaError_t cudaBindTextureToArray(const texture<T, dim, readMode>&, cudaArray_const_t) [with T = unsigned char; int dim = 2; cudaTextureReadMode readMode = (cudaTextureReadMode)1; cudaError_t = cudaError; cudaArray_const_t = const cudaArray*]’ is deprecated [-Wdeprecated-declarations]\n",
            "   CUDA_SAFE_CALL(\n",
            "                                                                                     ^\n",
            "/usr/local/cuda/include/cuda_runtime.h:1537:53: note: declared here\n",
            " static __CUDA_DEPRECATED __inline__ __host__ cudaError_t cudaBindTextureToArray(\n",
            "                                                     ^~~~~~~~~~~~~~~~~~~~~~\n",
            "/content/ceres-solver/build/colmap/src/mvs/patch_match_cuda.cu:1755:45: warning: ‘cudaError_t cudaUnbindTexture(const texture<T, dim, readMode>&) [with T = float; int dim = 2; cudaTextureReadMode readMode = (cudaTextureReadMode)0; cudaError_t = cudaError]’ is deprecated [-Wdeprecated-declarations]\n",
            "   CUDA_SAFE_CALL(cudaUnbindTexture(poses_texture));\n",
            "                                             ^\n",
            "/usr/local/cuda/include/cuda_runtime.h:1661:53: note: declared here\n",
            " static __CUDA_DEPRECATED __inline__ __host__ cudaError_t cudaUnbindTexture(\n",
            "                                                     ^~~~~~~~~~~~~~~~~\n",
            "/content/ceres-solver/build/colmap/src/mvs/patch_match_cuda.cu:1756:101: warning: ‘cudaError_t cudaBindTextureToArray(const texture<T, dim, readMode>&, cudaArray_const_t) [with T = float; int dim = 2; cudaTextureReadMode readMode = (cudaTextureReadMode)0; cudaError_t = cudaError; cudaArray_const_t = const cudaArray*]’ is deprecated [-Wdeprecated-declarations]\n",
            "   CUDA_SAFE_CALL(cudaBindTextureToArray(\n",
            "                                                                                                     ^\n",
            "/usr/local/cuda/include/cuda_runtime.h:1537:53: note: declared here\n",
            " static __CUDA_DEPRECATED __inline__ __host__ cudaError_t cudaBindTextureToArray(\n",
            "                                                     ^~~~~~~~~~~~~~~~~~~~~~\n",
            "/usr/local/cuda/include/cuda_runtime.h: In instantiation of ‘cudaError_t cudaBindTextureToArray(const texture<T, dim, readMode>&, cudaArray_const_t) [with T = unsigned char; int dim = 2; cudaTextureReadMode readMode = (cudaTextureReadMode)1; cudaError_t = cudaError; cudaArray_const_t = const cudaArray*]’:\n",
            "/content/ceres-solver/build/colmap/src/mvs/patch_match_cuda.cu:1437:85:   required from here\n",
            "/usr/local/cuda/include/cuda_runtime.h:1545:55: warning: ‘cudaError_t cudaBindTextureToArray(const texture<T, dim, readMode>&, cudaArray_const_t, const cudaChannelFormatDesc&) [with T = unsigned char; int dim = 2; cudaTextureReadMode readMode = (cudaTextureReadMode)1; cudaError_t = cudaError; cudaArray_const_t = const cudaArray*]’ is deprecated [-Wdeprecated-declarations]\n",
            "   return err == cudaSuccess ? cudaBindTextureToArray(tex, array, desc) : err;\n",
            "                                 ~~~~~~~~~~~~~~~~~~~~~~^~~~~~~~~~~~~~~~~~\n",
            "/usr/local/cuda/include/cuda_runtime.h:1498:53: note: declared here\n",
            " static __CUDA_DEPRECATED __inline__ __host__ cudaError_t cudaBindTextureToArray(\n",
            "                                                     ^~~~~~~~~~~~~~~~~~~~~~\n",
            "/usr/local/cuda/include/cuda_runtime.h: In instantiation of ‘cudaError_t cudaBindTextureToArray(const texture<T, dim, readMode>&, cudaArray_const_t) [with T = unsigned char; int dim = 242; cudaTextureReadMode readMode = (cudaTextureReadMode)1; cudaError_t = cudaError; cudaArray_const_t = const cudaArray*]’:\n",
            "/content/ceres-solver/build/colmap/src/mvs/patch_match_cuda.cu:1484:87:   required from here\n",
            "/usr/local/cuda/include/cuda_runtime.h:1545:55: warning: ‘cudaError_t cudaBindTextureToArray(const texture<T, dim, readMode>&, cudaArray_const_t, const cudaChannelFormatDesc&) [with T = unsigned char; int dim = 242; cudaTextureReadMode readMode = (cudaTextureReadMode)1; cudaError_t = cudaError; cudaArray_const_t = const cudaArray*]’ is deprecated [-Wdeprecated-declarations]\n",
            "   return err == cudaSuccess ? cudaBindTextureToArray(tex, array, desc) : err;\n",
            "                                 ~~~~~~~~~~~~~~~~~~~~~~^~~~~~~~~~~~~~~~~~\n",
            "/usr/local/cuda/include/cuda_runtime.h:1498:53: note: declared here\n",
            " static __CUDA_DEPRECATED __inline__ __host__ cudaError_t cudaBindTextureToArray(\n",
            "                                                     ^~~~~~~~~~~~~~~~~~~~~~\n",
            "/usr/local/cuda/include/cuda_runtime.h: In instantiation of ‘cudaError_t cudaBindTextureToArray(const texture<T, dim, readMode>&, cudaArray_const_t) [with T = float; int dim = 242; cudaTextureReadMode readMode = (cudaTextureReadMode)0; cudaError_t = cudaError; cudaArray_const_t = const cudaArray*]’:\n",
            "/content/ceres-solver/build/colmap/src/mvs/patch_match_cuda.cu:1518:95:   required from here\n",
            "/usr/local/cuda/include/cuda_runtime.h:1545:55: warning: ‘cudaError_t cudaBindTextureToArray(const texture<T, dim, readMode>&, cudaArray_const_t, const cudaChannelFormatDesc&) [with T = float; int dim = 242; cudaTextureReadMode readMode = (cudaTextureReadMode)0; cudaError_t = cudaError; cudaArray_const_t = const cudaArray*]’ is deprecated [-Wdeprecated-declarations]\n",
            "   return err == cudaSuccess ? cudaBindTextureToArray(tex, array, desc) : err;\n",
            "                                 ~~~~~~~~~~~~~~~~~~~~~~^~~~~~~~~~~~~~~~~~\n",
            "/usr/local/cuda/include/cuda_runtime.h:1498:53: note: declared here\n",
            " static __CUDA_DEPRECATED __inline__ __host__ cudaError_t cudaBindTextureToArray(\n",
            "                                                     ^~~~~~~~~~~~~~~~~~~~~~\n",
            "/usr/local/cuda/include/cuda_runtime.h: In instantiation of ‘cudaError_t cudaBindTextureToArray(const texture<T, dim, readMode>&, cudaArray_const_t) [with T = float; int dim = 2; cudaTextureReadMode readMode = (cudaTextureReadMode)0; cudaError_t = cudaError; cudaArray_const_t = const cudaArray*]’:\n",
            "/content/ceres-solver/build/colmap/src/mvs/patch_match_cuda.cu:1629:82:   required from here\n",
            "/usr/local/cuda/include/cuda_runtime.h:1545:55: warning: ‘cudaError_t cudaBindTextureToArray(const texture<T, dim, readMode>&, cudaArray_const_t, const cudaChannelFormatDesc&) [with T = float; int dim = 2; cudaTextureReadMode readMode = (cudaTextureReadMode)0; cudaError_t = cudaError; cudaArray_const_t = const cudaArray*]’ is deprecated [-Wdeprecated-declarations]\n",
            "   return err == cudaSuccess ? cudaBindTextureToArray(tex, array, desc) : err;\n",
            "                                 ~~~~~~~~~~~~~~~~~~~~~~^~~~~~~~~~~~~~~~~~\n",
            "/usr/local/cuda/include/cuda_runtime.h:1498:53: note: declared here\n",
            " static __CUDA_DEPRECATED __inline__ __host__ cudaError_t cudaBindTextureToArray(\n",
            "                                                     ^~~~~~~~~~~~~~~~~~~~~~\n",
            "/usr/local/cuda/include/cuda_runtime.h: In instantiation of ‘cudaError_t cudaUnbindTexture(const texture<T, dim, readMode>&) [with T = unsigned char; int dim = 2; cudaTextureReadMode readMode = (cudaTextureReadMode)1; cudaError_t = cudaError]’:\n",
            "/content/ceres-solver/build/colmap/src/mvs/patch_match_cuda.cu:1735:49:   required from here\n",
            "/usr/local/cuda/include/cuda_runtime.h:1665:27: warning: ‘cudaError_t cudaUnbindTexture(const textureReference*)’ is deprecated [-Wdeprecated-declarations]\n",
            "   return ::cudaUnbindTexture(&tex);\n",
            "        ~~~~~~~~~~~~~~~~~~~^~~~~~\n",
            "/usr/local/cuda/include/cuda_runtime_api.h:8060:46: note: declared here\n",
            " extern __CUDA_DEPRECATED __host__ cudaError_t CUDARTAPI cudaUnbindTexture(const struct textureReference *texref);\n",
            "                                              ^~~~~~~~~~~~~~~~~\n",
            "/usr/local/cuda/include/cuda_runtime.h: In instantiation of ‘cudaError_t cudaUnbindTexture(const texture<T, dim, readMode>&) [with T = float; int dim = 2; cudaTextureReadMode readMode = (cudaTextureReadMode)0; cudaError_t = cudaError]’:\n",
            "/content/ceres-solver/build/colmap/src/mvs/patch_match_cuda.cu:1755:45:   required from here\n",
            "/usr/local/cuda/include/cuda_runtime.h:1665:27: warning: ‘cudaError_t cudaUnbindTexture(const textureReference*)’ is deprecated [-Wdeprecated-declarations]\n",
            "   return ::cudaUnbindTexture(&tex);\n",
            "        ~~~~~~~~~~~~~~~~~~~^~~~~~\n",
            "/usr/local/cuda/include/cuda_runtime_api.h:8060:46: note: declared here\n",
            " extern __CUDA_DEPRECATED __host__ cudaError_t CUDARTAPI cudaUnbindTexture(const struct textureReference *texref);\n",
            "                                              ^~~~~~~~~~~~~~~~~\n",
            "/usr/local/cuda/include/cuda_runtime.h: In instantiation of ‘cudaError_t cudaBindTextureToArray(const texture<T, dim, readMode>&, cudaArray_const_t, const cudaChannelFormatDesc&) [with T = unsigned char; int dim = 2; cudaTextureReadMode readMode = (cudaTextureReadMode)1; cudaError_t = cudaError; cudaArray_const_t = const cudaArray*]’:\n",
            "/usr/local/cuda/include/cuda_runtime.h:1545:55:   required from ‘cudaError_t cudaBindTextureToArray(const texture<T, dim, readMode>&, cudaArray_const_t) [with T = unsigned char; int dim = 2; cudaTextureReadMode readMode = (cudaTextureReadMode)1; cudaError_t = cudaError; cudaArray_const_t = const cudaArray*]’\n",
            "/content/ceres-solver/build/colmap/src/mvs/patch_match_cuda.cu:1437:85:   required from here\n",
            "/usr/local/cuda/include/cuda_runtime.h:1504:32: warning: ‘cudaError_t cudaBindTextureToArray(const textureReference*, cudaArray_const_t, const cudaChannelFormatDesc*)’ is deprecated [-Wdeprecated-declarations]\n",
            "   return ::cudaBindTextureToArray(&tex, array, &desc);\n",
            "        ~~~~~~~~~~~~~~~~~~~~~~~~^~~~~~~~~~~~~~~~~~~~\n",
            "/usr/local/cuda/include/cuda_runtime_api.h:7994:46: note: declared here\n",
            " extern __CUDA_DEPRECATED __host__ cudaError_t CUDARTAPI cudaBindTextureToArray(const struct textureReference *texref, cudaArray_const_t array, const struct cudaChannelFormatDesc *desc);\n",
            "                                              ^~~~~~~~~~~~~~~~~~~~~~\n",
            "/usr/local/cuda/include/cuda_runtime.h: In instantiation of ‘cudaError_t cudaBindTextureToArray(const texture<T, dim, readMode>&, cudaArray_const_t, const cudaChannelFormatDesc&) [with T = unsigned char; int dim = 242; cudaTextureReadMode readMode = (cudaTextureReadMode)1; cudaError_t = cudaError; cudaArray_const_t = const cudaArray*]’:\n",
            "/usr/local/cuda/include/cuda_runtime.h:1545:55:   required from ‘cudaError_t cudaBindTextureToArray(const texture<T, dim, readMode>&, cudaArray_const_t) [with T = unsigned char; int dim = 242; cudaTextureReadMode readMode = (cudaTextureReadMode)1; cudaError_t = cudaError; cudaArray_const_t = const cudaArray*]’\n",
            "/content/ceres-solver/build/colmap/src/mvs/patch_match_cuda.cu:1484:87:   required from here\n",
            "/usr/local/cuda/include/cuda_runtime.h:1504:32: warning: ‘cudaError_t cudaBindTextureToArray(const textureReference*, cudaArray_const_t, const cudaChannelFormatDesc*)’ is deprecated [-Wdeprecated-declarations]\n",
            "   return ::cudaBindTextureToArray(&tex, array, &desc);\n",
            "        ~~~~~~~~~~~~~~~~~~~~~~~~^~~~~~~~~~~~~~~~~~~~\n",
            "/usr/local/cuda/include/cuda_runtime_api.h:7994:46: note: declared here\n",
            " extern __CUDA_DEPRECATED __host__ cudaError_t CUDARTAPI cudaBindTextureToArray(const struct textureReference *texref, cudaArray_const_t array, const struct cudaChannelFormatDesc *desc);\n",
            "                                              ^~~~~~~~~~~~~~~~~~~~~~\n",
            "/usr/local/cuda/include/cuda_runtime.h: In instantiation of ‘cudaError_t cudaBindTextureToArray(const texture<T, dim, readMode>&, cudaArray_const_t, const cudaChannelFormatDesc&) [with T = float; int dim = 242; cudaTextureReadMode readMode = (cudaTextureReadMode)0; cudaError_t = cudaError; cudaArray_const_t = const cudaArray*]’:\n",
            "/usr/local/cuda/include/cuda_runtime.h:1545:55:   required from ‘cudaError_t cudaBindTextureToArray(const texture<T, dim, readMode>&, cudaArray_const_t) [with T = float; int dim = 242; cudaTextureReadMode readMode = (cudaTextureReadMode)0; cudaError_t = cudaError; cudaArray_const_t = const cudaArray*]’\n",
            "/content/ceres-solver/build/colmap/src/mvs/patch_match_cuda.cu:1518:95:   required from here\n",
            "/usr/local/cuda/include/cuda_runtime.h:1504:32: warning: ‘cudaError_t cudaBindTextureToArray(const textureReference*, cudaArray_const_t, const cudaChannelFormatDesc*)’ is deprecated [-Wdeprecated-declarations]\n",
            "   return ::cudaBindTextureToArray(&tex, array, &desc);\n",
            "        ~~~~~~~~~~~~~~~~~~~~~~~~^~~~~~~~~~~~~~~~~~~~\n",
            "/usr/local/cuda/include/cuda_runtime_api.h:7994:46: note: declared here\n",
            " extern __CUDA_DEPRECATED __host__ cudaError_t CUDARTAPI cudaBindTextureToArray(const struct textureReference *texref, cudaArray_const_t array, const struct cudaChannelFormatDesc *desc);\n",
            "                                              ^~~~~~~~~~~~~~~~~~~~~~\n",
            "/usr/local/cuda/include/cuda_runtime.h: In instantiation of ‘cudaError_t cudaBindTextureToArray(const texture<T, dim, readMode>&, cudaArray_const_t, const cudaChannelFormatDesc&) [with T = float; int dim = 2; cudaTextureReadMode readMode = (cudaTextureReadMode)0; cudaError_t = cudaError; cudaArray_const_t = const cudaArray*]’:\n",
            "/usr/local/cuda/include/cuda_runtime.h:1545:55:   required from ‘cudaError_t cudaBindTextureToArray(const texture<T, dim, readMode>&, cudaArray_const_t) [with T = float; int dim = 2; cudaTextureReadMode readMode = (cudaTextureReadMode)0; cudaError_t = cudaError; cudaArray_const_t = const cudaArray*]’\n",
            "/content/ceres-solver/build/colmap/src/mvs/patch_match_cuda.cu:1629:82:   required from here\n",
            "/usr/local/cuda/include/cuda_runtime.h:1504:32: warning: ‘cudaError_t cudaBindTextureToArray(const textureReference*, cudaArray_const_t, const cudaChannelFormatDesc*)’ is deprecated [-Wdeprecated-declarations]\n",
            "   return ::cudaBindTextureToArray(&tex, array, &desc);\n",
            "        ~~~~~~~~~~~~~~~~~~~~~~~~^~~~~~~~~~~~~~~~~~~~\n",
            "/usr/local/cuda/include/cuda_runtime_api.h:7994:46: note: declared here\n",
            " extern __CUDA_DEPRECATED __host__ cudaError_t CUDARTAPI cudaBindTextureToArray(const struct textureReference *texref, cudaArray_const_t array, const struct cudaChannelFormatDesc *desc);\n",
            "                                              ^~~~~~~~~~~~~~~~~~~~~~\n",
            "[ 94%] \u001b[34m\u001b[1mBuilding NVCC (Device) object src/CMakeFiles/colmap_cuda.dir/mvs/colmap_cuda_generated_gpu_mat_prng.cu.o\u001b[0m\n",
            "[ 94%] \u001b[34m\u001b[1mBuilding NVCC (Device) object src/CMakeFiles/colmap_cuda.dir/mvs/colmap_cuda_generated_gpu_mat_ref_image.cu.o\u001b[0m\n",
            "/content/ceres-solver/build/colmap/src/mvs/gpu_mat_ref_image.cu: In member function ‘void colmap::mvs::GpuMatRefImage::Filter(const uint8_t*, size_t, size_t, float, float)’:\n",
            "/content/ceres-solver/build/colmap/src/mvs/gpu_mat_ref_image.cu:110:72: warning: ‘cudaError_t cudaBindTextureToArray(const texture<T, dim, readMode>&, cudaArray_const_t) [with T = unsigned char; int dim = 2; cudaTextureReadMode readMode = (cudaTextureReadMode)1; cudaError_t = cudaError; cudaArray_const_t = const cudaArray*]’ is deprecated [-Wdeprecated-declarations]\n",
            "   CUDA_SAFE_CALL(cudaBindTextureToArray(image_texture, image_array.GetPtr()));\n",
            "                                                                        ^\n",
            "/usr/local/cuda/include/cuda_runtime.h:1537:53: note: declared here\n",
            " static __CUDA_DEPRECATED __inline__ __host__ cudaError_t cudaBindTextureToArray(\n",
            "                                                     ^~~~~~~~~~~~~~~~~~~~~~\n",
            "/content/ceres-solver/build/colmap/src/mvs/gpu_mat_ref_image.cu:115:45: warning: ‘cudaError_t cudaUnbindTexture(const texture<T, dim, readMode>&) [with T = unsigned char; int dim = 2; cudaTextureReadMode readMode = (cudaTextureReadMode)1; cudaError_t = cudaError]’ is deprecated [-Wdeprecated-declarations]\n",
            "   CUDA_SAFE_CALL(cudaUnbindTexture(image_texture));\n",
            "                                             ^\n",
            "/usr/local/cuda/include/cuda_runtime.h:1661:53: note: declared here\n",
            " static __CUDA_DEPRECATED __inline__ __host__ cudaError_t cudaUnbindTexture(\n",
            "                                                     ^~~~~~~~~~~~~~~~~\n",
            "/usr/local/cuda/include/cuda_runtime.h: In instantiation of ‘cudaError_t cudaBindTextureToArray(const texture<T, dim, readMode>&, cudaArray_const_t) [with T = unsigned char; int dim = 2; cudaTextureReadMode readMode = (cudaTextureReadMode)1; cudaError_t = cudaError; cudaArray_const_t = const cudaArray*]’:\n",
            "/content/ceres-solver/build/colmap/src/mvs/gpu_mat_ref_image.cu:110:72:   required from here\n",
            "/usr/local/cuda/include/cuda_runtime.h:1545:55: warning: ‘cudaError_t cudaBindTextureToArray(const texture<T, dim, readMode>&, cudaArray_const_t, const cudaChannelFormatDesc&) [with T = unsigned char; int dim = 2; cudaTextureReadMode readMode = (cudaTextureReadMode)1; cudaError_t = cudaError; cudaArray_const_t = const cudaArray*]’ is deprecated [-Wdeprecated-declarations]\n",
            "   return err == cudaSuccess ? cudaBindTextureToArray(tex, array, desc) : err;\n",
            "                                 ~~~~~~~~~~~~~~~~~~~~~~^~~~~~~~~~~~~~~~~~\n",
            "/usr/local/cuda/include/cuda_runtime.h:1498:53: note: declared here\n",
            " static __CUDA_DEPRECATED __inline__ __host__ cudaError_t cudaBindTextureToArray(\n",
            "                                                     ^~~~~~~~~~~~~~~~~~~~~~\n",
            "/usr/local/cuda/include/cuda_runtime.h: In instantiation of ‘cudaError_t cudaUnbindTexture(const texture<T, dim, readMode>&) [with T = unsigned char; int dim = 2; cudaTextureReadMode readMode = (cudaTextureReadMode)1; cudaError_t = cudaError]’:\n",
            "/content/ceres-solver/build/colmap/src/mvs/gpu_mat_ref_image.cu:115:45:   required from here\n",
            "/usr/local/cuda/include/cuda_runtime.h:1665:27: warning: ‘cudaError_t cudaUnbindTexture(const textureReference*)’ is deprecated [-Wdeprecated-declarations]\n",
            "   return ::cudaUnbindTexture(&tex);\n",
            "        ~~~~~~~~~~~~~~~~~~~^~~~~~\n",
            "/usr/local/cuda/include/cuda_runtime_api.h:8060:46: note: declared here\n",
            " extern __CUDA_DEPRECATED __host__ cudaError_t CUDARTAPI cudaUnbindTexture(const struct textureReference *texref);\n",
            "                                              ^~~~~~~~~~~~~~~~~\n",
            "/usr/local/cuda/include/cuda_runtime.h: In instantiation of ‘cudaError_t cudaBindTextureToArray(const texture<T, dim, readMode>&, cudaArray_const_t, const cudaChannelFormatDesc&) [with T = unsigned char; int dim = 2; cudaTextureReadMode readMode = (cudaTextureReadMode)1; cudaError_t = cudaError; cudaArray_const_t = const cudaArray*]’:\n",
            "/usr/local/cuda/include/cuda_runtime.h:1545:55:   required from ‘cudaError_t cudaBindTextureToArray(const texture<T, dim, readMode>&, cudaArray_const_t) [with T = unsigned char; int dim = 2; cudaTextureReadMode readMode = (cudaTextureReadMode)1; cudaError_t = cudaError; cudaArray_const_t = const cudaArray*]’\n",
            "/content/ceres-solver/build/colmap/src/mvs/gpu_mat_ref_image.cu:110:72:   required from here\n",
            "/usr/local/cuda/include/cuda_runtime.h:1504:32: warning: ‘cudaError_t cudaBindTextureToArray(const textureReference*, cudaArray_const_t, const cudaChannelFormatDesc*)’ is deprecated [-Wdeprecated-declarations]\n",
            "   return ::cudaBindTextureToArray(&tex, array, &desc);\n",
            "        ~~~~~~~~~~~~~~~~~~~~~~~~^~~~~~~~~~~~~~~~~~~~\n",
            "/usr/local/cuda/include/cuda_runtime_api.h:7994:46: note: declared here\n",
            " extern __CUDA_DEPRECATED __host__ cudaError_t CUDARTAPI cudaBindTextureToArray(const struct textureReference *texref, cudaArray_const_t array, const struct cudaChannelFormatDesc *desc);\n",
            "                                              ^~~~~~~~~~~~~~~~~~~~~~\n",
            "\u001b[35m\u001b[1mScanning dependencies of target colmap_cuda\u001b[0m\n",
            "[ 94%] \u001b[32mBuilding CXX object src/CMakeFiles/colmap_cuda.dir/mvs/patch_match.cc.o\u001b[0m\n",
            "[ 94%] \u001b[32mBuilding CXX object src/CMakeFiles/colmap_cuda.dir/util/cuda.cc.o\u001b[0m\n",
            "[ 96%] \u001b[32mBuilding CXX object src/CMakeFiles/colmap_cuda.dir/util/cudacc.cc.o\u001b[0m\n",
            "[ 96%] \u001b[32m\u001b[1mLinking CXX static library libcolmap_cuda.a\u001b[0m\n",
            "[ 96%] Built target colmap_cuda\n",
            "\u001b[35m\u001b[1mScanning dependencies of target colmap_exe\u001b[0m\n",
            "[ 96%] \u001b[32mBuilding CXX object src/exe/CMakeFiles/colmap_exe.dir/colmap.cc.o\u001b[0m\n",
            "[ 96%] \u001b[32mBuilding CXX object src/exe/CMakeFiles/colmap_exe.dir/database.cc.o\u001b[0m\n",
            "[ 96%] \u001b[32mBuilding CXX object src/exe/CMakeFiles/colmap_exe.dir/feature.cc.o\u001b[0m\n",
            "[ 98%] \u001b[32mBuilding CXX object src/exe/CMakeFiles/colmap_exe.dir/gui.cc.o\u001b[0m\n",
            "[ 98%] \u001b[32mBuilding CXX object src/exe/CMakeFiles/colmap_exe.dir/image.cc.o\u001b[0m\n",
            "[ 98%] \u001b[32mBuilding CXX object src/exe/CMakeFiles/colmap_exe.dir/model.cc.o\u001b[0m\n",
            "[ 98%] \u001b[32mBuilding CXX object src/exe/CMakeFiles/colmap_exe.dir/mvs.cc.o\u001b[0m\n",
            "[ 98%] \u001b[32mBuilding CXX object src/exe/CMakeFiles/colmap_exe.dir/sfm.cc.o\u001b[0m\n",
            "[100%] \u001b[32mBuilding CXX object src/exe/CMakeFiles/colmap_exe.dir/vocab_tree.cc.o\u001b[0m\n",
            "[100%] \u001b[32m\u001b[1mLinking CXX executable colmap\u001b[0m\n",
            "/usr/lib/gcc/x86_64-linux-gnu/7/../../../x86_64-linux-gnu/libOpenGL.so: undefined reference to `_glapi_tls_Current'\n",
            "collect2: error: ld returned 1 exit status\n",
            "src/exe/CMakeFiles/colmap_exe.dir/build.make:247: recipe for target 'src/exe/colmap' failed\n",
            "make[2]: *** [src/exe/colmap] Error 1\n",
            "CMakeFiles/Makefile2:831: recipe for target 'src/exe/CMakeFiles/colmap_exe.dir/all' failed\n",
            "make[1]: *** [src/exe/CMakeFiles/colmap_exe.dir/all] Error 2\n",
            "Makefile:129: recipe for target 'all' failed\n",
            "make: *** [all] Error 2\n",
            "-- Found required Ceres dependency: Eigen version 3.3.4 in /usr/lib/cmake/eigen3\n",
            "-- Found required Ceres dependency: glog\n",
            "-- Found required Ceres dependency: gflags\n",
            "-- Found Ceres version: 2.0.0 installed in: /usr/local with components: [EigenSparse, SparseLinearAlgebraLibrary, LAPACK, SuiteSparse, CXSparse, SchurSpecializations, Multithreading]\n",
            "-- Boost version: 1.65.1\n",
            "-- Found the following Boost libraries:\n",
            "--   program_options\n",
            "--   filesystem\n",
            "--   graph\n",
            "--   system\n",
            "--   unit_test_framework\n",
            "-- Found Eigen\n",
            "--   Includes : /usr/include/eigen3\n",
            "-- Found FreeImage\n",
            "--   Includes : /usr/include\n",
            "--   Libraries : /usr/lib/x86_64-linux-gnu/libfreeimage.so\n",
            "-- Found Glog\n",
            "--   Includes : /usr/include\n",
            "--   Libraries : /usr/lib/x86_64-linux-gnu/libglog.so\n",
            "-- Found Glew\n",
            "--   Includes : /usr/include\n",
            "--   Libraries : /usr/lib/x86_64-linux-gnu/libGLEW.so\n",
            "-- Found Qt\n",
            "--   Module : /usr/lib/x86_64-linux-gnu/cmake/Qt5Core\n",
            "--   Module : /usr/lib/x86_64-linux-gnu/cmake/Qt5OpenGL\n",
            "--   Module : /usr/lib/x86_64-linux-gnu/cmake/Qt5Widgets\n",
            "-- Found CGAL\n",
            "--   Includes : /usr//include\n",
            "--   Libraries : /usr/lib/x86_64-linux-gnu/libCGAL.so.13.0.1\n",
            "-- Build type not specified, using Release\n",
            "-- Enabling SIMD support\n",
            "-- Enabling OpenMP support\n",
            "-- Disabling interprocedural optimization\n",
            "-- Autodetected CUDA architecture(s):  3.7\n",
            "-- Enabling CUDA support (version: 11.1, archs: sm_37)\n",
            "-- Enabling GUI support\n",
            "-- Enabling OpenGL support\n",
            "-- Disabling profiling support\n",
            "-- Enabling CGAL support\n",
            "-- Configuring done\n",
            "-- Generating done\n",
            "-- Build files have been written to: /content/ceres-solver/build/colmap/build\n",
            "[  0%] Built target flann\n",
            "[ 22%] Built target graclus\n",
            "[ 24%] Built target lsd\n",
            "[ 24%] \u001b[32m\u001b[1mLinking CXX static library libpba.a\u001b[0m\n",
            "[ 26%] Built target pba\n",
            "[ 30%] Built target poisson_recon\n",
            "[ 30%] \u001b[32m\u001b[1mLinking CXX static library libsift_gpu.a\u001b[0m\n",
            "[ 34%] Built target sift_gpu\n",
            "[ 36%] Built target sqlite3\n",
            "[ 50%] Built target vlfeat\n",
            "[ 92%] Built target colmap\n",
            "[ 92%] \u001b[32m\u001b[1mLinking CXX static library libcolmap_cuda.a\u001b[0m\n",
            "[ 96%] Built target colmap_cuda\n",
            "[ 96%] \u001b[32m\u001b[1mLinking CXX executable colmap\u001b[0m\n",
            "[100%] Built target colmap_exe\n",
            "\u001b[36mInstall the project...\u001b[0m\n",
            "-- Install configuration: \"Release\"\n",
            "-- Installing: /usr/local/include/colmap\n",
            "-- Installing: /usr/local/include/colmap/ui\n",
            "-- Installing: /usr/local/include/colmap/ui/automatic_reconstruction_widget.h\n",
            "-- Installing: /usr/local/include/colmap/ui/line_painter.h\n",
            "-- Installing: /usr/local/include/colmap/ui/match_matrix_widget.h\n",
            "-- Installing: /usr/local/include/colmap/ui/dense_reconstruction_widget.h\n",
            "-- Installing: /usr/local/include/colmap/ui/undistortion_widget.h\n",
            "-- Installing: /usr/local/include/colmap/ui/bundle_adjustment_widget.h\n",
            "-- Installing: /usr/local/include/colmap/ui/point_painter.h\n",
            "-- Installing: /usr/local/include/colmap/ui/log_widget.h\n",
            "-- Installing: /usr/local/include/colmap/ui/thread_control_widget.h\n",
            "-- Installing: /usr/local/include/colmap/ui/feature_matching_widget.h\n",
            "-- Installing: /usr/local/include/colmap/ui/main_window.h\n",
            "-- Installing: /usr/local/include/colmap/ui/options_widget.h\n",
            "-- Installing: /usr/local/include/colmap/ui/reconstruction_manager_widget.h\n",
            "-- Installing: /usr/local/include/colmap/ui/shaders\n",
            "-- Installing: /usr/local/include/colmap/ui/movie_grabber_widget.h\n",
            "-- Installing: /usr/local/include/colmap/ui/render_options.h\n",
            "-- Installing: /usr/local/include/colmap/ui/image_viewer_widget.h\n",
            "-- Installing: /usr/local/include/colmap/ui/colormaps.h\n",
            "-- Installing: /usr/local/include/colmap/ui/media\n",
            "-- Installing: /usr/local/include/colmap/ui/render_options_widget.h\n",
            "-- Installing: /usr/local/include/colmap/ui/license_widget.h\n",
            "-- Installing: /usr/local/include/colmap/ui/point_viewer_widget.h\n",
            "-- Installing: /usr/local/include/colmap/ui/model_viewer_widget.h\n",
            "-- Installing: /usr/local/include/colmap/ui/database_management_widget.h\n",
            "-- Installing: /usr/local/include/colmap/ui/qt_utils.h\n",
            "-- Installing: /usr/local/include/colmap/ui/triangle_painter.h\n",
            "-- Installing: /usr/local/include/colmap/ui/reconstruction_options_widget.h\n",
            "-- Installing: /usr/local/include/colmap/ui/feature_extraction_widget.h\n",
            "-- Installing: /usr/local/include/colmap/ui/reconstruction_stats_widget.h\n",
            "-- Installing: /usr/local/include/colmap/ui/project_widget.h\n",
            "-- Installing: /usr/local/include/colmap/mvs\n",
            "-- Installing: /usr/local/include/colmap/mvs/patch_match_cuda.h\n",
            "-- Installing: /usr/local/include/colmap/mvs/consistency_graph.h\n",
            "-- Installing: /usr/local/include/colmap/mvs/cuda_transpose.h\n",
            "-- Installing: /usr/local/include/colmap/mvs/image.h\n",
            "-- Installing: /usr/local/include/colmap/mvs/mat.h\n",
            "-- Installing: /usr/local/include/colmap/mvs/cuda_flip.h\n",
            "-- Installing: /usr/local/include/colmap/mvs/workspace.h\n",
            "-- Installing: /usr/local/include/colmap/mvs/fusion.h\n",
            "-- Installing: /usr/local/include/colmap/mvs/model.h\n",
            "-- Installing: /usr/local/include/colmap/mvs/gpu_mat.h\n",
            "-- Installing: /usr/local/include/colmap/mvs/cuda_rotate.h\n",
            "-- Installing: /usr/local/include/colmap/mvs/depth_map.h\n",
            "-- Installing: /usr/local/include/colmap/mvs/patch_match.h\n",
            "-- Installing: /usr/local/include/colmap/mvs/gpu_mat_prng.h\n",
            "-- Installing: /usr/local/include/colmap/mvs/normal_map.h\n",
            "-- Installing: /usr/local/include/colmap/mvs/gpu_mat_ref_image.h\n",
            "-- Installing: /usr/local/include/colmap/mvs/meshing.h\n",
            "-- Installing: /usr/local/include/colmap/mvs/cuda_array_wrapper.h\n",
            "-- Installing: /usr/local/include/colmap/controllers\n",
            "-- Installing: /usr/local/include/colmap/controllers/automatic_reconstruction.h\n",
            "-- Installing: /usr/local/include/colmap/controllers/bundle_adjustment.h\n",
            "-- Installing: /usr/local/include/colmap/controllers/hierarchical_mapper.h\n",
            "-- Installing: /usr/local/include/colmap/controllers/incremental_mapper.h\n",
            "-- Installing: /usr/local/include/colmap/tools\n",
            "-- Installing: /usr/local/include/colmap/sfm\n",
            "-- Installing: /usr/local/include/colmap/sfm/incremental_triangulator.h\n",
            "-- Installing: /usr/local/include/colmap/sfm/incremental_mapper.h\n",
            "-- Installing: /usr/local/include/colmap/estimators\n",
            "-- Installing: /usr/local/include/colmap/estimators/essential_matrix.h\n",
            "-- Installing: /usr/local/include/colmap/estimators/essential_matrix_poly.h\n",
            "-- Installing: /usr/local/include/colmap/estimators/coordinate_frame.h\n",
            "-- Installing: /usr/local/include/colmap/estimators/utils.h\n",
            "-- Installing: /usr/local/include/colmap/estimators/triangulation.h\n",
            "-- Installing: /usr/local/include/colmap/estimators/generalized_absolute_pose_coeffs.h\n",
            "-- Installing: /usr/local/include/colmap/estimators/essential_matrix_coeffs.h\n",
            "-- Installing: /usr/local/include/colmap/estimators/euclidean_transform.h\n",
            "-- Installing: /usr/local/include/colmap/estimators/affine_transform.h\n",
            "-- Installing: /usr/local/include/colmap/estimators/similarity_transform.h\n",
            "-- Installing: /usr/local/include/colmap/estimators/generalized_absolute_pose.h\n",
            "-- Installing: /usr/local/include/colmap/estimators/absolute_pose.h\n",
            "-- Installing: /usr/local/include/colmap/estimators/translation_transform.h\n",
            "-- Installing: /usr/local/include/colmap/estimators/homography_matrix.h\n",
            "-- Installing: /usr/local/include/colmap/estimators/pose.h\n",
            "-- Installing: /usr/local/include/colmap/estimators/fundamental_matrix.h\n",
            "-- Installing: /usr/local/include/colmap/estimators/generalized_relative_pose.h\n",
            "-- Installing: /usr/local/include/colmap/estimators/two_view_geometry.h\n",
            "-- Installing: /usr/local/include/colmap/exe\n",
            "-- Installing: /usr/local/include/colmap/exe/gui.h\n",
            "-- Installing: /usr/local/include/colmap/exe/sfm.h\n",
            "-- Installing: /usr/local/include/colmap/exe/image.h\n",
            "-- Installing: /usr/local/include/colmap/exe/mvs.h\n",
            "-- Installing: /usr/local/include/colmap/exe/database.h\n",
            "-- Installing: /usr/local/include/colmap/exe/vocab_tree.h\n",
            "-- Installing: /usr/local/include/colmap/exe/model.h\n",
            "-- Installing: /usr/local/include/colmap/exe/feature.h\n",
            "-- Installing: /usr/local/include/colmap/base\n",
            "-- Installing: /usr/local/include/colmap/base/essential_matrix.h\n",
            "-- Installing: /usr/local/include/colmap/base/visibility_pyramid.h\n",
            "-- Installing: /usr/local/include/colmap/base/image.h\n",
            "-- Installing: /usr/local/include/colmap/base/camera_database.h\n",
            "-- Installing: /usr/local/include/colmap/base/reconstruction_manager.h\n",
            "-- Installing: /usr/local/include/colmap/base/graph_cut.h\n",
            "-- Installing: /usr/local/include/colmap/base/cost_functions.h\n",
            "-- Installing: /usr/local/include/colmap/base/triangulation.h\n",
            "-- Installing: /usr/local/include/colmap/base/projection.h\n",
            "-- Installing: /usr/local/include/colmap/base/scene_clustering.h\n",
            "-- Installing: /usr/local/include/colmap/base/database.h\n",
            "-- Installing: /usr/local/include/colmap/base/point3d.h\n",
            "-- Installing: /usr/local/include/colmap/base/point2d.h\n",
            "-- Installing: /usr/local/include/colmap/base/correspondence_graph.h\n",
            "-- Installing: /usr/local/include/colmap/base/polynomial.h\n",
            "-- Installing: /usr/local/include/colmap/base/camera_models.h\n",
            "-- Installing: /usr/local/include/colmap/base/similarity_transform.h\n",
            "-- Installing: /usr/local/include/colmap/base/track.h\n",
            "-- Installing: /usr/local/include/colmap/base/image_reader.h\n",
            "-- Installing: /usr/local/include/colmap/base/database_cache.h\n",
            "-- Installing: /usr/local/include/colmap/base/camera.h\n",
            "-- Installing: /usr/local/include/colmap/base/line.h\n",
            "-- Installing: /usr/local/include/colmap/base/homography_matrix.h\n",
            "-- Installing: /usr/local/include/colmap/base/pose.h\n",
            "-- Installing: /usr/local/include/colmap/base/camera_rig.h\n",
            "-- Installing: /usr/local/include/colmap/base/gps.h\n",
            "-- Installing: /usr/local/include/colmap/base/warp.h\n",
            "-- Installing: /usr/local/include/colmap/base/reconstruction.h\n",
            "-- Installing: /usr/local/include/colmap/base/undistortion.h\n",
            "-- Installing: /usr/local/include/colmap/retrieval\n",
            "-- Installing: /usr/local/include/colmap/retrieval/utils.h\n",
            "-- Installing: /usr/local/include/colmap/retrieval/inverted_file_entry.h\n",
            "-- Installing: /usr/local/include/colmap/retrieval/vote_and_verify.h\n",
            "-- Installing: /usr/local/include/colmap/retrieval/inverted_index.h\n",
            "-- Installing: /usr/local/include/colmap/retrieval/inverted_file.h\n",
            "-- Installing: /usr/local/include/colmap/retrieval/visual_index.h\n",
            "-- Installing: /usr/local/include/colmap/retrieval/geometry.h\n",
            "-- Installing: /usr/local/include/colmap/optim\n",
            "-- Installing: /usr/local/include/colmap/optim/combination_sampler.h\n",
            "-- Installing: /usr/local/include/colmap/optim/support_measurement.h\n",
            "-- Installing: /usr/local/include/colmap/optim/ransac.h\n",
            "-- Installing: /usr/local/include/colmap/optim/loransac.h\n",
            "-- Installing: /usr/local/include/colmap/optim/least_absolute_deviations.h\n",
            "-- Installing: /usr/local/include/colmap/optim/sampler.h\n",
            "-- Installing: /usr/local/include/colmap/optim/random_sampler.h\n",
            "-- Installing: /usr/local/include/colmap/optim/bundle_adjustment.h\n",
            "-- Installing: /usr/local/include/colmap/optim/progressive_sampler.h\n",
            "-- Installing: /usr/local/include/colmap/optim/sprt.h\n",
            "-- Installing: /usr/local/include/colmap/feature\n",
            "-- Installing: /usr/local/include/colmap/feature/utils.h\n",
            "-- Installing: /usr/local/include/colmap/feature/matching.h\n",
            "-- Installing: /usr/local/include/colmap/feature/sift.h\n",
            "-- Installing: /usr/local/include/colmap/feature/extraction.h\n",
            "-- Installing: /usr/local/include/colmap/feature/types.h\n",
            "-- Installing: /usr/local/include/colmap/util\n",
            "-- Installing: /usr/local/include/colmap/util/cache.h\n",
            "-- Installing: /usr/local/include/colmap/util/random.h\n",
            "-- Installing: /usr/local/include/colmap/util/cuda.h\n",
            "-- Installing: /usr/local/include/colmap/util/threading.h\n",
            "-- Installing: /usr/local/include/colmap/util/version.h\n",
            "-- Installing: /usr/local/include/colmap/util/logging.h\n",
            "-- Installing: /usr/local/include/colmap/util/testing.h\n",
            "-- Installing: /usr/local/include/colmap/util/matrix.h\n",
            "-- Installing: /usr/local/include/colmap/util/misc.h\n",
            "-- Installing: /usr/local/include/colmap/util/math.h\n",
            "-- Installing: /usr/local/include/colmap/util/cudacc.h\n",
            "-- Installing: /usr/local/include/colmap/util/string.h\n",
            "-- Installing: /usr/local/include/colmap/util/opengl_utils.h\n",
            "-- Installing: /usr/local/include/colmap/util/timer.h\n",
            "-- Installing: /usr/local/include/colmap/util/bitmap.h\n",
            "-- Installing: /usr/local/include/colmap/util/option_manager.h\n",
            "-- Installing: /usr/local/include/colmap/util/alignment.h\n",
            "-- Installing: /usr/local/include/colmap/util/camera_specs.h\n",
            "-- Installing: /usr/local/include/colmap/util/endian.h\n",
            "-- Installing: /usr/local/include/colmap/util/sqlite3_utils.h\n",
            "-- Installing: /usr/local/include/colmap/util/ply.h\n",
            "-- Installing: /usr/local/include/colmap/util/types.h\n",
            "-- Installing: /usr/local/include/colmap/lib\n",
            "-- Installing: /usr/local/include/colmap/lib/VLFeat\n",
            "-- Installing: /usr/local/include/colmap/lib/VLFeat/aib.h\n",
            "-- Installing: /usr/local/include/colmap/lib/VLFeat/svm.h\n",
            "-- Installing: /usr/local/include/colmap/lib/VLFeat/random.h\n",
            "-- Installing: /usr/local/include/colmap/lib/VLFeat/getopt_long.h\n",
            "-- Installing: /usr/local/include/colmap/lib/VLFeat/mser.h\n",
            "-- Installing: /usr/local/include/colmap/lib/VLFeat/kmeans.h\n",
            "-- Installing: /usr/local/include/colmap/lib/VLFeat/homkermap.h\n",
            "-- Installing: /usr/local/include/colmap/lib/VLFeat/ikmeans.h\n",
            "-- Installing: /usr/local/include/colmap/lib/VLFeat/hog.h\n",
            "-- Installing: /usr/local/include/colmap/lib/VLFeat/kdtree.h\n",
            "-- Installing: /usr/local/include/colmap/lib/VLFeat/array.h\n",
            "-- Installing: /usr/local/include/colmap/lib/VLFeat/qsort-def.h\n",
            "-- Installing: /usr/local/include/colmap/lib/VLFeat/shuffle-def.h\n",
            "-- Installing: /usr/local/include/colmap/lib/VLFeat/stringop.h\n",
            "-- Installing: /usr/local/include/colmap/lib/VLFeat/heap-def.h\n",
            "-- Installing: /usr/local/include/colmap/lib/VLFeat/vlad.h\n",
            "-- Installing: /usr/local/include/colmap/lib/VLFeat/quickshift.h\n",
            "-- Installing: /usr/local/include/colmap/lib/VLFeat/generic.h\n",
            "-- Installing: /usr/local/include/colmap/lib/VLFeat/float.h\n",
            "-- Installing: /usr/local/include/colmap/lib/VLFeat/sift.h\n",
            "-- Installing: /usr/local/include/colmap/lib/VLFeat/hikmeans.h\n",
            "-- Installing: /usr/local/include/colmap/lib/VLFeat/fisher.h\n",
            "-- Installing: /usr/local/include/colmap/lib/VLFeat/scalespace.h\n",
            "-- Installing: /usr/local/include/colmap/lib/VLFeat/imopv_sse2.h\n",
            "-- Installing: /usr/local/include/colmap/lib/VLFeat/mathop_avx.h\n",
            "-- Installing: /usr/local/include/colmap/lib/VLFeat/lbp.h\n",
            "-- Installing: /usr/local/include/colmap/lib/VLFeat/imopv.h\n",
            "-- Installing: /usr/local/include/colmap/lib/VLFeat/liop.h\n",
            "-- Installing: /usr/local/include/colmap/lib/VLFeat/host.h\n",
            "-- Installing: /usr/local/include/colmap/lib/VLFeat/slic.h\n",
            "-- Installing: /usr/local/include/colmap/lib/VLFeat/dsift.h\n",
            "-- Installing: /usr/local/include/colmap/lib/VLFeat/pgm.h\n",
            "-- Installing: /usr/local/include/colmap/lib/VLFeat/mathop_sse2.h\n",
            "-- Installing: /usr/local/include/colmap/lib/VLFeat/covdet.h\n",
            "-- Installing: /usr/local/include/colmap/lib/VLFeat/rodrigues.h\n",
            "-- Installing: /usr/local/include/colmap/lib/VLFeat/svmdataset.h\n",
            "-- Installing: /usr/local/include/colmap/lib/VLFeat/mathop.h\n",
            "-- Installing: /usr/local/include/colmap/lib/VLFeat/gmm.h\n",
            "-- Installing: /usr/local/include/colmap/lib/LSD\n",
            "-- Installing: /usr/local/include/colmap/lib/LSD/lsd.h\n",
            "-- Installing: /usr/local/include/colmap/lib/PBA\n",
            "-- Installing: /usr/local/include/colmap/lib/PBA/SparseBundleCPU.h\n",
            "-- Installing: /usr/local/include/colmap/lib/PBA/SparseBundleCU.h\n",
            "-- Installing: /usr/local/include/colmap/lib/PBA/DataInterface.h\n",
            "-- Installing: /usr/local/include/colmap/lib/PBA/util.h\n",
            "-- Installing: /usr/local/include/colmap/lib/PBA/ConfigBA.h\n",
            "-- Installing: /usr/local/include/colmap/lib/PBA/ProgramCU.h\n",
            "-- Installing: /usr/local/include/colmap/lib/PBA/pba.h\n",
            "-- Installing: /usr/local/include/colmap/lib/PBA/CuTexImage.h\n",
            "-- Installing: /usr/local/include/colmap/lib/PoissonRecon\n",
            "-- Installing: /usr/local/include/colmap/lib/PoissonRecon/BSplineData.inl\n",
            "-- Installing: /usr/local/include/colmap/lib/PoissonRecon/SurfaceTrimmer.h\n",
            "-- Installing: /usr/local/include/colmap/lib/PoissonRecon/MultiGridOctreeData.IsoSurface.inl\n",
            "-- Installing: /usr/local/include/colmap/lib/PoissonRecon/BinaryNode.h\n",
            "-- Installing: /usr/local/include/colmap/lib/PoissonRecon/MultiGridOctreeData.Evaluation.inl\n",
            "-- Installing: /usr/local/include/colmap/lib/PoissonRecon/PointStream.h\n",
            "-- Installing: /usr/local/include/colmap/lib/PoissonRecon/SparseMatrix.inl\n",
            "-- Installing: /usr/local/include/colmap/lib/PoissonRecon/Geometry.h\n",
            "-- Installing: /usr/local/include/colmap/lib/PoissonRecon/MultiGridOctreeData.SortedTreeNodes.inl\n",
            "-- Installing: /usr/local/include/colmap/lib/PoissonRecon/Array.h\n",
            "-- Installing: /usr/local/include/colmap/lib/PoissonRecon/MultiGridOctreeData.System.inl\n",
            "-- Installing: /usr/local/include/colmap/lib/PoissonRecon/MarchingCubes.h\n",
            "-- Installing: /usr/local/include/colmap/lib/PoissonRecon/Hash.h\n",
            "-- Installing: /usr/local/include/colmap/lib/PoissonRecon/Geometry.inl\n",
            "-- Installing: /usr/local/include/colmap/lib/PoissonRecon/BSplineData.h\n",
            "-- Installing: /usr/local/include/colmap/lib/PoissonRecon/Octree.inl\n",
            "-- Installing: /usr/local/include/colmap/lib/PoissonRecon/MultiGridOctreeData.inl\n",
            "-- Installing: /usr/local/include/colmap/lib/PoissonRecon/MAT.inl\n",
            "-- Installing: /usr/local/include/colmap/lib/PoissonRecon/Factor.h\n",
            "-- Installing: /usr/local/include/colmap/lib/PoissonRecon/Octree.h\n",
            "-- Installing: /usr/local/include/colmap/lib/PoissonRecon/FunctionData.inl\n",
            "-- Installing: /usr/local/include/colmap/lib/PoissonRecon/FunctionData.h\n",
            "-- Installing: /usr/local/include/colmap/lib/PoissonRecon/PPolynomial.h\n",
            "-- Installing: /usr/local/include/colmap/lib/PoissonRecon/PPolynomial.inl\n",
            "-- Installing: /usr/local/include/colmap/lib/PoissonRecon/Array.inl\n",
            "-- Installing: /usr/local/include/colmap/lib/PoissonRecon/MultiGridOctreeData.WeightedSamples.inl\n",
            "-- Installing: /usr/local/include/colmap/lib/PoissonRecon/Ply.h\n",
            "-- Installing: /usr/local/include/colmap/lib/PoissonRecon/Allocator.h\n",
            "-- Installing: /usr/local/include/colmap/lib/PoissonRecon/PoissonRecon.h\n",
            "-- Installing: /usr/local/include/colmap/lib/PoissonRecon/MAT.h\n",
            "-- Installing: /usr/local/include/colmap/lib/PoissonRecon/MemoryUsage.h\n",
            "-- Installing: /usr/local/include/colmap/lib/PoissonRecon/MyTime.h\n",
            "-- Installing: /usr/local/include/colmap/lib/PoissonRecon/MultiGridOctreeData.h\n",
            "-- Installing: /usr/local/include/colmap/lib/PoissonRecon/SparseMatrix.h\n",
            "-- Installing: /usr/local/include/colmap/lib/PoissonRecon/Polynomial.h\n",
            "-- Installing: /usr/local/include/colmap/lib/PoissonRecon/CmdLineParser.h\n",
            "-- Installing: /usr/local/include/colmap/lib/PoissonRecon/PointStream.inl\n",
            "-- Installing: /usr/local/include/colmap/lib/PoissonRecon/CmdLineParser.inl\n",
            "-- Installing: /usr/local/include/colmap/lib/PoissonRecon/Polynomial.inl\n",
            "-- Installing: /usr/local/include/colmap/lib/Graclus\n",
            "-- Installing: /usr/local/include/colmap/lib/Graclus/metisLib\n",
            "-- Installing: /usr/local/include/colmap/lib/Graclus/metisLib/defs.h\n",
            "-- Installing: /usr/local/include/colmap/lib/Graclus/metisLib/proto.h\n",
            "-- Installing: /usr/local/include/colmap/lib/Graclus/metisLib/macros.h\n",
            "-- Installing: /usr/local/include/colmap/lib/Graclus/metisLib/metis.h\n",
            "-- Installing: /usr/local/include/colmap/lib/Graclus/metisLib/struct.h\n",
            "-- Installing: /usr/local/include/colmap/lib/Graclus/metisLib/rename.h\n",
            "-- Installing: /usr/local/include/colmap/lib/Graclus/multilevelLib\n",
            "-- Installing: /usr/local/include/colmap/lib/SQLite\n",
            "-- Installing: /usr/local/include/colmap/lib/SQLite/sqlite3.h\n",
            "-- Installing: /usr/local/include/colmap/lib/SQLite/sqlite3ext.h\n",
            "-- Installing: /usr/local/include/colmap/lib/FLANN\n",
            "-- Installing: /usr/local/include/colmap/lib/FLANN/defines.h\n",
            "-- Installing: /usr/local/include/colmap/lib/FLANN/config.h\n",
            "-- Installing: /usr/local/include/colmap/lib/FLANN/nn\n",
            "-- Installing: /usr/local/include/colmap/lib/FLANN/nn/simplex_downhill.h\n",
            "-- Installing: /usr/local/include/colmap/lib/FLANN/nn/index_testing.h\n",
            "-- Installing: /usr/local/include/colmap/lib/FLANN/nn/ground_truth.h\n",
            "-- Installing: /usr/local/include/colmap/lib/FLANN/flann.h\n",
            "-- Installing: /usr/local/include/colmap/lib/FLANN/algorithms\n",
            "-- Installing: /usr/local/include/colmap/lib/FLANN/algorithms/composite_index.h\n",
            "-- Installing: /usr/local/include/colmap/lib/FLANN/algorithms/kdtree_index.h\n",
            "-- Installing: /usr/local/include/colmap/lib/FLANN/algorithms/linear_index.h\n",
            "-- Installing: /usr/local/include/colmap/lib/FLANN/algorithms/nn_index.h\n",
            "-- Installing: /usr/local/include/colmap/lib/FLANN/algorithms/lsh_index.h\n",
            "-- Installing: /usr/local/include/colmap/lib/FLANN/algorithms/dist.h\n",
            "-- Installing: /usr/local/include/colmap/lib/FLANN/algorithms/kdtree_cuda_builder.h\n",
            "-- Installing: /usr/local/include/colmap/lib/FLANN/algorithms/all_indices.h\n",
            "-- Installing: /usr/local/include/colmap/lib/FLANN/algorithms/hierarchical_clustering_index.h\n",
            "-- Installing: /usr/local/include/colmap/lib/FLANN/algorithms/center_chooser.h\n",
            "-- Installing: /usr/local/include/colmap/lib/FLANN/algorithms/kmeans_index.h\n",
            "-- Installing: /usr/local/include/colmap/lib/FLANN/algorithms/kdtree_single_index.h\n",
            "-- Installing: /usr/local/include/colmap/lib/FLANN/algorithms/kdtree_cuda_3d_index.h\n",
            "-- Installing: /usr/local/include/colmap/lib/FLANN/algorithms/autotuned_index.h\n",
            "-- Installing: /usr/local/include/colmap/lib/FLANN/config.h.in\n",
            "-- Installing: /usr/local/include/colmap/lib/FLANN/general.h\n",
            "-- Installing: /usr/local/include/colmap/lib/FLANN/mpi\n",
            "-- Installing: /usr/local/include/colmap/lib/FLANN/mpi/server.h\n",
            "-- Installing: /usr/local/include/colmap/lib/FLANN/mpi/matrix.h\n",
            "-- Installing: /usr/local/include/colmap/lib/FLANN/mpi/queries.h\n",
            "-- Installing: /usr/local/include/colmap/lib/FLANN/mpi/index.h\n",
            "-- Installing: /usr/local/include/colmap/lib/FLANN/mpi/client.h\n",
            "-- Installing: /usr/local/include/colmap/lib/FLANN/ext\n",
            "-- Installing: /usr/local/include/colmap/lib/FLANN/ext/lz4hc.h\n",
            "-- Installing: /usr/local/include/colmap/lib/FLANN/ext/lz4.h\n",
            "-- Installing: /usr/local/include/colmap/lib/FLANN/flann.hpp\n",
            "-- Installing: /usr/local/include/colmap/lib/FLANN/util\n",
            "-- Installing: /usr/local/include/colmap/lib/FLANN/util/allocator.h\n",
            "-- Installing: /usr/local/include/colmap/lib/FLANN/util/params.h\n",
            "-- Installing: /usr/local/include/colmap/lib/FLANN/util/random.h\n",
            "-- Installing: /usr/local/include/colmap/lib/FLANN/util/any.h\n",
            "-- Installing: /usr/local/include/colmap/lib/FLANN/util/cutil_math.h\n",
            "-- Installing: /usr/local/include/colmap/lib/FLANN/util/sampling.h\n",
            "-- Installing: /usr/local/include/colmap/lib/FLANN/util/serialization.h\n",
            "-- Installing: /usr/local/include/colmap/lib/FLANN/util/saving.h\n",
            "-- Installing: /usr/local/include/colmap/lib/FLANN/util/logger.h\n",
            "-- Installing: /usr/local/include/colmap/lib/FLANN/util/cuda\n",
            "-- Installing: /usr/local/include/colmap/lib/FLANN/util/cuda/result_set.h\n",
            "-- Installing: /usr/local/include/colmap/lib/FLANN/util/cuda/heap.h\n",
            "-- Installing: /usr/local/include/colmap/lib/FLANN/util/object_factory.h\n",
            "-- Installing: /usr/local/include/colmap/lib/FLANN/util/result_set.h\n",
            "-- Installing: /usr/local/include/colmap/lib/FLANN/util/matrix.h\n",
            "-- Installing: /usr/local/include/colmap/lib/FLANN/util/heap.h\n",
            "-- Installing: /usr/local/include/colmap/lib/FLANN/util/dynamic_bitset.h\n",
            "-- Installing: /usr/local/include/colmap/lib/FLANN/util/timer.h\n",
            "-- Installing: /usr/local/include/colmap/lib/FLANN/util/lsh_table.h\n",
            "-- Installing: /usr/local/include/colmap/lib/FLANN/io\n",
            "-- Installing: /usr/local/include/colmap/lib/FLANN/io/hdf5.h\n",
            "-- Installing: /usr/local/include/colmap/lib/SiftGPU\n",
            "-- Installing: /usr/local/include/colmap/lib/SiftGPU/SiftPyramid.h\n",
            "-- Installing: /usr/local/include/colmap/lib/SiftGPU/ShaderMan.h\n",
            "-- Installing: /usr/local/include/colmap/lib/SiftGPU/FrameBufferObject.h\n",
            "-- Installing: /usr/local/include/colmap/lib/SiftGPU/SiftMatchCU.h\n",
            "-- Installing: /usr/local/include/colmap/lib/SiftGPU/GLTexImage.h\n",
            "-- Installing: /usr/local/include/colmap/lib/SiftGPU/ProgramGPU.h\n",
            "-- Installing: /usr/local/include/colmap/lib/SiftGPU/PyramidGL.h\n",
            "-- Installing: /usr/local/include/colmap/lib/SiftGPU/ProgramCG.h\n",
            "-- Installing: /usr/local/include/colmap/lib/SiftGPU/PyramidCL.h\n",
            "-- Installing: /usr/local/include/colmap/lib/SiftGPU/GlobalUtil.h\n",
            "-- Installing: /usr/local/include/colmap/lib/SiftGPU/ProgramGLSL.h\n",
            "-- Installing: /usr/local/include/colmap/lib/SiftGPU/SiftGPU.h\n",
            "-- Installing: /usr/local/include/colmap/lib/SiftGPU/LiteWindow.h\n",
            "-- Installing: /usr/local/include/colmap/lib/SiftGPU/ProgramCU.h\n",
            "-- Installing: /usr/local/include/colmap/lib/SiftGPU/ProgramCL.h\n",
            "-- Installing: /usr/local/include/colmap/lib/SiftGPU/CLTexImage.h\n",
            "-- Installing: /usr/local/include/colmap/lib/SiftGPU/CuTexImage.h\n",
            "-- Installing: /usr/local/include/colmap/lib/SiftGPU/SiftMatch.h\n",
            "-- Installing: /usr/local/include/colmap/lib/SiftGPU/PyramidCU.h\n",
            "-- Installing: /usr/local/share/colmap/COLMAPConfig.cmake\n",
            "-- Installing: /usr/local/share/colmap/COLMAPConfigVersion.cmake\n",
            "-- Installing: /usr/local/share/colmap/cmake\n",
            "-- Installing: /usr/local/share/colmap/cmake/FindGlog.cmake\n",
            "-- Installing: /usr/local/share/colmap/cmake/FindGlew.cmake\n",
            "-- Installing: /usr/local/share/colmap/cmake/FindFreeImage.cmake\n",
            "-- Installing: /usr/local/share/colmap/cmake/FindEigen3.cmake\n",
            "-- Installing: /usr/local/share/applications/COLMAP.desktop\n",
            "-- Installing: /usr/local/lib/colmap/libflann.a\n",
            "-- Installing: /usr/local/lib/colmap/libgraclus.a\n",
            "-- Installing: /usr/local/lib/colmap/liblsd.a\n",
            "-- Installing: /usr/local/lib/colmap/libpba.a\n",
            "-- Installing: /usr/local/lib/colmap/libpoisson_recon.a\n",
            "-- Installing: /usr/local/lib/colmap/libsift_gpu.a\n",
            "-- Installing: /usr/local/lib/colmap/libsqlite3.a\n",
            "-- Installing: /usr/local/lib/colmap/libvlfeat.a\n",
            "-- Installing: /usr/local/lib/colmap/libcolmap.a\n",
            "-- Installing: /usr/local/lib/colmap/libcolmap_cuda.a\n",
            "-- Installing: /usr/local/bin/colmap\n",
            "-- Found required Ceres dependency: Eigen version 3.3.4 in /usr/lib/cmake/eigen3\n",
            "-- Found required Ceres dependency: glog\n",
            "-- Found required Ceres dependency: gflags\n",
            "-- Found Ceres version: 2.0.0 installed in: /usr/local with components: [EigenSparse, SparseLinearAlgebraLibrary, LAPACK, SuiteSparse, CXSparse, SchurSpecializations, Multithreading]\n",
            "-- Boost version: 1.65.1\n",
            "-- Found the following Boost libraries:\n",
            "--   program_options\n",
            "--   filesystem\n",
            "--   graph\n",
            "--   system\n",
            "--   unit_test_framework\n",
            "-- Found Eigen\n",
            "--   Includes : /usr/include/eigen3\n",
            "-- Found FreeImage\n",
            "--   Includes : /usr/include\n",
            "--   Libraries : /usr/lib/x86_64-linux-gnu/libfreeimage.so\n",
            "-- Found Glog\n",
            "--   Includes : /usr/include\n",
            "--   Libraries : /usr/lib/x86_64-linux-gnu/libglog.so\n",
            "-- Found Glew\n",
            "--   Includes : /usr/include\n",
            "--   Libraries : /usr/lib/x86_64-linux-gnu/libGLEW.so\n",
            "-- Found Qt\n",
            "--   Module : /usr/lib/x86_64-linux-gnu/cmake/Qt5Core\n",
            "--   Module : /usr/lib/x86_64-linux-gnu/cmake/Qt5OpenGL\n",
            "--   Module : /usr/lib/x86_64-linux-gnu/cmake/Qt5Widgets\n",
            "-- Found CGAL\n",
            "--   Includes : /usr//include\n",
            "--   Libraries : /usr/lib/x86_64-linux-gnu/libCGAL.so.13.0.1\n",
            "-- Build type not specified, using Release\n",
            "-- Enabling SIMD support\n",
            "-- Enabling OpenMP support\n",
            "-- Disabling interprocedural optimization\n",
            "-- Autodetected CUDA architecture(s):  3.7\n",
            "-- Enabling CUDA support (version: 11.1, archs: sm_37)\n",
            "-- Enabling GUI support\n",
            "-- Enabling OpenGL support\n",
            "-- Disabling profiling support\n",
            "-- Enabling CGAL support\n",
            "-- Configuring done\n",
            "-- Generating done\n",
            "-- Build files have been written to: /content/ceres-solver/build/colmap/build\n",
            "It takes  1849.11 s\n",
            "/content\n",
            "Cloning into 'Hierarchical-Localization'...\n",
            "remote: Enumerating objects: 568, done.\u001b[K\n",
            "remote: Counting objects: 100% (286/286), done.\u001b[K\n",
            "remote: Compressing objects: 100% (125/125), done.\u001b[K\n",
            "remote: Total 568 (delta 215), reused 161 (delta 161), pack-reused 282\u001b[K\n",
            "Receiving objects: 100% (568/568), 10.71 MiB | 14.03 MiB/s, done.\n",
            "Resolving deltas: 100% (326/326), done.\n",
            "/content/Hierarchical-Localization\n",
            "Submodule 'third_party/SuperGluePretrainedNetwork' (https://github.com/skydes/SuperGluePretrainedNetwork.git) registered for path 'third_party/SuperGluePretrainedNetwork'\n",
            "Submodule 'third_party/d2net' (https://github.com/mihaidusmanu/d2-net.git) registered for path 'third_party/d2net'\n",
            "Submodule 'third_party/deep-image-retrieval' (https://github.com/naver/deep-image-retrieval.git) registered for path 'third_party/deep-image-retrieval'\n",
            "Submodule 'third_party/r2d2' (https://github.com/naver/r2d2.git) registered for path 'third_party/r2d2'\n",
            "Cloning into '/content/Hierarchical-Localization/third_party/SuperGluePretrainedNetwork'...\n",
            "Cloning into '/content/Hierarchical-Localization/third_party/d2net'...\n",
            "Cloning into '/content/Hierarchical-Localization/third_party/deep-image-retrieval'...\n",
            "Cloning into '/content/Hierarchical-Localization/third_party/r2d2'...\n",
            "Submodule path 'third_party/SuperGluePretrainedNetwork': checked out '7bb31186c119e9fceb6e8300fad3374b56f6e0aa'\n",
            "Submodule path 'third_party/d2net': checked out '2a4d88fbe84961a3a17c46adb6d16a94b87020c5'\n",
            "Submodule path 'third_party/deep-image-retrieval': checked out '278e7081364669c1e4e137a9ea6a0840ed0cf2bf'\n",
            "Submodule path 'third_party/r2d2': checked out 'd6777a9d6769448998e5abe11031ae05de28e49a'\n",
            "/content\n",
            "Cloning into 'pointcleannet'...\n",
            "remote: Enumerating objects: 75, done.\u001b[K\n",
            "remote: Total 75 (delta 0), reused 0 (delta 0), pack-reused 75\u001b[K\n",
            "Unpacking objects: 100% (75/75), done.\n",
            "--2021-12-14 12:06:46--  http://geometry.cs.ucl.ac.uk/projects/2019/pointcleannet/data/outliersRemovalModel.tar.gz\n",
            "Resolving geometry.cs.ucl.ac.uk (geometry.cs.ucl.ac.uk)... 128.16.15.132\n",
            "Connecting to geometry.cs.ucl.ac.uk (geometry.cs.ucl.ac.uk)|128.16.15.132|:80... connected.\n",
            "HTTP request sent, awaiting response... 200 OK\n",
            "Length: 103265383 (98M) [application/x-gzip]\n",
            "Saving to: ‘/content/pointcleannet/models/outliersRemovalModel.tar.gz’\n",
            "\n",
            "outliersRemovalMode 100%[===================>]  98.48M  26.5MB/s    in 3.9s    \n",
            "\n",
            "2021-12-14 12:06:51 (25.2 MB/s) - ‘/content/pointcleannet/models/outliersRemovalModel.tar.gz’ saved [103265383/103265383]\n",
            "\n",
            "outliersRemovalModel/PointCleanNetOutliers_model.pth\n",
            "outliersRemovalModel/\n",
            "outliersRemovalModel/PointCleanNetOutliers_params.pth\n",
            "Collecting pyntcloud\n",
            "  Downloading pyntcloud-0.1.5-py3-none-any.whl (346 kB)\n",
            "\u001b[K     |████████████████████████████████| 346 kB 5.4 MB/s \n",
            "\u001b[?25hRequirement already satisfied: pandas in /usr/local/lib/python3.7/dist-packages (from pyntcloud) (1.1.5)\n",
            "Requirement already satisfied: scipy in /usr/local/lib/python3.7/dist-packages (from pyntcloud) (1.4.1)\n",
            "Requirement already satisfied: numpy in /usr/local/lib/python3.7/dist-packages (from pyntcloud) (1.19.5)\n",
            "Requirement already satisfied: python-dateutil>=2.7.3 in /usr/local/lib/python3.7/dist-packages (from pandas->pyntcloud) (2.8.2)\n",
            "Requirement already satisfied: pytz>=2017.2 in /usr/local/lib/python3.7/dist-packages (from pandas->pyntcloud) (2018.9)\n",
            "Requirement already satisfied: six>=1.5 in /usr/local/lib/python3.7/dist-packages (from python-dateutil>=2.7.3->pandas->pyntcloud) (1.15.0)\n",
            "Installing collected packages: pyntcloud\n",
            "Successfully installed pyntcloud-0.1.5\n",
            "Collecting pymeshlab\n",
            "  Downloading pymeshlab-2021.10-cp37-cp37m-manylinux1_x86_64.whl (56.4 MB)\n",
            "\u001b[K     |████████████████████████████████| 56.4 MB 1.3 MB/s \n",
            "\u001b[?25hRequirement already satisfied: numpy in /usr/local/lib/python3.7/dist-packages (from pymeshlab) (1.19.5)\n",
            "Installing collected packages: pymeshlab\n",
            "Successfully installed pymeshlab-2021.10\n"
          ]
        }
      ],
      "source": [
        "# Pre-processing\n",
        "!git clone https://github.com/jiaxi-jiang/FBCNN.git # JPEG artifact removal\n",
        "\n",
        "# Main Algorithm\n",
        "# COLMAP\n",
        "import time\n",
        "import os\n",
        "\n",
        "start = time.time()\n",
        "\n",
        "!sudo apt-get install \\\n",
        "    git \\\n",
        "    cmake \\\n",
        "    build-essential \\\n",
        "    libboost-program-options-dev \\\n",
        "    libboost-filesystem-dev \\\n",
        "    libboost-graph-dev \\\n",
        "    libboost-regex-dev \\\n",
        "    libboost-system-dev \\\n",
        "    libboost-test-dev \\\n",
        "    libeigen3-dev \\\n",
        "    libsuitesparse-dev \\\n",
        "    libfreeimage-dev \\\n",
        "    libgoogle-glog-dev \\\n",
        "    libgflags-dev \\\n",
        "    libglew-dev \\\n",
        "    qtbase5-dev \\\n",
        "    libqt5opengl5-dev \\\n",
        "    libcgal-dev \\\n",
        "    libcgal-qt5-dev\n",
        "\n",
        "!sudo apt-get install libatlas-base-dev libsuitesparse-dev\n",
        "!git clone https://ceres-solver.googlesource.com/ceres-solver\n",
        "%cd ceres-solver\n",
        "!git checkout $(git describe --tags) # Checkout the latest release\n",
        "%mkdir build\n",
        "%cd build\n",
        "!cmake .. -DBUILD_TESTING=OFF -DBUILD_EXAMPLES=OFF\n",
        "!make\n",
        "!sudo make install\n",
        "\n",
        "!git clone https://github.com/colmap/colmap\n",
        "%cd colmap\n",
        "!git checkout dev\n",
        "%mkdir build\n",
        "%cd build\n",
        "!cmake ..\n",
        "!make\n",
        "!sudo make install\n",
        "!CC=/usr/bin/gcc-6 CXX=/usr/bin/g++-6 cmake ..\n",
        "\n",
        "end = time.time()\n",
        "print(\"It takes \",round(end - start,2), \"s\")\n",
        "\n",
        "# SuperPoint + SuperGlue\n",
        "%cd /content\n",
        "!git clone https://github.com/cvg/Hierarchical-Localization.git\n",
        "%cd /content/Hierarchical-Localization\n",
        "!git submodule update --init --recursive\n",
        "%cd /content\n",
        "\n",
        "# Post-processing\n",
        "# Outlier Removel\n",
        "!pip install open3d\n",
        "\n",
        "# Pymeshlab\n",
        "!pip install pyntcloud\n",
        "!pip install pymeshlab"
      ]
    },
    {
      "cell_type": "code",
      "execution_count": null,
      "metadata": {
        "colab": {
          "base_uri": "https://localhost:8080/",
          "height": 1000
        },
        "id": "kW4-xAsO4iAQ",
        "outputId": "300d25c9-7038-42dd-eeed-97d19e4e0a93"
      },
      "outputs": [
        {
          "name": "stdout",
          "output_type": "stream",
          "text": [
            "Collecting open3d\n",
            "  Downloading open3d-0.14.1-cp37-cp37m-manylinux_2_27_x86_64.whl (395.5 MB)\n",
            "\u001b[K     |████████████████████████████████| 395.5 MB 29 kB/s \n",
            "\u001b[?25hRequirement already satisfied: tqdm in /usr/local/lib/python3.7/dist-packages (from open3d) (4.62.3)\n",
            "Collecting jupyter-packaging~=0.10\n",
            "  Downloading jupyter_packaging-0.11.1-py2.py3-none-any.whl (14 kB)\n",
            "Requirement already satisfied: matplotlib>=3 in /usr/local/lib/python3.7/dist-packages (from open3d) (3.2.2)\n",
            "Requirement already satisfied: ipywidgets>=7.6.0 in /usr/local/lib/python3.7/dist-packages (from open3d) (7.6.5)\n",
            "Requirement already satisfied: pandas>=1.0 in /usr/local/lib/python3.7/dist-packages (from open3d) (1.1.5)\n",
            "Requirement already satisfied: numpy>1.15 in /usr/local/lib/python3.7/dist-packages (from open3d) (1.19.5)\n",
            "Collecting jupyterlab==3.*,>=3.0.0\n",
            "  Downloading jupyterlab-3.2.5-py3-none-any.whl (8.6 MB)\n",
            "\u001b[K     |████████████████████████████████| 8.6 MB 33.1 MB/s \n",
            "\u001b[?25hCollecting pillow>=8.2.0\n",
            "  Downloading Pillow-9.0.0-cp37-cp37m-manylinux_2_17_x86_64.manylinux2014_x86_64.whl (4.3 MB)\n",
            "\u001b[K     |████████████████████████████████| 4.3 MB 52.2 MB/s \n",
            "\u001b[?25hCollecting pygments>=2.7.4\n",
            "  Downloading Pygments-2.11.2-py3-none-any.whl (1.1 MB)\n",
            "\u001b[K     |████████████████████████████████| 1.1 MB 54.0 MB/s \n",
            "\u001b[?25hRequirement already satisfied: setuptools>=40.8.0 in /usr/local/lib/python3.7/dist-packages (from open3d) (57.4.0)\n",
            "Requirement already satisfied: wheel>=0.36.0 in /usr/local/lib/python3.7/dist-packages (from open3d) (0.37.0)\n",
            "Collecting addict\n",
            "  Downloading addict-2.4.0-py3-none-any.whl (3.8 kB)\n",
            "Collecting pyyaml>=5.4.1\n",
            "  Downloading PyYAML-6.0-cp37-cp37m-manylinux_2_5_x86_64.manylinux1_x86_64.manylinux_2_12_x86_64.manylinux2010_x86_64.whl (596 kB)\n",
            "\u001b[K     |████████████████████████████████| 596 kB 57.5 MB/s \n",
            "\u001b[?25hRequirement already satisfied: scikit-learn>=0.21 in /usr/local/lib/python3.7/dist-packages (from open3d) (1.0.1)\n",
            "Collecting nbclassic~=0.2\n",
            "  Downloading nbclassic-0.3.4-py3-none-any.whl (25 kB)\n",
            "Collecting tornado>=6.1.0\n",
            "  Downloading tornado-6.1-cp37-cp37m-manylinux2010_x86_64.whl (428 kB)\n",
            "\u001b[K     |████████████████████████████████| 428 kB 55.5 MB/s \n",
            "\u001b[?25hRequirement already satisfied: jupyter-core in /usr/local/lib/python3.7/dist-packages (from jupyterlab==3.*,>=3.0.0->open3d) (4.9.1)\n",
            "Collecting jupyter-server~=1.4\n",
            "  Downloading jupyter_server-1.13.1-py3-none-any.whl (396 kB)\n",
            "\u001b[K     |████████████████████████████████| 396 kB 59.8 MB/s \n",
            "\u001b[?25hCollecting jupyterlab-server~=2.3\n",
            "  Downloading jupyterlab_server-2.10.2-py3-none-any.whl (60 kB)\n",
            "\u001b[K     |████████████████████████████████| 60 kB 8.6 MB/s \n",
            "\u001b[?25hRequirement already satisfied: jinja2>=2.1 in /usr/local/lib/python3.7/dist-packages (from jupyterlab==3.*,>=3.0.0->open3d) (2.11.3)\n",
            "Requirement already satisfied: ipython in /usr/local/lib/python3.7/dist-packages (from jupyterlab==3.*,>=3.0.0->open3d) (5.5.0)\n",
            "Requirement already satisfied: packaging in /usr/local/lib/python3.7/dist-packages (from jupyterlab==3.*,>=3.0.0->open3d) (21.3)\n",
            "Requirement already satisfied: nbformat>=4.2.0 in /usr/local/lib/python3.7/dist-packages (from ipywidgets>=7.6.0->open3d) (5.1.3)\n",
            "Requirement already satisfied: widgetsnbextension~=3.5.0 in /usr/local/lib/python3.7/dist-packages (from ipywidgets>=7.6.0->open3d) (3.5.2)\n",
            "Requirement already satisfied: jupyterlab-widgets>=1.0.0 in /usr/local/lib/python3.7/dist-packages (from ipywidgets>=7.6.0->open3d) (1.0.2)\n",
            "Requirement already satisfied: ipython-genutils~=0.2.0 in /usr/local/lib/python3.7/dist-packages (from ipywidgets>=7.6.0->open3d) (0.2.0)\n",
            "Requirement already satisfied: traitlets>=4.3.1 in /usr/local/lib/python3.7/dist-packages (from ipywidgets>=7.6.0->open3d) (5.1.1)\n",
            "Requirement already satisfied: ipykernel>=4.5.1 in /usr/local/lib/python3.7/dist-packages (from ipywidgets>=7.6.0->open3d) (4.10.1)\n",
            "Requirement already satisfied: jupyter-client in /usr/local/lib/python3.7/dist-packages (from ipykernel>=4.5.1->ipywidgets>=7.6.0->open3d) (5.3.5)\n",
            "Requirement already satisfied: decorator in /usr/local/lib/python3.7/dist-packages (from ipython->jupyterlab==3.*,>=3.0.0->open3d) (4.4.2)\n",
            "Requirement already satisfied: simplegeneric>0.8 in /usr/local/lib/python3.7/dist-packages (from ipython->jupyterlab==3.*,>=3.0.0->open3d) (0.8.1)\n",
            "Requirement already satisfied: pickleshare in /usr/local/lib/python3.7/dist-packages (from ipython->jupyterlab==3.*,>=3.0.0->open3d) (0.7.5)\n",
            "Requirement already satisfied: prompt-toolkit<2.0.0,>=1.0.4 in /usr/local/lib/python3.7/dist-packages (from ipython->jupyterlab==3.*,>=3.0.0->open3d) (1.0.18)\n",
            "Requirement already satisfied: pexpect in /usr/local/lib/python3.7/dist-packages (from ipython->jupyterlab==3.*,>=3.0.0->open3d) (4.8.0)\n",
            "Requirement already satisfied: MarkupSafe>=0.23 in /usr/local/lib/python3.7/dist-packages (from jinja2>=2.1->jupyterlab==3.*,>=3.0.0->open3d) (2.0.1)\n",
            "Collecting deprecation\n",
            "  Downloading deprecation-2.1.0-py2.py3-none-any.whl (11 kB)\n",
            "Collecting tomlkit\n",
            "  Downloading tomlkit-0.8.0-py3-none-any.whl (33 kB)\n",
            "Requirement already satisfied: nbconvert in /usr/local/lib/python3.7/dist-packages (from jupyter-server~=1.4->jupyterlab==3.*,>=3.0.0->open3d) (5.6.1)\n",
            "Collecting websocket-client\n",
            "  Downloading websocket_client-1.2.3-py3-none-any.whl (53 kB)\n",
            "\u001b[K     |████████████████████████████████| 53 kB 2.2 MB/s \n",
            "\u001b[?25hRequirement already satisfied: argon2-cffi in /usr/local/lib/python3.7/dist-packages (from jupyter-server~=1.4->jupyterlab==3.*,>=3.0.0->open3d) (21.3.0)\n",
            "Requirement already satisfied: pyzmq>=17 in /usr/local/lib/python3.7/dist-packages (from jupyter-server~=1.4->jupyterlab==3.*,>=3.0.0->open3d) (22.3.0)\n",
            "Collecting jupyter-client\n",
            "  Downloading jupyter_client-7.1.0-py3-none-any.whl (129 kB)\n",
            "\u001b[K     |████████████████████████████████| 129 kB 59.4 MB/s \n",
            "\u001b[?25hRequirement already satisfied: prometheus-client in /usr/local/lib/python3.7/dist-packages (from jupyter-server~=1.4->jupyterlab==3.*,>=3.0.0->open3d) (0.12.0)\n",
            "Requirement already satisfied: Send2Trash in /usr/local/lib/python3.7/dist-packages (from jupyter-server~=1.4->jupyterlab==3.*,>=3.0.0->open3d) (1.8.0)\n",
            "Requirement already satisfied: terminado>=0.8.3 in /usr/local/lib/python3.7/dist-packages (from jupyter-server~=1.4->jupyterlab==3.*,>=3.0.0->open3d) (0.12.1)\n",
            "Collecting anyio<4,>=3.1.0\n",
            "  Downloading anyio-3.4.0-py3-none-any.whl (78 kB)\n",
            "\u001b[K     |████████████████████████████████| 78 kB 7.8 MB/s \n",
            "\u001b[?25hCollecting sniffio>=1.1\n",
            "  Downloading sniffio-1.2.0-py3-none-any.whl (10 kB)\n",
            "Requirement already satisfied: typing-extensions in /usr/local/lib/python3.7/dist-packages (from anyio<4,>=3.1.0->jupyter-server~=1.4->jupyterlab==3.*,>=3.0.0->open3d) (3.10.0.2)\n",
            "Requirement already satisfied: idna>=2.8 in /usr/local/lib/python3.7/dist-packages (from anyio<4,>=3.1.0->jupyter-server~=1.4->jupyterlab==3.*,>=3.0.0->open3d) (2.10)\n",
            "Requirement already satisfied: python-dateutil>=2.1 in /usr/local/lib/python3.7/dist-packages (from jupyter-client->ipykernel>=4.5.1->ipywidgets>=7.6.0->open3d) (2.8.2)\n",
            "Requirement already satisfied: entrypoints in /usr/local/lib/python3.7/dist-packages (from jupyter-client->ipykernel>=4.5.1->ipywidgets>=7.6.0->open3d) (0.3)\n",
            "Requirement already satisfied: nest-asyncio>=1.5 in /usr/local/lib/python3.7/dist-packages (from jupyter-client->ipykernel>=4.5.1->ipywidgets>=7.6.0->open3d) (1.5.4)\n",
            "Collecting jsonschema>=3.0.1\n",
            "  Downloading jsonschema-4.3.3-py3-none-any.whl (71 kB)\n",
            "\u001b[K     |████████████████████████████████| 71 kB 252 kB/s \n",
            "\u001b[?25hRequirement already satisfied: babel in /usr/local/lib/python3.7/dist-packages (from jupyterlab-server~=2.3->jupyterlab==3.*,>=3.0.0->open3d) (2.9.1)\n",
            "Collecting json5\n",
            "  Downloading json5-0.9.6-py2.py3-none-any.whl (18 kB)\n",
            "Requirement already satisfied: requests in /usr/local/lib/python3.7/dist-packages (from jupyterlab-server~=2.3->jupyterlab==3.*,>=3.0.0->open3d) (2.23.0)\n",
            "Requirement already satisfied: importlib-metadata in /usr/local/lib/python3.7/dist-packages (from jsonschema>=3.0.1->jupyterlab-server~=2.3->jupyterlab==3.*,>=3.0.0->open3d) (4.8.2)\n",
            "Requirement already satisfied: pyrsistent!=0.17.0,!=0.17.1,!=0.17.2,>=0.14.0 in /usr/local/lib/python3.7/dist-packages (from jsonschema>=3.0.1->jupyterlab-server~=2.3->jupyterlab==3.*,>=3.0.0->open3d) (0.18.0)\n",
            "Requirement already satisfied: attrs>=17.4.0 in /usr/local/lib/python3.7/dist-packages (from jsonschema>=3.0.1->jupyterlab-server~=2.3->jupyterlab==3.*,>=3.0.0->open3d) (21.2.0)\n",
            "Requirement already satisfied: importlib-resources>=1.4.0 in /usr/local/lib/python3.7/dist-packages (from jsonschema>=3.0.1->jupyterlab-server~=2.3->jupyterlab==3.*,>=3.0.0->open3d) (5.4.0)\n",
            "Requirement already satisfied: zipp>=3.1.0 in /usr/local/lib/python3.7/dist-packages (from importlib-resources>=1.4.0->jsonschema>=3.0.1->jupyterlab-server~=2.3->jupyterlab==3.*,>=3.0.0->open3d) (3.6.0)\n",
            "Requirement already satisfied: cycler>=0.10 in /usr/local/lib/python3.7/dist-packages (from matplotlib>=3->open3d) (0.11.0)\n",
            "Requirement already satisfied: pyparsing!=2.0.4,!=2.1.2,!=2.1.6,>=2.0.1 in /usr/local/lib/python3.7/dist-packages (from matplotlib>=3->open3d) (3.0.6)\n",
            "Requirement already satisfied: kiwisolver>=1.0.1 in /usr/local/lib/python3.7/dist-packages (from matplotlib>=3->open3d) (1.3.2)\n",
            "Requirement already satisfied: notebook<7 in /usr/local/lib/python3.7/dist-packages (from nbclassic~=0.2->jupyterlab==3.*,>=3.0.0->open3d) (5.3.1)\n",
            "Requirement already satisfied: pytz>=2017.2 in /usr/local/lib/python3.7/dist-packages (from pandas>=1.0->open3d) (2018.9)\n",
            "Requirement already satisfied: wcwidth in /usr/local/lib/python3.7/dist-packages (from prompt-toolkit<2.0.0,>=1.0.4->ipython->jupyterlab==3.*,>=3.0.0->open3d) (0.2.5)\n",
            "Requirement already satisfied: six>=1.9.0 in /usr/local/lib/python3.7/dist-packages (from prompt-toolkit<2.0.0,>=1.0.4->ipython->jupyterlab==3.*,>=3.0.0->open3d) (1.15.0)\n",
            "Requirement already satisfied: joblib>=0.11 in /usr/local/lib/python3.7/dist-packages (from scikit-learn>=0.21->open3d) (1.1.0)\n",
            "Requirement already satisfied: scipy>=1.1.0 in /usr/local/lib/python3.7/dist-packages (from scikit-learn>=0.21->open3d) (1.4.1)\n",
            "Requirement already satisfied: threadpoolctl>=2.0.0 in /usr/local/lib/python3.7/dist-packages (from scikit-learn>=0.21->open3d) (3.0.0)\n",
            "Requirement already satisfied: ptyprocess in /usr/local/lib/python3.7/dist-packages (from terminado>=0.8.3->jupyter-server~=1.4->jupyterlab==3.*,>=3.0.0->open3d) (0.7.0)\n",
            "Requirement already satisfied: argon2-cffi-bindings in /usr/local/lib/python3.7/dist-packages (from argon2-cffi->jupyter-server~=1.4->jupyterlab==3.*,>=3.0.0->open3d) (21.2.0)\n",
            "Requirement already satisfied: cffi>=1.0.1 in /usr/local/lib/python3.7/dist-packages (from argon2-cffi-bindings->argon2-cffi->jupyter-server~=1.4->jupyterlab==3.*,>=3.0.0->open3d) (1.15.0)\n",
            "Requirement already satisfied: pycparser in /usr/local/lib/python3.7/dist-packages (from cffi>=1.0.1->argon2-cffi-bindings->argon2-cffi->jupyter-server~=1.4->jupyterlab==3.*,>=3.0.0->open3d) (2.21)\n",
            "Requirement already satisfied: testpath in /usr/local/lib/python3.7/dist-packages (from nbconvert->jupyter-server~=1.4->jupyterlab==3.*,>=3.0.0->open3d) (0.5.0)\n",
            "Requirement already satisfied: pandocfilters>=1.4.1 in /usr/local/lib/python3.7/dist-packages (from nbconvert->jupyter-server~=1.4->jupyterlab==3.*,>=3.0.0->open3d) (1.5.0)\n",
            "Requirement already satisfied: mistune<2,>=0.8.1 in /usr/local/lib/python3.7/dist-packages (from nbconvert->jupyter-server~=1.4->jupyterlab==3.*,>=3.0.0->open3d) (0.8.4)\n",
            "Requirement already satisfied: bleach in /usr/local/lib/python3.7/dist-packages (from nbconvert->jupyter-server~=1.4->jupyterlab==3.*,>=3.0.0->open3d) (4.1.0)\n",
            "Requirement already satisfied: defusedxml in /usr/local/lib/python3.7/dist-packages (from nbconvert->jupyter-server~=1.4->jupyterlab==3.*,>=3.0.0->open3d) (0.7.1)\n",
            "Requirement already satisfied: webencodings in /usr/local/lib/python3.7/dist-packages (from bleach->nbconvert->jupyter-server~=1.4->jupyterlab==3.*,>=3.0.0->open3d) (0.5.1)\n",
            "Requirement already satisfied: chardet<4,>=3.0.2 in /usr/local/lib/python3.7/dist-packages (from requests->jupyterlab-server~=2.3->jupyterlab==3.*,>=3.0.0->open3d) (3.0.4)\n",
            "Requirement already satisfied: certifi>=2017.4.17 in /usr/local/lib/python3.7/dist-packages (from requests->jupyterlab-server~=2.3->jupyterlab==3.*,>=3.0.0->open3d) (2021.10.8)\n",
            "Requirement already satisfied: urllib3!=1.25.0,!=1.25.1,<1.26,>=1.21.1 in /usr/local/lib/python3.7/dist-packages (from requests->jupyterlab-server~=2.3->jupyterlab==3.*,>=3.0.0->open3d) (1.24.3)\n",
            "Installing collected packages: tornado, pygments, jsonschema, sniffio, jupyter-client, websocket-client, anyio, jupyter-server, json5, tomlkit, nbclassic, jupyterlab-server, deprecation, pyyaml, pillow, jupyterlab, jupyter-packaging, addict, open3d\n",
            "  Attempting uninstall: tornado\n",
            "    Found existing installation: tornado 5.1.1\n",
            "    Uninstalling tornado-5.1.1:\n",
            "      Successfully uninstalled tornado-5.1.1\n",
            "  Attempting uninstall: pygments\n",
            "    Found existing installation: Pygments 2.6.1\n",
            "    Uninstalling Pygments-2.6.1:\n",
            "      Successfully uninstalled Pygments-2.6.1\n",
            "  Attempting uninstall: jsonschema\n",
            "    Found existing installation: jsonschema 2.6.0\n",
            "    Uninstalling jsonschema-2.6.0:\n",
            "      Successfully uninstalled jsonschema-2.6.0\n",
            "  Attempting uninstall: jupyter-client\n",
            "    Found existing installation: jupyter-client 5.3.5\n",
            "    Uninstalling jupyter-client-5.3.5:\n",
            "      Successfully uninstalled jupyter-client-5.3.5\n",
            "  Attempting uninstall: pyyaml\n",
            "    Found existing installation: PyYAML 3.13\n",
            "    Uninstalling PyYAML-3.13:\n",
            "      Successfully uninstalled PyYAML-3.13\n",
            "  Attempting uninstall: pillow\n",
            "    Found existing installation: Pillow 7.1.2\n",
            "    Uninstalling Pillow-7.1.2:\n",
            "      Successfully uninstalled Pillow-7.1.2\n",
            "\u001b[31mERROR: pip's dependency resolver does not currently take into account all the packages that are installed. This behaviour is the source of the following dependency conflicts.\n",
            "google-colab 1.0.0 requires tornado~=5.1.0; python_version >= \"3.0\", but you have tornado 6.1 which is incompatible.\n",
            "datascience 0.10.6 requires folium==0.2.1, but you have folium 0.8.3 which is incompatible.\n",
            "albumentations 0.1.12 requires imgaug<0.2.7,>=0.2.5, but you have imgaug 0.2.9 which is incompatible.\u001b[0m\n",
            "Successfully installed addict-2.4.0 anyio-3.4.0 deprecation-2.1.0 json5-0.9.6 jsonschema-4.3.3 jupyter-client-7.1.0 jupyter-packaging-0.11.1 jupyter-server-1.13.1 jupyterlab-3.2.5 jupyterlab-server-2.10.2 nbclassic-0.3.4 open3d-0.14.1 pillow-9.0.0 pygments-2.11.2 pyyaml-6.0 sniffio-1.2.0 tomlkit-0.8.0 tornado-6.1 websocket-client-1.2.3\n"
          ]
        },
        {
          "data": {
            "application/vnd.colab-display-data+json": {
              "pip_warning": {
                "packages": [
                  "PIL",
                  "jupyter_client",
                  "pygments",
                  "tornado"
                ]
              }
            }
          },
          "metadata": {},
          "output_type": "display_data"
        },
        {
          "name": "stdout",
          "output_type": "stream",
          "text": [
            "Collecting pyntcloud\n",
            "  Downloading pyntcloud-0.1.5-py3-none-any.whl (346 kB)\n",
            "\u001b[?25l\r\u001b[K     |█                               | 10 kB 20.2 MB/s eta 0:00:01\r\u001b[K     |██                              | 20 kB 25.4 MB/s eta 0:00:01\r\u001b[K     |██▉                             | 30 kB 15.6 MB/s eta 0:00:01\r\u001b[K     |███▉                            | 40 kB 11.5 MB/s eta 0:00:01\r\u001b[K     |████▊                           | 51 kB 8.1 MB/s eta 0:00:01\r\u001b[K     |█████▊                          | 61 kB 8.5 MB/s eta 0:00:01\r\u001b[K     |██████▋                         | 71 kB 7.1 MB/s eta 0:00:01\r\u001b[K     |███████▋                        | 81 kB 7.9 MB/s eta 0:00:01\r\u001b[K     |████████▌                       | 92 kB 6.9 MB/s eta 0:00:01\r\u001b[K     |█████████▌                      | 102 kB 7.5 MB/s eta 0:00:01\r\u001b[K     |██████████▍                     | 112 kB 7.5 MB/s eta 0:00:01\r\u001b[K     |███████████▍                    | 122 kB 7.5 MB/s eta 0:00:01\r\u001b[K     |████████████▎                   | 133 kB 7.5 MB/s eta 0:00:01\r\u001b[K     |█████████████▎                  | 143 kB 7.5 MB/s eta 0:00:01\r\u001b[K     |██████████████▏                 | 153 kB 7.5 MB/s eta 0:00:01\r\u001b[K     |███████████████▏                | 163 kB 7.5 MB/s eta 0:00:01\r\u001b[K     |████████████████                | 174 kB 7.5 MB/s eta 0:00:01\r\u001b[K     |█████████████████               | 184 kB 7.5 MB/s eta 0:00:01\r\u001b[K     |██████████████████              | 194 kB 7.5 MB/s eta 0:00:01\r\u001b[K     |███████████████████             | 204 kB 7.5 MB/s eta 0:00:01\r\u001b[K     |███████████████████▉            | 215 kB 7.5 MB/s eta 0:00:01\r\u001b[K     |████████████████████▉           | 225 kB 7.5 MB/s eta 0:00:01\r\u001b[K     |█████████████████████▊          | 235 kB 7.5 MB/s eta 0:00:01\r\u001b[K     |██████████████████████▊         | 245 kB 7.5 MB/s eta 0:00:01\r\u001b[K     |███████████████████████▋        | 256 kB 7.5 MB/s eta 0:00:01\r\u001b[K     |████████████████████████▋       | 266 kB 7.5 MB/s eta 0:00:01\r\u001b[K     |█████████████████████████▋      | 276 kB 7.5 MB/s eta 0:00:01\r\u001b[K     |██████████████████████████▌     | 286 kB 7.5 MB/s eta 0:00:01\r\u001b[K     |███████████████████████████▌    | 296 kB 7.5 MB/s eta 0:00:01\r\u001b[K     |████████████████████████████▍   | 307 kB 7.5 MB/s eta 0:00:01\r\u001b[K     |█████████████████████████████▍  | 317 kB 7.5 MB/s eta 0:00:01\r\u001b[K     |██████████████████████████████▎ | 327 kB 7.5 MB/s eta 0:00:01\r\u001b[K     |███████████████████████████████▎| 337 kB 7.5 MB/s eta 0:00:01\r\u001b[K     |████████████████████████████████| 346 kB 7.5 MB/s \n",
            "\u001b[?25hRequirement already satisfied: scipy in /usr/local/lib/python3.7/dist-packages (from pyntcloud) (1.4.1)\n",
            "Requirement already satisfied: pandas in /usr/local/lib/python3.7/dist-packages (from pyntcloud) (1.1.5)\n",
            "Requirement already satisfied: numpy in /usr/local/lib/python3.7/dist-packages (from pyntcloud) (1.19.5)\n",
            "Requirement already satisfied: python-dateutil>=2.7.3 in /usr/local/lib/python3.7/dist-packages (from pandas->pyntcloud) (2.8.2)\n",
            "Requirement already satisfied: pytz>=2017.2 in /usr/local/lib/python3.7/dist-packages (from pandas->pyntcloud) (2018.9)\n",
            "Requirement already satisfied: six>=1.5 in /usr/local/lib/python3.7/dist-packages (from python-dateutil>=2.7.3->pandas->pyntcloud) (1.15.0)\n",
            "Installing collected packages: pyntcloud\n",
            "Successfully installed pyntcloud-0.1.5\n",
            "Collecting pymeshlab\n",
            "  Downloading pymeshlab-2021.10-cp37-cp37m-manylinux1_x86_64.whl (56.4 MB)\n",
            "\u001b[K     |████████████████████████████████| 56.4 MB 9.7 kB/s \n",
            "\u001b[?25hRequirement already satisfied: numpy in /usr/local/lib/python3.7/dist-packages (from pymeshlab) (1.19.5)\n",
            "Installing collected packages: pymeshlab\n",
            "Successfully installed pymeshlab-2021.10\n"
          ]
        }
      ],
      "source": [
        "# Post-processing\n",
        "# Outlier Removel\n",
        "!pip install open3d\n",
        "\n",
        "# Pymeshlab\n",
        "!pip install pyntcloud\n",
        "!pip install pymeshlab"
      ]
    },
    {
      "cell_type": "markdown",
      "metadata": {
        "id": "JFWCV-OGcF4U"
      },
      "source": [
        "### Vis-MVSNet (Can run in parallel)"
      ]
    },
    {
      "cell_type": "code",
      "execution_count": null,
      "metadata": {
        "colab": {
          "base_uri": "https://localhost:8080/"
        },
        "id": "EIESMyXLcCxN",
        "outputId": "ca1fd246-d02a-4f9b-9798-5a0f0f07e6dc"
      },
      "outputs": [
        {
          "name": "stdout",
          "output_type": "stream",
          "text": [
            "/content\n",
            "Cloning into 'MVSNet'...\n",
            "remote: Enumerating objects: 273, done.\u001b[K\n",
            "remote: Counting objects: 100% (93/93), done.\u001b[K\n",
            "remote: Compressing objects: 100% (18/18), done.\u001b[K\n",
            "remote: Total 273 (delta 78), reused 75 (delta 75), pack-reused 180\u001b[K\n",
            "Receiving objects: 100% (273/273), 6.58 MiB | 13.08 MiB/s, done.\n",
            "Resolving deltas: 100% (150/150), done.\n"
          ]
        }
      ],
      "source": [
        "# for colmap2mvsnet\n",
        "%cd /content\n",
        "!git clone https://github.com/YoYo000/MVSNet"
      ]
    },
    {
      "cell_type": "code",
      "execution_count": null,
      "metadata": {
        "colab": {
          "base_uri": "https://localhost:8080/"
        },
        "id": "D6b60NaPccLl",
        "outputId": "fe72d9ca-c51c-4831-eee4-04d2d248f0b2"
      },
      "outputs": [
        {
          "name": "stdout",
          "output_type": "stream",
          "text": [
            "Writing setup.sh\n"
          ]
        }
      ],
      "source": [
        "%%writefile setup.sh\n",
        "git clone https://github.com/NVIDIA/apex\n",
        "cd apex\n",
        "pip install -v --no-cache-dir ./"
      ]
    },
    {
      "cell_type": "code",
      "execution_count": null,
      "metadata": {
        "colab": {
          "base_uri": "https://localhost:8080/"
        },
        "id": "AJ7T8S78ccqj",
        "outputId": "2814dfb5-cfa0-4fe5-e49e-feeeb77cd416"
      },
      "outputs": [
        {
          "name": "stdout",
          "output_type": "stream",
          "text": [
            "Cloning into 'apex'...\n",
            "remote: Enumerating objects: 8639, done.\u001b[K\n",
            "remote: Counting objects: 100% (726/726), done.\u001b[K\n",
            "remote: Compressing objects: 100% (450/450), done.\u001b[K\n",
            "remote: Total 8639 (delta 430), reused 471 (delta 264), pack-reused 7913\u001b[K\n",
            "Receiving objects: 100% (8639/8639), 14.46 MiB | 21.22 MiB/s, done.\n",
            "Resolving deltas: 100% (5829/5829), done.\n",
            "Using pip 21.1.3 from /usr/local/lib/python3.7/dist-packages/pip (python 3.7)\n",
            "Value for scheme.platlib does not match. Please report this to <https://github.com/pypa/pip/issues/9617>\n",
            "distutils: /usr/local/lib/python3.7/dist-packages\n",
            "sysconfig: /usr/lib/python3.7/site-packages\n",
            "Value for scheme.purelib does not match. Please report this to <https://github.com/pypa/pip/issues/9617>\n",
            "distutils: /usr/local/lib/python3.7/dist-packages\n",
            "sysconfig: /usr/lib/python3.7/site-packages\n",
            "Value for scheme.headers does not match. Please report this to <https://github.com/pypa/pip/issues/9617>\n",
            "distutils: /usr/local/include/python3.7/UNKNOWN\n",
            "sysconfig: /usr/include/python3.7m/UNKNOWN\n",
            "Value for scheme.scripts does not match. Please report this to <https://github.com/pypa/pip/issues/9617>\n",
            "distutils: /usr/local/bin\n",
            "sysconfig: /usr/bin\n",
            "Value for scheme.data does not match. Please report this to <https://github.com/pypa/pip/issues/9617>\n",
            "distutils: /usr/local\n",
            "sysconfig: /usr\n",
            "Additional context:\n",
            "user = False\n",
            "home = None\n",
            "root = None\n",
            "prefix = None\n",
            "Non-user install because site-packages writeable\n",
            "Created temporary directory: /tmp/pip-ephem-wheel-cache-pj2zan7x\n",
            "Created temporary directory: /tmp/pip-req-tracker-bijexq69\n",
            "Initialized build tracking at /tmp/pip-req-tracker-bijexq69\n",
            "Created build tracker: /tmp/pip-req-tracker-bijexq69\n",
            "Entered build tracker: /tmp/pip-req-tracker-bijexq69\n",
            "Created temporary directory: /tmp/pip-install-xjuwiy6e\n",
            "Processing /content/apex\n",
            "  Created temporary directory: /tmp/pip-req-build-kaaun7ve\n",
            "\u001b[33m  DEPRECATION: A future pip version will change local packages to be built in-place without first copying to a temporary directory. We recommend you use --use-feature=in-tree-build to test your packages with this new behavior before it becomes the default.\n",
            "   pip 21.3 will remove support for this functionality. You can find discussion regarding this at https://github.com/pypa/pip/issues/7555.\u001b[0m\n",
            "  Added file:///content/apex to build tracker '/tmp/pip-req-tracker-bijexq69'\n",
            "    Running setup.py (path:/tmp/pip-req-build-kaaun7ve/setup.py) egg_info for package from file:///content/apex\n",
            "    Created temporary directory: /tmp/pip-pip-egg-info-ptj6t7l1\n",
            "    Running command python setup.py egg_info\n",
            "\n",
            "\n",
            "    torch.__version__  = 1.10.0+cu111\n",
            "\n",
            "\n",
            "    running egg_info\n",
            "    creating /tmp/pip-pip-egg-info-ptj6t7l1/apex.egg-info\n",
            "    writing /tmp/pip-pip-egg-info-ptj6t7l1/apex.egg-info/PKG-INFO\n",
            "    writing dependency_links to /tmp/pip-pip-egg-info-ptj6t7l1/apex.egg-info/dependency_links.txt\n",
            "    writing top-level names to /tmp/pip-pip-egg-info-ptj6t7l1/apex.egg-info/top_level.txt\n",
            "    writing manifest file '/tmp/pip-pip-egg-info-ptj6t7l1/apex.egg-info/SOURCES.txt'\n",
            "    adding license file 'LICENSE'\n",
            "    writing manifest file '/tmp/pip-pip-egg-info-ptj6t7l1/apex.egg-info/SOURCES.txt'\n",
            "    /tmp/pip-req-build-kaaun7ve/setup.py:67: UserWarning: Option --pyprof not specified. Not installing PyProf dependencies!\n",
            "      warnings.warn(\"Option --pyprof not specified. Not installing PyProf dependencies!\")\n",
            "  Source in /tmp/pip-req-build-kaaun7ve has version 0.1, which satisfies requirement apex==0.1 from file:///content/apex\n",
            "  Removed apex==0.1 from file:///content/apex from build tracker '/tmp/pip-req-tracker-bijexq69'\n",
            "Created temporary directory: /tmp/pip-unpack-1dx_tj36\n",
            "Building wheels for collected packages: apex\n",
            "  Created temporary directory: /tmp/pip-wheel-r28guy_z\n",
            "  Building wheel for apex (setup.py) ... \u001b[?25l  Destination directory: /tmp/pip-wheel-r28guy_z\n",
            "  Running command /usr/bin/python3 -u -c 'import io, os, sys, setuptools, tokenize; sys.argv[0] = '\"'\"'/tmp/pip-req-build-kaaun7ve/setup.py'\"'\"'; __file__='\"'\"'/tmp/pip-req-build-kaaun7ve/setup.py'\"'\"';f = getattr(tokenize, '\"'\"'open'\"'\"', open)(__file__) if os.path.exists(__file__) else io.StringIO('\"'\"'from setuptools import setup; setup()'\"'\"');code = f.read().replace('\"'\"'\\r\\n'\"'\"', '\"'\"'\\n'\"'\"');f.close();exec(compile(code, __file__, '\"'\"'exec'\"'\"'))' bdist_wheel -d /tmp/pip-wheel-r28guy_z\n",
            "\n",
            "\n",
            "  torch.__version__  = 1.10.0+cu111\n",
            "\n",
            "\n",
            "  /tmp/pip-req-build-kaaun7ve/setup.py:67: UserWarning: Option --pyprof not specified. Not installing PyProf dependencies!\n",
            "    warnings.warn(\"Option --pyprof not specified. Not installing PyProf dependencies!\")\n",
            "  running bdist_wheel\n",
            "  running build\n",
            "  running build_py\n",
            "  creating build\n",
            "  creating build/lib\n",
            "  creating build/lib/apex\n",
            "  copying apex/__init__.py -> build/lib/apex\n",
            "  copying apex/_autocast_utils.py -> build/lib/apex\n",
            "  creating build/lib/apex/amp\n",
            "  copying apex/amp/handle.py -> build/lib/apex/amp\n",
            "  copying apex/amp/scaler.py -> build/lib/apex/amp\n",
            "  copying apex/amp/compat.py -> build/lib/apex/amp\n",
            "  copying apex/amp/__init__.py -> build/lib/apex/amp\n",
            "  copying apex/amp/_process_optimizer.py -> build/lib/apex/amp\n",
            "  copying apex/amp/rnn_compat.py -> build/lib/apex/amp\n",
            "  copying apex/amp/_initialize.py -> build/lib/apex/amp\n",
            "  copying apex/amp/_amp_state.py -> build/lib/apex/amp\n",
            "  copying apex/amp/wrap.py -> build/lib/apex/amp\n",
            "  copying apex/amp/utils.py -> build/lib/apex/amp\n",
            "  copying apex/amp/amp.py -> build/lib/apex/amp\n",
            "  copying apex/amp/frontend.py -> build/lib/apex/amp\n",
            "  copying apex/amp/__version__.py -> build/lib/apex/amp\n",
            "  copying apex/amp/opt.py -> build/lib/apex/amp\n",
            "  creating build/lib/apex/multi_tensor_apply\n",
            "  copying apex/multi_tensor_apply/multi_tensor_apply.py -> build/lib/apex/multi_tensor_apply\n",
            "  copying apex/multi_tensor_apply/__init__.py -> build/lib/apex/multi_tensor_apply\n",
            "  creating build/lib/apex/pyprof\n",
            "  copying apex/pyprof/__init__.py -> build/lib/apex/pyprof\n",
            "  creating build/lib/apex/reparameterization\n",
            "  copying apex/reparameterization/__init__.py -> build/lib/apex/reparameterization\n",
            "  copying apex/reparameterization/reparameterization.py -> build/lib/apex/reparameterization\n",
            "  copying apex/reparameterization/weight_norm.py -> build/lib/apex/reparameterization\n",
            "  creating build/lib/apex/contrib\n",
            "  copying apex/contrib/__init__.py -> build/lib/apex/contrib\n",
            "  creating build/lib/apex/RNN\n",
            "  copying apex/RNN/RNNBackend.py -> build/lib/apex/RNN\n",
            "  copying apex/RNN/__init__.py -> build/lib/apex/RNN\n",
            "  copying apex/RNN/models.py -> build/lib/apex/RNN\n",
            "  copying apex/RNN/cells.py -> build/lib/apex/RNN\n",
            "  creating build/lib/apex/optimizers\n",
            "  copying apex/optimizers/fused_novograd.py -> build/lib/apex/optimizers\n",
            "  copying apex/optimizers/fused_adam.py -> build/lib/apex/optimizers\n",
            "  copying apex/optimizers/fused_adagrad.py -> build/lib/apex/optimizers\n",
            "  copying apex/optimizers/__init__.py -> build/lib/apex/optimizers\n",
            "  copying apex/optimizers/fused_lamb.py -> build/lib/apex/optimizers\n",
            "  copying apex/optimizers/fused_sgd.py -> build/lib/apex/optimizers\n",
            "  creating build/lib/apex/mlp\n",
            "  copying apex/mlp/__init__.py -> build/lib/apex/mlp\n",
            "  copying apex/mlp/mlp.py -> build/lib/apex/mlp\n",
            "  creating build/lib/apex/parallel\n",
            "  copying apex/parallel/sync_batchnorm.py -> build/lib/apex/parallel\n",
            "  copying apex/parallel/optimized_sync_batchnorm_kernel.py -> build/lib/apex/parallel\n",
            "  copying apex/parallel/__init__.py -> build/lib/apex/parallel\n",
            "  copying apex/parallel/LARC.py -> build/lib/apex/parallel\n",
            "  copying apex/parallel/optimized_sync_batchnorm.py -> build/lib/apex/parallel\n",
            "  copying apex/parallel/distributed.py -> build/lib/apex/parallel\n",
            "  copying apex/parallel/sync_batchnorm_kernel.py -> build/lib/apex/parallel\n",
            "  copying apex/parallel/multiproc.py -> build/lib/apex/parallel\n",
            "  creating build/lib/apex/fp16_utils\n",
            "  copying apex/fp16_utils/fp16util.py -> build/lib/apex/fp16_utils\n",
            "  copying apex/fp16_utils/__init__.py -> build/lib/apex/fp16_utils\n",
            "  copying apex/fp16_utils/loss_scaler.py -> build/lib/apex/fp16_utils\n",
            "  copying apex/fp16_utils/fp16_optimizer.py -> build/lib/apex/fp16_utils\n",
            "  creating build/lib/apex/transformer\n",
            "  copying apex/transformer/microbatches.py -> build/lib/apex/transformer\n",
            "  copying apex/transformer/__init__.py -> build/lib/apex/transformer\n",
            "  copying apex/transformer/log_util.py -> build/lib/apex/transformer\n",
            "  copying apex/transformer/parallel_state.py -> build/lib/apex/transformer\n",
            "  copying apex/transformer/utils.py -> build/lib/apex/transformer\n",
            "  copying apex/transformer/enums.py -> build/lib/apex/transformer\n",
            "  creating build/lib/apex/normalization\n",
            "  copying apex/normalization/fused_layer_norm.py -> build/lib/apex/normalization\n",
            "  copying apex/normalization/__init__.py -> build/lib/apex/normalization\n",
            "  creating build/lib/apex/fused_dense\n",
            "  copying apex/fused_dense/__init__.py -> build/lib/apex/fused_dense\n",
            "  copying apex/fused_dense/fused_dense.py -> build/lib/apex/fused_dense\n",
            "  creating build/lib/apex/amp/lists\n",
            "  copying apex/amp/lists/torch_overrides.py -> build/lib/apex/amp/lists\n",
            "  copying apex/amp/lists/__init__.py -> build/lib/apex/amp/lists\n",
            "  copying apex/amp/lists/tensor_overrides.py -> build/lib/apex/amp/lists\n",
            "  copying apex/amp/lists/functional_overrides.py -> build/lib/apex/amp/lists\n",
            "  creating build/lib/apex/pyprof/nvtx\n",
            "  copying apex/pyprof/nvtx/__init__.py -> build/lib/apex/pyprof/nvtx\n",
            "  copying apex/pyprof/nvtx/nvmarker.py -> build/lib/apex/pyprof/nvtx\n",
            "  creating build/lib/apex/pyprof/prof\n",
            "  copying apex/pyprof/prof/activation.py -> build/lib/apex/pyprof/prof\n",
            "  copying apex/pyprof/prof/prof.py -> build/lib/apex/pyprof/prof\n",
            "  copying apex/pyprof/prof/normalization.py -> build/lib/apex/pyprof/prof\n",
            "  copying apex/pyprof/prof/index_slice_join_mutate.py -> build/lib/apex/pyprof/prof\n",
            "  copying apex/pyprof/prof/__main__.py -> build/lib/apex/pyprof/prof\n",
            "  copying apex/pyprof/prof/optim.py -> build/lib/apex/pyprof/prof\n",
            "  copying apex/pyprof/prof/__init__.py -> build/lib/apex/pyprof/prof\n",
            "  copying apex/pyprof/prof/conv.py -> build/lib/apex/pyprof/prof\n",
            "  copying apex/pyprof/prof/convert.py -> build/lib/apex/pyprof/prof\n",
            "  copying apex/pyprof/prof/randomSample.py -> build/lib/apex/pyprof/prof\n",
            "  copying apex/pyprof/prof/misc.py -> build/lib/apex/pyprof/prof\n",
            "  copying apex/pyprof/prof/recurrentCell.py -> build/lib/apex/pyprof/prof\n",
            "  copying apex/pyprof/prof/loss.py -> build/lib/apex/pyprof/prof\n",
            "  copying apex/pyprof/prof/embedding.py -> build/lib/apex/pyprof/prof\n",
            "  copying apex/pyprof/prof/pointwise.py -> build/lib/apex/pyprof/prof\n",
            "  copying apex/pyprof/prof/base.py -> build/lib/apex/pyprof/prof\n",
            "  copying apex/pyprof/prof/softmax.py -> build/lib/apex/pyprof/prof\n",
            "  copying apex/pyprof/prof/linear.py -> build/lib/apex/pyprof/prof\n",
            "  copying apex/pyprof/prof/data.py -> build/lib/apex/pyprof/prof\n",
            "  copying apex/pyprof/prof/output.py -> build/lib/apex/pyprof/prof\n",
            "  copying apex/pyprof/prof/utility.py -> build/lib/apex/pyprof/prof\n",
            "  copying apex/pyprof/prof/dropout.py -> build/lib/apex/pyprof/prof\n",
            "  copying apex/pyprof/prof/reduction.py -> build/lib/apex/pyprof/prof\n",
            "  copying apex/pyprof/prof/usage.py -> build/lib/apex/pyprof/prof\n",
            "  copying apex/pyprof/prof/blas.py -> build/lib/apex/pyprof/prof\n",
            "  copying apex/pyprof/prof/pooling.py -> build/lib/apex/pyprof/prof\n",
            "  creating build/lib/apex/pyprof/parse\n",
            "  copying apex/pyprof/parse/kernel.py -> build/lib/apex/pyprof/parse\n",
            "  copying apex/pyprof/parse/__main__.py -> build/lib/apex/pyprof/parse\n",
            "  copying apex/pyprof/parse/parse.py -> build/lib/apex/pyprof/parse\n",
            "  copying apex/pyprof/parse/__init__.py -> build/lib/apex/pyprof/parse\n",
            "  copying apex/pyprof/parse/nvvp.py -> build/lib/apex/pyprof/parse\n",
            "  copying apex/pyprof/parse/db.py -> build/lib/apex/pyprof/parse\n",
            "  creating build/lib/apex/contrib/transducer\n",
            "  copying apex/contrib/transducer/__init__.py -> build/lib/apex/contrib/transducer\n",
            "  copying apex/contrib/transducer/transducer.py -> build/lib/apex/contrib/transducer\n",
            "  creating build/lib/apex/contrib/xentropy\n",
            "  copying apex/contrib/xentropy/softmax_xentropy.py -> build/lib/apex/contrib/xentropy\n",
            "  copying apex/contrib/xentropy/__init__.py -> build/lib/apex/contrib/xentropy\n",
            "  creating build/lib/apex/contrib/sparsity\n",
            "  copying apex/contrib/sparsity/__init__.py -> build/lib/apex/contrib/sparsity\n",
            "  copying apex/contrib/sparsity/asp.py -> build/lib/apex/contrib/sparsity\n",
            "  copying apex/contrib/sparsity/sparse_masklib.py -> build/lib/apex/contrib/sparsity\n",
            "  creating build/lib/apex/contrib/optimizers\n",
            "  copying apex/contrib/optimizers/fused_adam.py -> build/lib/apex/contrib/optimizers\n",
            "  copying apex/contrib/optimizers/__init__.py -> build/lib/apex/contrib/optimizers\n",
            "  copying apex/contrib/optimizers/distributed_fused_lamb.py -> build/lib/apex/contrib/optimizers\n",
            "  copying apex/contrib/optimizers/distributed_fused_adam_v2.py -> build/lib/apex/contrib/optimizers\n",
            "  copying apex/contrib/optimizers/distributed_fused_adam_v3.py -> build/lib/apex/contrib/optimizers\n",
            "  copying apex/contrib/optimizers/fused_lamb.py -> build/lib/apex/contrib/optimizers\n",
            "  copying apex/contrib/optimizers/fused_sgd.py -> build/lib/apex/contrib/optimizers\n",
            "  copying apex/contrib/optimizers/fp16_optimizer.py -> build/lib/apex/contrib/optimizers\n",
            "  copying apex/contrib/optimizers/distributed_fused_adam.py -> build/lib/apex/contrib/optimizers\n",
            "  creating build/lib/apex/contrib/groupbn\n",
            "  copying apex/contrib/groupbn/__init__.py -> build/lib/apex/contrib/groupbn\n",
            "  copying apex/contrib/groupbn/batch_norm.py -> build/lib/apex/contrib/groupbn\n",
            "  creating build/lib/apex/contrib/multihead_attn\n",
            "  copying apex/contrib/multihead_attn/self_multihead_attn.py -> build/lib/apex/contrib/multihead_attn\n",
            "  copying apex/contrib/multihead_attn/fast_encdec_multihead_attn_norm_add_func.py -> build/lib/apex/contrib/multihead_attn\n",
            "  copying apex/contrib/multihead_attn/__init__.py -> build/lib/apex/contrib/multihead_attn\n",
            "  copying apex/contrib/multihead_attn/encdec_multihead_attn.py -> build/lib/apex/contrib/multihead_attn\n",
            "  copying apex/contrib/multihead_attn/fast_encdec_multihead_attn_func.py -> build/lib/apex/contrib/multihead_attn\n",
            "  copying apex/contrib/multihead_attn/mask_softmax_dropout_func.py -> build/lib/apex/contrib/multihead_attn\n",
            "  copying apex/contrib/multihead_attn/self_multihead_attn_func.py -> build/lib/apex/contrib/multihead_attn\n",
            "  copying apex/contrib/multihead_attn/fast_self_multihead_attn_func.py -> build/lib/apex/contrib/multihead_attn\n",
            "  copying apex/contrib/multihead_attn/encdec_multihead_attn_func.py -> build/lib/apex/contrib/multihead_attn\n",
            "  copying apex/contrib/multihead_attn/fast_self_multihead_attn_norm_add_func.py -> build/lib/apex/contrib/multihead_attn\n",
            "  creating build/lib/apex/contrib/bottleneck\n",
            "  copying apex/contrib/bottleneck/test.py -> build/lib/apex/contrib/bottleneck\n",
            "  copying apex/contrib/bottleneck/__init__.py -> build/lib/apex/contrib/bottleneck\n",
            "  copying apex/contrib/bottleneck/bottleneck_module_test.py -> build/lib/apex/contrib/bottleneck\n",
            "  copying apex/contrib/bottleneck/bottleneck.py -> build/lib/apex/contrib/bottleneck\n",
            "  creating build/lib/apex/contrib/fmha\n",
            "  copying apex/contrib/fmha/__init__.py -> build/lib/apex/contrib/fmha\n",
            "  copying apex/contrib/fmha/fmha.py -> build/lib/apex/contrib/fmha\n",
            "  creating build/lib/apex/contrib/layer_norm\n",
            "  copying apex/contrib/layer_norm/__init__.py -> build/lib/apex/contrib/layer_norm\n",
            "  copying apex/contrib/layer_norm/layer_norm.py -> build/lib/apex/contrib/layer_norm\n",
            "  creating build/lib/apex/transformer/pipeline_parallel\n",
            "  copying apex/transformer/pipeline_parallel/_timers.py -> build/lib/apex/transformer/pipeline_parallel\n",
            "  copying apex/transformer/pipeline_parallel/p2p_communication.py -> build/lib/apex/transformer/pipeline_parallel\n",
            "  copying apex/transformer/pipeline_parallel/__init__.py -> build/lib/apex/transformer/pipeline_parallel\n",
            "  copying apex/transformer/pipeline_parallel/utils.py -> build/lib/apex/transformer/pipeline_parallel\n",
            "  creating build/lib/apex/transformer/amp\n",
            "  copying apex/transformer/amp/grad_scaler.py -> build/lib/apex/transformer/amp\n",
            "  copying apex/transformer/amp/__init__.py -> build/lib/apex/transformer/amp\n",
            "  creating build/lib/apex/transformer/tensor_parallel\n",
            "  copying apex/transformer/tensor_parallel/layers.py -> build/lib/apex/transformer/tensor_parallel\n",
            "  copying apex/transformer/tensor_parallel/__init__.py -> build/lib/apex/transformer/tensor_parallel\n",
            "  copying apex/transformer/tensor_parallel/mappings.py -> build/lib/apex/transformer/tensor_parallel\n",
            "  copying apex/transformer/tensor_parallel/random.py -> build/lib/apex/transformer/tensor_parallel\n",
            "  copying apex/transformer/tensor_parallel/memory.py -> build/lib/apex/transformer/tensor_parallel\n",
            "  copying apex/transformer/tensor_parallel/utils.py -> build/lib/apex/transformer/tensor_parallel\n",
            "  copying apex/transformer/tensor_parallel/cross_entropy.py -> build/lib/apex/transformer/tensor_parallel\n",
            "  copying apex/transformer/tensor_parallel/data.py -> build/lib/apex/transformer/tensor_parallel\n",
            "  creating build/lib/apex/transformer/testing\n",
            "  copying apex/transformer/testing/standalone_bert.py -> build/lib/apex/transformer/testing\n",
            "  copying apex/transformer/testing/global_vars.py -> build/lib/apex/transformer/testing\n",
            "  copying apex/transformer/testing/arguments.py -> build/lib/apex/transformer/testing\n",
            "  copying apex/transformer/testing/commons.py -> build/lib/apex/transformer/testing\n",
            "  copying apex/transformer/testing/__init__.py -> build/lib/apex/transformer/testing\n",
            "  copying apex/transformer/testing/standalone_gpt.py -> build/lib/apex/transformer/testing\n",
            "  creating build/lib/apex/transformer/functional\n",
            "  copying apex/transformer/functional/fused_softmax.py -> build/lib/apex/transformer/functional\n",
            "  copying apex/transformer/functional/__init__.py -> build/lib/apex/transformer/functional\n",
            "  creating build/lib/apex/transformer/_data\n",
            "  copying apex/transformer/_data/__init__.py -> build/lib/apex/transformer/_data\n",
            "  copying apex/transformer/_data/_batchsampler.py -> build/lib/apex/transformer/_data\n",
            "  creating build/lib/apex/transformer/pipeline_parallel/schedules\n",
            "  copying apex/transformer/pipeline_parallel/schedules/fwd_bwd_no_pipelining.py -> build/lib/apex/transformer/pipeline_parallel/schedules\n",
            "  copying apex/transformer/pipeline_parallel/schedules/fwd_bwd_pipelining_without_interleaving.py -> build/lib/apex/transformer/pipeline_parallel/schedules\n",
            "  copying apex/transformer/pipeline_parallel/schedules/__init__.py -> build/lib/apex/transformer/pipeline_parallel/schedules\n",
            "  copying apex/transformer/pipeline_parallel/schedules/common.py -> build/lib/apex/transformer/pipeline_parallel/schedules\n",
            "  copying apex/transformer/pipeline_parallel/schedules/fwd_bwd_pipelining_with_interleaving.py -> build/lib/apex/transformer/pipeline_parallel/schedules\n",
            "  installing to build/bdist.linux-x86_64/wheel\n",
            "  running install\n",
            "  running install_lib\n",
            "  creating build/bdist.linux-x86_64\n",
            "  creating build/bdist.linux-x86_64/wheel\n",
            "  creating build/bdist.linux-x86_64/wheel/apex\n",
            "  creating build/bdist.linux-x86_64/wheel/apex/amp\n",
            "  copying build/lib/apex/amp/handle.py -> build/bdist.linux-x86_64/wheel/apex/amp\n",
            "  copying build/lib/apex/amp/scaler.py -> build/bdist.linux-x86_64/wheel/apex/amp\n",
            "  copying build/lib/apex/amp/compat.py -> build/bdist.linux-x86_64/wheel/apex/amp\n",
            "  copying build/lib/apex/amp/__init__.py -> build/bdist.linux-x86_64/wheel/apex/amp\n",
            "  copying build/lib/apex/amp/_process_optimizer.py -> build/bdist.linux-x86_64/wheel/apex/amp\n",
            "  copying build/lib/apex/amp/rnn_compat.py -> build/bdist.linux-x86_64/wheel/apex/amp\n",
            "  copying build/lib/apex/amp/_initialize.py -> build/bdist.linux-x86_64/wheel/apex/amp\n",
            "  copying build/lib/apex/amp/_amp_state.py -> build/bdist.linux-x86_64/wheel/apex/amp\n",
            "  copying build/lib/apex/amp/wrap.py -> build/bdist.linux-x86_64/wheel/apex/amp\n",
            "  copying build/lib/apex/amp/utils.py -> build/bdist.linux-x86_64/wheel/apex/amp\n",
            "  copying build/lib/apex/amp/amp.py -> build/bdist.linux-x86_64/wheel/apex/amp\n",
            "  creating build/bdist.linux-x86_64/wheel/apex/amp/lists\n",
            "  copying build/lib/apex/amp/lists/torch_overrides.py -> build/bdist.linux-x86_64/wheel/apex/amp/lists\n",
            "  copying build/lib/apex/amp/lists/__init__.py -> build/bdist.linux-x86_64/wheel/apex/amp/lists\n",
            "  copying build/lib/apex/amp/lists/tensor_overrides.py -> build/bdist.linux-x86_64/wheel/apex/amp/lists\n",
            "  copying build/lib/apex/amp/lists/functional_overrides.py -> build/bdist.linux-x86_64/wheel/apex/amp/lists\n",
            "  copying build/lib/apex/amp/frontend.py -> build/bdist.linux-x86_64/wheel/apex/amp\n",
            "  copying build/lib/apex/amp/__version__.py -> build/bdist.linux-x86_64/wheel/apex/amp\n",
            "  copying build/lib/apex/amp/opt.py -> build/bdist.linux-x86_64/wheel/apex/amp\n",
            "  creating build/bdist.linux-x86_64/wheel/apex/multi_tensor_apply\n",
            "  copying build/lib/apex/multi_tensor_apply/multi_tensor_apply.py -> build/bdist.linux-x86_64/wheel/apex/multi_tensor_apply\n",
            "  copying build/lib/apex/multi_tensor_apply/__init__.py -> build/bdist.linux-x86_64/wheel/apex/multi_tensor_apply\n",
            "  creating build/bdist.linux-x86_64/wheel/apex/pyprof\n",
            "  creating build/bdist.linux-x86_64/wheel/apex/pyprof/nvtx\n",
            "  copying build/lib/apex/pyprof/nvtx/__init__.py -> build/bdist.linux-x86_64/wheel/apex/pyprof/nvtx\n",
            "  copying build/lib/apex/pyprof/nvtx/nvmarker.py -> build/bdist.linux-x86_64/wheel/apex/pyprof/nvtx\n",
            "  copying build/lib/apex/pyprof/__init__.py -> build/bdist.linux-x86_64/wheel/apex/pyprof\n",
            "  creating build/bdist.linux-x86_64/wheel/apex/pyprof/prof\n",
            "  copying build/lib/apex/pyprof/prof/activation.py -> build/bdist.linux-x86_64/wheel/apex/pyprof/prof\n",
            "  copying build/lib/apex/pyprof/prof/prof.py -> build/bdist.linux-x86_64/wheel/apex/pyprof/prof\n",
            "  copying build/lib/apex/pyprof/prof/normalization.py -> build/bdist.linux-x86_64/wheel/apex/pyprof/prof\n",
            "  copying build/lib/apex/pyprof/prof/index_slice_join_mutate.py -> build/bdist.linux-x86_64/wheel/apex/pyprof/prof\n",
            "  copying build/lib/apex/pyprof/prof/__main__.py -> build/bdist.linux-x86_64/wheel/apex/pyprof/prof\n",
            "  copying build/lib/apex/pyprof/prof/optim.py -> build/bdist.linux-x86_64/wheel/apex/pyprof/prof\n",
            "  copying build/lib/apex/pyprof/prof/__init__.py -> build/bdist.linux-x86_64/wheel/apex/pyprof/prof\n",
            "  copying build/lib/apex/pyprof/prof/conv.py -> build/bdist.linux-x86_64/wheel/apex/pyprof/prof\n",
            "  copying build/lib/apex/pyprof/prof/convert.py -> build/bdist.linux-x86_64/wheel/apex/pyprof/prof\n",
            "  copying build/lib/apex/pyprof/prof/randomSample.py -> build/bdist.linux-x86_64/wheel/apex/pyprof/prof\n",
            "  copying build/lib/apex/pyprof/prof/misc.py -> build/bdist.linux-x86_64/wheel/apex/pyprof/prof\n",
            "  copying build/lib/apex/pyprof/prof/recurrentCell.py -> build/bdist.linux-x86_64/wheel/apex/pyprof/prof\n",
            "  copying build/lib/apex/pyprof/prof/loss.py -> build/bdist.linux-x86_64/wheel/apex/pyprof/prof\n",
            "  copying build/lib/apex/pyprof/prof/embedding.py -> build/bdist.linux-x86_64/wheel/apex/pyprof/prof\n",
            "  copying build/lib/apex/pyprof/prof/pointwise.py -> build/bdist.linux-x86_64/wheel/apex/pyprof/prof\n",
            "  copying build/lib/apex/pyprof/prof/base.py -> build/bdist.linux-x86_64/wheel/apex/pyprof/prof\n",
            "  copying build/lib/apex/pyprof/prof/softmax.py -> build/bdist.linux-x86_64/wheel/apex/pyprof/prof\n",
            "  copying build/lib/apex/pyprof/prof/linear.py -> build/bdist.linux-x86_64/wheel/apex/pyprof/prof\n",
            "  copying build/lib/apex/pyprof/prof/data.py -> build/bdist.linux-x86_64/wheel/apex/pyprof/prof\n",
            "  copying build/lib/apex/pyprof/prof/output.py -> build/bdist.linux-x86_64/wheel/apex/pyprof/prof\n",
            "  copying build/lib/apex/pyprof/prof/utility.py -> build/bdist.linux-x86_64/wheel/apex/pyprof/prof\n",
            "  copying build/lib/apex/pyprof/prof/dropout.py -> build/bdist.linux-x86_64/wheel/apex/pyprof/prof\n",
            "  copying build/lib/apex/pyprof/prof/reduction.py -> build/bdist.linux-x86_64/wheel/apex/pyprof/prof\n",
            "  copying build/lib/apex/pyprof/prof/usage.py -> build/bdist.linux-x86_64/wheel/apex/pyprof/prof\n",
            "  copying build/lib/apex/pyprof/prof/blas.py -> build/bdist.linux-x86_64/wheel/apex/pyprof/prof\n",
            "  copying build/lib/apex/pyprof/prof/pooling.py -> build/bdist.linux-x86_64/wheel/apex/pyprof/prof\n",
            "  creating build/bdist.linux-x86_64/wheel/apex/pyprof/parse\n",
            "  copying build/lib/apex/pyprof/parse/kernel.py -> build/bdist.linux-x86_64/wheel/apex/pyprof/parse\n",
            "  copying build/lib/apex/pyprof/parse/__main__.py -> build/bdist.linux-x86_64/wheel/apex/pyprof/parse\n",
            "  copying build/lib/apex/pyprof/parse/parse.py -> build/bdist.linux-x86_64/wheel/apex/pyprof/parse\n",
            "  copying build/lib/apex/pyprof/parse/__init__.py -> build/bdist.linux-x86_64/wheel/apex/pyprof/parse\n",
            "  copying build/lib/apex/pyprof/parse/nvvp.py -> build/bdist.linux-x86_64/wheel/apex/pyprof/parse\n",
            "  copying build/lib/apex/pyprof/parse/db.py -> build/bdist.linux-x86_64/wheel/apex/pyprof/parse\n",
            "  creating build/bdist.linux-x86_64/wheel/apex/reparameterization\n",
            "  copying build/lib/apex/reparameterization/__init__.py -> build/bdist.linux-x86_64/wheel/apex/reparameterization\n",
            "  copying build/lib/apex/reparameterization/reparameterization.py -> build/bdist.linux-x86_64/wheel/apex/reparameterization\n",
            "  copying build/lib/apex/reparameterization/weight_norm.py -> build/bdist.linux-x86_64/wheel/apex/reparameterization\n",
            "  creating build/bdist.linux-x86_64/wheel/apex/contrib\n",
            "  creating build/bdist.linux-x86_64/wheel/apex/contrib/transducer\n",
            "  copying build/lib/apex/contrib/transducer/__init__.py -> build/bdist.linux-x86_64/wheel/apex/contrib/transducer\n",
            "  copying build/lib/apex/contrib/transducer/transducer.py -> build/bdist.linux-x86_64/wheel/apex/contrib/transducer\n",
            "  creating build/bdist.linux-x86_64/wheel/apex/contrib/xentropy\n",
            "  copying build/lib/apex/contrib/xentropy/softmax_xentropy.py -> build/bdist.linux-x86_64/wheel/apex/contrib/xentropy\n",
            "  copying build/lib/apex/contrib/xentropy/__init__.py -> build/bdist.linux-x86_64/wheel/apex/contrib/xentropy\n",
            "  creating build/bdist.linux-x86_64/wheel/apex/contrib/sparsity\n",
            "  copying build/lib/apex/contrib/sparsity/__init__.py -> build/bdist.linux-x86_64/wheel/apex/contrib/sparsity\n",
            "  copying build/lib/apex/contrib/sparsity/asp.py -> build/bdist.linux-x86_64/wheel/apex/contrib/sparsity\n",
            "  copying build/lib/apex/contrib/sparsity/sparse_masklib.py -> build/bdist.linux-x86_64/wheel/apex/contrib/sparsity\n",
            "  creating build/bdist.linux-x86_64/wheel/apex/contrib/optimizers\n",
            "  copying build/lib/apex/contrib/optimizers/fused_adam.py -> build/bdist.linux-x86_64/wheel/apex/contrib/optimizers\n",
            "  copying build/lib/apex/contrib/optimizers/__init__.py -> build/bdist.linux-x86_64/wheel/apex/contrib/optimizers\n",
            "  copying build/lib/apex/contrib/optimizers/distributed_fused_lamb.py -> build/bdist.linux-x86_64/wheel/apex/contrib/optimizers\n",
            "  copying build/lib/apex/contrib/optimizers/distributed_fused_adam_v2.py -> build/bdist.linux-x86_64/wheel/apex/contrib/optimizers\n",
            "  copying build/lib/apex/contrib/optimizers/distributed_fused_adam_v3.py -> build/bdist.linux-x86_64/wheel/apex/contrib/optimizers\n",
            "  copying build/lib/apex/contrib/optimizers/fused_lamb.py -> build/bdist.linux-x86_64/wheel/apex/contrib/optimizers\n",
            "  copying build/lib/apex/contrib/optimizers/fused_sgd.py -> build/bdist.linux-x86_64/wheel/apex/contrib/optimizers\n",
            "  copying build/lib/apex/contrib/optimizers/fp16_optimizer.py -> build/bdist.linux-x86_64/wheel/apex/contrib/optimizers\n",
            "  copying build/lib/apex/contrib/optimizers/distributed_fused_adam.py -> build/bdist.linux-x86_64/wheel/apex/contrib/optimizers\n",
            "  copying build/lib/apex/contrib/__init__.py -> build/bdist.linux-x86_64/wheel/apex/contrib\n",
            "  creating build/bdist.linux-x86_64/wheel/apex/contrib/groupbn\n",
            "  copying build/lib/apex/contrib/groupbn/__init__.py -> build/bdist.linux-x86_64/wheel/apex/contrib/groupbn\n",
            "  copying build/lib/apex/contrib/groupbn/batch_norm.py -> build/bdist.linux-x86_64/wheel/apex/contrib/groupbn\n",
            "  creating build/bdist.linux-x86_64/wheel/apex/contrib/multihead_attn\n",
            "  copying build/lib/apex/contrib/multihead_attn/self_multihead_attn.py -> build/bdist.linux-x86_64/wheel/apex/contrib/multihead_attn\n",
            "  copying build/lib/apex/contrib/multihead_attn/fast_encdec_multihead_attn_norm_add_func.py -> build/bdist.linux-x86_64/wheel/apex/contrib/multihead_attn\n",
            "  copying build/lib/apex/contrib/multihead_attn/__init__.py -> build/bdist.linux-x86_64/wheel/apex/contrib/multihead_attn\n",
            "  copying build/lib/apex/contrib/multihead_attn/encdec_multihead_attn.py -> build/bdist.linux-x86_64/wheel/apex/contrib/multihead_attn\n",
            "  copying build/lib/apex/contrib/multihead_attn/fast_encdec_multihead_attn_func.py -> build/bdist.linux-x86_64/wheel/apex/contrib/multihead_attn\n",
            "  copying build/lib/apex/contrib/multihead_attn/mask_softmax_dropout_func.py -> build/bdist.linux-x86_64/wheel/apex/contrib/multihead_attn\n",
            "  copying build/lib/apex/contrib/multihead_attn/self_multihead_attn_func.py -> build/bdist.linux-x86_64/wheel/apex/contrib/multihead_attn\n",
            "  copying build/lib/apex/contrib/multihead_attn/fast_self_multihead_attn_func.py -> build/bdist.linux-x86_64/wheel/apex/contrib/multihead_attn\n",
            "  copying build/lib/apex/contrib/multihead_attn/encdec_multihead_attn_func.py -> build/bdist.linux-x86_64/wheel/apex/contrib/multihead_attn\n",
            "  copying build/lib/apex/contrib/multihead_attn/fast_self_multihead_attn_norm_add_func.py -> build/bdist.linux-x86_64/wheel/apex/contrib/multihead_attn\n",
            "  creating build/bdist.linux-x86_64/wheel/apex/contrib/bottleneck\n",
            "  copying build/lib/apex/contrib/bottleneck/test.py -> build/bdist.linux-x86_64/wheel/apex/contrib/bottleneck\n",
            "  copying build/lib/apex/contrib/bottleneck/__init__.py -> build/bdist.linux-x86_64/wheel/apex/contrib/bottleneck\n",
            "  copying build/lib/apex/contrib/bottleneck/bottleneck_module_test.py -> build/bdist.linux-x86_64/wheel/apex/contrib/bottleneck\n",
            "  copying build/lib/apex/contrib/bottleneck/bottleneck.py -> build/bdist.linux-x86_64/wheel/apex/contrib/bottleneck\n",
            "  creating build/bdist.linux-x86_64/wheel/apex/contrib/fmha\n",
            "  copying build/lib/apex/contrib/fmha/__init__.py -> build/bdist.linux-x86_64/wheel/apex/contrib/fmha\n",
            "  copying build/lib/apex/contrib/fmha/fmha.py -> build/bdist.linux-x86_64/wheel/apex/contrib/fmha\n",
            "  creating build/bdist.linux-x86_64/wheel/apex/contrib/layer_norm\n",
            "  copying build/lib/apex/contrib/layer_norm/__init__.py -> build/bdist.linux-x86_64/wheel/apex/contrib/layer_norm\n",
            "  copying build/lib/apex/contrib/layer_norm/layer_norm.py -> build/bdist.linux-x86_64/wheel/apex/contrib/layer_norm\n",
            "  creating build/bdist.linux-x86_64/wheel/apex/RNN\n",
            "  copying build/lib/apex/RNN/RNNBackend.py -> build/bdist.linux-x86_64/wheel/apex/RNN\n",
            "  copying build/lib/apex/RNN/__init__.py -> build/bdist.linux-x86_64/wheel/apex/RNN\n",
            "  copying build/lib/apex/RNN/models.py -> build/bdist.linux-x86_64/wheel/apex/RNN\n",
            "  copying build/lib/apex/RNN/cells.py -> build/bdist.linux-x86_64/wheel/apex/RNN\n",
            "  creating build/bdist.linux-x86_64/wheel/apex/optimizers\n",
            "  copying build/lib/apex/optimizers/fused_novograd.py -> build/bdist.linux-x86_64/wheel/apex/optimizers\n",
            "  copying build/lib/apex/optimizers/fused_adam.py -> build/bdist.linux-x86_64/wheel/apex/optimizers\n",
            "  copying build/lib/apex/optimizers/fused_adagrad.py -> build/bdist.linux-x86_64/wheel/apex/optimizers\n",
            "  copying build/lib/apex/optimizers/__init__.py -> build/bdist.linux-x86_64/wheel/apex/optimizers\n",
            "  copying build/lib/apex/optimizers/fused_lamb.py -> build/bdist.linux-x86_64/wheel/apex/optimizers\n",
            "  copying build/lib/apex/optimizers/fused_sgd.py -> build/bdist.linux-x86_64/wheel/apex/optimizers\n",
            "  copying build/lib/apex/__init__.py -> build/bdist.linux-x86_64/wheel/apex\n",
            "  copying build/lib/apex/_autocast_utils.py -> build/bdist.linux-x86_64/wheel/apex\n",
            "  creating build/bdist.linux-x86_64/wheel/apex/mlp\n",
            "  copying build/lib/apex/mlp/__init__.py -> build/bdist.linux-x86_64/wheel/apex/mlp\n",
            "  copying build/lib/apex/mlp/mlp.py -> build/bdist.linux-x86_64/wheel/apex/mlp\n",
            "  creating build/bdist.linux-x86_64/wheel/apex/parallel\n",
            "  copying build/lib/apex/parallel/sync_batchnorm.py -> build/bdist.linux-x86_64/wheel/apex/parallel\n",
            "  copying build/lib/apex/parallel/optimized_sync_batchnorm_kernel.py -> build/bdist.linux-x86_64/wheel/apex/parallel\n",
            "  copying build/lib/apex/parallel/__init__.py -> build/bdist.linux-x86_64/wheel/apex/parallel\n",
            "  copying build/lib/apex/parallel/LARC.py -> build/bdist.linux-x86_64/wheel/apex/parallel\n",
            "  copying build/lib/apex/parallel/optimized_sync_batchnorm.py -> build/bdist.linux-x86_64/wheel/apex/parallel\n",
            "  copying build/lib/apex/parallel/distributed.py -> build/bdist.linux-x86_64/wheel/apex/parallel\n",
            "  copying build/lib/apex/parallel/sync_batchnorm_kernel.py -> build/bdist.linux-x86_64/wheel/apex/parallel\n",
            "  copying build/lib/apex/parallel/multiproc.py -> build/bdist.linux-x86_64/wheel/apex/parallel\n",
            "  creating build/bdist.linux-x86_64/wheel/apex/fp16_utils\n",
            "  copying build/lib/apex/fp16_utils/fp16util.py -> build/bdist.linux-x86_64/wheel/apex/fp16_utils\n",
            "  copying build/lib/apex/fp16_utils/__init__.py -> build/bdist.linux-x86_64/wheel/apex/fp16_utils\n",
            "  copying build/lib/apex/fp16_utils/loss_scaler.py -> build/bdist.linux-x86_64/wheel/apex/fp16_utils\n",
            "  copying build/lib/apex/fp16_utils/fp16_optimizer.py -> build/bdist.linux-x86_64/wheel/apex/fp16_utils\n",
            "  creating build/bdist.linux-x86_64/wheel/apex/transformer\n",
            "  creating build/bdist.linux-x86_64/wheel/apex/transformer/pipeline_parallel\n",
            "  copying build/lib/apex/transformer/pipeline_parallel/_timers.py -> build/bdist.linux-x86_64/wheel/apex/transformer/pipeline_parallel\n",
            "  copying build/lib/apex/transformer/pipeline_parallel/p2p_communication.py -> build/bdist.linux-x86_64/wheel/apex/transformer/pipeline_parallel\n",
            "  copying build/lib/apex/transformer/pipeline_parallel/__init__.py -> build/bdist.linux-x86_64/wheel/apex/transformer/pipeline_parallel\n",
            "  copying build/lib/apex/transformer/pipeline_parallel/utils.py -> build/bdist.linux-x86_64/wheel/apex/transformer/pipeline_parallel\n",
            "  creating build/bdist.linux-x86_64/wheel/apex/transformer/pipeline_parallel/schedules\n",
            "  copying build/lib/apex/transformer/pipeline_parallel/schedules/fwd_bwd_no_pipelining.py -> build/bdist.linux-x86_64/wheel/apex/transformer/pipeline_parallel/schedules\n",
            "  copying build/lib/apex/transformer/pipeline_parallel/schedules/fwd_bwd_pipelining_without_interleaving.py -> build/bdist.linux-x86_64/wheel/apex/transformer/pipeline_parallel/schedules\n",
            "  copying build/lib/apex/transformer/pipeline_parallel/schedules/__init__.py -> build/bdist.linux-x86_64/wheel/apex/transformer/pipeline_parallel/schedules\n",
            "  copying build/lib/apex/transformer/pipeline_parallel/schedules/common.py -> build/bdist.linux-x86_64/wheel/apex/transformer/pipeline_parallel/schedules\n",
            "  copying build/lib/apex/transformer/pipeline_parallel/schedules/fwd_bwd_pipelining_with_interleaving.py -> build/bdist.linux-x86_64/wheel/apex/transformer/pipeline_parallel/schedules\n",
            "  creating build/bdist.linux-x86_64/wheel/apex/transformer/amp\n",
            "  copying build/lib/apex/transformer/amp/grad_scaler.py -> build/bdist.linux-x86_64/wheel/apex/transformer/amp\n",
            "  copying build/lib/apex/transformer/amp/__init__.py -> build/bdist.linux-x86_64/wheel/apex/transformer/amp\n",
            "  copying build/lib/apex/transformer/microbatches.py -> build/bdist.linux-x86_64/wheel/apex/transformer\n",
            "  copying build/lib/apex/transformer/__init__.py -> build/bdist.linux-x86_64/wheel/apex/transformer\n",
            "  copying build/lib/apex/transformer/log_util.py -> build/bdist.linux-x86_64/wheel/apex/transformer\n",
            "  copying build/lib/apex/transformer/parallel_state.py -> build/bdist.linux-x86_64/wheel/apex/transformer\n",
            "  creating build/bdist.linux-x86_64/wheel/apex/transformer/tensor_parallel\n",
            "  copying build/lib/apex/transformer/tensor_parallel/layers.py -> build/bdist.linux-x86_64/wheel/apex/transformer/tensor_parallel\n",
            "  copying build/lib/apex/transformer/tensor_parallel/__init__.py -> build/bdist.linux-x86_64/wheel/apex/transformer/tensor_parallel\n",
            "  copying build/lib/apex/transformer/tensor_parallel/mappings.py -> build/bdist.linux-x86_64/wheel/apex/transformer/tensor_parallel\n",
            "  copying build/lib/apex/transformer/tensor_parallel/random.py -> build/bdist.linux-x86_64/wheel/apex/transformer/tensor_parallel\n",
            "  copying build/lib/apex/transformer/tensor_parallel/memory.py -> build/bdist.linux-x86_64/wheel/apex/transformer/tensor_parallel\n",
            "  copying build/lib/apex/transformer/tensor_parallel/utils.py -> build/bdist.linux-x86_64/wheel/apex/transformer/tensor_parallel\n",
            "  copying build/lib/apex/transformer/tensor_parallel/cross_entropy.py -> build/bdist.linux-x86_64/wheel/apex/transformer/tensor_parallel\n",
            "  copying build/lib/apex/transformer/tensor_parallel/data.py -> build/bdist.linux-x86_64/wheel/apex/transformer/tensor_parallel\n",
            "  creating build/bdist.linux-x86_64/wheel/apex/transformer/testing\n",
            "  copying build/lib/apex/transformer/testing/standalone_bert.py -> build/bdist.linux-x86_64/wheel/apex/transformer/testing\n",
            "  copying build/lib/apex/transformer/testing/global_vars.py -> build/bdist.linux-x86_64/wheel/apex/transformer/testing\n",
            "  copying build/lib/apex/transformer/testing/arguments.py -> build/bdist.linux-x86_64/wheel/apex/transformer/testing\n",
            "  copying build/lib/apex/transformer/testing/commons.py -> build/bdist.linux-x86_64/wheel/apex/transformer/testing\n",
            "  copying build/lib/apex/transformer/testing/__init__.py -> build/bdist.linux-x86_64/wheel/apex/transformer/testing\n",
            "  copying build/lib/apex/transformer/testing/standalone_gpt.py -> build/bdist.linux-x86_64/wheel/apex/transformer/testing\n",
            "  creating build/bdist.linux-x86_64/wheel/apex/transformer/functional\n",
            "  copying build/lib/apex/transformer/functional/fused_softmax.py -> build/bdist.linux-x86_64/wheel/apex/transformer/functional\n",
            "  copying build/lib/apex/transformer/functional/__init__.py -> build/bdist.linux-x86_64/wheel/apex/transformer/functional\n",
            "  copying build/lib/apex/transformer/utils.py -> build/bdist.linux-x86_64/wheel/apex/transformer\n",
            "  creating build/bdist.linux-x86_64/wheel/apex/transformer/_data\n",
            "  copying build/lib/apex/transformer/_data/__init__.py -> build/bdist.linux-x86_64/wheel/apex/transformer/_data\n",
            "  copying build/lib/apex/transformer/_data/_batchsampler.py -> build/bdist.linux-x86_64/wheel/apex/transformer/_data\n",
            "  copying build/lib/apex/transformer/enums.py -> build/bdist.linux-x86_64/wheel/apex/transformer\n",
            "  creating build/bdist.linux-x86_64/wheel/apex/normalization\n",
            "  copying build/lib/apex/normalization/fused_layer_norm.py -> build/bdist.linux-x86_64/wheel/apex/normalization\n",
            "  copying build/lib/apex/normalization/__init__.py -> build/bdist.linux-x86_64/wheel/apex/normalization\n",
            "  creating build/bdist.linux-x86_64/wheel/apex/fused_dense\n",
            "  copying build/lib/apex/fused_dense/__init__.py -> build/bdist.linux-x86_64/wheel/apex/fused_dense\n",
            "  copying build/lib/apex/fused_dense/fused_dense.py -> build/bdist.linux-x86_64/wheel/apex/fused_dense\n",
            "  running install_egg_info\n",
            "  running egg_info\n",
            "  creating apex.egg-info\n",
            "  writing apex.egg-info/PKG-INFO\n",
            "  writing dependency_links to apex.egg-info/dependency_links.txt\n",
            "  writing top-level names to apex.egg-info/top_level.txt\n",
            "  writing manifest file 'apex.egg-info/SOURCES.txt'\n",
            "  adding license file 'LICENSE'\n",
            "  writing manifest file 'apex.egg-info/SOURCES.txt'\n",
            "  Copying apex.egg-info to build/bdist.linux-x86_64/wheel/apex-0.1-py3.7.egg-info\n",
            "  running install_scripts\n",
            "  adding license file \"LICENSE\" (matched pattern \"LICEN[CS]E*\")\n",
            "  creating build/bdist.linux-x86_64/wheel/apex-0.1.dist-info/WHEEL\n",
            "  creating '/tmp/pip-wheel-r28guy_z/apex-0.1-py3-none-any.whl' and adding 'build/bdist.linux-x86_64/wheel' to it\n",
            "  adding 'apex/__init__.py'\n",
            "  adding 'apex/_autocast_utils.py'\n",
            "  adding 'apex/RNN/RNNBackend.py'\n",
            "  adding 'apex/RNN/__init__.py'\n",
            "  adding 'apex/RNN/cells.py'\n",
            "  adding 'apex/RNN/models.py'\n",
            "  adding 'apex/amp/__init__.py'\n",
            "  adding 'apex/amp/__version__.py'\n",
            "  adding 'apex/amp/_amp_state.py'\n",
            "  adding 'apex/amp/_initialize.py'\n",
            "  adding 'apex/amp/_process_optimizer.py'\n",
            "  adding 'apex/amp/amp.py'\n",
            "  adding 'apex/amp/compat.py'\n",
            "  adding 'apex/amp/frontend.py'\n",
            "  adding 'apex/amp/handle.py'\n",
            "  adding 'apex/amp/opt.py'\n",
            "  adding 'apex/amp/rnn_compat.py'\n",
            "  adding 'apex/amp/scaler.py'\n",
            "  adding 'apex/amp/utils.py'\n",
            "  adding 'apex/amp/wrap.py'\n",
            "  adding 'apex/amp/lists/__init__.py'\n",
            "  adding 'apex/amp/lists/functional_overrides.py'\n",
            "  adding 'apex/amp/lists/tensor_overrides.py'\n",
            "  adding 'apex/amp/lists/torch_overrides.py'\n",
            "  adding 'apex/contrib/__init__.py'\n",
            "  adding 'apex/contrib/bottleneck/__init__.py'\n",
            "  adding 'apex/contrib/bottleneck/bottleneck.py'\n",
            "  adding 'apex/contrib/bottleneck/bottleneck_module_test.py'\n",
            "  adding 'apex/contrib/bottleneck/test.py'\n",
            "  adding 'apex/contrib/fmha/__init__.py'\n",
            "  adding 'apex/contrib/fmha/fmha.py'\n",
            "  adding 'apex/contrib/groupbn/__init__.py'\n",
            "  adding 'apex/contrib/groupbn/batch_norm.py'\n",
            "  adding 'apex/contrib/layer_norm/__init__.py'\n",
            "  adding 'apex/contrib/layer_norm/layer_norm.py'\n",
            "  adding 'apex/contrib/multihead_attn/__init__.py'\n",
            "  adding 'apex/contrib/multihead_attn/encdec_multihead_attn.py'\n",
            "  adding 'apex/contrib/multihead_attn/encdec_multihead_attn_func.py'\n",
            "  adding 'apex/contrib/multihead_attn/fast_encdec_multihead_attn_func.py'\n",
            "  adding 'apex/contrib/multihead_attn/fast_encdec_multihead_attn_norm_add_func.py'\n",
            "  adding 'apex/contrib/multihead_attn/fast_self_multihead_attn_func.py'\n",
            "  adding 'apex/contrib/multihead_attn/fast_self_multihead_attn_norm_add_func.py'\n",
            "  adding 'apex/contrib/multihead_attn/mask_softmax_dropout_func.py'\n",
            "  adding 'apex/contrib/multihead_attn/self_multihead_attn.py'\n",
            "  adding 'apex/contrib/multihead_attn/self_multihead_attn_func.py'\n",
            "  adding 'apex/contrib/optimizers/__init__.py'\n",
            "  adding 'apex/contrib/optimizers/distributed_fused_adam.py'\n",
            "  adding 'apex/contrib/optimizers/distributed_fused_adam_v2.py'\n",
            "  adding 'apex/contrib/optimizers/distributed_fused_adam_v3.py'\n",
            "  adding 'apex/contrib/optimizers/distributed_fused_lamb.py'\n",
            "  adding 'apex/contrib/optimizers/fp16_optimizer.py'\n",
            "  adding 'apex/contrib/optimizers/fused_adam.py'\n",
            "  adding 'apex/contrib/optimizers/fused_lamb.py'\n",
            "  adding 'apex/contrib/optimizers/fused_sgd.py'\n",
            "  adding 'apex/contrib/sparsity/__init__.py'\n",
            "  adding 'apex/contrib/sparsity/asp.py'\n",
            "  adding 'apex/contrib/sparsity/sparse_masklib.py'\n",
            "  adding 'apex/contrib/transducer/__init__.py'\n",
            "  adding 'apex/contrib/transducer/transducer.py'\n",
            "  adding 'apex/contrib/xentropy/__init__.py'\n",
            "  adding 'apex/contrib/xentropy/softmax_xentropy.py'\n",
            "  adding 'apex/fp16_utils/__init__.py'\n",
            "  adding 'apex/fp16_utils/fp16_optimizer.py'\n",
            "  adding 'apex/fp16_utils/fp16util.py'\n",
            "  adding 'apex/fp16_utils/loss_scaler.py'\n",
            "  adding 'apex/fused_dense/__init__.py'\n",
            "  adding 'apex/fused_dense/fused_dense.py'\n",
            "  adding 'apex/mlp/__init__.py'\n",
            "  adding 'apex/mlp/mlp.py'\n",
            "  adding 'apex/multi_tensor_apply/__init__.py'\n",
            "  adding 'apex/multi_tensor_apply/multi_tensor_apply.py'\n",
            "  adding 'apex/normalization/__init__.py'\n",
            "  adding 'apex/normalization/fused_layer_norm.py'\n",
            "  adding 'apex/optimizers/__init__.py'\n",
            "  adding 'apex/optimizers/fused_adagrad.py'\n",
            "  adding 'apex/optimizers/fused_adam.py'\n",
            "  adding 'apex/optimizers/fused_lamb.py'\n",
            "  adding 'apex/optimizers/fused_novograd.py'\n",
            "  adding 'apex/optimizers/fused_sgd.py'\n",
            "  adding 'apex/parallel/LARC.py'\n",
            "  adding 'apex/parallel/__init__.py'\n",
            "  adding 'apex/parallel/distributed.py'\n",
            "  adding 'apex/parallel/multiproc.py'\n",
            "  adding 'apex/parallel/optimized_sync_batchnorm.py'\n",
            "  adding 'apex/parallel/optimized_sync_batchnorm_kernel.py'\n",
            "  adding 'apex/parallel/sync_batchnorm.py'\n",
            "  adding 'apex/parallel/sync_batchnorm_kernel.py'\n",
            "  adding 'apex/pyprof/__init__.py'\n",
            "  adding 'apex/pyprof/nvtx/__init__.py'\n",
            "  adding 'apex/pyprof/nvtx/nvmarker.py'\n",
            "  adding 'apex/pyprof/parse/__init__.py'\n",
            "  adding 'apex/pyprof/parse/__main__.py'\n",
            "  adding 'apex/pyprof/parse/db.py'\n",
            "  adding 'apex/pyprof/parse/kernel.py'\n",
            "  adding 'apex/pyprof/parse/nvvp.py'\n",
            "  adding 'apex/pyprof/parse/parse.py'\n",
            "  adding 'apex/pyprof/prof/__init__.py'\n",
            "  adding 'apex/pyprof/prof/__main__.py'\n",
            "  adding 'apex/pyprof/prof/activation.py'\n",
            "  adding 'apex/pyprof/prof/base.py'\n",
            "  adding 'apex/pyprof/prof/blas.py'\n",
            "  adding 'apex/pyprof/prof/conv.py'\n",
            "  adding 'apex/pyprof/prof/convert.py'\n",
            "  adding 'apex/pyprof/prof/data.py'\n",
            "  adding 'apex/pyprof/prof/dropout.py'\n",
            "  adding 'apex/pyprof/prof/embedding.py'\n",
            "  adding 'apex/pyprof/prof/index_slice_join_mutate.py'\n",
            "  adding 'apex/pyprof/prof/linear.py'\n",
            "  adding 'apex/pyprof/prof/loss.py'\n",
            "  adding 'apex/pyprof/prof/misc.py'\n",
            "  adding 'apex/pyprof/prof/normalization.py'\n",
            "  adding 'apex/pyprof/prof/optim.py'\n",
            "  adding 'apex/pyprof/prof/output.py'\n",
            "  adding 'apex/pyprof/prof/pointwise.py'\n",
            "  adding 'apex/pyprof/prof/pooling.py'\n",
            "  adding 'apex/pyprof/prof/prof.py'\n",
            "  adding 'apex/pyprof/prof/randomSample.py'\n",
            "  adding 'apex/pyprof/prof/recurrentCell.py'\n",
            "  adding 'apex/pyprof/prof/reduction.py'\n",
            "  adding 'apex/pyprof/prof/softmax.py'\n",
            "  adding 'apex/pyprof/prof/usage.py'\n",
            "  adding 'apex/pyprof/prof/utility.py'\n",
            "  adding 'apex/reparameterization/__init__.py'\n",
            "  adding 'apex/reparameterization/reparameterization.py'\n",
            "  adding 'apex/reparameterization/weight_norm.py'\n",
            "  adding 'apex/transformer/__init__.py'\n",
            "  adding 'apex/transformer/enums.py'\n",
            "  adding 'apex/transformer/log_util.py'\n",
            "  adding 'apex/transformer/microbatches.py'\n",
            "  adding 'apex/transformer/parallel_state.py'\n",
            "  adding 'apex/transformer/utils.py'\n",
            "  adding 'apex/transformer/_data/__init__.py'\n",
            "  adding 'apex/transformer/_data/_batchsampler.py'\n",
            "  adding 'apex/transformer/amp/__init__.py'\n",
            "  adding 'apex/transformer/amp/grad_scaler.py'\n",
            "  adding 'apex/transformer/functional/__init__.py'\n",
            "  adding 'apex/transformer/functional/fused_softmax.py'\n",
            "  adding 'apex/transformer/pipeline_parallel/__init__.py'\n",
            "  adding 'apex/transformer/pipeline_parallel/_timers.py'\n",
            "  adding 'apex/transformer/pipeline_parallel/p2p_communication.py'\n",
            "  adding 'apex/transformer/pipeline_parallel/utils.py'\n",
            "  adding 'apex/transformer/pipeline_parallel/schedules/__init__.py'\n",
            "  adding 'apex/transformer/pipeline_parallel/schedules/common.py'\n",
            "  adding 'apex/transformer/pipeline_parallel/schedules/fwd_bwd_no_pipelining.py'\n",
            "  adding 'apex/transformer/pipeline_parallel/schedules/fwd_bwd_pipelining_with_interleaving.py'\n",
            "  adding 'apex/transformer/pipeline_parallel/schedules/fwd_bwd_pipelining_without_interleaving.py'\n",
            "  adding 'apex/transformer/tensor_parallel/__init__.py'\n",
            "  adding 'apex/transformer/tensor_parallel/cross_entropy.py'\n",
            "  adding 'apex/transformer/tensor_parallel/data.py'\n",
            "  adding 'apex/transformer/tensor_parallel/layers.py'\n",
            "  adding 'apex/transformer/tensor_parallel/mappings.py'\n",
            "  adding 'apex/transformer/tensor_parallel/memory.py'\n",
            "  adding 'apex/transformer/tensor_parallel/random.py'\n",
            "  adding 'apex/transformer/tensor_parallel/utils.py'\n",
            "  adding 'apex/transformer/testing/__init__.py'\n",
            "  adding 'apex/transformer/testing/arguments.py'\n",
            "  adding 'apex/transformer/testing/commons.py'\n",
            "  adding 'apex/transformer/testing/global_vars.py'\n",
            "  adding 'apex/transformer/testing/standalone_bert.py'\n",
            "  adding 'apex/transformer/testing/standalone_gpt.py'\n",
            "  adding 'apex-0.1.dist-info/LICENSE'\n",
            "  adding 'apex-0.1.dist-info/METADATA'\n",
            "  adding 'apex-0.1.dist-info/WHEEL'\n",
            "  adding 'apex-0.1.dist-info/top_level.txt'\n",
            "  adding 'apex-0.1.dist-info/RECORD'\n",
            "  removing build/bdist.linux-x86_64/wheel\n",
            "\u001b[?25hdone\n",
            "  Created wheel for apex: filename=apex-0.1-py3-none-any.whl size=291083 sha256=3cc2d8152b6df40372d33e32b52f38d92c7670ea52e9b0e5e4ebe35c19c0ae06\n",
            "  Stored in directory: /tmp/pip-ephem-wheel-cache-pj2zan7x/wheels/02/1d/54/16beaa489b73437cc70f3f4ef0bbaa36f0ac443dd94834df91\n",
            "Successfully built apex\n",
            "Installing collected packages: apex\n",
            "  Value for scheme.platlib does not match. Please report this to <https://github.com/pypa/pip/issues/9617>\n",
            "  distutils: /usr/local/lib/python3.7/dist-packages\n",
            "  sysconfig: /usr/lib/python3.7/site-packages\n",
            "  Value for scheme.purelib does not match. Please report this to <https://github.com/pypa/pip/issues/9617>\n",
            "  distutils: /usr/local/lib/python3.7/dist-packages\n",
            "  sysconfig: /usr/lib/python3.7/site-packages\n",
            "  Value for scheme.headers does not match. Please report this to <https://github.com/pypa/pip/issues/9617>\n",
            "  distutils: /usr/local/include/python3.7/apex\n",
            "  sysconfig: /usr/include/python3.7m/apex\n",
            "  Value for scheme.scripts does not match. Please report this to <https://github.com/pypa/pip/issues/9617>\n",
            "  distutils: /usr/local/bin\n",
            "  sysconfig: /usr/bin\n",
            "  Value for scheme.data does not match. Please report this to <https://github.com/pypa/pip/issues/9617>\n",
            "  distutils: /usr/local\n",
            "  sysconfig: /usr\n",
            "  Additional context:\n",
            "  user = False\n",
            "  home = None\n",
            "  root = None\n",
            "  prefix = None\n",
            "\n",
            "Value for scheme.platlib does not match. Please report this to <https://github.com/pypa/pip/issues/9617>\n",
            "distutils: /usr/local/lib/python3.7/dist-packages\n",
            "sysconfig: /usr/lib/python3.7/site-packages\n",
            "Value for scheme.purelib does not match. Please report this to <https://github.com/pypa/pip/issues/9617>\n",
            "distutils: /usr/local/lib/python3.7/dist-packages\n",
            "sysconfig: /usr/lib/python3.7/site-packages\n",
            "Value for scheme.headers does not match. Please report this to <https://github.com/pypa/pip/issues/9617>\n",
            "distutils: /usr/local/include/python3.7/UNKNOWN\n",
            "sysconfig: /usr/include/python3.7m/UNKNOWN\n",
            "Value for scheme.scripts does not match. Please report this to <https://github.com/pypa/pip/issues/9617>\n",
            "distutils: /usr/local/bin\n",
            "sysconfig: /usr/bin\n",
            "Value for scheme.data does not match. Please report this to <https://github.com/pypa/pip/issues/9617>\n",
            "distutils: /usr/local\n",
            "sysconfig: /usr\n",
            "Additional context:\n",
            "user = False\n",
            "home = None\n",
            "root = None\n",
            "prefix = None\n",
            "Successfully installed apex-0.1\n",
            "Removed build tracker: '/tmp/pip-req-tracker-bijexq69'\n",
            "Cloning into 'Vis-MVSNet'...\n",
            "remote: Enumerating objects: 138, done.\u001b[K\n",
            "remote: Counting objects: 100% (75/75), done.\u001b[K\n",
            "remote: Compressing objects: 100% (50/50), done.\u001b[K\n",
            "remote: Total 138 (delta 43), reused 51 (delta 24), pack-reused 63\u001b[K\n",
            "Receiving objects: 100% (138/138), 5.09 MiB | 19.91 MiB/s, done.\n",
            "Resolving deltas: 100% (66/66), done.\n",
            "Collecting open3d==0.9.0.0\n",
            "  Downloading open3d-0.9.0.0-cp37-cp37m-manylinux1_x86_64.whl (4.9 MB)\n",
            "\u001b[K     |████████████████████████████████| 4.9 MB 5.5 MB/s \n",
            "\u001b[?25hRequirement already satisfied: widgetsnbextension in /usr/local/lib/python3.7/dist-packages (from open3d==0.9.0.0) (3.5.2)\n",
            "Requirement already satisfied: ipywidgets in /usr/local/lib/python3.7/dist-packages (from open3d==0.9.0.0) (7.6.5)\n",
            "Requirement already satisfied: notebook in /usr/local/lib/python3.7/dist-packages (from open3d==0.9.0.0) (5.3.1)\n",
            "Requirement already satisfied: numpy in /usr/local/lib/python3.7/dist-packages (from open3d==0.9.0.0) (1.19.5)\n",
            "Requirement already satisfied: ipython>=4.0.0 in /usr/local/lib/python3.7/dist-packages (from ipywidgets->open3d==0.9.0.0) (5.5.0)\n",
            "Requirement already satisfied: ipython-genutils~=0.2.0 in /usr/local/lib/python3.7/dist-packages (from ipywidgets->open3d==0.9.0.0) (0.2.0)\n",
            "Requirement already satisfied: ipykernel>=4.5.1 in /usr/local/lib/python3.7/dist-packages (from ipywidgets->open3d==0.9.0.0) (4.10.1)\n",
            "Requirement already satisfied: jupyterlab-widgets>=1.0.0 in /usr/local/lib/python3.7/dist-packages (from ipywidgets->open3d==0.9.0.0) (1.0.2)\n",
            "Requirement already satisfied: traitlets>=4.3.1 in /usr/local/lib/python3.7/dist-packages (from ipywidgets->open3d==0.9.0.0) (5.1.1)\n",
            "Requirement already satisfied: nbformat>=4.2.0 in /usr/local/lib/python3.7/dist-packages (from ipywidgets->open3d==0.9.0.0) (5.1.3)\n",
            "Requirement already satisfied: jupyter-client in /usr/local/lib/python3.7/dist-packages (from ipykernel>=4.5.1->ipywidgets->open3d==0.9.0.0) (5.3.5)\n",
            "Requirement already satisfied: tornado>=4.0 in /usr/local/lib/python3.7/dist-packages (from ipykernel>=4.5.1->ipywidgets->open3d==0.9.0.0) (5.1.1)\n",
            "Requirement already satisfied: prompt-toolkit<2.0.0,>=1.0.4 in /usr/local/lib/python3.7/dist-packages (from ipython>=4.0.0->ipywidgets->open3d==0.9.0.0) (1.0.18)\n",
            "Requirement already satisfied: setuptools>=18.5 in /usr/local/lib/python3.7/dist-packages (from ipython>=4.0.0->ipywidgets->open3d==0.9.0.0) (57.4.0)\n",
            "Requirement already satisfied: pexpect in /usr/local/lib/python3.7/dist-packages (from ipython>=4.0.0->ipywidgets->open3d==0.9.0.0) (4.8.0)\n",
            "Requirement already satisfied: pickleshare in /usr/local/lib/python3.7/dist-packages (from ipython>=4.0.0->ipywidgets->open3d==0.9.0.0) (0.7.5)\n",
            "Requirement already satisfied: decorator in /usr/local/lib/python3.7/dist-packages (from ipython>=4.0.0->ipywidgets->open3d==0.9.0.0) (4.4.2)\n",
            "Requirement already satisfied: pygments in /usr/local/lib/python3.7/dist-packages (from ipython>=4.0.0->ipywidgets->open3d==0.9.0.0) (2.6.1)\n",
            "Requirement already satisfied: simplegeneric>0.8 in /usr/local/lib/python3.7/dist-packages (from ipython>=4.0.0->ipywidgets->open3d==0.9.0.0) (0.8.1)\n",
            "Requirement already satisfied: jupyter-core in /usr/local/lib/python3.7/dist-packages (from nbformat>=4.2.0->ipywidgets->open3d==0.9.0.0) (4.9.1)\n",
            "Requirement already satisfied: jsonschema!=2.5.0,>=2.4 in /usr/local/lib/python3.7/dist-packages (from nbformat>=4.2.0->ipywidgets->open3d==0.9.0.0) (2.6.0)\n",
            "Requirement already satisfied: wcwidth in /usr/local/lib/python3.7/dist-packages (from prompt-toolkit<2.0.0,>=1.0.4->ipython>=4.0.0->ipywidgets->open3d==0.9.0.0) (0.2.5)\n",
            "Requirement already satisfied: six>=1.9.0 in /usr/local/lib/python3.7/dist-packages (from prompt-toolkit<2.0.0,>=1.0.4->ipython>=4.0.0->ipywidgets->open3d==0.9.0.0) (1.15.0)\n",
            "Requirement already satisfied: jinja2 in /usr/local/lib/python3.7/dist-packages (from notebook->open3d==0.9.0.0) (2.11.3)\n",
            "Requirement already satisfied: Send2Trash in /usr/local/lib/python3.7/dist-packages (from notebook->open3d==0.9.0.0) (1.8.0)\n",
            "Requirement already satisfied: terminado>=0.8.1 in /usr/local/lib/python3.7/dist-packages (from notebook->open3d==0.9.0.0) (0.12.1)\n",
            "Requirement already satisfied: nbconvert in /usr/local/lib/python3.7/dist-packages (from notebook->open3d==0.9.0.0) (5.6.1)\n",
            "Requirement already satisfied: python-dateutil>=2.1 in /usr/local/lib/python3.7/dist-packages (from jupyter-client->ipykernel>=4.5.1->ipywidgets->open3d==0.9.0.0) (2.8.2)\n",
            "Requirement already satisfied: pyzmq>=13 in /usr/local/lib/python3.7/dist-packages (from jupyter-client->ipykernel>=4.5.1->ipywidgets->open3d==0.9.0.0) (22.3.0)\n",
            "Requirement already satisfied: ptyprocess in /usr/local/lib/python3.7/dist-packages (from terminado>=0.8.1->notebook->open3d==0.9.0.0) (0.7.0)\n",
            "Requirement already satisfied: MarkupSafe>=0.23 in /usr/local/lib/python3.7/dist-packages (from jinja2->notebook->open3d==0.9.0.0) (2.0.1)\n",
            "Requirement already satisfied: testpath in /usr/local/lib/python3.7/dist-packages (from nbconvert->notebook->open3d==0.9.0.0) (0.5.0)\n",
            "Requirement already satisfied: bleach in /usr/local/lib/python3.7/dist-packages (from nbconvert->notebook->open3d==0.9.0.0) (4.1.0)\n",
            "Requirement already satisfied: pandocfilters>=1.4.1 in /usr/local/lib/python3.7/dist-packages (from nbconvert->notebook->open3d==0.9.0.0) (1.5.0)\n",
            "Requirement already satisfied: entrypoints>=0.2.2 in /usr/local/lib/python3.7/dist-packages (from nbconvert->notebook->open3d==0.9.0.0) (0.3)\n",
            "Requirement already satisfied: mistune<2,>=0.8.1 in /usr/local/lib/python3.7/dist-packages (from nbconvert->notebook->open3d==0.9.0.0) (0.8.4)\n",
            "Requirement already satisfied: defusedxml in /usr/local/lib/python3.7/dist-packages (from nbconvert->notebook->open3d==0.9.0.0) (0.7.1)\n",
            "Requirement already satisfied: webencodings in /usr/local/lib/python3.7/dist-packages (from bleach->nbconvert->notebook->open3d==0.9.0.0) (0.5.1)\n",
            "Requirement already satisfied: packaging in /usr/local/lib/python3.7/dist-packages (from bleach->nbconvert->notebook->open3d==0.9.0.0) (21.3)\n",
            "Requirement already satisfied: pyparsing!=3.0.5,>=2.0.2 in /usr/local/lib/python3.7/dist-packages (from packaging->bleach->nbconvert->notebook->open3d==0.9.0.0) (3.0.6)\n",
            "Installing collected packages: open3d\n",
            "Successfully installed open3d-0.9.0.0\n"
          ]
        }
      ],
      "source": [
        "!sh setup.sh\n",
        "!git clone https://github.com/brandontan99/Vis-MVSNet.git\n",
        "!pip install open3d==0.9.0.0"
      ]
    },
    {
      "cell_type": "markdown",
      "metadata": {
        "id": "pIuUZkHUH8l2"
      },
      "source": [
        "# Universal Variables"
      ]
    },
    {
      "cell_type": "code",
      "execution_count": null,
      "metadata": {
        "id": "XmskoqEUcNmF"
      },
      "outputs": [],
      "source": [
        "import os\n",
        "from pathlib import Path\n",
        "\n",
        "BASE_DIR = \"/content/drive/MyDrive/FYP/Museum Collections\"\n",
        "model_name = \"Tempayan Laus\"\n",
        "MODEL_DIR = f\"{BASE_DIR}/{model_name}\" \n",
        "\n",
        "# Preprocessing\n",
        "UNPROCESSED_IMAGE_PATH = f\"{MODEL_DIR}/images\"\n",
        "PROCESSED_IMAGE_PATH = f\"{MODEL_DIR}/images(NO_JPEG_artifact_PNG)\"\n",
        "SCALE_FACTOR = 50 # percent of original size\n",
        "\n",
        "# SuperPoint + SuperGlue\n",
        "IMG_DIR = Path(PROCESSED_IMAGE_PATH)\n",
        "OUTPUT_DIR = Path(f'{IMG_DIR}_output/SuperPoint+SuperGlue_OPENCV_2000_Aachen_Indoor_matching')\n",
        "sfm_pairs = OUTPUT_DIR / 'pairs-exhaustive.txt'  # exhaustive matching\n",
        "sfm_dir = OUTPUT_DIR / 'sfm_superpoint+superglue'\n",
        "\n",
        "# COLMAP\n",
        "os.environ[\"DATASET_PATH\"] = str(sfm_dir)\n",
        "os.environ[\"IMAGES_PATH\"] = str(IMG_DIR)\n",
        "\n",
        "# COLMAP to MVSNet\n",
        "COLMAP_DENSE_FOLDER= f\"{PROCESSED_IMAGE_PATH}_output/SuperPoint+SuperGlue_OPENCV_2000_Aachen_Indoor_matching/sfm_superpoint+superglue/dense\"\n",
        "VISMVSNET_DENSE_FOLDER = COLMAP_DENSE_FOLDER+\"_vis-mvsnet\"\n",
        "\n",
        "# Pymeshlab\n",
        "# point cloud simplification\n",
        "max_vertex_number = 600000\n",
        "# PC_FILE = VISMVSNET_DENSE_FOLDER+\"/result/all_torch.ply\"\n",
        "# SIMPLIFIED_PC_FILE = VISMVSNET_DENSE_FOLDER+\"/result/simplified_all_torch.ply\"\n",
        "PC_FILE = COLMAP_DENSE_FOLDER+\"/fused.ply\"\n",
        "SIMPLIFIED_PC_FILE = COLMAP_DENSE_FOLDER+\"/simplified_fused.ply\"\n",
        "\n",
        "# Outlier Removal\n",
        "OUTLIER_REMOVAL_PC_FILE = COLMAP_DENSE_FOLDER+\"/outlier_removal_fused.ply\" \n",
        "\n",
        "# Meshing\n",
        "MESH_SIMPLIFIED_PC_FILE = COLMAP_DENSE_FOLDER+\"/meshed_outlier_removal_fused.ply\"\n",
        "\n",
        "# mesh decimation\n",
        "max_face_number = 500000\n",
        "DEC_MESH_SIMPLIFIED_PC_FILE = COLMAP_DENSE_FOLDER+\"/decimated_meshed_outlier_removal_fused.ply\""
      ]
    },
    {
      "cell_type": "markdown",
      "metadata": {
        "id": "MK25rod_IAWP"
      },
      "source": [
        "# Pre-processing"
      ]
    },
    {
      "cell_type": "markdown",
      "metadata": {
        "id": "_iAATyyrHg3u"
      },
      "source": [
        "## Remove JPEG Artifact"
      ]
    },
    {
      "cell_type": "code",
      "execution_count": null,
      "metadata": {
        "colab": {
          "base_uri": "https://localhost:8080/"
        },
        "id": "dRwYBbaFHZeB",
        "outputId": "b47b8ff1-28a8-4035-dfc3-b0ddcd8669d5"
      },
      "outputs": [
        {
          "name": "stdout",
          "output_type": "stream",
          "text": [
            "/content/FBCNN\n",
            "downloading model model_zoo/fbcnn_color.pth\n",
            "LogHandlers setup!\n"
          ]
        },
        {
          "name": "stderr",
          "output_type": "stream",
          "text": [
            "21-11-18 02:58:30.432 : Model path: model_zoo/fbcnn_color.pth\n",
            "21-11-18 02:58:32.732 : ---1--> IMG_20211111_150934.jpg\n"
          ]
        },
        {
          "name": "stdout",
          "output_type": "stream",
          "text": [
            "img_L:(1500, 2000, 3)\n"
          ]
        },
        {
          "name": "stderr",
          "output_type": "stream",
          "text": [
            "21-11-18 02:58:45.272 : predicted quality factor: 96\n",
            "21-11-18 02:58:45.559 : ---2--> IMG_20211111_151027.jpg\n"
          ]
        },
        {
          "name": "stdout",
          "output_type": "stream",
          "text": [
            "img_L:(1500, 2000, 3)\n"
          ]
        },
        {
          "name": "stderr",
          "output_type": "stream",
          "text": [
            "21-11-18 02:58:57.796 : predicted quality factor: 96\n",
            "21-11-18 02:58:58.118 : ---3--> IMG_20211111_151030.jpg\n"
          ]
        },
        {
          "name": "stdout",
          "output_type": "stream",
          "text": [
            "img_L:(1500, 2000, 3)\n"
          ]
        },
        {
          "name": "stderr",
          "output_type": "stream",
          "text": [
            "21-11-18 02:59:10.498 : predicted quality factor: 96\n",
            "21-11-18 02:59:10.788 : ---4--> IMG_20211111_151033.jpg\n"
          ]
        },
        {
          "name": "stdout",
          "output_type": "stream",
          "text": [
            "img_L:(1500, 2000, 3)\n"
          ]
        },
        {
          "name": "stderr",
          "output_type": "stream",
          "text": [
            "21-11-18 02:59:23.233 : predicted quality factor: 96\n",
            "21-11-18 02:59:23.528 : ---5--> IMG_20211111_151037.jpg\n"
          ]
        },
        {
          "name": "stdout",
          "output_type": "stream",
          "text": [
            "img_L:(1500, 2000, 3)\n"
          ]
        },
        {
          "name": "stderr",
          "output_type": "stream",
          "text": [
            "21-11-18 02:59:35.893 : predicted quality factor: 96\n",
            "21-11-18 02:59:36.163 : ---6--> IMG_20211111_151040.jpg\n"
          ]
        },
        {
          "name": "stdout",
          "output_type": "stream",
          "text": [
            "img_L:(1500, 2000, 3)\n"
          ]
        },
        {
          "name": "stderr",
          "output_type": "stream",
          "text": [
            "21-11-18 02:59:48.579 : predicted quality factor: 96\n",
            "21-11-18 02:59:48.859 : ---7--> IMG_20211111_151043.jpg\n"
          ]
        },
        {
          "name": "stdout",
          "output_type": "stream",
          "text": [
            "img_L:(1500, 2000, 3)\n"
          ]
        },
        {
          "name": "stderr",
          "output_type": "stream",
          "text": [
            "21-11-18 03:00:01.245 : predicted quality factor: 96\n",
            "21-11-18 03:00:01.502 : ---8--> IMG_20211111_151046.jpg\n"
          ]
        },
        {
          "name": "stdout",
          "output_type": "stream",
          "text": [
            "img_L:(1500, 2000, 3)\n"
          ]
        },
        {
          "name": "stderr",
          "output_type": "stream",
          "text": [
            "21-11-18 03:00:13.943 : predicted quality factor: 96\n",
            "21-11-18 03:00:14.202 : ---9--> IMG_20211111_151049.jpg\n"
          ]
        },
        {
          "name": "stdout",
          "output_type": "stream",
          "text": [
            "img_L:(1500, 2000, 3)\n"
          ]
        },
        {
          "name": "stderr",
          "output_type": "stream",
          "text": [
            "21-11-18 03:00:26.805 : predicted quality factor: 96\n",
            "21-11-18 03:00:27.111 : --10--> IMG_20211111_151052.jpg\n"
          ]
        },
        {
          "name": "stdout",
          "output_type": "stream",
          "text": [
            "img_L:(1500, 2000, 3)\n"
          ]
        },
        {
          "name": "stderr",
          "output_type": "stream",
          "text": [
            "21-11-18 03:00:39.645 : predicted quality factor: 96\n",
            "21-11-18 03:00:39.928 : --11--> IMG_20211111_151055.jpg\n"
          ]
        },
        {
          "name": "stdout",
          "output_type": "stream",
          "text": [
            "img_L:(1500, 2000, 3)\n"
          ]
        },
        {
          "name": "stderr",
          "output_type": "stream",
          "text": [
            "21-11-18 03:00:52.491 : predicted quality factor: 96\n",
            "21-11-18 03:00:52.781 : --12--> IMG_20211111_151058.jpg\n"
          ]
        },
        {
          "name": "stdout",
          "output_type": "stream",
          "text": [
            "img_L:(1500, 2000, 3)\n"
          ]
        },
        {
          "name": "stderr",
          "output_type": "stream",
          "text": [
            "21-11-18 03:01:05.645 : predicted quality factor: 96\n",
            "21-11-18 03:01:05.942 : --13--> IMG_20211111_151103.jpg\n"
          ]
        },
        {
          "name": "stdout",
          "output_type": "stream",
          "text": [
            "img_L:(1500, 2000, 3)\n"
          ]
        },
        {
          "name": "stderr",
          "output_type": "stream",
          "text": [
            "21-11-18 03:01:18.422 : predicted quality factor: 96\n",
            "21-11-18 03:01:18.697 : --14--> IMG_20211111_151107.jpg\n"
          ]
        },
        {
          "name": "stdout",
          "output_type": "stream",
          "text": [
            "img_L:(1500, 2000, 3)\n"
          ]
        },
        {
          "name": "stderr",
          "output_type": "stream",
          "text": [
            "21-11-18 03:01:31.349 : predicted quality factor: 96\n",
            "21-11-18 03:01:31.621 : --15--> IMG_20211111_151112.jpg\n"
          ]
        },
        {
          "name": "stdout",
          "output_type": "stream",
          "text": [
            "img_L:(1500, 2000, 3)\n"
          ]
        },
        {
          "name": "stderr",
          "output_type": "stream",
          "text": [
            "21-11-18 03:01:44.180 : predicted quality factor: 96\n",
            "21-11-18 03:01:44.481 : --16--> IMG_20211111_151117.jpg\n"
          ]
        },
        {
          "name": "stdout",
          "output_type": "stream",
          "text": [
            "img_L:(1500, 2000, 3)\n"
          ]
        },
        {
          "name": "stderr",
          "output_type": "stream",
          "text": [
            "21-11-18 03:01:57.091 : predicted quality factor: 96\n",
            "21-11-18 03:01:57.365 : --17--> IMG_20211111_151122.jpg\n"
          ]
        },
        {
          "name": "stdout",
          "output_type": "stream",
          "text": [
            "img_L:(1500, 2000, 3)\n"
          ]
        },
        {
          "name": "stderr",
          "output_type": "stream",
          "text": [
            "21-11-18 03:02:10.137 : predicted quality factor: 96\n",
            "21-11-18 03:02:10.410 : --18--> IMG_20211111_151127.jpg\n"
          ]
        },
        {
          "name": "stdout",
          "output_type": "stream",
          "text": [
            "img_L:(1500, 2000, 3)\n"
          ]
        },
        {
          "name": "stderr",
          "output_type": "stream",
          "text": [
            "21-11-18 03:02:23.025 : predicted quality factor: 96\n",
            "21-11-18 03:02:23.292 : --19--> IMG_20211111_151131.jpg\n"
          ]
        },
        {
          "name": "stdout",
          "output_type": "stream",
          "text": [
            "img_L:(1500, 2000, 3)\n"
          ]
        },
        {
          "name": "stderr",
          "output_type": "stream",
          "text": [
            "21-11-18 03:02:35.892 : predicted quality factor: 96\n",
            "21-11-18 03:02:36.193 : --20--> IMG_20211111_151135.jpg\n"
          ]
        },
        {
          "name": "stdout",
          "output_type": "stream",
          "text": [
            "img_L:(1500, 2000, 3)\n"
          ]
        },
        {
          "name": "stderr",
          "output_type": "stream",
          "text": [
            "21-11-18 03:02:48.936 : predicted quality factor: 96\n",
            "21-11-18 03:02:49.204 : --21--> IMG_20211111_151139.jpg\n"
          ]
        },
        {
          "name": "stdout",
          "output_type": "stream",
          "text": [
            "img_L:(1500, 2000, 3)\n"
          ]
        },
        {
          "name": "stderr",
          "output_type": "stream",
          "text": [
            "21-11-18 03:03:01.916 : predicted quality factor: 96\n",
            "21-11-18 03:03:02.198 : --22--> IMG_20211111_151143.jpg\n"
          ]
        },
        {
          "name": "stdout",
          "output_type": "stream",
          "text": [
            "img_L:(1500, 2000, 3)\n"
          ]
        },
        {
          "name": "stderr",
          "output_type": "stream",
          "text": [
            "21-11-18 03:03:14.626 : predicted quality factor: 96\n",
            "21-11-18 03:03:14.934 : --23--> IMG_20211111_151146.jpg\n"
          ]
        },
        {
          "name": "stdout",
          "output_type": "stream",
          "text": [
            "img_L:(1500, 2000, 3)\n"
          ]
        },
        {
          "name": "stderr",
          "output_type": "stream",
          "text": [
            "21-11-18 03:03:27.577 : predicted quality factor: 96\n",
            "21-11-18 03:03:27.866 : --24--> IMG_20211111_151148.jpg\n"
          ]
        },
        {
          "name": "stdout",
          "output_type": "stream",
          "text": [
            "img_L:(1500, 2000, 3)\n"
          ]
        },
        {
          "name": "stderr",
          "output_type": "stream",
          "text": [
            "21-11-18 03:03:40.506 : predicted quality factor: 96\n",
            "21-11-18 03:03:40.772 : --25--> IMG_20211111_151222.jpg\n"
          ]
        },
        {
          "name": "stdout",
          "output_type": "stream",
          "text": [
            "img_L:(1500, 2000, 3)\n"
          ]
        },
        {
          "name": "stderr",
          "output_type": "stream",
          "text": [
            "21-11-18 03:03:53.460 : predicted quality factor: 96\n",
            "21-11-18 03:03:53.755 : --26--> IMG_20211111_151227.jpg\n"
          ]
        },
        {
          "name": "stdout",
          "output_type": "stream",
          "text": [
            "img_L:(1500, 2000, 3)\n"
          ]
        },
        {
          "name": "stderr",
          "output_type": "stream",
          "text": [
            "21-11-18 03:04:06.521 : predicted quality factor: 96\n",
            "21-11-18 03:04:06.803 : --27--> IMG_20211111_151235.jpg\n"
          ]
        },
        {
          "name": "stdout",
          "output_type": "stream",
          "text": [
            "img_L:(1500, 2000, 3)\n"
          ]
        },
        {
          "name": "stderr",
          "output_type": "stream",
          "text": [
            "21-11-18 03:04:19.372 : predicted quality factor: 96\n",
            "21-11-18 03:04:19.650 : --28--> IMG_20211111_151247.jpg\n"
          ]
        },
        {
          "name": "stdout",
          "output_type": "stream",
          "text": [
            "img_L:(1500, 2000, 3)\n"
          ]
        },
        {
          "name": "stderr",
          "output_type": "stream",
          "text": [
            "21-11-18 03:04:32.251 : predicted quality factor: 96\n",
            "21-11-18 03:04:32.527 : --29--> IMG_20211111_151253.jpg\n"
          ]
        },
        {
          "name": "stdout",
          "output_type": "stream",
          "text": [
            "img_L:(1500, 2000, 3)\n"
          ]
        },
        {
          "name": "stderr",
          "output_type": "stream",
          "text": [
            "21-11-18 03:04:45.537 : predicted quality factor: 96\n",
            "21-11-18 03:04:45.804 : --30--> IMG_20211111_151300.jpg\n"
          ]
        },
        {
          "name": "stdout",
          "output_type": "stream",
          "text": [
            "img_L:(1500, 2000, 3)\n"
          ]
        },
        {
          "name": "stderr",
          "output_type": "stream",
          "text": [
            "21-11-18 03:04:58.460 : predicted quality factor: 96\n",
            "21-11-18 03:04:58.741 : --31--> IMG_20211111_151305.jpg\n"
          ]
        },
        {
          "name": "stdout",
          "output_type": "stream",
          "text": [
            "img_L:(1500, 2000, 3)\n"
          ]
        },
        {
          "name": "stderr",
          "output_type": "stream",
          "text": [
            "21-11-18 03:05:11.284 : predicted quality factor: 96\n",
            "21-11-18 03:05:11.545 : --32--> IMG_20211111_151308.jpg\n"
          ]
        },
        {
          "name": "stdout",
          "output_type": "stream",
          "text": [
            "img_L:(1500, 2000, 3)\n"
          ]
        },
        {
          "name": "stderr",
          "output_type": "stream",
          "text": [
            "21-11-18 03:05:24.216 : predicted quality factor: 96\n",
            "21-11-18 03:05:24.482 : --33--> IMG_20211111_151323.jpg\n"
          ]
        },
        {
          "name": "stdout",
          "output_type": "stream",
          "text": [
            "img_L:(1500, 2000, 3)\n"
          ]
        },
        {
          "name": "stderr",
          "output_type": "stream",
          "text": [
            "21-11-18 03:05:37.026 : predicted quality factor: 96\n",
            "21-11-18 03:05:37.295 : --34--> IMG_20211111_151334.jpg\n"
          ]
        },
        {
          "name": "stdout",
          "output_type": "stream",
          "text": [
            "img_L:(1500, 2000, 3)\n"
          ]
        },
        {
          "name": "stderr",
          "output_type": "stream",
          "text": [
            "21-11-18 03:05:49.909 : predicted quality factor: 96\n",
            "21-11-18 03:05:50.167 : --35--> IMG_20211111_151343.jpg\n"
          ]
        },
        {
          "name": "stdout",
          "output_type": "stream",
          "text": [
            "img_L:(1500, 2000, 3)\n"
          ]
        },
        {
          "name": "stderr",
          "output_type": "stream",
          "text": [
            "21-11-18 03:06:02.673 : predicted quality factor: 96\n",
            "21-11-18 03:06:02.943 : --36--> IMG_20211111_151346.jpg\n"
          ]
        },
        {
          "name": "stdout",
          "output_type": "stream",
          "text": [
            "img_L:(1500, 2000, 3)\n"
          ]
        },
        {
          "name": "stderr",
          "output_type": "stream",
          "text": [
            "21-11-18 03:06:15.565 : predicted quality factor: 96\n",
            "21-11-18 03:06:15.845 : --37--> IMG_20211111_151350.jpg\n"
          ]
        },
        {
          "name": "stdout",
          "output_type": "stream",
          "text": [
            "img_L:(1500, 2000, 3)\n"
          ]
        },
        {
          "name": "stderr",
          "output_type": "stream",
          "text": [
            "21-11-18 03:06:28.334 : predicted quality factor: 96\n",
            "21-11-18 03:06:28.597 : --38--> IMG_20211111_151402.jpg\n"
          ]
        },
        {
          "name": "stdout",
          "output_type": "stream",
          "text": [
            "img_L:(1500, 2000, 3)\n"
          ]
        },
        {
          "name": "stderr",
          "output_type": "stream",
          "text": [
            "21-11-18 03:06:41.265 : predicted quality factor: 96\n",
            "21-11-18 03:06:41.547 : --39--> IMG_20211111_151420.jpg\n"
          ]
        },
        {
          "name": "stdout",
          "output_type": "stream",
          "text": [
            "img_L:(1500, 2000, 3)\n"
          ]
        },
        {
          "name": "stderr",
          "output_type": "stream",
          "text": [
            "21-11-18 03:06:54.120 : predicted quality factor: 96\n",
            "21-11-18 03:06:54.416 : --40--> IMG_20211111_151423.jpg\n"
          ]
        },
        {
          "name": "stdout",
          "output_type": "stream",
          "text": [
            "img_L:(1500, 2000, 3)\n"
          ]
        },
        {
          "name": "stderr",
          "output_type": "stream",
          "text": [
            "21-11-18 03:07:07.096 : predicted quality factor: 96\n",
            "21-11-18 03:07:07.367 : --41--> IMG_20211111_151426.jpg\n"
          ]
        },
        {
          "name": "stdout",
          "output_type": "stream",
          "text": [
            "img_L:(1500, 2000, 3)\n"
          ]
        },
        {
          "name": "stderr",
          "output_type": "stream",
          "text": [
            "21-11-18 03:07:20.023 : predicted quality factor: 96\n",
            "21-11-18 03:07:20.300 : --42--> IMG_20211111_151429.jpg\n"
          ]
        },
        {
          "name": "stdout",
          "output_type": "stream",
          "text": [
            "img_L:(1500, 2000, 3)\n"
          ]
        },
        {
          "name": "stderr",
          "output_type": "stream",
          "text": [
            "21-11-18 03:07:32.916 : predicted quality factor: 96\n",
            "21-11-18 03:07:33.181 : --43--> IMG_20211111_151432.jpg\n"
          ]
        },
        {
          "name": "stdout",
          "output_type": "stream",
          "text": [
            "img_L:(1500, 2000, 3)\n"
          ]
        },
        {
          "name": "stderr",
          "output_type": "stream",
          "text": [
            "21-11-18 03:07:45.743 : predicted quality factor: 96\n",
            "21-11-18 03:07:46.005 : --44--> IMG_20211111_151435.jpg\n"
          ]
        },
        {
          "name": "stdout",
          "output_type": "stream",
          "text": [
            "img_L:(1500, 2000, 3)\n"
          ]
        },
        {
          "name": "stderr",
          "output_type": "stream",
          "text": [
            "21-11-18 03:07:59.870 : predicted quality factor: 95\n",
            "21-11-18 03:08:00.136 : --45--> IMG_20211111_151438.jpg\n"
          ]
        },
        {
          "name": "stdout",
          "output_type": "stream",
          "text": [
            "img_L:(1500, 2000, 3)\n"
          ]
        },
        {
          "name": "stderr",
          "output_type": "stream",
          "text": [
            "21-11-18 03:08:12.588 : predicted quality factor: 95\n",
            "21-11-18 03:08:12.835 : --46--> IMG_20211111_151453.jpg\n"
          ]
        },
        {
          "name": "stdout",
          "output_type": "stream",
          "text": [
            "img_L:(1500, 2000, 3)\n"
          ]
        },
        {
          "name": "stderr",
          "output_type": "stream",
          "text": [
            "21-11-18 03:08:25.283 : predicted quality factor: 95\n",
            "21-11-18 03:08:25.543 : --47--> IMG_20211111_151456.jpg\n"
          ]
        },
        {
          "name": "stdout",
          "output_type": "stream",
          "text": [
            "img_L:(1500, 2000, 3)\n"
          ]
        },
        {
          "name": "stderr",
          "output_type": "stream",
          "text": [
            "21-11-18 03:08:38.077 : predicted quality factor: 95\n",
            "21-11-18 03:08:38.331 : --48--> IMG_20211111_151501.jpg\n"
          ]
        },
        {
          "name": "stdout",
          "output_type": "stream",
          "text": [
            "img_L:(1500, 2000, 3)\n"
          ]
        },
        {
          "name": "stderr",
          "output_type": "stream",
          "text": [
            "21-11-18 03:08:50.823 : predicted quality factor: 96\n",
            "21-11-18 03:08:51.083 : --49--> IMG_20211111_151503.jpg\n"
          ]
        },
        {
          "name": "stdout",
          "output_type": "stream",
          "text": [
            "img_L:(1500, 2000, 3)\n"
          ]
        },
        {
          "name": "stderr",
          "output_type": "stream",
          "text": [
            "21-11-18 03:09:03.638 : predicted quality factor: 96\n",
            "21-11-18 03:09:03.900 : --50--> IMG_20211111_151506.jpg\n"
          ]
        },
        {
          "name": "stdout",
          "output_type": "stream",
          "text": [
            "img_L:(1500, 2000, 3)\n"
          ]
        },
        {
          "name": "stderr",
          "output_type": "stream",
          "text": [
            "21-11-18 03:09:16.583 : predicted quality factor: 96\n",
            "21-11-18 03:09:16.849 : --51--> IMG_20211111_151509.jpg\n"
          ]
        },
        {
          "name": "stdout",
          "output_type": "stream",
          "text": [
            "img_L:(1500, 2000, 3)\n"
          ]
        },
        {
          "name": "stderr",
          "output_type": "stream",
          "text": [
            "21-11-18 03:09:29.546 : predicted quality factor: 95\n",
            "21-11-18 03:09:29.821 : --52--> IMG_20211111_151512.jpg\n"
          ]
        },
        {
          "name": "stdout",
          "output_type": "stream",
          "text": [
            "img_L:(1500, 2000, 3)\n"
          ]
        },
        {
          "name": "stderr",
          "output_type": "stream",
          "text": [
            "21-11-18 03:09:42.267 : predicted quality factor: 95\n",
            "21-11-18 03:09:42.531 : --53--> IMG_20211111_151515.jpg\n"
          ]
        },
        {
          "name": "stdout",
          "output_type": "stream",
          "text": [
            "img_L:(1500, 2000, 3)\n"
          ]
        },
        {
          "name": "stderr",
          "output_type": "stream",
          "text": [
            "21-11-18 03:09:54.999 : predicted quality factor: 95\n",
            "21-11-18 03:09:55.271 : --54--> IMG_20211111_151518.jpg\n"
          ]
        },
        {
          "name": "stdout",
          "output_type": "stream",
          "text": [
            "img_L:(1500, 2000, 3)\n"
          ]
        },
        {
          "name": "stderr",
          "output_type": "stream",
          "text": [
            "21-11-18 03:10:07.774 : predicted quality factor: 95\n",
            "21-11-18 03:10:08.038 : --55--> IMG_20211111_151520.jpg\n"
          ]
        },
        {
          "name": "stdout",
          "output_type": "stream",
          "text": [
            "img_L:(1500, 2000, 3)\n"
          ]
        },
        {
          "name": "stderr",
          "output_type": "stream",
          "text": [
            "21-11-18 03:10:20.442 : predicted quality factor: 95\n",
            "21-11-18 03:10:20.696 : --56--> IMG_20211111_151525.jpg\n"
          ]
        },
        {
          "name": "stdout",
          "output_type": "stream",
          "text": [
            "img_L:(1500, 2000, 3)\n"
          ]
        },
        {
          "name": "stderr",
          "output_type": "stream",
          "text": [
            "21-11-18 03:10:33.243 : predicted quality factor: 96\n",
            "21-11-18 03:10:33.519 : --57--> IMG_20211111_151528.jpg\n"
          ]
        },
        {
          "name": "stdout",
          "output_type": "stream",
          "text": [
            "img_L:(1500, 2000, 3)\n"
          ]
        },
        {
          "name": "stderr",
          "output_type": "stream",
          "text": [
            "21-11-18 03:10:46.089 : predicted quality factor: 96\n",
            "21-11-18 03:10:46.367 : --58--> IMG_20211111_151531.jpg\n"
          ]
        },
        {
          "name": "stdout",
          "output_type": "stream",
          "text": [
            "img_L:(1500, 2000, 3)\n"
          ]
        },
        {
          "name": "stderr",
          "output_type": "stream",
          "text": [
            "21-11-18 03:10:58.898 : predicted quality factor: 96\n",
            "21-11-18 03:10:59.179 : --59--> IMG_20211111_151549.jpg\n"
          ]
        },
        {
          "name": "stdout",
          "output_type": "stream",
          "text": [
            "img_L:(1500, 2000, 3)\n"
          ]
        },
        {
          "name": "stderr",
          "output_type": "stream",
          "text": [
            "21-11-18 03:11:11.718 : predicted quality factor: 96\n",
            "21-11-18 03:11:12.015 : --60--> IMG_20211111_151552.jpg\n"
          ]
        },
        {
          "name": "stdout",
          "output_type": "stream",
          "text": [
            "img_L:(1500, 2000, 3)\n"
          ]
        },
        {
          "name": "stderr",
          "output_type": "stream",
          "text": [
            "21-11-18 03:11:24.519 : predicted quality factor: 96\n",
            "21-11-18 03:11:24.827 : --61--> IMG_20211111_151554.jpg\n"
          ]
        },
        {
          "name": "stdout",
          "output_type": "stream",
          "text": [
            "img_L:(1500, 2000, 3)\n"
          ]
        },
        {
          "name": "stderr",
          "output_type": "stream",
          "text": [
            "21-11-18 03:11:37.588 : predicted quality factor: 96\n",
            "21-11-18 03:11:37.849 : --62--> IMG_20211111_151557.jpg\n"
          ]
        },
        {
          "name": "stdout",
          "output_type": "stream",
          "text": [
            "img_L:(1500, 2000, 3)\n"
          ]
        },
        {
          "name": "stderr",
          "output_type": "stream",
          "text": [
            "21-11-18 03:11:50.394 : predicted quality factor: 96\n",
            "21-11-18 03:11:50.674 : --63--> IMG_20211111_151600.jpg\n"
          ]
        },
        {
          "name": "stdout",
          "output_type": "stream",
          "text": [
            "img_L:(1500, 2000, 3)\n"
          ]
        },
        {
          "name": "stderr",
          "output_type": "stream",
          "text": [
            "21-11-18 03:12:03.209 : predicted quality factor: 96\n",
            "21-11-18 03:12:03.482 : --64--> IMG_20211111_151603.jpg\n"
          ]
        },
        {
          "name": "stdout",
          "output_type": "stream",
          "text": [
            "img_L:(1500, 2000, 3)\n"
          ]
        },
        {
          "name": "stderr",
          "output_type": "stream",
          "text": [
            "21-11-18 03:12:16.072 : predicted quality factor: 96\n",
            "21-11-18 03:12:16.326 : --65--> IMG_20211111_151605.jpg\n"
          ]
        },
        {
          "name": "stdout",
          "output_type": "stream",
          "text": [
            "img_L:(1500, 2000, 3)\n"
          ]
        },
        {
          "name": "stderr",
          "output_type": "stream",
          "text": [
            "21-11-18 03:12:28.853 : predicted quality factor: 96\n",
            "21-11-18 03:12:29.116 : --66--> IMG_20211111_151607.jpg\n"
          ]
        },
        {
          "name": "stdout",
          "output_type": "stream",
          "text": [
            "img_L:(1500, 2000, 3)\n"
          ]
        },
        {
          "name": "stderr",
          "output_type": "stream",
          "text": [
            "21-11-18 03:12:41.823 : predicted quality factor: 96\n",
            "21-11-18 03:12:42.091 : --67--> IMG_20211111_151611.jpg\n"
          ]
        },
        {
          "name": "stdout",
          "output_type": "stream",
          "text": [
            "img_L:(1500, 2000, 3)\n"
          ]
        },
        {
          "name": "stderr",
          "output_type": "stream",
          "text": [
            "21-11-18 03:12:54.873 : predicted quality factor: 96\n",
            "21-11-18 03:12:55.142 : --68--> IMG_20211111_151614.jpg\n"
          ]
        },
        {
          "name": "stdout",
          "output_type": "stream",
          "text": [
            "img_L:(1500, 2000, 3)\n"
          ]
        },
        {
          "name": "stderr",
          "output_type": "stream",
          "text": [
            "21-11-18 03:13:07.782 : predicted quality factor: 96\n",
            "21-11-18 03:13:08.058 : --69--> IMG_20211111_151617.jpg\n"
          ]
        },
        {
          "name": "stdout",
          "output_type": "stream",
          "text": [
            "img_L:(1500, 2000, 3)\n"
          ]
        },
        {
          "name": "stderr",
          "output_type": "stream",
          "text": [
            "21-11-18 03:13:20.607 : predicted quality factor: 96\n",
            "21-11-18 03:13:20.884 : --70--> IMG_20211111_151620.jpg\n"
          ]
        },
        {
          "name": "stdout",
          "output_type": "stream",
          "text": [
            "img_L:(1500, 2000, 3)\n"
          ]
        },
        {
          "name": "stderr",
          "output_type": "stream",
          "text": [
            "21-11-18 03:13:33.431 : predicted quality factor: 96\n",
            "21-11-18 03:13:33.714 : --71--> IMG_20211111_151623.jpg\n"
          ]
        },
        {
          "name": "stdout",
          "output_type": "stream",
          "text": [
            "img_L:(1500, 2000, 3)\n"
          ]
        },
        {
          "name": "stderr",
          "output_type": "stream",
          "text": [
            "21-11-18 03:13:46.358 : predicted quality factor: 96\n",
            "21-11-18 03:13:46.616 : --72--> IMG_20211111_151625.jpg\n"
          ]
        },
        {
          "name": "stdout",
          "output_type": "stream",
          "text": [
            "img_L:(1500, 2000, 3)\n"
          ]
        },
        {
          "name": "stderr",
          "output_type": "stream",
          "text": [
            "21-11-18 03:13:59.156 : predicted quality factor: 96\n",
            "21-11-18 03:13:59.410 : --73--> IMG_20211111_151628.jpg\n"
          ]
        },
        {
          "name": "stdout",
          "output_type": "stream",
          "text": [
            "img_L:(1500, 2000, 3)\n"
          ]
        },
        {
          "name": "stderr",
          "output_type": "stream",
          "text": [
            "21-11-18 03:14:11.927 : predicted quality factor: 96\n",
            "21-11-18 03:14:12.189 : --74--> IMG_20211111_151630.jpg\n"
          ]
        },
        {
          "name": "stdout",
          "output_type": "stream",
          "text": [
            "img_L:(1500, 2000, 3)\n"
          ]
        },
        {
          "name": "stderr",
          "output_type": "stream",
          "text": [
            "21-11-18 03:14:24.820 : predicted quality factor: 96\n",
            "21-11-18 03:14:25.088 : --75--> IMG_20211111_151633.jpg\n"
          ]
        },
        {
          "name": "stdout",
          "output_type": "stream",
          "text": [
            "img_L:(1500, 2000, 3)\n"
          ]
        },
        {
          "name": "stderr",
          "output_type": "stream",
          "text": [
            "21-11-18 03:14:37.636 : predicted quality factor: 96\n",
            "21-11-18 03:14:37.905 : --76--> IMG_20211111_151636.jpg\n"
          ]
        },
        {
          "name": "stdout",
          "output_type": "stream",
          "text": [
            "img_L:(1500, 2000, 3)\n"
          ]
        },
        {
          "name": "stderr",
          "output_type": "stream",
          "text": [
            "21-11-18 03:14:50.397 : predicted quality factor: 96\n",
            "21-11-18 03:14:50.664 : --77--> IMG_20211111_151639.jpg\n"
          ]
        },
        {
          "name": "stdout",
          "output_type": "stream",
          "text": [
            "img_L:(1500, 2000, 3)\n"
          ]
        },
        {
          "name": "stderr",
          "output_type": "stream",
          "text": [
            "21-11-18 03:15:03.188 : predicted quality factor: 96\n",
            "21-11-18 03:15:03.433 : --78--> IMG_20211111_151643.jpg\n"
          ]
        },
        {
          "name": "stdout",
          "output_type": "stream",
          "text": [
            "img_L:(1500, 2000, 3)\n"
          ]
        },
        {
          "name": "stderr",
          "output_type": "stream",
          "text": [
            "21-11-18 03:15:15.954 : predicted quality factor: 96\n",
            "21-11-18 03:15:16.197 : --79--> IMG_20211111_151646.jpg\n"
          ]
        },
        {
          "name": "stdout",
          "output_type": "stream",
          "text": [
            "img_L:(1500, 2000, 3)\n"
          ]
        },
        {
          "name": "stderr",
          "output_type": "stream",
          "text": [
            "21-11-18 03:15:28.827 : predicted quality factor: 96\n",
            "21-11-18 03:15:29.077 : --80--> IMG_20211111_151649.jpg\n"
          ]
        },
        {
          "name": "stdout",
          "output_type": "stream",
          "text": [
            "img_L:(1500, 2000, 3)\n"
          ]
        },
        {
          "name": "stderr",
          "output_type": "stream",
          "text": [
            "21-11-18 03:15:41.706 : predicted quality factor: 96\n",
            "21-11-18 03:15:41.977 : --81--> IMG_20211111_151653.jpg\n"
          ]
        },
        {
          "name": "stdout",
          "output_type": "stream",
          "text": [
            "img_L:(1500, 2000, 3)\n"
          ]
        },
        {
          "name": "stderr",
          "output_type": "stream",
          "text": [
            "21-11-18 03:15:54.615 : predicted quality factor: 96\n",
            "21-11-18 03:15:54.898 : --82--> IMG_20211111_151702.jpg\n"
          ]
        },
        {
          "name": "stdout",
          "output_type": "stream",
          "text": [
            "img_L:(1500, 2000, 3)\n"
          ]
        },
        {
          "name": "stderr",
          "output_type": "stream",
          "text": [
            "21-11-18 03:16:07.438 : predicted quality factor: 96\n",
            "21-11-18 03:16:07.720 : --83--> IMG_20211111_151705.jpg\n"
          ]
        },
        {
          "name": "stdout",
          "output_type": "stream",
          "text": [
            "img_L:(1500, 2000, 3)\n"
          ]
        },
        {
          "name": "stderr",
          "output_type": "stream",
          "text": [
            "21-11-18 03:16:20.082 : predicted quality factor: 96\n",
            "21-11-18 03:16:20.364 : --84--> IMG_20211111_151708.jpg\n"
          ]
        },
        {
          "name": "stdout",
          "output_type": "stream",
          "text": [
            "img_L:(1500, 2000, 3)\n"
          ]
        },
        {
          "name": "stderr",
          "output_type": "stream",
          "text": [
            "21-11-18 03:16:32.896 : predicted quality factor: 96\n",
            "21-11-18 03:16:33.150 : --85--> IMG_20211111_151711.jpg\n"
          ]
        },
        {
          "name": "stdout",
          "output_type": "stream",
          "text": [
            "img_L:(1500, 2000, 3)\n"
          ]
        },
        {
          "name": "stderr",
          "output_type": "stream",
          "text": [
            "21-11-18 03:16:45.752 : predicted quality factor: 96\n",
            "21-11-18 03:16:46.020 : --86--> IMG_20211111_151716.jpg\n"
          ]
        },
        {
          "name": "stdout",
          "output_type": "stream",
          "text": [
            "img_L:(1500, 2000, 3)\n"
          ]
        },
        {
          "name": "stderr",
          "output_type": "stream",
          "text": [
            "21-11-18 03:16:58.731 : predicted quality factor: 96\n",
            "21-11-18 03:16:58.997 : --87--> IMG_20211111_151725.jpg\n"
          ]
        },
        {
          "name": "stdout",
          "output_type": "stream",
          "text": [
            "img_L:(1500, 2000, 3)\n"
          ]
        },
        {
          "name": "stderr",
          "output_type": "stream",
          "text": [
            "21-11-18 03:17:11.555 : predicted quality factor: 96\n",
            "21-11-18 03:17:11.830 : --88--> IMG_20211111_151729.jpg\n"
          ]
        },
        {
          "name": "stdout",
          "output_type": "stream",
          "text": [
            "img_L:(1500, 2000, 3)\n"
          ]
        },
        {
          "name": "stderr",
          "output_type": "stream",
          "text": [
            "21-11-18 03:17:24.393 : predicted quality factor: 96\n",
            "21-11-18 03:17:24.645 : --89--> IMG_20211111_151732.jpg\n"
          ]
        },
        {
          "name": "stdout",
          "output_type": "stream",
          "text": [
            "img_L:(1500, 2000, 3)\n"
          ]
        },
        {
          "name": "stderr",
          "output_type": "stream",
          "text": [
            "21-11-18 03:17:37.169 : predicted quality factor: 96\n",
            "21-11-18 03:17:37.437 : --90--> IMG_20211111_151734.jpg\n"
          ]
        },
        {
          "name": "stdout",
          "output_type": "stream",
          "text": [
            "img_L:(1500, 2000, 3)\n"
          ]
        },
        {
          "name": "stderr",
          "output_type": "stream",
          "text": [
            "21-11-18 03:17:49.934 : predicted quality factor: 96\n",
            "21-11-18 03:17:50.170 : --91--> IMG_20211111_151737.jpg\n"
          ]
        },
        {
          "name": "stdout",
          "output_type": "stream",
          "text": [
            "img_L:(1500, 2000, 3)\n"
          ]
        },
        {
          "name": "stderr",
          "output_type": "stream",
          "text": [
            "21-11-18 03:18:02.691 : predicted quality factor: 96\n",
            "21-11-18 03:18:02.956 : --92--> IMG_20211111_151740.jpg\n"
          ]
        },
        {
          "name": "stdout",
          "output_type": "stream",
          "text": [
            "img_L:(1500, 2000, 3)\n"
          ]
        },
        {
          "name": "stderr",
          "output_type": "stream",
          "text": [
            "21-11-18 03:18:15.446 : predicted quality factor: 96\n",
            "21-11-18 03:18:15.697 : --93--> IMG_20211111_151743.jpg\n"
          ]
        },
        {
          "name": "stdout",
          "output_type": "stream",
          "text": [
            "img_L:(1500, 2000, 3)\n"
          ]
        },
        {
          "name": "stderr",
          "output_type": "stream",
          "text": [
            "21-11-18 03:18:28.240 : predicted quality factor: 96\n",
            "21-11-18 03:18:28.488 : --94--> IMG_20211111_151746.jpg\n"
          ]
        },
        {
          "name": "stdout",
          "output_type": "stream",
          "text": [
            "img_L:(1500, 2000, 3)\n"
          ]
        },
        {
          "name": "stderr",
          "output_type": "stream",
          "text": [
            "21-11-18 03:18:41.127 : predicted quality factor: 96\n",
            "21-11-18 03:18:41.388 : --95--> IMG_20211111_151748.jpg\n"
          ]
        },
        {
          "name": "stdout",
          "output_type": "stream",
          "text": [
            "img_L:(1500, 2000, 3)\n"
          ]
        },
        {
          "name": "stderr",
          "output_type": "stream",
          "text": [
            "21-11-18 03:18:53.982 : predicted quality factor: 96\n",
            "21-11-18 03:18:54.243 : --96--> IMG_20211111_151751.jpg\n"
          ]
        },
        {
          "name": "stdout",
          "output_type": "stream",
          "text": [
            "img_L:(1500, 2000, 3)\n"
          ]
        },
        {
          "name": "stderr",
          "output_type": "stream",
          "text": [
            "21-11-18 03:19:06.639 : predicted quality factor: 96\n",
            "21-11-18 03:19:06.903 : --97--> IMG_20211111_151754.jpg\n"
          ]
        },
        {
          "name": "stdout",
          "output_type": "stream",
          "text": [
            "img_L:(1500, 2000, 3)\n"
          ]
        },
        {
          "name": "stderr",
          "output_type": "stream",
          "text": [
            "21-11-18 03:19:19.483 : predicted quality factor: 96\n",
            "21-11-18 03:19:19.762 : --98--> IMG_20211111_151758.jpg\n"
          ]
        },
        {
          "name": "stdout",
          "output_type": "stream",
          "text": [
            "img_L:(1500, 2000, 3)\n"
          ]
        },
        {
          "name": "stderr",
          "output_type": "stream",
          "text": [
            "21-11-18 03:19:32.313 : predicted quality factor: 96\n",
            "21-11-18 03:19:32.554 : --99--> IMG_20211111_151802.jpg\n"
          ]
        },
        {
          "name": "stdout",
          "output_type": "stream",
          "text": [
            "img_L:(1500, 2000, 3)\n"
          ]
        },
        {
          "name": "stderr",
          "output_type": "stream",
          "text": [
            "21-11-18 03:19:45.297 : predicted quality factor: 96\n",
            "21-11-18 03:19:45.579 : -100--> IMG_20211111_151805.jpg\n"
          ]
        },
        {
          "name": "stdout",
          "output_type": "stream",
          "text": [
            "img_L:(1500, 2000, 3)\n"
          ]
        },
        {
          "name": "stderr",
          "output_type": "stream",
          "text": [
            "21-11-18 03:19:58.097 : predicted quality factor: 96\n",
            "21-11-18 03:19:58.369 : -101--> IMG_20211111_151807.jpg\n"
          ]
        },
        {
          "name": "stdout",
          "output_type": "stream",
          "text": [
            "img_L:(1500, 2000, 3)\n"
          ]
        },
        {
          "name": "stderr",
          "output_type": "stream",
          "text": [
            "21-11-18 03:20:11.197 : predicted quality factor: 96\n",
            "21-11-18 03:20:11.494 : -102--> IMG_20211111_151830.jpg\n"
          ]
        },
        {
          "name": "stdout",
          "output_type": "stream",
          "text": [
            "img_L:(1500, 2000, 3)\n"
          ]
        },
        {
          "name": "stderr",
          "output_type": "stream",
          "text": [
            "21-11-18 03:20:24.599 : predicted quality factor: 96\n",
            "21-11-18 03:20:24.895 : -103--> IMG_20211111_151832.jpg\n"
          ]
        },
        {
          "name": "stdout",
          "output_type": "stream",
          "text": [
            "img_L:(1500, 2000, 3)\n"
          ]
        },
        {
          "name": "stderr",
          "output_type": "stream",
          "text": [
            "21-11-18 03:20:37.503 : predicted quality factor: 96\n",
            "21-11-18 03:20:37.778 : -104--> IMG_20211111_151835.jpg\n"
          ]
        },
        {
          "name": "stdout",
          "output_type": "stream",
          "text": [
            "img_L:(1500, 2000, 3)\n"
          ]
        },
        {
          "name": "stderr",
          "output_type": "stream",
          "text": [
            "21-11-18 03:20:50.494 : predicted quality factor: 96\n",
            "21-11-18 03:20:50.755 : -105--> IMG_20211111_151839.jpg\n"
          ]
        },
        {
          "name": "stdout",
          "output_type": "stream",
          "text": [
            "img_L:(1500, 2000, 3)\n"
          ]
        },
        {
          "name": "stderr",
          "output_type": "stream",
          "text": [
            "21-11-18 03:21:03.276 : predicted quality factor: 96\n",
            "21-11-18 03:21:03.528 : -106--> IMG_20211111_151843.jpg\n"
          ]
        },
        {
          "name": "stdout",
          "output_type": "stream",
          "text": [
            "img_L:(1500, 2000, 3)\n"
          ]
        },
        {
          "name": "stderr",
          "output_type": "stream",
          "text": [
            "21-11-18 03:21:16.067 : predicted quality factor: 96\n",
            "21-11-18 03:21:16.315 : -107--> IMG_20211111_151847.jpg\n"
          ]
        },
        {
          "name": "stdout",
          "output_type": "stream",
          "text": [
            "img_L:(1500, 2000, 3)\n"
          ]
        },
        {
          "name": "stderr",
          "output_type": "stream",
          "text": [
            "21-11-18 03:21:28.947 : predicted quality factor: 96\n",
            "21-11-18 03:21:29.175 : -108--> IMG_20211111_151850.jpg\n"
          ]
        },
        {
          "name": "stdout",
          "output_type": "stream",
          "text": [
            "img_L:(1500, 2000, 3)\n"
          ]
        },
        {
          "name": "stderr",
          "output_type": "stream",
          "text": [
            "21-11-18 03:21:41.802 : predicted quality factor: 96\n",
            "21-11-18 03:21:42.057 : -109--> IMG_20211111_151853.jpg\n"
          ]
        },
        {
          "name": "stdout",
          "output_type": "stream",
          "text": [
            "img_L:(1500, 2000, 3)\n"
          ]
        },
        {
          "name": "stderr",
          "output_type": "stream",
          "text": [
            "21-11-18 03:21:54.538 : predicted quality factor: 95\n",
            "21-11-18 03:21:54.770 : -110--> IMG_20211111_151856.jpg\n"
          ]
        },
        {
          "name": "stdout",
          "output_type": "stream",
          "text": [
            "img_L:(1500, 2000, 3)\n"
          ]
        },
        {
          "name": "stderr",
          "output_type": "stream",
          "text": [
            "21-11-18 03:22:07.395 : predicted quality factor: 96\n",
            "21-11-18 03:22:07.660 : -111--> IMG_20211111_151859.jpg\n"
          ]
        },
        {
          "name": "stdout",
          "output_type": "stream",
          "text": [
            "img_L:(1500, 2000, 3)\n"
          ]
        },
        {
          "name": "stderr",
          "output_type": "stream",
          "text": [
            "21-11-18 03:22:20.198 : predicted quality factor: 96\n",
            "21-11-18 03:22:20.469 : -112--> IMG_20211111_151902.jpg\n"
          ]
        },
        {
          "name": "stdout",
          "output_type": "stream",
          "text": [
            "img_L:(1500, 2000, 3)\n"
          ]
        },
        {
          "name": "stderr",
          "output_type": "stream",
          "text": [
            "21-11-18 03:22:32.901 : predicted quality factor: 96\n",
            "21-11-18 03:22:33.130 : -113--> IMG_20211111_151905.jpg\n"
          ]
        },
        {
          "name": "stdout",
          "output_type": "stream",
          "text": [
            "img_L:(1500, 2000, 3)\n"
          ]
        },
        {
          "name": "stderr",
          "output_type": "stream",
          "text": [
            "21-11-18 03:22:45.636 : predicted quality factor: 96\n",
            "21-11-18 03:22:45.889 : -114--> IMG_20211111_151908.jpg\n"
          ]
        },
        {
          "name": "stdout",
          "output_type": "stream",
          "text": [
            "img_L:(1500, 2000, 3)\n"
          ]
        },
        {
          "name": "stderr",
          "output_type": "stream",
          "text": [
            "21-11-18 03:22:58.661 : predicted quality factor: 96\n",
            "21-11-18 03:22:58.918 : -115--> IMG_20211111_151911.jpg\n"
          ]
        },
        {
          "name": "stdout",
          "output_type": "stream",
          "text": [
            "img_L:(1500, 2000, 3)\n"
          ]
        },
        {
          "name": "stderr",
          "output_type": "stream",
          "text": [
            "21-11-18 03:23:11.533 : predicted quality factor: 96\n",
            "21-11-18 03:23:11.782 : -116--> IMG_20211111_151913.jpg\n"
          ]
        },
        {
          "name": "stdout",
          "output_type": "stream",
          "text": [
            "img_L:(1500, 2000, 3)\n"
          ]
        },
        {
          "name": "stderr",
          "output_type": "stream",
          "text": [
            "21-11-18 03:23:24.332 : predicted quality factor: 96\n",
            "21-11-18 03:23:24.572 : -117--> IMG_20211111_151916.jpg\n"
          ]
        },
        {
          "name": "stdout",
          "output_type": "stream",
          "text": [
            "img_L:(1500, 2000, 3)\n"
          ]
        },
        {
          "name": "stderr",
          "output_type": "stream",
          "text": [
            "21-11-18 03:23:37.094 : predicted quality factor: 96\n",
            "21-11-18 03:23:37.338 : -118--> IMG_20211111_151919.jpg\n"
          ]
        },
        {
          "name": "stdout",
          "output_type": "stream",
          "text": [
            "img_L:(1500, 2000, 3)\n"
          ]
        },
        {
          "name": "stderr",
          "output_type": "stream",
          "text": [
            "21-11-18 03:23:49.831 : predicted quality factor: 96\n",
            "21-11-18 03:23:50.076 : -119--> IMG_20211111_151922.jpg\n"
          ]
        },
        {
          "name": "stdout",
          "output_type": "stream",
          "text": [
            "img_L:(1500, 2000, 3)\n"
          ]
        },
        {
          "name": "stderr",
          "output_type": "stream",
          "text": [
            "21-11-18 03:24:02.661 : predicted quality factor: 96\n",
            "21-11-18 03:24:02.908 : -120--> IMG_20211111_151925.jpg\n"
          ]
        },
        {
          "name": "stdout",
          "output_type": "stream",
          "text": [
            "img_L:(1500, 2000, 3)\n"
          ]
        },
        {
          "name": "stderr",
          "output_type": "stream",
          "text": [
            "21-11-18 03:24:15.592 : predicted quality factor: 96\n",
            "21-11-18 03:24:15.846 : -121--> IMG_20211111_151927.jpg\n"
          ]
        },
        {
          "name": "stdout",
          "output_type": "stream",
          "text": [
            "img_L:(1500, 2000, 3)\n"
          ]
        },
        {
          "name": "stderr",
          "output_type": "stream",
          "text": [
            "21-11-18 03:24:28.772 : predicted quality factor: 96\n",
            "21-11-18 03:24:29.062 : -122--> IMG_20211111_151932.jpg\n"
          ]
        },
        {
          "name": "stdout",
          "output_type": "stream",
          "text": [
            "img_L:(1500, 2000, 3)\n"
          ]
        },
        {
          "name": "stderr",
          "output_type": "stream",
          "text": [
            "21-11-18 03:24:42.894 : predicted quality factor: 96\n",
            "21-11-18 03:24:43.161 : -123--> IMG_20211111_151935.jpg\n"
          ]
        },
        {
          "name": "stdout",
          "output_type": "stream",
          "text": [
            "img_L:(1500, 2000, 3)\n"
          ]
        },
        {
          "name": "stderr",
          "output_type": "stream",
          "text": [
            "21-11-18 03:24:56.016 : predicted quality factor: 96\n",
            "21-11-18 03:24:56.289 : -124--> IMG_20211111_152004.jpg\n"
          ]
        },
        {
          "name": "stdout",
          "output_type": "stream",
          "text": [
            "img_L:(1500, 2000, 3)\n"
          ]
        },
        {
          "name": "stderr",
          "output_type": "stream",
          "text": [
            "21-11-18 03:25:09.124 : predicted quality factor: 96\n",
            "21-11-18 03:25:09.408 : -125--> IMG_20211111_152007.jpg\n"
          ]
        },
        {
          "name": "stdout",
          "output_type": "stream",
          "text": [
            "img_L:(1500, 2000, 3)\n"
          ]
        },
        {
          "name": "stderr",
          "output_type": "stream",
          "text": [
            "21-11-18 03:25:22.000 : predicted quality factor: 96\n",
            "21-11-18 03:25:22.274 : -126--> IMG_20211111_152009.jpg\n"
          ]
        },
        {
          "name": "stdout",
          "output_type": "stream",
          "text": [
            "img_L:(1500, 2000, 3)\n"
          ]
        },
        {
          "name": "stderr",
          "output_type": "stream",
          "text": [
            "21-11-18 03:25:34.768 : predicted quality factor: 96\n",
            "21-11-18 03:25:35.039 : -127--> IMG_20211111_152012.jpg\n"
          ]
        },
        {
          "name": "stdout",
          "output_type": "stream",
          "text": [
            "img_L:(1500, 2000, 3)\n"
          ]
        },
        {
          "name": "stderr",
          "output_type": "stream",
          "text": [
            "21-11-18 03:25:47.400 : predicted quality factor: 96\n",
            "21-11-18 03:25:47.644 : -128--> IMG_20211111_152016.jpg\n"
          ]
        },
        {
          "name": "stdout",
          "output_type": "stream",
          "text": [
            "img_L:(1500, 2000, 3)\n"
          ]
        },
        {
          "name": "stderr",
          "output_type": "stream",
          "text": [
            "21-11-18 03:26:00.073 : predicted quality factor: 96\n",
            "21-11-18 03:26:00.319 : -129--> IMG_20211111_152019.jpg\n"
          ]
        },
        {
          "name": "stdout",
          "output_type": "stream",
          "text": [
            "img_L:(1500, 2000, 3)\n"
          ]
        },
        {
          "name": "stderr",
          "output_type": "stream",
          "text": [
            "21-11-18 03:26:12.801 : predicted quality factor: 96\n",
            "21-11-18 03:26:13.067 : -130--> IMG_20211111_152021.jpg\n"
          ]
        },
        {
          "name": "stdout",
          "output_type": "stream",
          "text": [
            "img_L:(1500, 2000, 3)\n"
          ]
        },
        {
          "name": "stderr",
          "output_type": "stream",
          "text": [
            "21-11-18 03:26:25.539 : predicted quality factor: 96\n",
            "21-11-18 03:26:25.807 : -131--> IMG_20211111_152024.jpg\n"
          ]
        },
        {
          "name": "stdout",
          "output_type": "stream",
          "text": [
            "img_L:(1500, 2000, 3)\n"
          ]
        },
        {
          "name": "stderr",
          "output_type": "stream",
          "text": [
            "21-11-18 03:26:38.424 : predicted quality factor: 96\n",
            "21-11-18 03:26:38.694 : -132--> IMG_20211111_152028.jpg\n"
          ]
        },
        {
          "name": "stdout",
          "output_type": "stream",
          "text": [
            "img_L:(1500, 2000, 3)\n"
          ]
        },
        {
          "name": "stderr",
          "output_type": "stream",
          "text": [
            "21-11-18 03:26:51.420 : predicted quality factor: 96\n",
            "21-11-18 03:26:51.654 : -133--> IMG_20211111_152031.jpg\n"
          ]
        },
        {
          "name": "stdout",
          "output_type": "stream",
          "text": [
            "img_L:(1500, 2000, 3)\n"
          ]
        },
        {
          "name": "stderr",
          "output_type": "stream",
          "text": [
            "21-11-18 03:27:04.187 : predicted quality factor: 96\n",
            "21-11-18 03:27:04.409 : -134--> IMG_20211111_152034.jpg\n"
          ]
        },
        {
          "name": "stdout",
          "output_type": "stream",
          "text": [
            "img_L:(1500, 2000, 3)\n"
          ]
        },
        {
          "name": "stderr",
          "output_type": "stream",
          "text": [
            "21-11-18 03:27:16.943 : predicted quality factor: 96\n",
            "21-11-18 03:27:17.179 : -135--> IMG_20211111_152036.jpg\n"
          ]
        },
        {
          "name": "stdout",
          "output_type": "stream",
          "text": [
            "img_L:(1500, 2000, 3)\n"
          ]
        },
        {
          "name": "stderr",
          "output_type": "stream",
          "text": [
            "21-11-18 03:27:29.682 : predicted quality factor: 96\n",
            "21-11-18 03:27:29.936 : -136--> IMG_20211111_152039.jpg\n"
          ]
        },
        {
          "name": "stdout",
          "output_type": "stream",
          "text": [
            "img_L:(1500, 2000, 3)\n"
          ]
        },
        {
          "name": "stderr",
          "output_type": "stream",
          "text": [
            "21-11-18 03:27:42.903 : predicted quality factor: 96\n",
            "21-11-18 03:27:43.152 : -137--> IMG_20211111_152042.jpg\n"
          ]
        },
        {
          "name": "stdout",
          "output_type": "stream",
          "text": [
            "img_L:(1500, 2000, 3)\n"
          ]
        },
        {
          "name": "stderr",
          "output_type": "stream",
          "text": [
            "21-11-18 03:27:55.882 : predicted quality factor: 96\n",
            "21-11-18 03:27:56.135 : -138--> IMG_20211111_152044.jpg\n"
          ]
        },
        {
          "name": "stdout",
          "output_type": "stream",
          "text": [
            "img_L:(1500, 2000, 3)\n"
          ]
        },
        {
          "name": "stderr",
          "output_type": "stream",
          "text": [
            "21-11-18 03:28:08.892 : predicted quality factor: 96\n",
            "21-11-18 03:28:09.141 : -139--> IMG_20211111_152048.jpg\n"
          ]
        },
        {
          "name": "stdout",
          "output_type": "stream",
          "text": [
            "img_L:(1500, 2000, 3)\n"
          ]
        },
        {
          "name": "stderr",
          "output_type": "stream",
          "text": [
            "21-11-18 03:28:21.977 : predicted quality factor: 96\n",
            "21-11-18 03:28:22.253 : -140--> IMG_20211111_152050.jpg\n"
          ]
        },
        {
          "name": "stdout",
          "output_type": "stream",
          "text": [
            "img_L:(1500, 2000, 3)\n"
          ]
        },
        {
          "name": "stderr",
          "output_type": "stream",
          "text": [
            "21-11-18 03:28:34.851 : predicted quality factor: 96\n",
            "21-11-18 03:28:35.099 : -141--> IMG_20211111_152054.jpg\n"
          ]
        },
        {
          "name": "stdout",
          "output_type": "stream",
          "text": [
            "img_L:(1500, 2000, 3)\n"
          ]
        },
        {
          "name": "stderr",
          "output_type": "stream",
          "text": [
            "21-11-18 03:28:47.972 : predicted quality factor: 96\n",
            "21-11-18 03:28:48.256 : -142--> IMG_20211111_152058.jpg\n"
          ]
        },
        {
          "name": "stdout",
          "output_type": "stream",
          "text": [
            "img_L:(1500, 2000, 3)\n"
          ]
        },
        {
          "name": "stderr",
          "output_type": "stream",
          "text": [
            "21-11-18 03:29:00.988 : predicted quality factor: 96\n",
            "21-11-18 03:29:01.284 : -143--> IMG_20211111_152100.jpg\n"
          ]
        },
        {
          "name": "stdout",
          "output_type": "stream",
          "text": [
            "img_L:(1500, 2000, 3)\n"
          ]
        },
        {
          "name": "stderr",
          "output_type": "stream",
          "text": [
            "21-11-18 03:29:14.101 : predicted quality factor: 96\n",
            "21-11-18 03:29:14.392 : -144--> IMG_20211111_152103.jpg\n"
          ]
        },
        {
          "name": "stdout",
          "output_type": "stream",
          "text": [
            "img_L:(1500, 2000, 3)\n"
          ]
        },
        {
          "name": "stderr",
          "output_type": "stream",
          "text": [
            "21-11-18 03:29:27.028 : predicted quality factor: 96\n",
            "21-11-18 03:29:27.307 : -145--> IMG_20211111_152105.jpg\n"
          ]
        },
        {
          "name": "stdout",
          "output_type": "stream",
          "text": [
            "img_L:(1500, 2000, 3)\n"
          ]
        },
        {
          "name": "stderr",
          "output_type": "stream",
          "text": [
            "21-11-18 03:29:40.093 : predicted quality factor: 96\n",
            "21-11-18 03:29:40.372 : -146--> IMG_20211111_152140.jpg\n"
          ]
        },
        {
          "name": "stdout",
          "output_type": "stream",
          "text": [
            "img_L:(1500, 2000, 3)\n"
          ]
        },
        {
          "name": "stderr",
          "output_type": "stream",
          "text": [
            "21-11-18 03:29:53.089 : predicted quality factor: 96\n",
            "21-11-18 03:29:53.371 : -147--> IMG_20211111_152142.jpg\n"
          ]
        },
        {
          "name": "stdout",
          "output_type": "stream",
          "text": [
            "img_L:(1500, 2000, 3)\n"
          ]
        },
        {
          "name": "stderr",
          "output_type": "stream",
          "text": [
            "21-11-18 03:30:05.924 : predicted quality factor: 96\n",
            "21-11-18 03:30:06.208 : -148--> IMG_20211111_152145.jpg\n"
          ]
        },
        {
          "name": "stdout",
          "output_type": "stream",
          "text": [
            "img_L:(1500, 2000, 3)\n"
          ]
        },
        {
          "name": "stderr",
          "output_type": "stream",
          "text": [
            "21-11-18 03:30:18.974 : predicted quality factor: 96\n",
            "21-11-18 03:30:19.280 : -149--> IMG_20211111_152148.jpg\n"
          ]
        },
        {
          "name": "stdout",
          "output_type": "stream",
          "text": [
            "img_L:(1500, 2000, 3)\n"
          ]
        },
        {
          "name": "stderr",
          "output_type": "stream",
          "text": [
            "21-11-18 03:30:31.926 : predicted quality factor: 96\n",
            "21-11-18 03:30:32.214 : -150--> IMG_20211111_152151.jpg\n"
          ]
        },
        {
          "name": "stdout",
          "output_type": "stream",
          "text": [
            "img_L:(1500, 2000, 3)\n"
          ]
        },
        {
          "name": "stderr",
          "output_type": "stream",
          "text": [
            "21-11-18 03:30:45.027 : predicted quality factor: 96\n",
            "21-11-18 03:30:45.299 : -151--> IMG_20211111_152154.jpg\n"
          ]
        },
        {
          "name": "stdout",
          "output_type": "stream",
          "text": [
            "img_L:(1500, 2000, 3)\n"
          ]
        },
        {
          "name": "stderr",
          "output_type": "stream",
          "text": [
            "21-11-18 03:30:57.897 : predicted quality factor: 96\n",
            "21-11-18 03:30:58.164 : -152--> IMG_20211111_152157.jpg\n"
          ]
        },
        {
          "name": "stdout",
          "output_type": "stream",
          "text": [
            "img_L:(1500, 2000, 3)\n"
          ]
        },
        {
          "name": "stderr",
          "output_type": "stream",
          "text": [
            "21-11-18 03:31:10.834 : predicted quality factor: 96\n",
            "21-11-18 03:31:11.103 : -153--> IMG_20211111_152200.jpg\n"
          ]
        },
        {
          "name": "stdout",
          "output_type": "stream",
          "text": [
            "img_L:(1500, 2000, 3)\n"
          ]
        },
        {
          "name": "stderr",
          "output_type": "stream",
          "text": [
            "21-11-18 03:31:23.910 : predicted quality factor: 96\n",
            "21-11-18 03:31:24.178 : -154--> IMG_20211111_152202.jpg\n"
          ]
        },
        {
          "name": "stdout",
          "output_type": "stream",
          "text": [
            "img_L:(1500, 2000, 3)\n"
          ]
        },
        {
          "name": "stderr",
          "output_type": "stream",
          "text": [
            "21-11-18 03:31:36.638 : predicted quality factor: 96\n",
            "21-11-18 03:31:36.905 : -155--> IMG_20211111_152205.jpg\n"
          ]
        },
        {
          "name": "stdout",
          "output_type": "stream",
          "text": [
            "img_L:(1500, 2000, 3)\n"
          ]
        },
        {
          "name": "stderr",
          "output_type": "stream",
          "text": [
            "21-11-18 03:31:49.415 : predicted quality factor: 96\n",
            "21-11-18 03:31:49.681 : -156--> IMG_20211111_152207.jpg\n"
          ]
        },
        {
          "name": "stdout",
          "output_type": "stream",
          "text": [
            "img_L:(1500, 2000, 3)\n"
          ]
        },
        {
          "name": "stderr",
          "output_type": "stream",
          "text": [
            "21-11-18 03:32:02.137 : predicted quality factor: 96\n",
            "21-11-18 03:32:02.389 : -157--> IMG_20211111_152210.jpg\n"
          ]
        },
        {
          "name": "stdout",
          "output_type": "stream",
          "text": [
            "img_L:(1500, 2000, 3)\n"
          ]
        },
        {
          "name": "stderr",
          "output_type": "stream",
          "text": [
            "21-11-18 03:32:14.899 : predicted quality factor: 96\n",
            "21-11-18 03:32:15.156 : -158--> IMG_20211111_152212.jpg\n"
          ]
        },
        {
          "name": "stdout",
          "output_type": "stream",
          "text": [
            "img_L:(1500, 2000, 3)\n"
          ]
        },
        {
          "name": "stderr",
          "output_type": "stream",
          "text": [
            "21-11-18 03:32:27.734 : predicted quality factor: 96\n",
            "21-11-18 03:32:27.997 : -159--> IMG_20211111_152215.jpg\n"
          ]
        },
        {
          "name": "stdout",
          "output_type": "stream",
          "text": [
            "img_L:(1500, 2000, 3)\n"
          ]
        },
        {
          "name": "stderr",
          "output_type": "stream",
          "text": [
            "21-11-18 03:32:40.560 : predicted quality factor: 96\n",
            "21-11-18 03:32:40.854 : -160--> IMG_20211111_152218.jpg\n"
          ]
        },
        {
          "name": "stdout",
          "output_type": "stream",
          "text": [
            "img_L:(1500, 2000, 3)\n"
          ]
        },
        {
          "name": "stderr",
          "output_type": "stream",
          "text": [
            "21-11-18 03:32:53.560 : predicted quality factor: 96\n",
            "21-11-18 03:32:53.830 : -161--> IMG_20211111_152220.jpg\n"
          ]
        },
        {
          "name": "stdout",
          "output_type": "stream",
          "text": [
            "img_L:(1500, 2000, 3)\n"
          ]
        },
        {
          "name": "stderr",
          "output_type": "stream",
          "text": [
            "21-11-18 03:33:06.442 : predicted quality factor: 96\n",
            "21-11-18 03:33:06.704 : -162--> IMG_20211111_152223.jpg\n"
          ]
        },
        {
          "name": "stdout",
          "output_type": "stream",
          "text": [
            "img_L:(1500, 2000, 3)\n"
          ]
        },
        {
          "name": "stderr",
          "output_type": "stream",
          "text": [
            "21-11-18 03:33:19.249 : predicted quality factor: 96\n",
            "21-11-18 03:33:19.508 : -163--> IMG_20211111_152226.jpg\n"
          ]
        },
        {
          "name": "stdout",
          "output_type": "stream",
          "text": [
            "img_L:(1500, 2000, 3)\n"
          ]
        },
        {
          "name": "stderr",
          "output_type": "stream",
          "text": [
            "21-11-18 03:33:32.004 : predicted quality factor: 96\n",
            "21-11-18 03:33:32.258 : -164--> IMG_20211111_152231.jpg\n"
          ]
        },
        {
          "name": "stdout",
          "output_type": "stream",
          "text": [
            "img_L:(1500, 2000, 3)\n"
          ]
        },
        {
          "name": "stderr",
          "output_type": "stream",
          "text": [
            "21-11-18 03:33:44.974 : predicted quality factor: 96\n",
            "21-11-18 03:33:45.258 : -165--> IMG_20211111_152234.jpg\n"
          ]
        },
        {
          "name": "stdout",
          "output_type": "stream",
          "text": [
            "img_L:(1500, 2000, 3)\n"
          ]
        },
        {
          "name": "stderr",
          "output_type": "stream",
          "text": [
            "21-11-18 03:33:58.043 : predicted quality factor: 96\n",
            "21-11-18 03:33:58.326 : -166--> IMG_20211111_152237.jpg\n"
          ]
        },
        {
          "name": "stdout",
          "output_type": "stream",
          "text": [
            "img_L:(1500, 2000, 3)\n"
          ]
        },
        {
          "name": "stderr",
          "output_type": "stream",
          "text": [
            "21-11-18 03:34:11.003 : predicted quality factor: 96\n",
            "21-11-18 03:34:11.290 : -167--> IMG_20211111_152241.jpg\n"
          ]
        },
        {
          "name": "stdout",
          "output_type": "stream",
          "text": [
            "img_L:(1500, 2000, 3)\n"
          ]
        },
        {
          "name": "stderr",
          "output_type": "stream",
          "text": [
            "21-11-18 03:34:23.920 : predicted quality factor: 96\n",
            "21-11-18 03:34:24.192 : -168--> IMG_20211111_152300.jpg\n"
          ]
        },
        {
          "name": "stdout",
          "output_type": "stream",
          "text": [
            "img_L:(1500, 2000, 3)\n"
          ]
        },
        {
          "name": "stderr",
          "output_type": "stream",
          "text": [
            "21-11-18 03:34:36.586 : predicted quality factor: 96\n",
            "21-11-18 03:34:36.874 : -169--> IMG_20211111_152303.jpg\n"
          ]
        },
        {
          "name": "stdout",
          "output_type": "stream",
          "text": [
            "img_L:(1500, 2000, 3)\n"
          ]
        },
        {
          "name": "stderr",
          "output_type": "stream",
          "text": [
            "21-11-18 03:34:49.411 : predicted quality factor: 96\n",
            "21-11-18 03:34:49.665 : -170--> IMG_20211111_152307.jpg\n"
          ]
        },
        {
          "name": "stdout",
          "output_type": "stream",
          "text": [
            "img_L:(1500, 2000, 3)\n"
          ]
        },
        {
          "name": "stderr",
          "output_type": "stream",
          "text": [
            "21-11-18 03:35:02.342 : predicted quality factor: 96\n",
            "21-11-18 03:35:02.593 : -171--> IMG_20211111_152309.jpg\n"
          ]
        },
        {
          "name": "stdout",
          "output_type": "stream",
          "text": [
            "img_L:(1500, 2000, 3)\n"
          ]
        },
        {
          "name": "stderr",
          "output_type": "stream",
          "text": [
            "21-11-18 03:35:14.893 : predicted quality factor: 96\n",
            "21-11-18 03:35:15.132 : -172--> IMG_20211111_152312.jpg\n"
          ]
        },
        {
          "name": "stdout",
          "output_type": "stream",
          "text": [
            "img_L:(1500, 2000, 3)\n"
          ]
        },
        {
          "name": "stderr",
          "output_type": "stream",
          "text": [
            "21-11-18 03:35:27.640 : predicted quality factor: 96\n",
            "21-11-18 03:35:27.915 : -173--> IMG_20211111_152314.jpg\n"
          ]
        },
        {
          "name": "stdout",
          "output_type": "stream",
          "text": [
            "img_L:(1500, 2000, 3)\n"
          ]
        },
        {
          "name": "stderr",
          "output_type": "stream",
          "text": [
            "21-11-18 03:35:40.668 : predicted quality factor: 96\n",
            "21-11-18 03:35:40.919 : -174--> IMG_20211111_152316.jpg\n"
          ]
        },
        {
          "name": "stdout",
          "output_type": "stream",
          "text": [
            "img_L:(1500, 2000, 3)\n"
          ]
        },
        {
          "name": "stderr",
          "output_type": "stream",
          "text": [
            "21-11-18 03:35:53.436 : predicted quality factor: 96\n",
            "21-11-18 03:35:53.690 : -175--> IMG_20211111_152318.jpg\n"
          ]
        },
        {
          "name": "stdout",
          "output_type": "stream",
          "text": [
            "img_L:(1500, 2000, 3)\n"
          ]
        },
        {
          "name": "stderr",
          "output_type": "stream",
          "text": [
            "21-11-18 03:36:06.317 : predicted quality factor: 96\n",
            "21-11-18 03:36:06.587 : -176--> IMG_20211111_152320.jpg\n"
          ]
        },
        {
          "name": "stdout",
          "output_type": "stream",
          "text": [
            "img_L:(1500, 2000, 3)\n"
          ]
        },
        {
          "name": "stderr",
          "output_type": "stream",
          "text": [
            "21-11-18 03:36:19.069 : predicted quality factor: 96\n",
            "21-11-18 03:36:19.332 : -177--> IMG_20211111_152324.jpg\n"
          ]
        },
        {
          "name": "stdout",
          "output_type": "stream",
          "text": [
            "img_L:(1500, 2000, 3)\n"
          ]
        },
        {
          "name": "stderr",
          "output_type": "stream",
          "text": [
            "21-11-18 03:36:31.804 : predicted quality factor: 96\n",
            "21-11-18 03:36:32.073 : -178--> IMG_20211111_152326.jpg\n"
          ]
        },
        {
          "name": "stdout",
          "output_type": "stream",
          "text": [
            "img_L:(1500, 2000, 3)\n"
          ]
        },
        {
          "name": "stderr",
          "output_type": "stream",
          "text": [
            "21-11-18 03:36:44.578 : predicted quality factor: 96\n",
            "21-11-18 03:36:44.843 : -179--> IMG_20211111_152329.jpg\n"
          ]
        },
        {
          "name": "stdout",
          "output_type": "stream",
          "text": [
            "img_L:(1500, 2000, 3)\n"
          ]
        },
        {
          "name": "stderr",
          "output_type": "stream",
          "text": [
            "21-11-18 03:36:57.323 : predicted quality factor: 96\n",
            "21-11-18 03:36:57.568 : -180--> IMG_20211111_152331.jpg\n"
          ]
        },
        {
          "name": "stdout",
          "output_type": "stream",
          "text": [
            "img_L:(1500, 2000, 3)\n"
          ]
        },
        {
          "name": "stderr",
          "output_type": "stream",
          "text": [
            "21-11-18 03:37:10.030 : predicted quality factor: 96\n",
            "21-11-18 03:37:10.268 : -181--> IMG_20211111_152334.jpg\n"
          ]
        },
        {
          "name": "stdout",
          "output_type": "stream",
          "text": [
            "img_L:(1500, 2000, 3)\n"
          ]
        },
        {
          "name": "stderr",
          "output_type": "stream",
          "text": [
            "21-11-18 03:37:22.796 : predicted quality factor: 96\n",
            "21-11-18 03:37:23.041 : -182--> IMG_20211111_152336.jpg\n"
          ]
        },
        {
          "name": "stdout",
          "output_type": "stream",
          "text": [
            "img_L:(1500, 2000, 3)\n"
          ]
        },
        {
          "name": "stderr",
          "output_type": "stream",
          "text": [
            "21-11-18 03:37:35.541 : predicted quality factor: 96\n",
            "21-11-18 03:37:35.794 : -183--> IMG_20211111_152339.jpg\n"
          ]
        },
        {
          "name": "stdout",
          "output_type": "stream",
          "text": [
            "img_L:(1500, 2000, 3)\n"
          ]
        },
        {
          "name": "stderr",
          "output_type": "stream",
          "text": [
            "21-11-18 03:37:48.347 : predicted quality factor: 96\n",
            "21-11-18 03:37:48.604 : -184--> IMG_20211111_152342.jpg\n"
          ]
        },
        {
          "name": "stdout",
          "output_type": "stream",
          "text": [
            "img_L:(480, 360, 3)\n"
          ]
        },
        {
          "name": "stderr",
          "output_type": "stream",
          "text": [
            "21-11-18 03:37:49.687 : predicted quality factor: 96\n",
            "21-11-18 03:37:49.721 : -185--> IMG_20211111_152410.jpg\n"
          ]
        },
        {
          "name": "stdout",
          "output_type": "stream",
          "text": [
            "img_L:(1500, 2000, 3)\n"
          ]
        },
        {
          "name": "stderr",
          "output_type": "stream",
          "text": [
            "21-11-18 03:38:02.226 : predicted quality factor: 96\n",
            "21-11-18 03:38:02.489 : -186--> IMG_20211111_152412.jpg\n"
          ]
        },
        {
          "name": "stdout",
          "output_type": "stream",
          "text": [
            "img_L:(1500, 2000, 3)\n"
          ]
        },
        {
          "name": "stderr",
          "output_type": "stream",
          "text": [
            "21-11-18 03:38:14.955 : predicted quality factor: 96\n",
            "21-11-18 03:38:15.206 : -187--> IMG_20211111_152415.jpg\n"
          ]
        },
        {
          "name": "stdout",
          "output_type": "stream",
          "text": [
            "img_L:(1500, 2000, 3)\n"
          ]
        },
        {
          "name": "stderr",
          "output_type": "stream",
          "text": [
            "21-11-18 03:38:27.847 : predicted quality factor: 96\n",
            "21-11-18 03:38:28.127 : -188--> IMG_20211111_152418.jpg\n"
          ]
        },
        {
          "name": "stdout",
          "output_type": "stream",
          "text": [
            "img_L:(1500, 2000, 3)\n"
          ]
        },
        {
          "name": "stderr",
          "output_type": "stream",
          "text": [
            "21-11-18 03:38:40.721 : predicted quality factor: 96\n",
            "21-11-18 03:38:41.016 : -189--> IMG_20211111_152420.jpg\n"
          ]
        },
        {
          "name": "stdout",
          "output_type": "stream",
          "text": [
            "img_L:(1500, 2000, 3)\n"
          ]
        },
        {
          "name": "stderr",
          "output_type": "stream",
          "text": [
            "21-11-18 03:38:53.691 : predicted quality factor: 96\n",
            "21-11-18 03:38:53.972 : -190--> IMG_20211111_152423.jpg\n"
          ]
        },
        {
          "name": "stdout",
          "output_type": "stream",
          "text": [
            "img_L:(1500, 2000, 3)\n"
          ]
        },
        {
          "name": "stderr",
          "output_type": "stream",
          "text": [
            "21-11-18 03:39:06.611 : predicted quality factor: 96\n",
            "21-11-18 03:39:06.878 : -191--> IMG_20211111_152427.jpg\n"
          ]
        },
        {
          "name": "stdout",
          "output_type": "stream",
          "text": [
            "img_L:(1500, 2000, 3)\n"
          ]
        },
        {
          "name": "stderr",
          "output_type": "stream",
          "text": [
            "21-11-18 03:39:19.512 : predicted quality factor: 96\n",
            "21-11-18 03:39:19.769 : -192--> IMG_20211111_152430.jpg\n"
          ]
        },
        {
          "name": "stdout",
          "output_type": "stream",
          "text": [
            "img_L:(1500, 2000, 3)\n"
          ]
        },
        {
          "name": "stderr",
          "output_type": "stream",
          "text": [
            "21-11-18 03:39:32.195 : predicted quality factor: 96\n",
            "21-11-18 03:39:32.445 : -193--> IMG_20211111_152433.jpg\n"
          ]
        },
        {
          "name": "stdout",
          "output_type": "stream",
          "text": [
            "img_L:(1500, 2000, 3)\n"
          ]
        },
        {
          "name": "stderr",
          "output_type": "stream",
          "text": [
            "21-11-18 03:39:44.945 : predicted quality factor: 96\n",
            "21-11-18 03:39:45.203 : -194--> IMG_20211111_152436.jpg\n"
          ]
        },
        {
          "name": "stdout",
          "output_type": "stream",
          "text": [
            "img_L:(1500, 2000, 3)\n"
          ]
        },
        {
          "name": "stderr",
          "output_type": "stream",
          "text": [
            "21-11-18 03:39:57.773 : predicted quality factor: 96\n",
            "21-11-18 03:39:58.049 : -195--> IMG_20211111_152438.jpg\n"
          ]
        },
        {
          "name": "stdout",
          "output_type": "stream",
          "text": [
            "img_L:(1500, 2000, 3)\n"
          ]
        },
        {
          "name": "stderr",
          "output_type": "stream",
          "text": [
            "21-11-18 03:40:10.564 : predicted quality factor: 96\n",
            "21-11-18 03:40:10.840 : -196--> IMG_20211111_152441.jpg\n"
          ]
        },
        {
          "name": "stdout",
          "output_type": "stream",
          "text": [
            "img_L:(1500, 2000, 3)\n"
          ]
        },
        {
          "name": "stderr",
          "output_type": "stream",
          "text": [
            "21-11-18 03:40:23.574 : predicted quality factor: 96\n",
            "21-11-18 03:40:23.838 : -197--> IMG_20211111_152443.jpg\n"
          ]
        },
        {
          "name": "stdout",
          "output_type": "stream",
          "text": [
            "img_L:(1500, 2000, 3)\n"
          ]
        },
        {
          "name": "stderr",
          "output_type": "stream",
          "text": [
            "21-11-18 03:40:36.391 : predicted quality factor: 96\n",
            "21-11-18 03:40:36.645 : -198--> IMG_20211111_152447.jpg\n"
          ]
        },
        {
          "name": "stdout",
          "output_type": "stream",
          "text": [
            "img_L:(1500, 2000, 3)\n"
          ]
        },
        {
          "name": "stderr",
          "output_type": "stream",
          "text": [
            "21-11-18 03:40:49.236 : predicted quality factor: 96\n",
            "21-11-18 03:40:49.479 : -199--> IMG_20211111_152449.jpg\n"
          ]
        },
        {
          "name": "stdout",
          "output_type": "stream",
          "text": [
            "img_L:(1500, 2000, 3)\n"
          ]
        },
        {
          "name": "stderr",
          "output_type": "stream",
          "text": [
            "21-11-18 03:41:02.139 : predicted quality factor: 96\n",
            "21-11-18 03:41:02.373 : -200--> IMG_20211111_152451.jpg\n"
          ]
        },
        {
          "name": "stdout",
          "output_type": "stream",
          "text": [
            "img_L:(1500, 2000, 3)\n"
          ]
        },
        {
          "name": "stderr",
          "output_type": "stream",
          "text": [
            "21-11-18 03:41:14.981 : predicted quality factor: 96\n",
            "21-11-18 03:41:15.222 : -201--> IMG_20211111_152452.jpg\n"
          ]
        },
        {
          "name": "stdout",
          "output_type": "stream",
          "text": [
            "img_L:(1500, 2000, 3)\n"
          ]
        },
        {
          "name": "stderr",
          "output_type": "stream",
          "text": [
            "21-11-18 03:41:27.925 : predicted quality factor: 96\n",
            "21-11-18 03:41:28.181 : -202--> IMG_20211111_152454.jpg\n"
          ]
        },
        {
          "name": "stdout",
          "output_type": "stream",
          "text": [
            "img_L:(1500, 2000, 3)\n"
          ]
        },
        {
          "name": "stderr",
          "output_type": "stream",
          "text": [
            "21-11-18 03:41:40.809 : predicted quality factor: 96\n",
            "21-11-18 03:41:41.050 : -203--> IMG_20211111_152455.jpg\n"
          ]
        },
        {
          "name": "stdout",
          "output_type": "stream",
          "text": [
            "img_L:(1500, 2000, 3)\n"
          ]
        },
        {
          "name": "stderr",
          "output_type": "stream",
          "text": [
            "21-11-18 03:41:53.511 : predicted quality factor: 96\n",
            "21-11-18 03:41:53.793 : -204--> IMG_20211111_152502.jpg\n"
          ]
        },
        {
          "name": "stdout",
          "output_type": "stream",
          "text": [
            "img_L:(1500, 2000, 3)\n"
          ]
        },
        {
          "name": "stderr",
          "output_type": "stream",
          "text": [
            "21-11-18 03:42:06.297 : predicted quality factor: 96\n",
            "21-11-18 03:42:06.564 : -205--> IMG_20211111_152504.jpg\n"
          ]
        },
        {
          "name": "stdout",
          "output_type": "stream",
          "text": [
            "img_L:(1500, 2000, 3)\n"
          ]
        },
        {
          "name": "stderr",
          "output_type": "stream",
          "text": [
            "21-11-18 03:42:19.161 : predicted quality factor: 96\n",
            "21-11-18 03:42:19.418 : -206--> IMG_20211111_152505.jpg\n"
          ]
        },
        {
          "name": "stdout",
          "output_type": "stream",
          "text": [
            "img_L:(1500, 2000, 3)\n"
          ]
        },
        {
          "name": "stderr",
          "output_type": "stream",
          "text": [
            "21-11-18 03:42:31.901 : predicted quality factor: 96\n",
            "21-11-18 03:42:32.182 : -207--> IMG_20211111_152507.jpg\n"
          ]
        },
        {
          "name": "stdout",
          "output_type": "stream",
          "text": [
            "img_L:(1500, 2000, 3)\n"
          ]
        },
        {
          "name": "stderr",
          "output_type": "stream",
          "text": [
            "21-11-18 03:42:44.703 : predicted quality factor: 96\n",
            "21-11-18 03:42:44.964 : -208--> IMG_20211111_152508.jpg\n"
          ]
        },
        {
          "name": "stdout",
          "output_type": "stream",
          "text": [
            "img_L:(1500, 2000, 3)\n"
          ]
        },
        {
          "name": "stderr",
          "output_type": "stream",
          "text": [
            "21-11-18 03:42:57.374 : predicted quality factor: 96\n",
            "21-11-18 03:42:57.653 : -209--> IMG_20211111_152510.jpg\n"
          ]
        },
        {
          "name": "stdout",
          "output_type": "stream",
          "text": [
            "img_L:(1500, 2000, 3)\n"
          ]
        },
        {
          "name": "stderr",
          "output_type": "stream",
          "text": [
            "21-11-18 03:43:10.129 : predicted quality factor: 96\n",
            "21-11-18 03:43:10.375 : -210--> IMG_20211111_152512.jpg\n"
          ]
        },
        {
          "name": "stdout",
          "output_type": "stream",
          "text": [
            "img_L:(1500, 2000, 3)\n"
          ]
        },
        {
          "name": "stderr",
          "output_type": "stream",
          "text": [
            "21-11-18 03:43:22.764 : predicted quality factor: 96\n"
          ]
        }
      ],
      "source": [
        "# %cd /content/EnlightenGAN-inference\n",
        "# from enlighten_inference import EnlightenOnnxModel\n",
        "%cd /content/FBCNN\n",
        "import os.path\n",
        "import logging\n",
        "import numpy as np\n",
        "from datetime import datetime\n",
        "from collections import OrderedDict\n",
        "import torch\n",
        "import cv2\n",
        "from utils import utils_logger\n",
        "from utils import utils_image as util\n",
        "import requests\n",
        "import time\n",
        "\n",
        "def jpeg_artifact_removal(input_img_path, output_img_path):\n",
        "    n_channels = 3            # set 1 for grayscale image, set 3 for color image\n",
        "    model_name = 'fbcnn_color.pth'\n",
        "    nc = [64,128,256,512]\n",
        "    nb = 4\n",
        "\n",
        "    do_flexible_control = False\n",
        "    QF_control = [5,10,30,50,70,90] # adjust qf as input to provide different results\n",
        "\n",
        "    L_path = input_img_path\n",
        "    E_path = output_img_path   # E_path, for Estimated images\n",
        "    util.mkdir(E_path)\n",
        "\n",
        "    model_pool = 'model_zoo'  # fixed\n",
        "    model_path = os.path.join(model_pool, model_name)\n",
        "    if os.path.exists(model_path):\n",
        "        print(f'loading model from {model_path}')\n",
        "    else:\n",
        "        os.makedirs(os.path.dirname(model_path), exist_ok=True)\n",
        "        url = 'https://github.com/jiaxi-jiang/FBCNN/releases/download/v1.0/{}'.format(os.path.basename(model_path))\n",
        "        r = requests.get(url, allow_redirects=True)\n",
        "        print(f'downloading model {model_path}')\n",
        "        open(model_path, 'wb').write(r.content)    \n",
        "    \n",
        "    logger_name = \"result\"\n",
        "    utils_logger.logger_info(logger_name, log_path=os.path.join(E_path, logger_name+'.log'))\n",
        "    logger = logging.getLogger(logger_name)\n",
        "\n",
        "    device = torch.device('cuda' if torch.cuda.is_available() else 'cpu')\n",
        "    border = 0\n",
        "\n",
        "\n",
        "    # ----------------------------------------\n",
        "    # load model\n",
        "    # ----------------------------------------\n",
        "\n",
        "    from models.network_fbcnn import FBCNN as net\n",
        "    model = net(in_nc=n_channels, out_nc=n_channels, nc=nc, nb=nb, act_mode='R')\n",
        "    model.load_state_dict(torch.load(model_path), strict=True)\n",
        "    model.eval()\n",
        "    for k, v in model.named_parameters():\n",
        "     v.requires_grad = False\n",
        "    model = model.to(device)\n",
        "    logger.info('Model path: {:s}'.format(model_path))\n",
        "\n",
        "    test_results = OrderedDict()\n",
        "    test_results['psnr'] = []\n",
        "    test_results['ssim'] = []\n",
        "    test_results['psnrb'] = []\n",
        "\n",
        "    L_paths = util.get_image_paths(L_path)\n",
        "    for idx, img in enumerate(L_paths):\n",
        "\n",
        "        # ------------------------------------\n",
        "        # (1) img_L\n",
        "        # ------------------------------------\n",
        "        img_name, ext = os.path.splitext(os.path.basename(img))\n",
        "        logger.info('{:->4d}--> {:>10s}'.format(idx+1, img_name+ext))\n",
        "        img_L = util.imread_uint(img, n_channels=n_channels)\n",
        "        width = int(img_L.shape[1] * scale_percent / 100)\n",
        "        height = int(img_L.shape[0] * scale_percent / 100)\n",
        "        dim = (width, height)\n",
        "        img_L = cv2.resize(img_L, dim, interpolation = cv2.INTER_AREA)\n",
        "        print(\"img_L:\"+str(img_L.shape))\n",
        "        img_L = util.uint2tensor4(img_L)\n",
        "        img_L = img_L.to(device)\n",
        "\n",
        "        # ------------------------------------\n",
        "        # (2) img_E\n",
        "        # ------------------------------------\n",
        "     \n",
        "        #img_E,QF = model(img_L, torch.tensor([[0.6]]))      \n",
        "        img_E,QF = model(img_L)\n",
        "        QF = 1- QF\n",
        "        img_E = util.tensor2single(img_E)\n",
        "        img_E = util.single2uint(img_E)\n",
        "        logger.info('predicted quality factor: {:d}'.format(round(float(QF*100))))\n",
        "\n",
        "        util.imsave(img_E, os.path.join(E_path, img_name+'.png'))\n",
        " \n",
        "        if do_flexible_control:\n",
        "            for QF_set in QF_control:\n",
        "                logger.info('Flexible control by QF = {:d}'.format(QF_set))\n",
        "            #    from IPython import embed; embed()\n",
        "                qf_input = torch.tensor([[1-QF_set/100]]).cuda() if device == torch.device('cuda') else torch.tensor([[1-QF_set/100]])\n",
        "                img_E,QF = model(img_L, qf_input)  \n",
        "                QF = 1- QF\n",
        "                img_E = util.tensor2single(img_E)\n",
        "                img_E = util.single2uint(img_E)\n",
        "                util.imsave(img_E, os.path.join(E_path, img_name + '_qf_'+ str(QF_set)+'.png'))\n",
        "        del img_E\n",
        "        del img_L\n",
        "\n",
        "jpeg_artifact_removal(UNPROCESSED_IMAGE_PATH, PROCESSED_IMAGE_PATH)\n",
        "time.sleep(10)"
      ]
    },
    {
      "cell_type": "markdown",
      "metadata": {
        "id": "CzSvEH6fZiUy"
      },
      "source": [
        "# Main Algorithm"
      ]
    },
    {
      "cell_type": "markdown",
      "metadata": {
        "id": "GO0nEIclZlGq"
      },
      "source": [
        "## Feature Detection & Matching"
      ]
    },
    {
      "cell_type": "code",
      "execution_count": null,
      "metadata": {
        "colab": {
          "base_uri": "https://localhost:8080/"
        },
        "id": "qkuGUNEpZ-DD",
        "outputId": "fe54e7f8-c180-48cc-fc8d-cac0305712ea"
      },
      "outputs": [
        {
          "name": "stdout",
          "output_type": "stream",
          "text": [
            "/content/Hierarchical-Localization\n"
          ]
        }
      ],
      "source": [
        "%cd /content/Hierarchical-Localization\n",
        "%load_ext autoreload\n",
        "%autoreload 2\n",
        "\n",
        "from pathlib import Path\n",
        "\n",
        "from hloc import extract_features, match_features, reconstruction, visualization"
      ]
    },
    {
      "cell_type": "code",
      "execution_count": null,
      "metadata": {
        "id": "Unz34QdiaAgC"
      },
      "outputs": [],
      "source": [
        "feature_conf = extract_features.confs['superpoint_aachen']\n",
        "feature_conf[\"preprocessing\"][\"resize_max\"] = 2000 # since image distortion will resize the image to 2000\n",
        "# del feature_conf[\"preprocessing\"][\"resize_max\"]\n",
        "\n",
        "matcher_conf = match_features.confs['superglue']\n",
        "# matcher_conf[\"model\"][\"weights\"] = \"indoor\"\n",
        "features = feature_conf['output']\n",
        "feature_file = f\"{features}.h5\"\n",
        "match_file = f\"{features}_{matcher_conf['output']}_{sfm_pairs.stem}.h5\""
      ]
    },
    {
      "cell_type": "markdown",
      "metadata": {
        "id": "w_5tb6DlZ9kL"
      },
      "source": [
        "### Feature Extraction"
      ]
    },
    {
      "cell_type": "code",
      "execution_count": null,
      "metadata": {
        "colab": {
          "base_uri": "https://localhost:8080/"
        },
        "id": "sLExDDRNaCa7",
        "outputId": "1fb5341f-7c94-49df-8e52-dec10b7a6aba"
      },
      "outputs": [
        {
          "name": "stdout",
          "output_type": "stream",
          "text": [
            "[11/26/2021 02:54:39 INFO] Extracting local features with configuration:\n",
            "{'model': {'max_keypoints': 4096, 'name': 'superpoint', 'nms_radius': 3},\n",
            " 'output': 'feats-superpoint-n4096-r1024',\n",
            " 'preprocessing': {'grayscale': True, 'resize_max': 2000}}\n",
            "[11/26/2021 02:54:42 INFO] Found 209 images in root /content/drive/MyDrive/FYP/Museum Collections/Sikri Red Statue/images(NO_JPEG_artifact_PNG).\n",
            "Loaded SuperPoint model\n"
          ]
        },
        {
          "name": "stderr",
          "output_type": "stream",
          "text": [
            "  0%|          | 0/209 [00:00<?, ?it/s]/usr/local/lib/python3.7/dist-packages/torch/nn/functional.py:4004: UserWarning: Default grid_sample and affine_grid behavior has changed to align_corners=False since 1.3.0. Please specify align_corners=True if the old behavior is desired. See the documentation of grid_sample for details.\n",
            "  \"Default grid_sample and affine_grid behavior has changed \"\n",
            "100%|██████████| 209/209 [07:17<00:00,  2.09s/it]"
          ]
        },
        {
          "name": "stdout",
          "output_type": "stream",
          "text": [
            "[11/26/2021 03:02:08 INFO] Finished exporting features.\n",
            "It takes  449.21 s\n"
          ]
        },
        {
          "name": "stderr",
          "output_type": "stream",
          "text": [
            "\n"
          ]
        }
      ],
      "source": [
        "start = time.time()\n",
        "\n",
        "extract_features.main(feature_conf, IMG_DIR, OUTPUT_DIR)\n",
        "\n",
        "end = time.time()\n",
        "print(\"It takes \",round(end - start,2), \"s\")"
      ]
    },
    {
      "cell_type": "markdown",
      "metadata": {
        "id": "Q0zZuFYUaWt6"
      },
      "source": [
        "### Feature Matching"
      ]
    },
    {
      "cell_type": "code",
      "execution_count": null,
      "metadata": {
        "colab": {
          "base_uri": "https://localhost:8080/"
        },
        "id": "kMC_Ju5GaZv6",
        "outputId": "30e56e59-65e2-4c03-f239-d428f441065f"
      },
      "outputs": [
        {
          "name": "stdout",
          "output_type": "stream",
          "text": [
            "[11/26/2021 08:55:52 INFO] Matching local features with configuration:\n",
            "{'model': {'name': 'superglue',\n",
            "           'sinkhorn_iterations': 50,\n",
            "           'weights': 'outdoor'},\n",
            " 'output': 'matches-superglue'}\n",
            "[11/26/2021 08:55:58 INFO] Writing exhaustive match pairs to /content/drive/MyDrive/FYP/Museum Collections/Sikri Red Statue/images(NO_JPEG_artifact_PNG)_output/SuperPoint+SuperGlue_OPENCV_2000_Aachen_Indoor_matching/pairs-exhaustive.txt.\n",
            "Loaded SuperGlue model (\"outdoor\" weights)\n"
          ]
        },
        {
          "name": "stderr",
          "output_type": "stream",
          "text": [
            "100%|██████████| 21736/21736 [3:17:02<00:00,  1.84it/s]"
          ]
        },
        {
          "name": "stdout",
          "output_type": "stream",
          "text": [
            "[11/26/2021 12:13:30 INFO] Finished exporting matches.\n",
            "It takes  11858.9 s\n"
          ]
        },
        {
          "name": "stderr",
          "output_type": "stream",
          "text": [
            "\n"
          ]
        }
      ],
      "source": [
        "import time\n",
        "start = time.time()\n",
        "\n",
        "match_features.main(matcher_conf, sfm_pairs, features, OUTPUT_DIR, exhaustive=True)\n",
        "\n",
        "end = time.time()\n",
        "print(\"It takes \",round(end - start,2), \"s\")"
      ]
    },
    {
      "cell_type": "markdown",
      "metadata": {
        "id": "L7ffUiIGag_j"
      },
      "source": [
        "## Structure from Motion"
      ]
    },
    {
      "cell_type": "code",
      "execution_count": null,
      "metadata": {
        "id": "h0L78gfValvd"
      },
      "outputs": [],
      "source": [
        "from hloc.reconstruction import *\n",
        "\n",
        "def import_images(colmap_path, sfm_dir, image_dir, database_path,\n",
        "                  single_camera=False):\n",
        "    logging.info('Importing images into the database...')\n",
        "    images = list(image_dir.iterdir())\n",
        "    if len(images) == 0:\n",
        "        raise IOError(f'No images found in {image_dir}.')\n",
        "\n",
        "    # We need to create dummy features for COLMAP to import images with EXIF\n",
        "    dummy_dir = sfm_dir / 'dummy_features'\n",
        "    dummy_dir.mkdir()\n",
        "    for i in images:\n",
        "        with open(str(dummy_dir / (i.name + '.txt')), 'w') as f:\n",
        "            f.write('0 128')\n",
        "\n",
        "    cmd = [\n",
        "        str(colmap_path), 'feature_importer',\n",
        "        '--database_path', str(database_path),\n",
        "        '--image_path', str(image_dir),\n",
        "        '--import_path', str(dummy_dir),\n",
        "        '--ImageReader.single_camera',\n",
        "        str(int(single_camera)),\n",
        "        '--ImageReader.camera_model','OPENCV'] # OPENCV is better but to avoid distortion of image, I use SIMPLE_PINHOLE\n",
        "    ret = subprocess.call(cmd)\n",
        "    if ret != 0:\n",
        "        logging.warning('Problem with feature_importer, exiting.')\n",
        "        exit(ret)\n",
        "\n",
        "    db = COLMAPDatabase.connect(database_path)\n",
        "    db.execute(\"DELETE FROM keypoints;\")\n",
        "    db.execute(\"DELETE FROM descriptors;\")\n",
        "    db.commit()\n",
        "    db.close()\n",
        "    shutil.rmtree(str(dummy_dir))"
      ]
    },
    {
      "cell_type": "code",
      "execution_count": null,
      "metadata": {
        "id": "xzUfgKQ-apBr"
      },
      "outputs": [],
      "source": [
        "def colmap_sfm(sfm_dir, image_dir, pairs, features, matches,\n",
        "         colmap_path='colmap', single_camera=False,\n",
        "         skip_geometric_verification=False,\n",
        "         min_match_score=None, min_num_matches=None):\n",
        "\n",
        "    assert features.exists(), features\n",
        "    assert pairs.exists(), pairs\n",
        "    assert matches.exists(), matches\n",
        "\n",
        "    sfm_dir.mkdir(parents=True, exist_ok=True)\n",
        "    database = sfm_dir / 'database.db'\n",
        "    models = sfm_dir / 'sparse'\n",
        "    models.mkdir(exist_ok=True)\n",
        "\n",
        "    create_empty_db(database)\n",
        "    import_images(\n",
        "        colmap_path, sfm_dir, image_dir, database, single_camera)\n",
        "    image_ids = get_image_ids(database)\n",
        "    import_features(image_ids, database, features)\n",
        "    import_matches(image_ids, database, pairs, matches,\n",
        "                   min_match_score, skip_geometric_verification)\n",
        "    if not skip_geometric_verification:\n",
        "        geometric_verification(colmap_path, database, pairs, verbose=True)\n",
        "    stats = run_reconstruction(\n",
        "        colmap_path, models, database, image_dir, min_num_matches)\n",
        "    stats['num_input_images'] = len(image_ids)\n",
        "    logging.info(f'Statistics:\\n{pprint.pformat(stats)}')"
      ]
    },
    {
      "cell_type": "code",
      "execution_count": null,
      "metadata": {
        "id": "Q2mzqM43arN7"
      },
      "outputs": [],
      "source": [
        "def run_reconstruction(colmap_path, model_path, database_path, image_dir,\n",
        "                       min_num_matches=None):\n",
        "    logging.info('Running the 3D reconstruction...')\n",
        "    model_path.mkdir(exist_ok=True)\n",
        "\n",
        "    cmd = [\n",
        "        str(colmap_path), 'mapper',\n",
        "        '--database_path', str(database_path),\n",
        "        '--image_path', str(image_dir),\n",
        "        '--output_path', str(model_path),\n",
        "        '--Mapper.num_threads', str(min(multiprocessing.cpu_count(), 16)),\n",
        "        '--Mapper.ba_refine_principal_point', str(True)]\n",
        "    if min_num_matches:\n",
        "        cmd += ['--Mapper.min_num_matches', str(min_num_matches)]\n",
        "    logging.info(' '.join(cmd))\n",
        "    ret = subprocess.call(cmd)\n",
        "    if ret != 0:\n",
        "        logging.warning('Problem with mapper, exiting.')\n",
        "        exit(ret)\n",
        "\n",
        "    models = list(model_path.iterdir())\n",
        "    if len(models) == 0:\n",
        "        logging.error('Could not reconstruct any model!')\n",
        "        return False\n",
        "    logging.info(f'Reconstructed {len(models)} models.')\n",
        "\n",
        "    largest_model = None\n",
        "    largest_model_num_images = 0\n",
        "    for model in models:\n",
        "        num_images = len(read_cameras_binary(str(model / 'cameras.bin')))\n",
        "        if num_images > largest_model_num_images:\n",
        "            largest_model = model\n",
        "            largest_model_num_images = num_images\n",
        "    assert largest_model_num_images > 0\n",
        "    logging.info(f'Largest model is #{largest_model.name} with {largest_model_num_images} images.')\n",
        "\n",
        "    stats_raw = subprocess.check_output(\n",
        "        [str(colmap_path), 'model_analyzer',\n",
        "         '--path', str(largest_model)])\n",
        "    stats_raw = stats_raw.decode().split(\"\\n\")\n",
        "    stats = dict()\n",
        "    for stat in stats_raw:\n",
        "        if stat.startswith(\"Registered images\"):\n",
        "            stats['num_reg_images'] = int(stat.split()[-1])\n",
        "        elif stat.startswith(\"Points\"):\n",
        "            stats['num_sparse_points'] = int(stat.split()[-1])\n",
        "        elif stat.startswith(\"Observations\"):\n",
        "            stats['num_observations'] = int(stat.split()[-1])\n",
        "        elif stat.startswith(\"Mean track length\"):\n",
        "            stats['mean_track_length'] = float(stat.split()[-1])\n",
        "        elif stat.startswith(\"Mean observations per image\"):\n",
        "            stats['num_observations_per_image'] = float(stat.split()[-1])\n",
        "        elif stat.startswith(\"Mean reprojection error\"):\n",
        "            stats['mean_reproj_error'] = float(stat.split()[-1][:-2])\n",
        "\n",
        "    return stats\n"
      ]
    },
    {
      "cell_type": "code",
      "execution_count": null,
      "metadata": {
        "colab": {
          "base_uri": "https://localhost:8080/"
        },
        "id": "Jq5pmJdfasjC",
        "outputId": "ede9dcf8-84a1-4601-cf00-e97c6a2e09af"
      },
      "outputs": [
        {
          "name": "stdout",
          "output_type": "stream",
          "text": [
            "[11/26/2021 12:47:29 INFO] Creating an empty database...\n",
            "[11/26/2021 12:47:29 INFO] Importing images into the database...\n",
            "[11/26/2021 12:49:34 INFO] Importing features into the database...\n"
          ]
        },
        {
          "name": "stderr",
          "output_type": "stream",
          "text": [
            "100%|██████████| 209/209 [00:00<00:00, 389.60it/s]\n"
          ]
        },
        {
          "name": "stdout",
          "output_type": "stream",
          "text": [
            "[11/26/2021 12:49:35 INFO] Importing matches into the database...\n"
          ]
        },
        {
          "name": "stderr",
          "output_type": "stream",
          "text": [
            "100%|██████████| 21736/21736 [01:22<00:00, 264.40it/s]\n"
          ]
        },
        {
          "name": "stdout",
          "output_type": "stream",
          "text": [
            "[11/26/2021 12:51:06 INFO] Performing geometric verification of the matches...\n",
            "[11/26/2021 13:16:27 INFO] Running the 3D reconstruction...\n",
            "[11/26/2021 13:16:27 INFO] colmap mapper --database_path /content/drive/MyDrive/FYP/Museum Collections/Sikri Red Statue/images(NO_JPEG_artifact_PNG)_output/SuperPoint+SuperGlue_OPENCV_2000_Aachen_Indoor_matching/sfm_superpoint+superglue/database.db --image_path /content/drive/MyDrive/FYP/Museum Collections/Sikri Red Statue/images(NO_JPEG_artifact_PNG) --output_path /content/drive/MyDrive/FYP/Museum Collections/Sikri Red Statue/images(NO_JPEG_artifact_PNG)_output/SuperPoint+SuperGlue_OPENCV_2000_Aachen_Indoor_matching/sfm_superpoint+superglue/sparse --Mapper.num_threads 2 --Mapper.ba_refine_principal_point True\n",
            "[11/26/2021 13:44:22 INFO] Reconstructed 1 models.\n",
            "[11/26/2021 13:44:22 INFO] Largest model is #0 with 1 images.\n",
            "[11/26/2021 13:44:23 INFO] Statistics:\n",
            "{'mean_reproj_error': 1.357269,\n",
            " 'mean_track_length': 7.944648,\n",
            " 'num_input_images': 209,\n",
            " 'num_observations': 538234,\n",
            " 'num_observations_per_image': 2575.282297,\n",
            " 'num_reg_images': 209,\n",
            " 'num_sparse_points': 67748}\n",
            "It takes  3413.67 s\n"
          ]
        }
      ],
      "source": [
        "start = time.time()\n",
        "\n",
        "colmap_sfm(\n",
        "    sfm_dir,\n",
        "    IMG_DIR,\n",
        "    sfm_pairs,\n",
        "    OUTPUT_DIR / feature_file,\n",
        "    OUTPUT_DIR / match_file,\n",
        "    single_camera = True)\n",
        "\n",
        "end = time.time()\n",
        "print(\"It takes \",round(end - start,2), \"s\")"
      ]
    },
    {
      "cell_type": "markdown",
      "metadata": {
        "id": "aqpiNDpIa_38"
      },
      "source": [
        "## Multi View Stereo"
      ]
    },
    {
      "cell_type": "markdown",
      "metadata": {
        "id": "9Wnz15lqbDxz"
      },
      "source": [
        "### COLMAP"
      ]
    },
    {
      "cell_type": "code",
      "execution_count": null,
      "metadata": {
        "colab": {
          "base_uri": "https://localhost:8080/"
        },
        "id": "hIWksitnauHi",
        "outputId": "974516e9-3e48-41e9-d6a1-63209a8d865e"
      },
      "outputs": [
        {
          "name": "stdout",
          "output_type": "stream",
          "text": [
            "env: MASK_IMAGES_PATH=/content/drive/MyDrive/FYP/images(PNG+Mask)\n",
            "\n",
            "StereoFusion::Options\n",
            "---------------------\n",
            "mask_path: \n",
            "max_image_size: -1\n",
            "min_num_pixels: 5\n",
            "max_num_pixels: 10000\n",
            "max_traversal_depth: 100\n",
            "max_reproj_error: 2\n",
            "max_depth_error: 0.01\n",
            "max_normal_error: 10\n",
            "check_num_images: 50\n",
            "use_cache: 0\n",
            "cache_size: 32\n",
            "bbox_min: -3.40282e+38 -3.40282e+38 -3.40282e+38\n",
            "bbox_max: 3.40282e+38 3.40282e+38 3.40282e+38\n",
            "\n",
            "Reading workspace...\n",
            "Loading workspace data with 2 threads...\n",
            "Elapsed time: 5.477 [minutes]\n",
            "Reading configuration...\n",
            "Starting fusion with 2 threads\n",
            "Fusing image [1/174] with index 0 in 16.861s (96572 points)\n",
            "Fusing image [2/174] with index 5 in 17.822s (226360 points)\n",
            "Fusing image [3/174] with index 145 in 10.256s (299103 points)\n",
            "Fusing image [4/174] with index 4 in 9.361s (359305 points)\n",
            "Fusing image [5/174] with index 110 in 11.248s (428417 points)\n",
            "Fusing image [6/174] with index 109 in 10.129s (489690 points)\n",
            "Fusing image [7/174] with index 169 in 14.924s (594217 points)\n",
            "Fusing image [8/174] with index 168 in 12.452s (674121 points)\n",
            "Fusing image [9/174] with index 107 in 8.394s (721138 points)\n",
            "Fusing image [10/174] with index 106 in 10.736s (787114 points)\n",
            "Fusing image [11/174] with index 167 in 9.201s (854821 points)\n",
            "Fusing image [12/174] with index 105 in 6.937s (901182 points)\n",
            "Fusing image [13/174] with index 104 in 8.420s (961235 points)\n",
            "Fusing image [14/174] with index 166 in 7.745s (1022050 points)\n",
            "Fusing image [15/174] with index 103 in 4.722s (1059803 points)\n",
            "Fusing image [16/174] with index 102 in 7.016s (1121392 points)\n",
            "Fusing image [17/174] with index 101 in 8.522s (1210399 points)\n",
            "Fusing image [18/174] with index 100 in 6.313s (1293442 points)\n",
            "Fusing image [19/174] with index 163 in 4.074s (1344716 points)\n",
            "Fusing image [20/174] with index 164 in 3.083s (1379258 points)\n",
            "Fusing image [21/174] with index 165 in 2.011s (1396903 points)\n",
            "Fusing image [22/174] with index 160 in 5.064s (1479702 points)\n",
            "Fusing image [23/174] with index 159 in 4.634s (1546303 points)\n",
            "Fusing image [24/174] with index 158 in 5.011s (1610946 points)\n",
            "Fusing image [25/174] with index 157 in 4.169s (1660999 points)\n",
            "Fusing image [26/174] with index 137 in 4.123s (1698923 points)\n",
            "Fusing image [27/174] with index 136 in 3.316s (1721357 points)\n",
            "Fusing image [28/174] with index 172 in 2.160s (1730946 points)\n",
            "Fusing image [29/174] with index 135 in 2.522s (1741622 points)\n",
            "Fusing image [30/174] with index 173 in 1.939s (1749384 points)\n",
            "Fusing image [31/174] with index 140 in 1.793s (1760153 points)\n",
            "Fusing image [32/174] with index 141 in 1.829s (1771570 points)\n",
            "Fusing image [33/174] with index 162 in 1.554s (1775752 points)\n",
            "Fusing image [34/174] with index 161 in 1.246s (1777508 points)\n",
            "Fusing image [35/174] with index 142 in 1.671s (1785556 points)\n",
            "Fusing image [36/174] with index 143 in 1.469s (1789780 points)\n",
            "Fusing image [37/174] with index 144 in 1.445s (1792035 points)\n",
            "Fusing image [38/174] with index 47 in 2.350s (1807129 points)\n",
            "Fusing image [39/174] with index 49 in 2.567s (1826100 points)\n",
            "Fusing image [40/174] with index 85 in 1.109s (1829642 points)\n",
            "Fusing image [41/174] with index 78 in 1.316s (1835371 points)\n",
            "Fusing image [42/174] with index 79 in 1.554s (1843917 points)\n",
            "Fusing image [43/174] with index 80 in 3.424s (1875936 points)\n",
            "Fusing image [44/174] with index 81 in 2.660s (1899634 points)\n",
            "Fusing image [45/174] with index 82 in 3.021s (1923587 points)\n",
            "Fusing image [46/174] with index 83 in 6.088s (1974405 points)\n",
            "Fusing image [47/174] with index 84 in 5.017s (2016700 points)\n",
            "Fusing image [48/174] with index 36 in 7.447s (2096322 points)\n",
            "Fusing image [49/174] with index 37 in 5.555s (2153077 points)\n",
            "Fusing image [50/174] with index 38 in 4.924s (2208361 points)\n",
            "Fusing image [51/174] with index 39 in 4.741s (2266479 points)\n",
            "Fusing image [52/174] with index 40 in 3.982s (2313116 points)\n",
            "Fusing image [53/174] with index 41 in 3.441s (2352207 points)\n",
            "Fusing image [54/174] with index 42 in 2.763s (2381246 points)\n",
            "Fusing image [55/174] with index 43 in 2.708s (2409251 points)\n",
            "Fusing image [56/174] with index 44 in 2.250s (2427784 points)\n",
            "Fusing image [57/174] with index 45 in 1.835s (2440277 points)\n",
            "Fusing image [58/174] with index 46 in 1.547s (2451843 points)\n",
            "Fusing image [59/174] with index 48 in 1.042s (2453740 points)\n",
            "Fusing image [60/174] with index 108 in 1.133s (2457133 points)\n",
            "Fusing image [61/174] with index 52 in 4.564s (2519068 points)\n",
            "Fusing image [62/174] with index 53 in 2.772s (2548616 points)\n",
            "Fusing image [63/174] with index 54 in 2.666s (2578608 points)\n",
            "Fusing image [64/174] with index 55 in 2.513s (2607158 points)\n",
            "Fusing image [65/174] with index 56 in 2.489s (2637645 points)\n",
            "Fusing image [66/174] with index 60 in 2.254s (2661597 points)\n",
            "Fusing image [67/174] with index 61 in 1.617s (2672602 points)\n",
            "Fusing image [68/174] with index 62 in 1.667s (2688975 points)\n",
            "Fusing image [69/174] with index 63 in 1.369s (2703390 points)\n",
            "Fusing image [70/174] with index 64 in 1.375s (2719978 points)\n",
            "Fusing image [71/174] with index 65 in 1.647s (2737382 points)\n",
            "Fusing image [72/174] with index 59 in 1.357s (2748843 points)\n",
            "Fusing image [73/174] with index 31 in 3.548s (2808479 points)\n",
            "Fusing image [74/174] with index 30 in 2.061s (2822494 points)\n",
            "Fusing image [75/174] with index 32 in 2.195s (2844257 points)\n",
            "Fusing image [76/174] with index 33 in 2.611s (2879373 points)\n",
            "Fusing image [77/174] with index 34 in 2.751s (2922013 points)\n",
            "Fusing image [78/174] with index 29 in 2.169s (2949392 points)\n",
            "Fusing image [79/174] with index 28 in 2.162s (2978869 points)\n",
            "Fusing image [80/174] with index 16 in 3.012s (3018562 points)\n",
            "Fusing image [81/174] with index 15 in 2.987s (3054720 points)\n",
            "Fusing image [82/174] with index 14 in 3.543s (3107556 points)\n",
            "Fusing image [83/174] with index 25 in 4.712s (3195036 points)\n",
            "Fusing image [84/174] with index 24 in 2.889s (3235147 points)\n",
            "Fusing image [85/174] with index 23 in 2.716s (3267746 points)\n",
            "Fusing image [86/174] with index 22 in 2.666s (3296185 points)\n",
            "Fusing image [87/174] with index 21 in 2.293s (3312708 points)\n",
            "Fusing image [88/174] with index 20 in 2.213s (3324806 points)\n",
            "Fusing image [89/174] with index 19 in 2.484s (3335338 points)\n",
            "Fusing image [90/174] with index 18 in 2.028s (3341180 points)\n",
            "Fusing image [91/174] with index 17 in 1.859s (3344414 points)\n",
            "Fusing image [92/174] with index 8 in 1.516s (3355241 points)\n",
            "Fusing image [93/174] with index 9 in 1.593s (3369516 points)\n",
            "Fusing image [94/174] with index 10 in 1.755s (3382905 points)\n",
            "Fusing image [95/174] with index 11 in 1.823s (3406924 points)\n",
            "Fusing image [96/174] with index 12 in 2.136s (3442455 points)\n",
            "Fusing image [97/174] with index 13 in 1.868s (3473755 points)\n",
            "Fusing image [98/174] with index 86 in 1.672s (3502012 points)\n",
            "Fusing image [99/174] with index 87 in 2.044s (3537257 points)\n",
            "Fusing image [100/174] with index 88 in 1.657s (3555819 points)\n",
            "Fusing image [101/174] with index 89 in 1.475s (3566783 points)\n",
            "Fusing image [102/174] with index 90 in 1.298s (3577845 points)\n",
            "Fusing image [103/174] with index 91 in 1.435s (3589302 points)\n",
            "Fusing image [104/174] with index 92 in 1.577s (3600088 points)\n",
            "Fusing image [105/174] with index 93 in 2.049s (3622853 points)\n",
            "Fusing image [106/174] with index 94 in 1.793s (3638405 points)\n",
            "Fusing image [107/174] with index 95 in 1.662s (3646711 points)\n",
            "Fusing image [108/174] with index 96 in 1.532s (3651860 points)\n",
            "Fusing image [109/174] with index 71 in 1.812s (3676467 points)\n",
            "Fusing image [110/174] with index 116 in 2.722s (3720689 points)\n",
            "Fusing image [111/174] with index 115 in 2.042s (3744330 points)\n",
            "Fusing image [112/174] with index 114 in 1.586s (3755495 points)\n",
            "Fusing image [113/174] with index 113 in 1.359s (3761668 points)\n",
            "Fusing image [114/174] with index 147 in 1.564s (3767011 points)\n",
            "Fusing image [115/174] with index 148 in 1.462s (3771236 points)\n",
            "Fusing image [116/174] with index 117 in 1.396s (3775979 points)\n",
            "Fusing image [117/174] with index 118 in 1.700s (3780925 points)\n",
            "Fusing image [118/174] with index 149 in 1.152s (3782777 points)\n",
            "Fusing image [119/174] with index 150 in 1.279s (3785627 points)\n",
            "Fusing image [120/174] with index 151 in 1.413s (3788876 points)\n",
            "Fusing image [121/174] with index 152 in 1.555s (3796219 points)\n",
            "Fusing image [122/174] with index 35 in 1.192s (3797772 points)\n",
            "Fusing image [123/174] with index 153 in 1.252s (3802949 points)\n",
            "Fusing image [124/174] with index 155 in 1.267s (3810242 points)\n",
            "Fusing image [125/174] with index 138 in 1.109s (3812095 points)\n",
            "Fusing image [126/174] with index 156 in 1.079s (3813047 points)\n",
            "Fusing image [127/174] with index 154 in 0.954s (3813335 points)\n",
            "Fusing image [128/174] with index 139 in 1.029s (3813571 points)\n",
            "Fusing image [129/174] with index 98 in 1.105s (3818032 points)\n",
            "Fusing image [130/174] with index 99 in 0.733s (3818572 points)\n",
            "Fusing image [131/174] with index 97 in 0.851s (3818764 points)\n",
            "Fusing image [132/174] with index 119 in 1.370s (3834456 points)\n",
            "Fusing image [133/174] with index 120 in 1.155s (3846684 points)\n",
            "Fusing image [134/174] with index 121 in 1.465s (3867978 points)\n",
            "Fusing image [135/174] with index 133 in 1.625s (3901976 points)\n",
            "Fusing image [136/174] with index 132 in 1.716s (3922433 points)\n",
            "Fusing image [137/174] with index 128 in 1.584s (3931315 points)\n",
            "Fusing image [138/174] with index 129 in 1.265s (3934101 points)\n",
            "Fusing image [139/174] with index 130 in 0.929s (3935084 points)\n",
            "Fusing image [140/174] with index 131 in 1.291s (3935540 points)\n",
            "Fusing image [141/174] with index 122 in 0.825s (3940434 points)\n",
            "Fusing image [142/174] with index 134 in 0.780s (3941488 points)\n",
            "Fusing image [143/174] with index 123 in 0.858s (3944683 points)\n",
            "Fusing image [144/174] with index 124 in 0.682s (3945497 points)\n",
            "Fusing image [145/174] with index 125 in 0.812s (3946706 points)\n",
            "Fusing image [146/174] with index 126 in 0.751s (3946900 points)\n",
            "Fusing image [147/174] with index 127 in 0.764s (3946953 points)\n",
            "Fusing image [148/174] with index 51 in 0.671s (3947133 points)\n",
            "Fusing image [149/174] with index 26 in 0.720s (3947224 points)\n",
            "Fusing image [150/174] with index 27 in 0.663s (3947234 points)\n",
            "Fusing image [151/174] with index 50 in 0.700s (3947761 points)\n",
            "Fusing image [152/174] with index 66 in 0.769s (3948988 points)\n",
            "Fusing image [153/174] with index 68 in 0.891s (3951158 points)\n",
            "Fusing image [154/174] with index 67 in 0.786s (3951463 points)\n",
            "Fusing image [155/174] with index 69 in 0.849s (3952075 points)\n",
            "Fusing image [156/174] with index 112 in 0.816s (3952605 points)\n",
            "Fusing image [157/174] with index 111 in 0.711s (3952718 points)\n",
            "Fusing image [158/174] with index 146 in 0.804s (3952850 points)\n",
            "Fusing image [159/174] with index 6 in 0.973s (3952892 points)\n",
            "Fusing image [160/174] with index 73 in 0.746s (3955622 points)\n",
            "Fusing image [161/174] with index 74 in 0.678s (3956324 points)\n",
            "Fusing image [162/174] with index 72 in 0.659s (3956377 points)\n",
            "Fusing image [163/174] with index 75 in 0.686s (3956796 points)\n",
            "Fusing image [164/174] with index 77 in 0.729s (3956828 points)\n",
            "Fusing image [165/174] with index 76 in 0.698s (3956832 points)\n",
            "Fusing image [166/174] with index 57 in 0.606s (3956849 points)\n",
            "Fusing image [167/174] with index 58 in 0.617s (3956849 points)\n",
            "Fusing image [168/174] with index 1 in 0.972s (3957915 points)\n",
            "Fusing image [169/174] with index 2 in 0.703s (3957944 points)\n",
            "Fusing image [170/174] with index 3 in 0.670s (3957944 points)\n",
            "Fusing image [171/174] with index 7 in 0.690s (3957957 points)\n",
            "Fusing image [172/174] with index 171 in 0.891s (3957961 points)\n",
            "Fusing image [173/174] with index 170 in 0.810s (3957961 points)\n",
            "Fusing image [174/174] with index 70 in 0.695s (3957961 points)\n",
            "Number of fused points: 3957961\n",
            "Elapsed time: 13.619 [minutes]\n",
            "Writing output: /content/drive/MyDrive/FYP/Museum Collections/Goddess Meenakshi/images(NO_JPEG_artifact_PNG)_output/SuperPoint+SuperGlue_OPENCV_2000_Aachen_Indoor_matching/sfm_superpoint+superglue/dense/fused.ply\n",
            "Value Range: [1.874280,16.694895]\n",
            "It takes  884.94 s\n"
          ]
        }
      ],
      "source": [
        "import time\n",
        "start = time.time()\n",
        "%env MASK_IMAGES_PATH=/content/drive/MyDrive/FYP/images(PNG+Mask)\n",
        "\n",
        "def colmap_img_undistorter(sfm_dir, IMG_DIR):\n",
        "  # COLMAP\n",
        "  os.environ[\"DATASET_PATH\"] = str(sfm_dir)\n",
        "  os.environ[\"IMAGES_PATH\"] = str(IMG_DIR)\n",
        "  %mkdir \"$DATASET_PATH\"/dense\n",
        "  !colmap image_undistorter \\\n",
        "      --image_path \"$IMAGES_PATH\" \\\n",
        "      --input_path \"$DATASET_PATH\"/sparse/0 \\\n",
        "      --output_path \"$DATASET_PATH\"/dense \\\n",
        "      --output_type COLMAP \\\n",
        "      --max_image_size 2000\n",
        "  # original is 2000\n",
        "\n",
        "def colmap_mvs(sfm_dir):\n",
        "  # COLMAP\n",
        "  # os.environ[\"DATASET_PATH\"] = str(sfm_dir)\n",
        "  # !colmap patch_match_stereo \\\n",
        "  #     --workspace_path \"$DATASET_PATH\"/dense \\\n",
        "  #     --workspace_format COLMAP \\\n",
        "  #     --PatchMatchStereo.geom_consistency true\n",
        "\n",
        "  !colmap stereo_fusion \\\n",
        "      --workspace_path \"$DATASET_PATH\"/dense \\\n",
        "      --workspace_format COLMAP \\\n",
        "      --input_type geometric \\\n",
        "      --output_path \"$DATASET_PATH\"/dense/fused.ply\n",
        "\n",
        "# It is said that 10-13 depth have more detailed\n",
        "# >14 quite laggy\n",
        "def colmap_poisson_mesher(sfm_dir):\n",
        "  # COLMAP\n",
        "  os.environ[\"DATASET_PATH\"] = str(sfm_dir)\n",
        "  !colmap poisson_mesher \\\n",
        "      --PoissonMeshing.depth 13 \\\n",
        "      --input_path \"$DATASET_PATH\"/dense/fused.ply \\\n",
        "      --output_path \"$DATASET_PATH\"/dense/meshed-poisson_depth13.ply\n",
        "\n",
        "def colmap_delaunay_mesher(sfm_dir):\n",
        "  # COLMAP\n",
        "  os.environ[\"DATASET_PATH\"] = str(sfm_dir)\n",
        "  !colmap delaunay_mesher \\\n",
        "      --input_path \"$DATASET_PATH\"/dense \\\n",
        "      --output_path \"$DATASET_PATH\"/dense/meshed-delaunay.ply\n",
        "\n",
        "# colmap_img_undistorter(sfm_dir)\n",
        "colmap_mvs(sfm_dir)\n",
        "colmap_poisson_mesher(sfm_dir)\n",
        "end = time.time()\n",
        "print(\"It takes \",round(end - start,2), \"s\")"
      ]
    },
    {
      "cell_type": "markdown",
      "metadata": {
        "id": "DJq8MtbBbFja"
      },
      "source": [
        "### Vis-MVSNet"
      ]
    },
    {
      "cell_type": "markdown",
      "metadata": {
        "id": "8ulI1_rBbFpb"
      },
      "source": [
        "#### COLMAP --> MVSNet"
      ]
    },
    {
      "cell_type": "code",
      "execution_count": null,
      "metadata": {
        "colab": {
          "base_uri": "https://localhost:8080/"
        },
        "id": "y1mldn36b74E",
        "outputId": "6b5834f3-0425-4e39-cdfd-ba227327d53e"
      },
      "outputs": [
        {
          "name": "stdout",
          "output_type": "stream",
          "text": [
            "/content/MVSNet\n",
            "intrinsic[1]\n",
            " [[1.56160683e+03 0.00000000e+00 9.87389958e+02]\n",
            " [0.00000000e+00 1.56538394e+03 7.39623190e+02]\n",
            " [0.00000000e+00 0.00000000e+00 1.00000000e+00]]\n",
            "\n",
            "extrinsic[1]\n",
            " [[ 9.97340670e-01  4.88650800e-04  7.28790066e-02 -7.96073708e-01]\n",
            " [-1.68541352e-03  9.99864735e-01  1.63606339e-02  2.53459395e-01]\n",
            " [-7.28611540e-02 -1.64399568e-02  9.97206588e-01  4.68593420e+00]\n",
            " [ 0.00000000e+00  0.00000000e+00  0.00000000e+00  1.00000000e+00]]\n",
            "\n",
            "depth_ranges[1]\n",
            " (4.4628246955979165, 0.0032946437559616777, 201.27350225464318, 5.122654539285754)\n",
            "\n",
            "view_sel[0]\n",
            " [(207, 801.0000348782188), (206, 246.9884867936917), (205, 45.87157483842494), (204, 10.125208466417435), (203, 0.36884119975533236), (186, 0.15932582868016043), (187, 0.13538156675625676), (185, 0.061304222473545944), (188, 0.028518323686692968), (184, 0.005063958505757212), (202, 0.0021965589473352197), (44, 0.0013706401485943222), (189, 0.00091803783208953), (43, 0.0003709905887924759), (183, 0.00011169864847086705), (167, 4.270596076465763e-06)]\n",
            "\n"
          ]
        }
      ],
      "source": [
        "%cd /content/MVSNet\n",
        "\n",
        "from mvsnet.colmap2mvsnet import *\n",
        "from __future__ import print_function\n",
        "\n",
        "import collections\n",
        "import struct\n",
        "import numpy as np\n",
        "import multiprocessing as mp\n",
        "import os\n",
        "import argparse\n",
        "import shutil\n",
        "import cv2\n",
        "import time\n",
        "\n",
        "class Args:\n",
        "  def __init__(self):\n",
        "      self.dense_folder = VISMVSNET_DENSE_FOLDER\n",
        "      self.src_dense_folder = COLMAP_DENSE_FOLDER\n",
        "      self.model_format = \".bin\"\n",
        "      self.max_d =  0\n",
        "      self.interval_scale = 1\n",
        "      self.theta0 = 5\n",
        "      self.sigma1 = 1\n",
        "      self.sigma2 = 10\n",
        "      self.test = False\n",
        "      self.convert_format = False\n",
        "\n",
        "args = Args()\n",
        "\n",
        "image_dir = os.path.join(args.src_dense_folder, 'images')\n",
        "model_dir = os.path.join(args.src_dense_folder, 'sparse')\n",
        "cam_dir = os.path.join(args.dense_folder, 'cams')\n",
        "renamed_dir = os.path.join(args.dense_folder, 'images')\n",
        "\n",
        "cameras, images, points3d = read_model(model_dir, '.bin')\n",
        "num_images = len(list(images.items()))\n",
        "\n",
        "param_type = {\n",
        "    'SIMPLE_PINHOLE': ['f', 'cx', 'cy'],\n",
        "    'PINHOLE': ['fx', 'fy', 'cx', 'cy'],\n",
        "    'SIMPLE_RADIAL': ['f', 'cx', 'cy', 'k'],\n",
        "    'SIMPLE_RADIAL_FISHEYE': ['f', 'cx', 'cy', 'k'],\n",
        "    'RADIAL': ['f', 'cx', 'cy', 'k1', 'k2'],\n",
        "    'RADIAL_FISHEYE': ['f', 'cx', 'cy', 'k1', 'k2'],\n",
        "    'OPENCV': ['fx', 'fy', 'cx', 'cy', 'k1', 'k2', 'p1', 'p2'],\n",
        "    'OPENCV_FISHEYE': ['fx', 'fy', 'cx', 'cy', 'k1', 'k2', 'k3', 'k4'],\n",
        "    'FULL_OPENCV': ['fx', 'fy', 'cx', 'cy', 'k1', 'k2', 'p1', 'p2', 'k3', 'k4', 'k5', 'k6'],\n",
        "    'FOV': ['fx', 'fy', 'cx', 'cy', 'omega'],\n",
        "    'THIN_PRISM_FISHEYE': ['fx', 'fy', 'cx', 'cy', 'k1', 'k2', 'p1', 'p2', 'k3', 'k4', 'sx1', 'sy1']\n",
        "}\n",
        "\n",
        "# intrinsic\n",
        "intrinsic = {}\n",
        "for camera_id, cam in cameras.items():\n",
        "    params_dict = {key: value for key, value in zip(param_type[cam.model], cam.params)}\n",
        "    if 'f' in param_type[cam.model]:\n",
        "        params_dict['fx'] = params_dict['f']\n",
        "        params_dict['fy'] = params_dict['f']\n",
        "    i = np.array([\n",
        "        [params_dict['fx'], 0, params_dict['cx']],\n",
        "        [0, params_dict['fy'], params_dict['cy']],\n",
        "        [0, 0, 1]\n",
        "    ])\n",
        "    intrinsic[camera_id] = i\n",
        "print('intrinsic[1]\\n', intrinsic[1], end='\\n\\n')\n",
        "\n",
        "# extrinsic\n",
        "extrinsic = {}\n",
        "for image_id, image in images.items():\n",
        "    e = np.zeros((4, 4))\n",
        "    e[:3, :3] = qvec2rotmat(image.qvec)\n",
        "    e[:3, 3] = image.tvec\n",
        "    e[3, 3] = 1\n",
        "    extrinsic[image_id] = e\n",
        "print('extrinsic[1]\\n', extrinsic[1], end='\\n\\n')\n",
        "\n",
        "# depth range and interval\n",
        "depth_ranges = {}\n",
        "\n",
        "for i in images.keys():\n",
        "    i -= 1\n",
        "    zs = []\n",
        "    for p3d_id in images[i+1].point3D_ids:\n",
        "        if p3d_id == -1:\n",
        "            continue\n",
        "        transformed = np.matmul(extrinsic[i+1], [points3d[p3d_id].xyz[0], points3d[p3d_id].xyz[1], points3d[p3d_id].xyz[2], 1])\n",
        "        zs.append(transformed[2].item())\n",
        "    zs_sorted = sorted(zs)\n",
        "    # relaxed depth range\n",
        "    depth_min = zs_sorted[int(len(zs) * .01)]\n",
        "    depth_max = zs_sorted[int(len(zs) * .99)]\n",
        "    # determine depth number by inverse depth setting, see supplementary material\n",
        "    if args.max_d == 0:\n",
        "        image_int = intrinsic[images[i+1].camera_id]\n",
        "        image_ext = extrinsic[i+1]\n",
        "        image_r = image_ext[0:3, 0:3]\n",
        "        image_t = image_ext[0:3, 3]\n",
        "        p1 = [image_int[0, 2], image_int[1, 2], 1]\n",
        "        p2 = [image_int[0, 2] + 1, image_int[1, 2], 1]\n",
        "        P1 = np.matmul(np.linalg.inv(image_int), p1) * depth_min\n",
        "        P1 = np.matmul(np.linalg.inv(image_r), (P1 - image_t))\n",
        "        P2 = np.matmul(np.linalg.inv(image_int), p2) * depth_min\n",
        "        P2 = np.matmul(np.linalg.inv(image_r), (P2 - image_t))\n",
        "        depth_num = (1 / depth_min - 1 / depth_max) / (1 / depth_min - 1 / (depth_min + np.linalg.norm(P2 - P1)))\n",
        "    else:\n",
        "        depth_num = args.max_d\n",
        "    depth_interval = (depth_max - depth_min) / (depth_num - 1) / args.interval_scale\n",
        "    depth_ranges[i+1] = (depth_min, depth_interval, depth_num, depth_max)\n",
        "print('depth_ranges[1]\\n', depth_ranges[1], end='\\n\\n')\n",
        "\n",
        "# view selection\n",
        "score = np.zeros((max(images.keys()), max(images.keys())))\n",
        "queue = []\n",
        "for i in images.keys():\n",
        "    i -= 1\n",
        "    for j in images.keys():\n",
        "        j -= 1\n",
        "        if j <= i:\n",
        "            continue\n",
        "        queue.append((i, j))\n",
        "def calc_score(inputs):\n",
        "    i, j = inputs\n",
        "    id_i = images[i+1].point3D_ids\n",
        "    id_j = images[j+1].point3D_ids\n",
        "    id_intersect = [it for it in id_i if it in id_j]\n",
        "    cam_center_i = -np.matmul(extrinsic[i+1][:3, :3].transpose(), extrinsic[i+1][:3, 3:4])[:, 0]\n",
        "    cam_center_j = -np.matmul(extrinsic[j+1][:3, :3].transpose(), extrinsic[j+1][:3, 3:4])[:, 0]\n",
        "    score = 0\n",
        "    for pid in id_intersect:\n",
        "        if pid == -1:\n",
        "            continue\n",
        "        p = points3d[pid].xyz\n",
        "        theta = (180 / np.pi) * np.arccos(np.dot(cam_center_i - p, cam_center_j - p) / np.linalg.norm(cam_center_i - p) / np.linalg.norm(cam_center_j - p))\n",
        "        score += np.exp(-(theta - args.theta0) * (theta - args.theta0) / (2 * (args.sigma1 if theta <= args.theta0 else args.sigma2) ** 2))\n",
        "    return i, j, score\n",
        "p = mp.Pool(processes=mp.cpu_count())\n",
        "result = p.map(calc_score, queue)\n",
        "for i, j, s in result:\n",
        "    score[i, j] = s\n",
        "    score[j, i] = s\n",
        "view_sel = []\n",
        "for i in images.keys():\n",
        "    i -= 1\n",
        "    sorted_score = np.argsort(score[i])[::-1]\n",
        "    view_sel.append([(k, score[i, k]) for k in sorted_score[:20] if score[i, k] >= 0.000001]) # filter the src image that has less than a certain score\n",
        "print('view_sel[0]\\n', view_sel[0], end='\\n\\n')\n",
        "\n",
        "# write\n",
        "os.makedirs(cam_dir, exist_ok=True)\n",
        "os.makedirs(renamed_dir, exist_ok=True)\n",
        "    \n",
        "for i in images.keys():\n",
        "    i -= 1\n",
        "    with open(os.path.join(cam_dir, '%08d_cam.txt' % i), 'w') as f:\n",
        "        f.write('extrinsic\\n')\n",
        "        for j in range(4):\n",
        "            for k in range(4):\n",
        "                f.write(str(extrinsic[i+1][j, k]) + ' ')\n",
        "            f.write('\\n')\n",
        "        f.write('\\nintrinsic\\n')\n",
        "        for j in range(3):\n",
        "            for k in range(3):\n",
        "                f.write(str(intrinsic[images[i+1].camera_id][j, k]) + ' ')\n",
        "            f.write('\\n')\n",
        "        f.write('\\n%f %f %f %f\\n' % (depth_ranges[i+1][0], depth_ranges[i+1][1], depth_ranges[i+1][2], depth_ranges[i+1][3]))\n",
        "with open(os.path.join(args.dense_folder, 'pair.txt'), 'w') as f:\n",
        "    f.write('%d\\n' % len(images))\n",
        "    for i, sorted_score in zip(images.keys(),view_sel):\n",
        "        f.write('%d\\n%d ' % (i-1, len(sorted_score)))\n",
        "        for image_id, s in sorted_score:\n",
        "            f.write('%d %f ' % (image_id, s))\n",
        "        f.write('\\n')\n",
        "for i in images.keys():\n",
        "    i -= 1\n",
        "    if args.convert_format:\n",
        "        img = cv2.imread(os.path.join(image_dir, images[i+1].name))\n",
        "        cv2.imwrite(os.path.join(renamed_dir, '%08d.jpg' % i), img)\n",
        "    else:\n",
        "        img_ext = os.path.splitext(images[i+1].name)[1]\n",
        "        shutil.copyfile(os.path.join(image_dir, images[i+1].name), os.path.join(renamed_dir, f'%08d{img_ext}' % i))\n",
        "  \n",
        "time.sleep(10)"
      ]
    },
    {
      "cell_type": "markdown",
      "metadata": {
        "id": "-SodyYiIcUjk"
      },
      "source": [
        "#### Vis-MVSNet"
      ]
    },
    {
      "cell_type": "code",
      "execution_count": null,
      "metadata": {
        "colab": {
          "base_uri": "https://localhost:8080/"
        },
        "id": "4czkt7RlcUK8",
        "outputId": "ede88f61-1d8d-4a2e-ba0e-8cb77165739e"
      },
      "outputs": [
        {
          "name": "stdout",
          "output_type": "stream",
          "text": [
            "/content/Vis-MVSNet\n",
            "Number of model parameters: 1162696\n",
            "load pretrained_model/vis/-1\n",
            "(1, 1, 600, 800): 100% 209/209 [2:52:38<00:00, 49.56s/it]\n"
          ]
        }
      ],
      "source": [
        "# manual calculate max_width and max_height\n",
        "%cd /content/Vis-MVSNet/\n",
        "!mkdir -p \"$VISMVSNET_DENSE_FOLDER\"/result\n",
        "!python test.py --data_root \"$VISMVSNET_DENSE_FOLDER\" --dataset_name general --num_src 15 --max_d 256 --interval_scale 1 --resize 1600,1200 --crop 1600,1200 --img_ext \"png\" --load_path pretrained_model/vis --write_result --result_dir \"$VISMVSNET_DENSE_FOLDER\"/result\n"
      ]
    },
    {
      "cell_type": "code",
      "execution_count": null,
      "metadata": {
        "colab": {
          "base_uri": "https://localhost:8080/"
        },
        "id": "Ipm4fZ_McrnM",
        "outputId": "072488fc-5028-440a-d7f1-a3efdd7b0f5c"
      },
      "outputs": [
        {
          "name": "stdout",
          "output_type": "stream",
          "text": [
            "load data: 100% 204/204 [00:12<00:00, 16.87it/s]\n",
            "prob filter: 100% 204/204 [00:05<00:00, 36.19it/s] \n",
            "vis filter and med fusion:   0% 0/204 [00:00<?, ?it/s]fusion.py:132: UserWarning: __floordiv__ is deprecated, and its behavior will change in a future version of pytorch. It currently rounds toward 0 (like the 'trunc' function NOT 'floor'). This results in incorrect rounding for negative values. To keep the current behavior, use torch.div(a, b, rounding_mode='trunc'), or for actual floor division, use torch.div(a, b, rounding_mode='floor').\n",
            "  gather_idx = (valid_num // 2).long()  # n11hw\n",
            "vis filter and med fusion: 100% 204/204 [04:16<00:00,  1.26s/it]\n",
            "vis filter and ave fusion: 100% 204/204 [04:10<00:00,  1.23s/it]\n",
            "vis filter: 100% 204/204 [04:09<00:00,  1.22s/it]\n",
            "back proj: 100% 204/204 [00:08<00:00, 23.33it/s]\n",
            "Construct combined PCD\n",
            "Estimate normal\n",
            "Writing PLY: [========================================] 100%\n"
          ]
        }
      ],
      "source": [
        "!python fusion.py --data \"$VISMVSNET_DENSE_FOLDER\"/result --pair \"$VISMVSNET_DENSE_FOLDER\"/pair.txt --vthresh 2 --pthresh .6,.5,.6 --img_ext \"png\" --view 18"
      ]
    },
    {
      "cell_type": "markdown",
      "metadata": {
        "id": "-VVRzXVZcwn9"
      },
      "source": [
        "## Merge"
      ]
    },
    {
      "cell_type": "code",
      "execution_count": null,
      "metadata": {
        "id": "MQdPeOKDcxmU"
      },
      "outputs": [],
      "source": [
        "from pyntcloud import PyntCloud\n",
        "import pandas as pd\n",
        "\n",
        "B_file = '/content/drive/MyDrive/FYP/Museum Collections/Goddess Meenakshi/images(NO_JPEG_artifact_PNG)_output/SuperPoint+SuperGlue_OPENCV_2000_Aachen_Indoor_matching/sfm_superpoint+superglue/dense/fused.ply'\n",
        "A_file = '/content/drive/MyDrive/FYP/Museum Collections/Goddess Meenakshi/images(NO_JPEG_artifact_PNG)_output/SuperPoint+SuperGlue_OPENCV_2000_Aachen_Indoor_matching/sfm_superpoint+superglue/dense_vis-mvsnet/result/all_torch.ply'\n",
        "\n",
        "point_cloud_A = PyntCloud.from_file(A_file)\n",
        "point_cloud_B = PyntCloud.from_file(B_file)\n",
        "\n",
        "xyz_arr_A = point_cloud_A.points.loc[:, [\"x\", \"y\", \"z\"]].to_numpy()\n",
        "xyz_arr_B = point_cloud_B.points.loc[:, [\"x\", \"y\", \"z\"]].to_numpy()\n",
        "\n",
        "# point_cloud_A.points.loc[:, [\"x\", \"y\", \"z\"]] = T_xyz_arr_A[:,:3]\n",
        "merged = pd.concat([point_cloud_A.points, point_cloud_B.points], ignore_index=True)\n",
        "# remove duplicated points\n",
        "merged.drop_duplicates(subset = [\"x\", \"y\", \"z\"], keep=\"first\", inplace=True, ignore_index=True)\n",
        "merged = PyntCloud(merged)\n",
        "merged.to_file(\"enhanced_merged_no_ICP.ply\")"
      ]
    },
    {
      "cell_type": "markdown",
      "metadata": {
        "id": "BE64H2J9dVPN"
      },
      "source": [
        "# Post-processing"
      ]
    },
    {
      "cell_type": "markdown",
      "metadata": {
        "id": "TteYuczlUyoC"
      },
      "source": [
        "## Point Cloud Simplification"
      ]
    },
    {
      "cell_type": "code",
      "execution_count": null,
      "metadata": {
        "colab": {
          "base_uri": "https://localhost:8080/"
        },
        "id": "UR3YF9jXUxvo",
        "outputId": "9091c68b-df8a-453a-8f4d-b8c9fa28fc2f"
      },
      "outputs": [
        {
          "name": "stdout",
          "output_type": "stream",
          "text": [
            "Initial Simplification Vertex number before:  3983584\n",
            "Initial Simplification Vertex number after:  249241\n",
            "300000000\n",
            "Simplification Vertex number after:  546119\n",
            "600000000\n",
            "Simplification Vertex number after:  919330\n",
            "Final Vertex number:  919330\n"
          ]
        }
      ],
      "source": [
        "import pymeshlab as ml\n",
        "\n",
        "# Point Cloud Simplification\n",
        "def point_cloud_simplification(pc_file, output_pc_file, max_vertex_number):\n",
        "  sample_num = 100000000\n",
        "  increment = 300000\n",
        "  i = 2\n",
        "  ms = ml.MeshSet()\n",
        "  ms.load_new_mesh(pc_file)\n",
        "  print(\"Initial Simplification Vertex number before: \", ms.current_mesh().vertex_number())\n",
        "  ms.apply_filter(\"point_cloud_simplification\",samplenum = sample_num, exactnumflag = True)\n",
        "  print(\"Initial Simplification Vertex number after: \", ms.current_mesh().vertex_number())\n",
        "  sample_num *= int((max_vertex_number+increment) / ms.current_mesh().vertex_number())\n",
        "  while ms.current_mesh().vertex_number() < max_vertex_number:\n",
        "    sample_num = min(sample_num, 2147483647)\n",
        "    ms = ml.MeshSet()\n",
        "    ms.load_new_mesh(pc_file)\n",
        "    print(sample_num)\n",
        "    ms.apply_filter(\"point_cloud_simplification\",samplenum = sample_num,  exactnumflag = True)\n",
        "    print(\"Simplification Vertex number after: \", ms.current_mesh().vertex_number())\n",
        "    if sample_num == 2147483647:\n",
        "      break\n",
        "    sample_num *= int((max_vertex_number+increment*i) / ms.current_mesh().vertex_number())\n",
        "\n",
        "  print(\"Final Vertex number: \", ms.current_mesh().vertex_number())\n",
        "  ms.save_current_mesh(output_pc_file, save_vertex_normal = True)\n",
        "\n",
        "point_cloud_simplification(PC_FILE, SIMPLIFIED_PC_FILE, max_vertex_number)"
      ]
    },
    {
      "cell_type": "markdown",
      "metadata": {
        "id": "v98fiINamQIP"
      },
      "source": [
        "## Radius Outlier Removal"
      ]
    },
    {
      "cell_type": "code",
      "execution_count": null,
      "metadata": {
        "colab": {
          "base_uri": "https://localhost:8080/"
        },
        "id": "sGRVKsnnYISs",
        "outputId": "fc5e3686-3d5b-4b4f-b359-10e640ccfa0c"
      },
      "outputs": [
        {
          "data": {
            "text/plain": [
              "True"
            ]
          },
          "execution_count": 22,
          "metadata": {},
          "output_type": "execute_result"
        }
      ],
      "source": [
        "import open3d as o3d\n",
        "pcd = o3d.io.read_point_cloud(SIMPLIFIED_PC_FILE)\n",
        "clR, ind = pcd.remove_radius_outlier(nb_points=32, radius=0.1)\n",
        "o3d.io.write_point_cloud(OUTLIER_REMOVAL_PC_FILE, clR)"
      ]
    },
    {
      "cell_type": "markdown",
      "metadata": {
        "id": "SEW-WJf4Hgc0"
      },
      "source": [
        "## Meshing"
      ]
    },
    {
      "cell_type": "code",
      "execution_count": null,
      "metadata": {
        "colab": {
          "base_uri": "https://localhost:8080/"
        },
        "id": "TSpwrYP_HgHq",
        "outputId": "9b32683f-bc3e-4a57-f332-07007db45ac3"
      },
      "outputs": [
        {
          "name": "stdout",
          "output_type": "stream",
          "text": [
            "Value Range: [2.269131,10.237640]\n"
          ]
        }
      ],
      "source": [
        "os.environ[\"INPUT_MESH_FILE\"] = OUTLIER_REMOVAL_PC_FILE\n",
        "os.environ[\"OUTPUT_MESH_FILE\"] = MESH_SIMPLIFIED_PC_FILE\n",
        "!colmap poisson_mesher \\\n",
        "    --PoissonMeshing.depth 13 \\\n",
        "    --PoissonMeshing.trim 9 \\\n",
        "    --PoissonMeshing.color 32 \\\n",
        "    --input_path \"$INPUT_MESH_FILE\" \\\n",
        "    --output_path \"$OUTPUT_MESH_FILE\""
      ]
    },
    {
      "cell_type": "markdown",
      "metadata": {
        "id": "HaT6owmgdRfk"
      },
      "source": [
        "## Pymeshlab"
      ]
    },
    {
      "cell_type": "code",
      "execution_count": null,
      "metadata": {
        "colab": {
          "background_save": true,
          "base_uri": "https://localhost:8080/"
        },
        "id": "_PY3YG5ndajk",
        "outputId": "0009e4c2-cb67-407d-fca9-d57ab96686df"
      },
      "outputs": [
        {
          "name": "stdout",
          "output_type": "stream",
          "text": [
            "Initial Face number:  4855977\n",
            "targetpercent:  0.1\n",
            "targetfacenumber:  485598\n",
            "Final Face number:  4855977\n",
            "Final Face number:  485241\n",
            "Final Face number:  485241\n"
          ]
        }
      ],
      "source": [
        "import pymeshlab as ml\n",
        "\n",
        "def pymeshlab_post_process(mesh_file, output_mesh_file, max_face_number):\n",
        "  ms = ml.MeshSet()\n",
        "  ms.load_new_mesh(mesh_file)\n",
        "  ms.apply_filter(\"select_small_disconnected_component\")\n",
        "  ms.apply_filter(\"delete_selected_faces_and_vertices\")\n",
        "  print(\"Initial Face number: \", ms.current_mesh().face_number())\n",
        "  targetpercent = round(max_face_number/ms.current_mesh().face_number(), 2)\n",
        "  targetfacenumber = round(targetpercent* ms.current_mesh().face_number())\n",
        "  print(\"targetpercent: \", targetpercent)\n",
        "  print(\"targetfacenumber: \", targetfacenumber)\n",
        "  print(\"Final Face number: \", ms.current_mesh().face_number())\n",
        "  ms.apply_filter(\"simplification_quadric_edge_collapse_decimation\",targetfacenum  =targetfacenumber, targetperc=0, qualitythr =1, preservenormal =True, preservetopology =True, planarquadric =True)\n",
        "  print(\"Final Face number: \", ms.current_mesh().face_number())\n",
        "  ms.apply_filter(\"repair_non_manifold_edges\")\n",
        "  ms.apply_filter(\"repair_non_manifold_vertices_by_splitting\")\n",
        "  ms.apply_filter(\"remove_t_vertices\",method =1, threshold =15)\n",
        "  ms.apply_filter(\"close_holes\",maxholesize=100)\n",
        "  ms.apply_filter(\"repair_non_manifold_edges\")\n",
        "  ms.apply_filter(\"repair_non_manifold_vertices_by_splitting\")\n",
        "  ms.apply_filter(\"remove_t_vertices\",method =1, threshold =15)\n",
        "  ms.apply_filter(\"laplacian_smooth\",stepsmoothnum=15)\n",
        "  ms.apply_filter(\"repair_non_manifold_edges\")\n",
        "  ms.apply_filter(\"repair_non_manifold_vertices_by_splitting\")\n",
        "  ms.apply_filter(\"remove_t_vertices\",method =1, threshold =15)\n",
        "  print(\"Final Face number: \", ms.current_mesh().face_number())\n",
        "  ms.save_current_mesh(output_mesh_file, save_vertex_normal = True)\n",
        "\n",
        "pymeshlab_post_process(MESH_SIMPLIFIED_PC_FILE, DEC_MESH_SIMPLIFIED_PC_FILE, max_face_number)"
      ]
    },
    {
      "cell_type": "markdown",
      "metadata": {
        "id": "0DEEKhrudq9c"
      },
      "source": [
        "## Texture Mapping"
      ]
    },
    {
      "cell_type": "code",
      "execution_count": null,
      "metadata": {
        "id": "Ew49FjB1dqdU"
      },
      "outputs": [],
      "source": [
        "# Download and compile MVE\n",
        "%cd /content\n",
        "!git clone https://github.com/simonfuhrmann/mve.git\n",
        "!make -j8 -C mve\n",
        "\n",
        "# Download and compile texrecon\n",
        "!git clone https://github.com/oleg-alexandrov/mvs-texturing.git texrecon\n",
        "!cd texrecon && mkdir build && cd build && cmake .. && make -j8\n",
        "\n",
        "def mvs_texturing(colmap_dense_folder, input_mesh, dense_folder):\n",
        "  os.environ[\"COLMAP_DENSE_FOLDER\"] = colmap_dense_folder\n",
        "  os.environ[\"INPUT_MESH\"] = input_mesh\n",
        "  os.environ[\"DENSE_FOLDER\"] = dense_folder\n",
        "  # Image import & bundling (images --> camera parameters)\n",
        "  !mve/apps/makescene/makescene \"$COLMAP_DENSE_FOLDER\" scene\n",
        "\n",
        "  # Texturing (3D model + images + camera parameters --> textured 3D model)\n",
        "  %mkdir \"$DENSE_FOLDER\"/result_textured\n",
        "  !texrecon/build/apps/texrecon/texrecon /content/scene::undistorted \"$INPUT_MESH\" \"$DENSE_FOLDER\"/result_textured/result_textured\n",
        "\n",
        "mvs_texturing(COLMAP_DENSE_FOLDER, DEC_MESH_SIMPLIFIED_PC_FILE, COLMAP_DENSE_FOLDER)"
      ]
    },
    {
      "cell_type": "markdown",
      "metadata": {
        "id": "EmvRgaRNagzZ"
      },
      "source": [
        "# Endpoint URL"
      ]
    },
    {
      "cell_type": "code",
      "execution_count": null,
      "metadata": {
        "colab": {
          "base_uri": "https://localhost:8080/",
          "height": 1000
        },
        "id": "U7LOwCOEajAg",
        "outputId": "04175bb8-3a2c-4be3-f700-7f31e8e3678c"
      },
      "outputs": [
        {
          "name": "stdout",
          "output_type": "stream",
          "text": [
            "Collecting colabcode\n",
            "  Downloading colabcode-0.3.0-py3-none-any.whl (5.0 kB)\n",
            "Collecting pyngrok>=5.0.0\n",
            "  Downloading pyngrok-5.1.0.tar.gz (745 kB)\n",
            "\u001b[?25l\r\u001b[K     |▍                               | 10 kB 26.3 MB/s eta 0:00:01\r\u001b[K     |▉                               | 20 kB 27.5 MB/s eta 0:00:01\r\u001b[K     |█▎                              | 30 kB 32.0 MB/s eta 0:00:01\r\u001b[K     |█▊                              | 40 kB 35.8 MB/s eta 0:00:01\r\u001b[K     |██▏                             | 51 kB 36.5 MB/s eta 0:00:01\r\u001b[K     |██▋                             | 61 kB 23.8 MB/s eta 0:00:01\r\u001b[K     |███                             | 71 kB 25.7 MB/s eta 0:00:01\r\u001b[K     |███▌                            | 81 kB 25.8 MB/s eta 0:00:01\r\u001b[K     |████                            | 92 kB 25.3 MB/s eta 0:00:01\r\u001b[K     |████▍                           | 102 kB 27.1 MB/s eta 0:00:01\r\u001b[K     |████▉                           | 112 kB 27.1 MB/s eta 0:00:01\r\u001b[K     |█████▎                          | 122 kB 27.1 MB/s eta 0:00:01\r\u001b[K     |█████▊                          | 133 kB 27.1 MB/s eta 0:00:01\r\u001b[K     |██████▏                         | 143 kB 27.1 MB/s eta 0:00:01\r\u001b[K     |██████▋                         | 153 kB 27.1 MB/s eta 0:00:01\r\u001b[K     |███████                         | 163 kB 27.1 MB/s eta 0:00:01\r\u001b[K     |███████▌                        | 174 kB 27.1 MB/s eta 0:00:01\r\u001b[K     |████████                        | 184 kB 27.1 MB/s eta 0:00:01\r\u001b[K     |████████▍                       | 194 kB 27.1 MB/s eta 0:00:01\r\u001b[K     |████████▉                       | 204 kB 27.1 MB/s eta 0:00:01\r\u001b[K     |█████████▎                      | 215 kB 27.1 MB/s eta 0:00:01\r\u001b[K     |█████████▊                      | 225 kB 27.1 MB/s eta 0:00:01\r\u001b[K     |██████████▏                     | 235 kB 27.1 MB/s eta 0:00:01\r\u001b[K     |██████████▌                     | 245 kB 27.1 MB/s eta 0:00:01\r\u001b[K     |███████████                     | 256 kB 27.1 MB/s eta 0:00:01\r\u001b[K     |███████████▍                    | 266 kB 27.1 MB/s eta 0:00:01\r\u001b[K     |███████████▉                    | 276 kB 27.1 MB/s eta 0:00:01\r\u001b[K     |████████████▎                   | 286 kB 27.1 MB/s eta 0:00:01\r\u001b[K     |████████████▊                   | 296 kB 27.1 MB/s eta 0:00:01\r\u001b[K     |█████████████▏                  | 307 kB 27.1 MB/s eta 0:00:01\r\u001b[K     |█████████████▋                  | 317 kB 27.1 MB/s eta 0:00:01\r\u001b[K     |██████████████                  | 327 kB 27.1 MB/s eta 0:00:01\r\u001b[K     |██████████████▌                 | 337 kB 27.1 MB/s eta 0:00:01\r\u001b[K     |███████████████                 | 348 kB 27.1 MB/s eta 0:00:01\r\u001b[K     |███████████████▍                | 358 kB 27.1 MB/s eta 0:00:01\r\u001b[K     |███████████████▉                | 368 kB 27.1 MB/s eta 0:00:01\r\u001b[K     |████████████████▎               | 378 kB 27.1 MB/s eta 0:00:01\r\u001b[K     |████████████████▊               | 389 kB 27.1 MB/s eta 0:00:01\r\u001b[K     |█████████████████▏              | 399 kB 27.1 MB/s eta 0:00:01\r\u001b[K     |█████████████████▋              | 409 kB 27.1 MB/s eta 0:00:01\r\u001b[K     |██████████████████              | 419 kB 27.1 MB/s eta 0:00:01\r\u001b[K     |██████████████████▌             | 430 kB 27.1 MB/s eta 0:00:01\r\u001b[K     |███████████████████             | 440 kB 27.1 MB/s eta 0:00:01\r\u001b[K     |███████████████████▍            | 450 kB 27.1 MB/s eta 0:00:01\r\u001b[K     |███████████████████▉            | 460 kB 27.1 MB/s eta 0:00:01\r\u001b[K     |████████████████████▎           | 471 kB 27.1 MB/s eta 0:00:01\r\u001b[K     |████████████████████▋           | 481 kB 27.1 MB/s eta 0:00:01\r\u001b[K     |█████████████████████           | 491 kB 27.1 MB/s eta 0:00:01\r\u001b[K     |█████████████████████▌          | 501 kB 27.1 MB/s eta 0:00:01\r\u001b[K     |██████████████████████          | 512 kB 27.1 MB/s eta 0:00:01\r\u001b[K     |██████████████████████▍         | 522 kB 27.1 MB/s eta 0:00:01\r\u001b[K     |██████████████████████▉         | 532 kB 27.1 MB/s eta 0:00:01\r\u001b[K     |███████████████████████▎        | 542 kB 27.1 MB/s eta 0:00:01\r\u001b[K     |███████████████████████▊        | 552 kB 27.1 MB/s eta 0:00:01\r\u001b[K     |████████████████████████▏       | 563 kB 27.1 MB/s eta 0:00:01\r\u001b[K     |████████████████████████▋       | 573 kB 27.1 MB/s eta 0:00:01\r\u001b[K     |█████████████████████████       | 583 kB 27.1 MB/s eta 0:00:01\r\u001b[K     |█████████████████████████▌      | 593 kB 27.1 MB/s eta 0:00:01\r\u001b[K     |██████████████████████████      | 604 kB 27.1 MB/s eta 0:00:01\r\u001b[K     |██████████████████████████▍     | 614 kB 27.1 MB/s eta 0:00:01\r\u001b[K     |██████████████████████████▉     | 624 kB 27.1 MB/s eta 0:00:01\r\u001b[K     |███████████████████████████▎    | 634 kB 27.1 MB/s eta 0:00:01\r\u001b[K     |███████████████████████████▊    | 645 kB 27.1 MB/s eta 0:00:01\r\u001b[K     |████████████████████████████▏   | 655 kB 27.1 MB/s eta 0:00:01\r\u001b[K     |████████████████████████████▋   | 665 kB 27.1 MB/s eta 0:00:01\r\u001b[K     |█████████████████████████████   | 675 kB 27.1 MB/s eta 0:00:01\r\u001b[K     |█████████████████████████████▌  | 686 kB 27.1 MB/s eta 0:00:01\r\u001b[K     |██████████████████████████████  | 696 kB 27.1 MB/s eta 0:00:01\r\u001b[K     |██████████████████████████████▍ | 706 kB 27.1 MB/s eta 0:00:01\r\u001b[K     |██████████████████████████████▊ | 716 kB 27.1 MB/s eta 0:00:01\r\u001b[K     |███████████████████████████████▏| 727 kB 27.1 MB/s eta 0:00:01\r\u001b[K     |███████████████████████████████▋| 737 kB 27.1 MB/s eta 0:00:01\r\u001b[K     |████████████████████████████████| 745 kB 27.1 MB/s \n",
            "\u001b[?25hCollecting nest-asyncio==1.4.3\n",
            "  Downloading nest_asyncio-1.4.3-py3-none-any.whl (5.3 kB)\n",
            "Collecting uvicorn==0.13.1\n",
            "  Downloading uvicorn-0.13.1-py3-none-any.whl (45 kB)\n",
            "\u001b[K     |████████████████████████████████| 45 kB 1.7 MB/s \n",
            "\u001b[?25hCollecting jupyterlab==3.0.7\n",
            "  Downloading jupyterlab-3.0.7-py3-none-any.whl (8.3 MB)\n",
            "\u001b[K     |████████████████████████████████| 8.3 MB 15.3 MB/s \n",
            "\u001b[?25hCollecting nbclassic~=0.2\n",
            "  Downloading nbclassic-0.3.4-py3-none-any.whl (25 kB)\n",
            "Collecting jupyter-server~=1.2\n",
            "  Downloading jupyter_server-1.13.1-py3-none-any.whl (396 kB)\n",
            "\u001b[K     |████████████████████████████████| 396 kB 11.4 MB/s \n",
            "\u001b[?25hRequirement already satisfied: jinja2>=2.10 in /usr/local/lib/python3.7/dist-packages (from jupyterlab==3.0.7->colabcode) (2.11.3)\n",
            "Requirement already satisfied: jupyter-core in /usr/local/lib/python3.7/dist-packages (from jupyterlab==3.0.7->colabcode) (4.9.1)\n",
            "Collecting tornado>=6.1.0\n",
            "  Downloading tornado-6.1-cp37-cp37m-manylinux2010_x86_64.whl (428 kB)\n",
            "\u001b[K     |████████████████████████████████| 428 kB 12.1 MB/s \n",
            "\u001b[?25hCollecting jupyterlab-server~=2.0\n",
            "  Downloading jupyterlab_server-2.10.2-py3-none-any.whl (60 kB)\n",
            "\u001b[K     |████████████████████████████████| 60 kB 4.5 MB/s \n",
            "\u001b[?25hRequirement already satisfied: ipython in /usr/local/lib/python3.7/dist-packages (from jupyterlab==3.0.7->colabcode) (5.5.0)\n",
            "Requirement already satisfied: packaging in /usr/local/lib/python3.7/dist-packages (from jupyterlab==3.0.7->colabcode) (21.3)\n",
            "Requirement already satisfied: click==7.* in /usr/local/lib/python3.7/dist-packages (from uvicorn==0.13.1->colabcode) (7.1.2)\n",
            "Requirement already satisfied: typing-extensions in /usr/local/lib/python3.7/dist-packages (from uvicorn==0.13.1->colabcode) (3.10.0.2)\n",
            "Collecting h11>=0.8\n",
            "  Downloading h11-0.12.0-py3-none-any.whl (54 kB)\n",
            "\u001b[K     |████████████████████████████████| 54 kB 1.7 MB/s \n",
            "\u001b[?25hRequirement already satisfied: MarkupSafe>=0.23 in /usr/local/lib/python3.7/dist-packages (from jinja2>=2.10->jupyterlab==3.0.7->colabcode) (2.0.1)\n",
            "Requirement already satisfied: ipython-genutils in /usr/local/lib/python3.7/dist-packages (from jupyter-server~=1.2->jupyterlab==3.0.7->colabcode) (0.2.0)\n",
            "Requirement already satisfied: traitlets>=4.2.1 in /usr/local/lib/python3.7/dist-packages (from jupyter-server~=1.2->jupyterlab==3.0.7->colabcode) (5.1.1)\n",
            "Requirement already satisfied: argon2-cffi in /usr/local/lib/python3.7/dist-packages (from jupyter-server~=1.2->jupyterlab==3.0.7->colabcode) (21.1.0)\n",
            "Requirement already satisfied: pyzmq>=17 in /usr/local/lib/python3.7/dist-packages (from jupyter-server~=1.2->jupyterlab==3.0.7->colabcode) (22.3.0)\n",
            "Requirement already satisfied: terminado>=0.8.3 in /usr/local/lib/python3.7/dist-packages (from jupyter-server~=1.2->jupyterlab==3.0.7->colabcode) (0.12.1)\n",
            "Requirement already satisfied: nbformat in /usr/local/lib/python3.7/dist-packages (from jupyter-server~=1.2->jupyterlab==3.0.7->colabcode) (5.1.3)\n",
            "Collecting websocket-client\n",
            "  Downloading websocket_client-1.2.3-py3-none-any.whl (53 kB)\n",
            "\u001b[K     |████████████████████████████████| 53 kB 1.8 MB/s \n",
            "\u001b[?25hRequirement already satisfied: nbconvert in /usr/local/lib/python3.7/dist-packages (from jupyter-server~=1.2->jupyterlab==3.0.7->colabcode) (5.6.1)\n",
            "Collecting anyio<4,>=3.1.0\n",
            "  Downloading anyio-3.4.0-py3-none-any.whl (78 kB)\n",
            "\u001b[K     |████████████████████████████████| 78 kB 4.2 MB/s \n",
            "\u001b[?25hRequirement already satisfied: Send2Trash in /usr/local/lib/python3.7/dist-packages (from jupyter-server~=1.2->jupyterlab==3.0.7->colabcode) (1.8.0)\n",
            "Collecting jupyter-client>=6.1.1\n",
            "  Downloading jupyter_client-7.1.0-py3-none-any.whl (129 kB)\n",
            "\u001b[K     |████████████████████████████████| 129 kB 34.9 MB/s \n",
            "\u001b[?25hRequirement already satisfied: prometheus-client in /usr/local/lib/python3.7/dist-packages (from jupyter-server~=1.2->jupyterlab==3.0.7->colabcode) (0.12.0)\n",
            "Collecting sniffio>=1.1\n",
            "  Downloading sniffio-1.2.0-py3-none-any.whl (10 kB)\n",
            "Requirement already satisfied: idna>=2.8 in /usr/local/lib/python3.7/dist-packages (from anyio<4,>=3.1.0->jupyter-server~=1.2->jupyterlab==3.0.7->colabcode) (2.10)\n",
            "Requirement already satisfied: entrypoints in /usr/local/lib/python3.7/dist-packages (from jupyter-client>=6.1.1->jupyter-server~=1.2->jupyterlab==3.0.7->colabcode) (0.3)\n",
            "Collecting jupyter-client>=6.1.1\n",
            "  Downloading jupyter_client-7.0.6-py3-none-any.whl (125 kB)\n",
            "\u001b[K     |████████████████████████████████| 125 kB 17.5 MB/s \n",
            "\u001b[?25h  Downloading jupyter_client-7.0.5-py3-none-any.whl (124 kB)\n",
            "\u001b[K     |████████████████████████████████| 124 kB 46.9 MB/s \n",
            "\u001b[?25h  Downloading jupyter_client-7.0.4-py3-none-any.whl (124 kB)\n",
            "\u001b[K     |████████████████████████████████| 124 kB 24.3 MB/s \n",
            "\u001b[?25h  Downloading jupyter_client-7.0.3-py3-none-any.whl (122 kB)\n",
            "\u001b[K     |████████████████████████████████| 122 kB 42.6 MB/s \n",
            "\u001b[?25h  Downloading jupyter_client-7.0.2-py3-none-any.whl (122 kB)\n",
            "\u001b[K     |████████████████████████████████| 122 kB 43.2 MB/s \n",
            "\u001b[?25h  Downloading jupyter_client-7.0.1-py3-none-any.whl (122 kB)\n",
            "\u001b[K     |████████████████████████████████| 122 kB 36.8 MB/s \n",
            "\u001b[?25h  Downloading jupyter_client-7.0.0-py3-none-any.whl (122 kB)\n",
            "\u001b[K     |████████████████████████████████| 122 kB 44.1 MB/s \n",
            "\u001b[?25h  Downloading jupyter_client-6.1.12-py3-none-any.whl (112 kB)\n",
            "\u001b[K     |████████████████████████████████| 112 kB 42.3 MB/s \n",
            "\u001b[?25hRequirement already satisfied: python-dateutil>=2.1 in /usr/local/lib/python3.7/dist-packages (from jupyter-client>=6.1.1->jupyter-server~=1.2->jupyterlab==3.0.7->colabcode) (2.8.2)\n",
            "Collecting jsonschema>=3.0.1\n",
            "  Downloading jsonschema-4.3.2-py3-none-any.whl (71 kB)\n",
            "\u001b[K     |████████████████████████████████| 71 kB 194 kB/s \n",
            "\u001b[?25hRequirement already satisfied: babel in /usr/local/lib/python3.7/dist-packages (from jupyterlab-server~=2.0->jupyterlab==3.0.7->colabcode) (2.9.1)\n",
            "Collecting json5\n",
            "  Downloading json5-0.9.6-py2.py3-none-any.whl (18 kB)\n",
            "Requirement already satisfied: requests in /usr/local/lib/python3.7/dist-packages (from jupyterlab-server~=2.0->jupyterlab==3.0.7->colabcode) (2.23.0)\n",
            "Requirement already satisfied: attrs>=17.4.0 in /usr/local/lib/python3.7/dist-packages (from jsonschema>=3.0.1->jupyterlab-server~=2.0->jupyterlab==3.0.7->colabcode) (21.2.0)\n",
            "Requirement already satisfied: importlib-metadata in /usr/local/lib/python3.7/dist-packages (from jsonschema>=3.0.1->jupyterlab-server~=2.0->jupyterlab==3.0.7->colabcode) (4.8.2)\n",
            "Requirement already satisfied: pyrsistent!=0.17.0,!=0.17.1,!=0.17.2,>=0.14.0 in /usr/local/lib/python3.7/dist-packages (from jsonschema>=3.0.1->jupyterlab-server~=2.0->jupyterlab==3.0.7->colabcode) (0.18.0)\n",
            "Requirement already satisfied: importlib-resources>=1.4.0 in /usr/local/lib/python3.7/dist-packages (from jsonschema>=3.0.1->jupyterlab-server~=2.0->jupyterlab==3.0.7->colabcode) (5.4.0)\n",
            "Requirement already satisfied: zipp>=3.1.0 in /usr/local/lib/python3.7/dist-packages (from importlib-resources>=1.4.0->jsonschema>=3.0.1->jupyterlab-server~=2.0->jupyterlab==3.0.7->colabcode) (3.6.0)\n",
            "Requirement already satisfied: notebook<7 in /usr/local/lib/python3.7/dist-packages (from nbclassic~=0.2->jupyterlab==3.0.7->colabcode) (5.3.1)\n",
            "Requirement already satisfied: ipykernel in /usr/local/lib/python3.7/dist-packages (from notebook<7->nbclassic~=0.2->jupyterlab==3.0.7->colabcode) (4.10.1)\n",
            "Requirement already satisfied: PyYAML in /usr/local/lib/python3.7/dist-packages (from pyngrok>=5.0.0->colabcode) (3.13)\n",
            "Requirement already satisfied: six>=1.5 in /usr/local/lib/python3.7/dist-packages (from python-dateutil>=2.1->jupyter-client>=6.1.1->jupyter-server~=1.2->jupyterlab==3.0.7->colabcode) (1.15.0)\n",
            "Requirement already satisfied: ptyprocess in /usr/local/lib/python3.7/dist-packages (from terminado>=0.8.3->jupyter-server~=1.2->jupyterlab==3.0.7->colabcode) (0.7.0)\n",
            "Requirement already satisfied: cffi>=1.0.0 in /usr/local/lib/python3.7/dist-packages (from argon2-cffi->jupyter-server~=1.2->jupyterlab==3.0.7->colabcode) (1.15.0)\n",
            "Requirement already satisfied: pycparser in /usr/local/lib/python3.7/dist-packages (from cffi>=1.0.0->argon2-cffi->jupyter-server~=1.2->jupyterlab==3.0.7->colabcode) (2.21)\n",
            "Requirement already satisfied: pytz>=2015.7 in /usr/local/lib/python3.7/dist-packages (from babel->jupyterlab-server~=2.0->jupyterlab==3.0.7->colabcode) (2018.9)\n",
            "Requirement already satisfied: pickleshare in /usr/local/lib/python3.7/dist-packages (from ipython->jupyterlab==3.0.7->colabcode) (0.7.5)\n",
            "Requirement already satisfied: decorator in /usr/local/lib/python3.7/dist-packages (from ipython->jupyterlab==3.0.7->colabcode) (4.4.2)\n",
            "Requirement already satisfied: simplegeneric>0.8 in /usr/local/lib/python3.7/dist-packages (from ipython->jupyterlab==3.0.7->colabcode) (0.8.1)\n",
            "Requirement already satisfied: pexpect in /usr/local/lib/python3.7/dist-packages (from ipython->jupyterlab==3.0.7->colabcode) (4.8.0)\n",
            "Requirement already satisfied: pygments in /usr/local/lib/python3.7/dist-packages (from ipython->jupyterlab==3.0.7->colabcode) (2.6.1)\n",
            "Requirement already satisfied: setuptools>=18.5 in /usr/local/lib/python3.7/dist-packages (from ipython->jupyterlab==3.0.7->colabcode) (57.4.0)\n",
            "Requirement already satisfied: prompt-toolkit<2.0.0,>=1.0.4 in /usr/local/lib/python3.7/dist-packages (from ipython->jupyterlab==3.0.7->colabcode) (1.0.18)\n",
            "Requirement already satisfied: wcwidth in /usr/local/lib/python3.7/dist-packages (from prompt-toolkit<2.0.0,>=1.0.4->ipython->jupyterlab==3.0.7->colabcode) (0.2.5)\n",
            "Requirement already satisfied: pandocfilters>=1.4.1 in /usr/local/lib/python3.7/dist-packages (from nbconvert->jupyter-server~=1.2->jupyterlab==3.0.7->colabcode) (1.5.0)\n",
            "Requirement already satisfied: mistune<2,>=0.8.1 in /usr/local/lib/python3.7/dist-packages (from nbconvert->jupyter-server~=1.2->jupyterlab==3.0.7->colabcode) (0.8.4)\n",
            "Requirement already satisfied: testpath in /usr/local/lib/python3.7/dist-packages (from nbconvert->jupyter-server~=1.2->jupyterlab==3.0.7->colabcode) (0.5.0)\n",
            "Requirement already satisfied: bleach in /usr/local/lib/python3.7/dist-packages (from nbconvert->jupyter-server~=1.2->jupyterlab==3.0.7->colabcode) (4.1.0)\n",
            "Requirement already satisfied: defusedxml in /usr/local/lib/python3.7/dist-packages (from nbconvert->jupyter-server~=1.2->jupyterlab==3.0.7->colabcode) (0.7.1)\n",
            "Requirement already satisfied: webencodings in /usr/local/lib/python3.7/dist-packages (from bleach->nbconvert->jupyter-server~=1.2->jupyterlab==3.0.7->colabcode) (0.5.1)\n",
            "Requirement already satisfied: pyparsing!=3.0.5,>=2.0.2 in /usr/local/lib/python3.7/dist-packages (from packaging->jupyterlab==3.0.7->colabcode) (3.0.6)\n",
            "Requirement already satisfied: urllib3!=1.25.0,!=1.25.1,<1.26,>=1.21.1 in /usr/local/lib/python3.7/dist-packages (from requests->jupyterlab-server~=2.0->jupyterlab==3.0.7->colabcode) (1.24.3)\n",
            "Requirement already satisfied: certifi>=2017.4.17 in /usr/local/lib/python3.7/dist-packages (from requests->jupyterlab-server~=2.0->jupyterlab==3.0.7->colabcode) (2021.10.8)\n",
            "Requirement already satisfied: chardet<4,>=3.0.2 in /usr/local/lib/python3.7/dist-packages (from requests->jupyterlab-server~=2.0->jupyterlab==3.0.7->colabcode) (3.0.4)\n",
            "Building wheels for collected packages: pyngrok\n",
            "  Building wheel for pyngrok (setup.py) ... \u001b[?25l\u001b[?25hdone\n",
            "  Created wheel for pyngrok: filename=pyngrok-5.1.0-py3-none-any.whl size=19006 sha256=80aee25077b51dbb561664d2140b815c50a3c2c6633ab38c7ce8c49939e4310b\n",
            "  Stored in directory: /root/.cache/pip/wheels/bf/e6/af/ccf6598ecefecd44104069371795cb9b3afbcd16987f6ccfb3\n",
            "Successfully built pyngrok\n",
            "Installing collected packages: tornado, jsonschema, sniffio, jupyter-client, websocket-client, anyio, jupyter-server, json5, nbclassic, jupyterlab-server, h11, uvicorn, pyngrok, nest-asyncio, jupyterlab, colabcode\n",
            "  Attempting uninstall: tornado\n",
            "    Found existing installation: tornado 5.1.1\n",
            "    Uninstalling tornado-5.1.1:\n",
            "      Successfully uninstalled tornado-5.1.1\n",
            "  Attempting uninstall: jsonschema\n",
            "    Found existing installation: jsonschema 2.6.0\n",
            "    Uninstalling jsonschema-2.6.0:\n",
            "      Successfully uninstalled jsonschema-2.6.0\n",
            "  Attempting uninstall: jupyter-client\n",
            "    Found existing installation: jupyter-client 5.3.5\n",
            "    Uninstalling jupyter-client-5.3.5:\n",
            "      Successfully uninstalled jupyter-client-5.3.5\n",
            "  Attempting uninstall: nest-asyncio\n",
            "    Found existing installation: nest-asyncio 1.5.4\n",
            "    Uninstalling nest-asyncio-1.5.4:\n",
            "      Successfully uninstalled nest-asyncio-1.5.4\n",
            "\u001b[31mERROR: pip's dependency resolver does not currently take into account all the packages that are installed. This behaviour is the source of the following dependency conflicts.\n",
            "google-colab 1.0.0 requires tornado~=5.1.0; python_version >= \"3.0\", but you have tornado 6.1 which is incompatible.\u001b[0m\n",
            "Successfully installed anyio-3.4.0 colabcode-0.3.0 h11-0.12.0 json5-0.9.6 jsonschema-4.3.2 jupyter-client-6.1.12 jupyter-server-1.13.1 jupyterlab-3.0.7 jupyterlab-server-2.10.2 nbclassic-0.3.4 nest-asyncio-1.4.3 pyngrok-5.1.0 sniffio-1.2.0 tornado-6.1 uvicorn-0.13.1 websocket-client-1.2.3\n"
          ]
        },
        {
          "data": {
            "application/vnd.colab-display-data+json": {
              "pip_warning": {
                "packages": [
                  "jupyter_client",
                  "tornado"
                ]
              }
            }
          },
          "metadata": {},
          "output_type": "display_data"
        },
        {
          "name": "stdout",
          "output_type": "stream",
          "text": [
            "Collecting fastapi\n",
            "  Downloading fastapi-0.70.1-py3-none-any.whl (51 kB)\n",
            "\u001b[K     |████████████████████████████████| 51 kB 691 kB/s \n",
            "\u001b[?25hCollecting starlette==0.16.0\n",
            "  Downloading starlette-0.16.0-py3-none-any.whl (61 kB)\n",
            "\u001b[K     |████████████████████████████████| 61 kB 290 kB/s \n",
            "\u001b[?25hCollecting pydantic!=1.7,!=1.7.1,!=1.7.2,!=1.7.3,!=1.8,!=1.8.1,<2.0.0,>=1.6.2\n",
            "  Downloading pydantic-1.8.2-cp37-cp37m-manylinux2014_x86_64.whl (10.1 MB)\n",
            "\u001b[K     |████████████████████████████████| 10.1 MB 34.0 MB/s \n",
            "\u001b[?25hRequirement already satisfied: anyio<4,>=3.0.0 in /usr/local/lib/python3.7/dist-packages (from starlette==0.16.0->fastapi) (3.4.0)\n",
            "Requirement already satisfied: typing-extensions in /usr/local/lib/python3.7/dist-packages (from starlette==0.16.0->fastapi) (3.10.0.2)\n",
            "Requirement already satisfied: idna>=2.8 in /usr/local/lib/python3.7/dist-packages (from anyio<4,>=3.0.0->starlette==0.16.0->fastapi) (2.10)\n",
            "Requirement already satisfied: sniffio>=1.1 in /usr/local/lib/python3.7/dist-packages (from anyio<4,>=3.0.0->starlette==0.16.0->fastapi) (1.2.0)\n",
            "Installing collected packages: starlette, pydantic, fastapi\n",
            "Successfully installed fastapi-0.70.1 pydantic-1.8.2 starlette-0.16.0\n"
          ]
        }
      ],
      "source": [
        "!pip install colabcode\n",
        "!pip install fastapi"
      ]
    },
    {
      "cell_type": "code",
      "execution_count": null,
      "metadata": {
        "colab": {
          "background_save": true,
          "base_uri": "https://localhost:8080/"
        },
        "id": "h9fkkpB2alaY",
        "outputId": "fab95325-16a7-445d-b857-7b85f2dacf68"
      },
      "outputs": [
        {
          "name": "stdout",
          "output_type": "stream",
          "text": [
            ""
          ]
        },
        {
          "name": "stderr",
          "output_type": "stream",
          "text": [
            "INFO:     Started server process [66]\n",
            "INFO:     Waiting for application startup.\n",
            "INFO:     Application startup complete.\n",
            "INFO:     Uvicorn running on http://127.0.0.1:10000 (Press CTRL+C to quit)\n"
          ]
        },
        {
          "name": "stdout",
          "output_type": "stream",
          "text": [
            "Public URL: NgrokTunnel: \"https://1b56-34-86-28-199.ngrok.io\" -> \"http://localhost:10000\"\n",
            "INFO:     2001:e68:541b:15bc:6c94:b8f2:4746:ad81:0 - \"OPTIONS /jpeg-artifact-removal HTTP/1.1\" 200 OK\n",
            "{'model_name': 'Ganesha'}\n",
            "{'COLMAP_DENSE_FOLDER': '/content/drive/MyDrive/FYP/Museum '\n",
            "                        'Collections/Ganesha/images(NO_JPEG_artifact_PNG)_output/SuperPoint+SuperGlue_OPENCV_2000_Aachen_Indoor_matching/sfm_superpoint+superglue/dense',\n",
            " 'DEC_MESH_SIMPLIFIED_PC_FILE': '/content/drive/MyDrive/FYP/Museum '\n",
            "                                'Collections/Ganesha/images(NO_JPEG_artifact_PNG)_output/SuperPoint+SuperGlue_OPENCV_2000_Aachen_Indoor_matching/sfm_superpoint+superglue/dense_vis-mvsnet/result/decimated_simplified_all_torch_meshed-poisson_depth13.ply',\n",
            " 'MESH_SIMPLIFIED_PC_FILE': '/content/drive/MyDrive/FYP/Museum '\n",
            "                            'Collections/Ganesha/images(NO_JPEG_artifact_PNG)_output/SuperPoint+SuperGlue_OPENCV_2000_Aachen_Indoor_matching/sfm_superpoint+superglue/dense_vis-mvsnet/result/simplified_all_torch_meshed-poisson_depth13.ply',\n",
            " 'MODEL_DIR': '/content/drive/MyDrive/FYP/Museum Collections/Ganesha',\n",
            " 'PC_FILE': '/content/drive/MyDrive/FYP/Museum '\n",
            "            'Collections/Ganesha/images(NO_JPEG_artifact_PNG)_output/SuperPoint+SuperGlue_OPENCV_2000_Aachen_Indoor_matching/sfm_superpoint+superglue/dense_vis-mvsnet/result/all_torch.ply',\n",
            " 'PROCESSED_IMAGE_PATH': '/content/drive/MyDrive/FYP/Museum '\n",
            "                         'Collections/Ganesha/images(NO_JPEG_artifact_PNG)',\n",
            " 'SIMPLIFIED_PC_FILE': '/content/drive/MyDrive/FYP/Museum '\n",
            "                       'Collections/Ganesha/images(NO_JPEG_artifact_PNG)_output/SuperPoint+SuperGlue_OPENCV_2000_Aachen_Indoor_matching/sfm_superpoint+superglue/dense_vis-mvsnet/result/simplified_all_torch.ply',\n",
            " 'UNPROCESSED_IMAGE_PATH': '/content/drive/MyDrive/FYP/Museum '\n",
            "                           'Collections/Ganesha/images',\n",
            " 'VISMVSNET_DENSE_FOLDER': '/content/drive/MyDrive/FYP/Museum '\n",
            "                           'Collections/Ganesha/images(NO_JPEG_artifact_PNG)_output/SuperPoint+SuperGlue_OPENCV_2000_Aachen_Indoor_matching/sfm_superpoint+superglue/dense_vis-mvsnet',\n",
            " 'max_face_number': 500000,\n",
            " 'max_vertex_number': 3000000,\n",
            " 'model_name': 'Ganesha'}\n",
            "INFO:     2001:e68:541b:15bc:6c94:b8f2:4746:ad81:0 - \"POST /jpeg-artifact-removal HTTP/1.1\" 200 OK\n",
            "INFO:     2001:e68:541b:15bc:6c94:b8f2:4746:ad81:0 - \"OPTIONS /features-extraction HTTP/1.1\" 200 OK\n",
            "INFO:     2001:e68:541b:15bc:6c94:b8f2:4746:ad81:0 - \"POST /features-extraction HTTP/1.1\" 200 OK\n",
            "{'model_name': 'Ganesha'}\n",
            "{'COLMAP_DENSE_FOLDER': '/content/drive/MyDrive/FYP/Museum '\n",
            "                        'Collections/Ganesha/images(NO_JPEG_artifact_PNG)_output/SuperPoint+SuperGlue_OPENCV_2000_Aachen_Indoor_matching/sfm_superpoint+superglue/dense',\n",
            " 'DEC_MESH_SIMPLIFIED_PC_FILE': '/content/drive/MyDrive/FYP/Museum '\n",
            "                                'Collections/Ganesha/images(NO_JPEG_artifact_PNG)_output/SuperPoint+SuperGlue_OPENCV_2000_Aachen_Indoor_matching/sfm_superpoint+superglue/dense_vis-mvsnet/result/decimated_simplified_all_torch_meshed-poisson_depth13.ply',\n",
            " 'MESH_SIMPLIFIED_PC_FILE': '/content/drive/MyDrive/FYP/Museum '\n",
            "                            'Collections/Ganesha/images(NO_JPEG_artifact_PNG)_output/SuperPoint+SuperGlue_OPENCV_2000_Aachen_Indoor_matching/sfm_superpoint+superglue/dense_vis-mvsnet/result/simplified_all_torch_meshed-poisson_depth13.ply',\n",
            " 'MODEL_DIR': '/content/drive/MyDrive/FYP/Museum Collections/Ganesha',\n",
            " 'PC_FILE': '/content/drive/MyDrive/FYP/Museum '\n",
            "            'Collections/Ganesha/images(NO_JPEG_artifact_PNG)_output/SuperPoint+SuperGlue_OPENCV_2000_Aachen_Indoor_matching/sfm_superpoint+superglue/dense_vis-mvsnet/result/all_torch.ply',\n",
            " 'PROCESSED_IMAGE_PATH': '/content/drive/MyDrive/FYP/Museum '\n",
            "                         'Collections/Ganesha/images(NO_JPEG_artifact_PNG)',\n",
            " 'SIMPLIFIED_PC_FILE': '/content/drive/MyDrive/FYP/Museum '\n",
            "                       'Collections/Ganesha/images(NO_JPEG_artifact_PNG)_output/SuperPoint+SuperGlue_OPENCV_2000_Aachen_Indoor_matching/sfm_superpoint+superglue/dense_vis-mvsnet/result/simplified_all_torch.ply',\n",
            " 'UNPROCESSED_IMAGE_PATH': '/content/drive/MyDrive/FYP/Museum '\n",
            "                           'Collections/Ganesha/images',\n",
            " 'VISMVSNET_DENSE_FOLDER': '/content/drive/MyDrive/FYP/Museum '\n",
            "                           'Collections/Ganesha/images(NO_JPEG_artifact_PNG)_output/SuperPoint+SuperGlue_OPENCV_2000_Aachen_Indoor_matching/sfm_superpoint+superglue/dense_vis-mvsnet',\n",
            " 'max_face_number': 500000,\n",
            " 'max_vertex_number': 3000000,\n",
            " 'model_name': 'Ganesha'}\n",
            "INFO:     2001:e68:541b:15bc:6c94:b8f2:4746:ad81:0 - \"POST /jpeg-artifact-removal HTTP/1.1\" 200 OK\n",
            "INFO:     2001:e68:541b:15bc:6c94:b8f2:4746:ad81:0 - \"POST /features-extraction HTTP/1.1\" 200 OK\n",
            "{'model_name': 'Ganesha'}\n",
            "{'COLMAP_DENSE_FOLDER': '/content/drive/MyDrive/FYP/Museum '\n",
            "                        'Collections/Ganesha/images(NO_JPEG_artifact_PNG)_output/SuperPoint+SuperGlue_OPENCV_2000_Aachen_Indoor_matching/sfm_superpoint+superglue/dense',\n",
            " 'DEC_MESH_SIMPLIFIED_PC_FILE': '/content/drive/MyDrive/FYP/Museum '\n",
            "                                'Collections/Ganesha/images(NO_JPEG_artifact_PNG)_output/SuperPoint+SuperGlue_OPENCV_2000_Aachen_Indoor_matching/sfm_superpoint+superglue/dense_vis-mvsnet/result/decimated_simplified_all_torch_meshed-poisson_depth13.ply',\n",
            " 'MESH_SIMPLIFIED_PC_FILE': '/content/drive/MyDrive/FYP/Museum '\n",
            "                            'Collections/Ganesha/images(NO_JPEG_artifact_PNG)_output/SuperPoint+SuperGlue_OPENCV_2000_Aachen_Indoor_matching/sfm_superpoint+superglue/dense_vis-mvsnet/result/simplified_all_torch_meshed-poisson_depth13.ply',\n",
            " 'MODEL_DIR': '/content/drive/MyDrive/FYP/Museum Collections/Ganesha',\n",
            " 'PC_FILE': '/content/drive/MyDrive/FYP/Museum '\n",
            "            'Collections/Ganesha/images(NO_JPEG_artifact_PNG)_output/SuperPoint+SuperGlue_OPENCV_2000_Aachen_Indoor_matching/sfm_superpoint+superglue/dense_vis-mvsnet/result/all_torch.ply',\n",
            " 'PROCESSED_IMAGE_PATH': '/content/drive/MyDrive/FYP/Museum '\n",
            "                         'Collections/Ganesha/images(NO_JPEG_artifact_PNG)',\n",
            " 'SIMPLIFIED_PC_FILE': '/content/drive/MyDrive/FYP/Museum '\n",
            "                       'Collections/Ganesha/images(NO_JPEG_artifact_PNG)_output/SuperPoint+SuperGlue_OPENCV_2000_Aachen_Indoor_matching/sfm_superpoint+superglue/dense_vis-mvsnet/result/simplified_all_torch.ply',\n",
            " 'UNPROCESSED_IMAGE_PATH': '/content/drive/MyDrive/FYP/Museum '\n",
            "                           'Collections/Ganesha/images',\n",
            " 'VISMVSNET_DENSE_FOLDER': '/content/drive/MyDrive/FYP/Museum '\n",
            "                           'Collections/Ganesha/images(NO_JPEG_artifact_PNG)_output/SuperPoint+SuperGlue_OPENCV_2000_Aachen_Indoor_matching/sfm_superpoint+superglue/dense_vis-mvsnet',\n",
            " 'max_face_number': 500000,\n",
            " 'max_vertex_number': 3000000,\n",
            " 'model_name': 'Ganesha'}\n",
            "INFO:     2001:e68:541b:15bc:6c94:b8f2:4746:ad81:0 - \"POST /jpeg-artifact-removal HTTP/1.1\" 200 OK\n",
            "INFO:     2001:e68:541b:15bc:6c94:b8f2:4746:ad81:0 - \"POST /features-extraction HTTP/1.1\" 200 OK\n"
          ]
        }
      ],
      "source": [
        "from colabcode import ColabCode\n",
        "from fastapi import FastAPI\n",
        "import pickle\n",
        "import os\n",
        "from pathlib import Path\n",
        "from pydantic import BaseModel\n",
        "from fastapi.middleware.cors import CORSMiddleware\n",
        "\n",
        "MUSEUM_COLLECTIONS_FOLDER_ID = \"10O-Ar1Kwqru6KPTWktyLZ7399R_6s4QZ\"\n",
        "BASE_DIR = \"/content/drive/MyDrive/FYP/Museum Collections\"\n",
        "# Preprocessing\n",
        "SCALE_FACTOR = 50 # percent of original size\n",
        "\n",
        "class ReconstructionParams(BaseModel):\n",
        "  model_name: str\n",
        "\n",
        "def get_reconstruction_params(model_name):\n",
        "  MODEL_DIR = f\"{BASE_DIR}/{model_name}\" \n",
        "  # Preprocessing\n",
        "  UNPROCESSED_IMAGE_PATH = f\"{MODEL_DIR}/images\"\n",
        "  PROCESSED_IMAGE_PATH = f\"{MODEL_DIR}/images(NO_JPEG_artifact_PNG)\"\n",
        "\n",
        "  # COLMAP to MVSNet\n",
        "  COLMAP_DENSE_FOLDER = f\"{PROCESSED_IMAGE_PATH}_output/SuperPoint+SuperGlue_OPENCV_2000_Aachen_Indoor_matching/sfm_superpoint+superglue/dense\"\n",
        "  VISMVSNET_DENSE_FOLDER = COLMAP_DENSE_FOLDER+\"_vis-mvsnet\"\n",
        "\n",
        "  # Pymeshlab\n",
        "  # point cloud simplification\n",
        "  max_vertex_number = 3000000\n",
        "  PC_FILE = VISMVSNET_DENSE_FOLDER+\"/result/all_torch.ply\"\n",
        "  SIMPLIFIED_PC_FILE = VISMVSNET_DENSE_FOLDER+\"/result/simplified_all_torch.ply\"\n",
        "\n",
        "  # Meshing\n",
        "  MESH_SIMPLIFIED_PC_FILE = VISMVSNET_DENSE_FOLDER+\"/result/simplified_all_torch_meshed-poisson_depth13.ply\"\n",
        "\n",
        "  # mesh decimation\n",
        "  max_face_number = 500000\n",
        "  DEC_MESH_SIMPLIFIED_PC_FILE = VISMVSNET_DENSE_FOLDER+\"/result/decimated_simplified_all_torch_meshed-poisson_depth13.ply\"\n",
        "  return {\n",
        "    \"MODEL_DIR\" : MODEL_DIR,\n",
        "    # Preprocessing\n",
        "    \"UNPROCESSED_IMAGE_PATH\" : UNPROCESSED_IMAGE_PATH,\n",
        "    \"PROCESSED_IMAGE_PATH\" : PROCESSED_IMAGE_PATH,\n",
        "\n",
        "    # COLMAP to MVSNet\n",
        "    \"COLMAP_DENSE_FOLDER\" : COLMAP_DENSE_FOLDER,\n",
        "    \"VISMVSNET_DENSE_FOLDER\" : VISMVSNET_DENSE_FOLDER,\n",
        "\n",
        "    # Pymeshlab\n",
        "    # point cloud simplification\n",
        "    \"max_vertex_number\" : max_vertex_number,\n",
        "    \"PC_FILE\" : PC_FILE,\n",
        "    \"SIMPLIFIED_PC_FILE\" : SIMPLIFIED_PC_FILE,\n",
        "\n",
        "    # Meshing\n",
        "    \"MESH_SIMPLIFIED_PC_FILE\" : MESH_SIMPLIFIED_PC_FILE,\n",
        "\n",
        "    # mesh decimation\n",
        "    \"max_face_number\" : max_face_number,\n",
        "    \"DEC_MESH_SIMPLIFIED_PC_FILE\" : DEC_MESH_SIMPLIFIED_PC_FILE,\n",
        "  }\n",
        "  \n",
        "\n",
        "app = FastAPI()\n",
        "origins = [\"*\"]\n",
        "app.add_middleware(\n",
        "    CORSMiddleware,\n",
        "    allow_origins=origins,\n",
        "    allow_credentials=True,\n",
        "    allow_methods=[\"*\"],\n",
        "    allow_headers=[\"*\"],\n",
        ")\n",
        "\n",
        "@app.post('/jpeg-artifact-removal')\n",
        "def jpeg_artifact_removal_api(reconstruction_params: ReconstructionParams):\n",
        "  import pprint \n",
        "  reconstruction_params_dict = reconstruction_params.dict()\n",
        "  pprint.pprint(reconstruction_params_dict)\n",
        "  reconstruction_params_dict.update(get_reconstruction_params(reconstruction_params_dict[\"model_name\"]))\n",
        "  pprint.pprint(reconstruction_params_dict)\n",
        "  return {\"status_code\": 200}\n",
        "  jpeg_artifact_removal(reconstruction_params_dict[\"UNPROCESSED_IMAGE_PATH\"], reconstruction_params_dict[\"PROCESSED_IMAGE_PATH\"])\n",
        "  return {\"status_code\": 200}\n",
        "\n",
        "@app.post('/features-extraction')\n",
        "def features_extraction_api(reconstruction_params: ReconstructionParams):\n",
        "  reconstruction_params_dict = reconstruction_params.dict()\n",
        "  return {\"status_code\": 202}\n",
        "  # SuperPoint + SuperGlue\n",
        "  IMG_DIR = Path(reconstruction_params_dict[\"PROCESSED_IMAGE_PATH\"])\n",
        "  OUTPUT_DIR = Path(f'{IMG_DIR}_output/SuperPoint+SuperGlue_OPENCV_2000_Aachen_Indoor_matching')\n",
        "  extract_features.main(feature_conf, IMG_DIR, OUTPUT_DIR)\n",
        "  return {\"status_code\": 200}\n",
        "\n",
        "@app.post('/features-matching')\n",
        "def features_matching_api(reconstruction_params: ReconstructionParams):\n",
        "  reconstruction_params_dict = reconstruction_params.dict()\n",
        "  # SuperPoint + SuperGlue\n",
        "  IMG_DIR = Path(reconstruction_params_dict[\"PROCESSED_IMAGE_PATH\"])\n",
        "  OUTPUT_DIR = Path(f'{IMG_DIR}_output/SuperPoint+SuperGlue_OPENCV_2000_Aachen_Indoor_matching')\n",
        "  sfm_pairs = OUTPUT_DIR / 'pairs-exhaustive.txt'  # exhaustive matching\n",
        "  match_features.main(matcher_conf, sfm_pairs, features, OUTPUT_DIR, exhaustive=True)\n",
        "  return {\"status_code\": 200}\n",
        "\n",
        "@app.post('/colmap-sfm')\n",
        "def colmap_sfm_api(reconstruction_params: ReconstructionParams):\n",
        "  reconstruction_params_dict = reconstruction_params.dict()\n",
        "  # SuperPoint + SuperGlue\n",
        "  IMG_DIR = Path(reconstruction_params_dict[\"PROCESSED_IMAGE_PATH\"])\n",
        "  OUTPUT_DIR = Path(f'{IMG_DIR}_output/SuperPoint+SuperGlue_OPENCV_2000_Aachen_Indoor_matching')\n",
        "  sfm_pairs = OUTPUT_DIR / 'pairs-exhaustive.txt'  # exhaustive matching\n",
        "  sfm_dir = OUTPUT_DIR / 'sfm_superpoint+superglue'\n",
        "  colmap_sfm(sfm_dir,IMG_DIR,sfm_pairs,OUTPUT_DIR / feature_file,OUTPUT_DIR / match_file,single_camera = True)\n",
        "  return {\"status_code\": 200}\n",
        "\n",
        "@app.post('/colmap-img-undistorter')\n",
        "def colmap_img_undistorter_api(reconstruction_params: ReconstructionParams):\n",
        "  reconstruction_params_dict = reconstruction_params.dict()\n",
        "  # SuperPoint + SuperGlue\n",
        "  IMG_DIR = Path(reconstruction_params_dict[\"PROCESSED_IMAGE_PATH\"])\n",
        "  OUTPUT_DIR = Path(f'{IMG_DIR}_output/SuperPoint+SuperGlue_OPENCV_2000_Aachen_Indoor_matching')\n",
        "  sfm_dir = OUTPUT_DIR / 'sfm_superpoint+superglue'\n",
        "  colmap_img_undistorter(sfm_dir, IMG_DIR)\n",
        "  return {\"status_code\": 200}\n",
        "\n",
        "@app.post('/colmap-mvs')\n",
        "def colmap_mvs_api(reconstruction_params: ReconstructionParams):\n",
        "  reconstruction_params_dict = reconstruction_params.dict()\n",
        "   # SuperPoint + SuperGlue\n",
        "  OUTPUT_DIR = Path(f'{IMG_DIR}_output/SuperPoint+SuperGlue_OPENCV_2000_Aachen_Indoor_matching')\n",
        "  sfm_dir = OUTPUT_DIR / 'sfm_superpoint+superglue'\n",
        "  colmap_mvs(sfm_dir)\n",
        "  return {\"status_code\": 200}\n",
        "\n",
        "@app.post('/colmap-poisson-mesher')\n",
        "def colmap_poisson_mesher_api(reconstruction_params: ReconstructionParams):\n",
        "  reconstruction_params_dict = reconstruction_params.dict()\n",
        "  # SuperPoint + SuperGlue\n",
        "  OUTPUT_DIR = Path(f'{IMG_DIR}_output/SuperPoint+SuperGlue_OPENCV_2000_Aachen_Indoor_matching')\n",
        "  sfm_dir = OUTPUT_DIR / 'sfm_superpoint+superglue'\n",
        "  colmap_poisson_mesher(sfm_dir)\n",
        "  return {\"status_code\": 200}\n",
        "\n",
        "@app.post('/pymeshlab-pc-simplification')\n",
        "def pymeshlab_post_process_api(reconstruction_params: ReconstructionParams):\n",
        "  reconstruction_params_dict = reconstruction_params.dict()\n",
        "  point_cloud_simplification(reconstruction_params_dict[\"PC_FILE\"], reconstruction_params_dict[\"SIMPLIFIED_PC_FILE\"], reconstruction_params_dict[\"max_vertex_number\"])\n",
        "  return {\"status_code\": 200}\n",
        "\n",
        "@app.post('/pymeshlab-post-process')\n",
        "def pymeshlab_post_process_api(reconstruction_params: ReconstructionParams):\n",
        "  reconstruction_params_dict = reconstruction_params.dict()\n",
        "  pymeshlab_post_process(reconstruction_params_dict[\"MESH_SIMPLIFIED_PC_FILE\"], reconstruction_params_dict[\"DEC_MESH_SIMPLIFIED_PC_FILE\"], reconstruction_params_dict[\"max_face_number\"])\n",
        "  return {\"status_code\": 200}\n",
        "  \n",
        "@app.post('/mvs-texturing')\n",
        "def mvs_texturing_api(reconstruction_params: ReconstructionParams):\n",
        "  reconstruction_params_dict = reconstruction_params.dict()\n",
        "  mvs_texturing(COLMAP_DENSE_FOLDER, DEC_MESH_SIMPLIFIED_PC_FILE, VISMVSNET_DENSE_FOLDER)\n",
        "  return {\"status_code\": 200}\n",
        "\n",
        "server = ColabCode(port=10000, code=False, mount_drive=True)\n",
        "server.run_app(app=app)"
      ]
    }
  ],
  "metadata": {
    "colab": {
      "collapsed_sections": [],
      "name": "3D Model Reconstruction Pipeline.ipynb",
      "provenance": [],
      "include_colab_link": true
    },
    "kernelspec": {
      "display_name": "Python 3",
      "name": "python3"
    },
    "language_info": {
      "name": "python"
    }
  },
  "nbformat": 4,
  "nbformat_minor": 0
}